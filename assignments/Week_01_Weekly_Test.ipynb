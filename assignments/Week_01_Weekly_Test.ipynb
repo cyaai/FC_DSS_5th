{
 "cells": [
  {
   "cell_type": "markdown",
   "metadata": {},
   "source": [
    "# Week 01 Weekly Test"
   ]
  },
  {
   "cell_type": "markdown",
   "metadata": {},
   "source": [
    "# 1. 경우의 수"
   ]
  },
  {
   "cell_type": "code",
   "execution_count": 71,
   "metadata": {},
   "outputs": [
    {
     "name": "stdout",
     "output_type": "stream",
     "text": [
      "Dice Number: 1, 1, 3. | Multiplication: 3\n",
      "Dice Number: 1, 2, 2. | Multiplication: 4\n",
      "Dice Number: 1, 3, 1. | Multiplication: 3\n",
      "Dice Number: 1, 3, 6. | Multiplication: 18\n",
      "Dice Number: 1, 4, 5. | Multiplication: 20\n",
      "Dice Number: 1, 5, 4. | Multiplication: 20\n",
      "Dice Number: 1, 6, 3. | Multiplication: 18\n",
      "Dice Number: 2, 1, 2. | Multiplication: 4\n",
      "Dice Number: 2, 2, 1. | Multiplication: 4\n",
      "Dice Number: 2, 2, 6. | Multiplication: 24\n",
      "Dice Number: 2, 3, 5. | Multiplication: 30\n",
      "Dice Number: 2, 4, 4. | Multiplication: 32\n",
      "Dice Number: 2, 5, 3. | Multiplication: 30\n",
      "Dice Number: 2, 6, 2. | Multiplication: 24\n",
      "Dice Number: 3, 1, 1. | Multiplication: 3\n",
      "Dice Number: 3, 1, 6. | Multiplication: 18\n",
      "Dice Number: 3, 2, 5. | Multiplication: 30\n",
      "Dice Number: 3, 3, 4. | Multiplication: 36\n",
      "Dice Number: 3, 4, 3. | Multiplication: 36\n",
      "Dice Number: 3, 5, 2. | Multiplication: 30\n",
      "Dice Number: 3, 6, 1. | Multiplication: 18\n",
      "Dice Number: 3, 6, 6. | Multiplication: 108\n",
      "Dice Number: 4, 1, 5. | Multiplication: 20\n",
      "Dice Number: 4, 2, 4. | Multiplication: 32\n",
      "Dice Number: 4, 3, 3. | Multiplication: 36\n",
      "Dice Number: 4, 4, 2. | Multiplication: 32\n",
      "Dice Number: 4, 5, 1. | Multiplication: 20\n",
      "Dice Number: 4, 5, 6. | Multiplication: 120\n",
      "Dice Number: 4, 6, 5. | Multiplication: 120\n",
      "Dice Number: 5, 1, 4. | Multiplication: 20\n",
      "Dice Number: 5, 2, 3. | Multiplication: 30\n",
      "Dice Number: 5, 3, 2. | Multiplication: 30\n",
      "Dice Number: 5, 4, 1. | Multiplication: 20\n",
      "Dice Number: 5, 4, 6. | Multiplication: 120\n",
      "Dice Number: 5, 5, 5. | Multiplication: 125\n",
      "Dice Number: 5, 6, 4. | Multiplication: 120\n",
      "Dice Number: 6, 1, 3. | Multiplication: 18\n",
      "Dice Number: 6, 2, 2. | Multiplication: 24\n",
      "Dice Number: 6, 3, 1. | Multiplication: 18\n",
      "Dice Number: 6, 3, 6. | Multiplication: 108\n",
      "Dice Number: 6, 4, 5. | Multiplication: 120\n",
      "Dice Number: 6, 5, 4. | Multiplication: 120\n",
      "Dice Number: 6, 6, 3. | Multiplication: 108\n",
      "\n",
      "\n",
      "\n",
      "Answer:  1874\n"
     ]
    }
   ],
   "source": [
    "result_sum = 0\n",
    "for i in range(6): # first dice\n",
    "    for j in range(6): # second dice\n",
    "        for k in range(6): #third dice\n",
    "            if ((((i+1)+(j+1)+(k+1)) % 5) ==0):\n",
    "                print(\"Dice Number: {}, {}, {}. | Multiplication: {}\".format((i+1),(j+1),(k+1),(i+1)*(j+1)*(k+1)))\n",
    "                result_sum += (i+1)*(j+1)*(k+1)\n",
    "                \n",
    "print(\"\\n\\n\\nAnswer: \", result_sum)"
   ]
  },
  {
   "cell_type": "markdown",
   "metadata": {},
   "source": [
    "# 2. 텍스트그림"
   ]
  },
  {
   "cell_type": "code",
   "execution_count": 72,
   "metadata": {},
   "outputs": [],
   "source": [
    "def diamond(n):\n",
    "    center = 2*n+1\n",
    "    \n",
    "    for i in range(center):\n",
    "        if (i == 0):\n",
    "            print(\" \"*(int(center/2)-i) + \"*\")\n",
    "        elif 0 < i<= int(center/2):\n",
    "            print(\" \"*(int(center/2)-i) + \"*\" + \" \"*(2*i-1) +\"*\")\n",
    "        elif center-1 > i > int(center/2):\n",
    "            print(\" \"*(i-int(center/2)) + \"*\" + \" \"*(center - 2*(i-n+1)) + \"*\")\n",
    "        else:\n",
    "            print(\" \"*(int(center/2)) + \"*\")"
   ]
  },
  {
   "cell_type": "code",
   "execution_count": 73,
   "metadata": {},
   "outputs": [
    {
     "name": "stdout",
     "output_type": "stream",
     "text": [
      " *\n",
      "* *\n",
      " *\n"
     ]
    }
   ],
   "source": [
    "diamond(1)"
   ]
  },
  {
   "cell_type": "code",
   "execution_count": 74,
   "metadata": {},
   "outputs": [
    {
     "name": "stdout",
     "output_type": "stream",
     "text": [
      "  *\n",
      " * *\n",
      "*   *\n",
      " * *\n",
      "  *\n"
     ]
    }
   ],
   "source": [
    "diamond(2)"
   ]
  },
  {
   "cell_type": "code",
   "execution_count": 75,
   "metadata": {},
   "outputs": [
    {
     "name": "stdout",
     "output_type": "stream",
     "text": [
      "   *\n",
      "  * *\n",
      " *   *\n",
      "*     *\n",
      " *   *\n",
      "  * *\n",
      "   *\n"
     ]
    }
   ],
   "source": [
    "diamond(3)"
   ]
  },
  {
   "cell_type": "code",
   "execution_count": 76,
   "metadata": {},
   "outputs": [
    {
     "name": "stdout",
     "output_type": "stream",
     "text": [
      "    *\n",
      "   * *\n",
      "  *   *\n",
      " *     *\n",
      "*       *\n",
      " *     *\n",
      "  *   *\n",
      "   * *\n",
      "    *\n"
     ]
    }
   ],
   "source": [
    "diamond(4)"
   ]
  },
  {
   "cell_type": "code",
   "execution_count": 77,
   "metadata": {},
   "outputs": [
    {
     "name": "stdout",
     "output_type": "stream",
     "text": [
      "     *\n",
      "    * *\n",
      "   *   *\n",
      "  *     *\n",
      " *       *\n",
      "*         *\n",
      " *       *\n",
      "  *     *\n",
      "   *   *\n",
      "    * *\n",
      "     *\n"
     ]
    }
   ],
   "source": [
    "diamond(5)"
   ]
  },
  {
   "cell_type": "code",
   "execution_count": 78,
   "metadata": {},
   "outputs": [
    {
     "name": "stdout",
     "output_type": "stream",
     "text": [
      "      *\n",
      "     * *\n",
      "    *   *\n",
      "   *     *\n",
      "  *       *\n",
      " *         *\n",
      "*           *\n",
      " *         *\n",
      "  *       *\n",
      "   *     *\n",
      "    *   *\n",
      "     * *\n",
      "      *\n"
     ]
    }
   ],
   "source": [
    "diamond(6)"
   ]
  },
  {
   "cell_type": "code",
   "execution_count": null,
   "metadata": {
    "collapsed": true
   },
   "outputs": [],
   "source": []
  }
 ],
 "metadata": {
  "kernelspec": {
   "display_name": "Python 3",
   "language": "python",
   "name": "python3"
  },
  "language_info": {
   "codemirror_mode": {
    "name": "ipython",
    "version": 3
   },
   "file_extension": ".py",
   "mimetype": "text/x-python",
   "name": "python",
   "nbconvert_exporter": "python",
   "pygments_lexer": "ipython3",
   "version": "3.6.0"
  }
 },
 "nbformat": 4,
 "nbformat_minor": 2
}
