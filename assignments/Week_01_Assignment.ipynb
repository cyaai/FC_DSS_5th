{
 "cells": [
  {
   "cell_type": "markdown",
   "metadata": {},
   "source": [
    "# Week 01: Assignment"
   ]
  },
  {
   "cell_type": "markdown",
   "metadata": {},
   "source": [
    "___\n",
    "# 1장 - 2절: 데이터 분석이란"
   ]
  },
  {
   "cell_type": "markdown",
   "metadata": {},
   "source": [
    "# 연습문제 1"
   ]
  },
  {
   "cell_type": "markdown",
   "metadata": {},
   "source": [
    "## 예측 문제로 풀 수 있는 데이터 분석의 예를 3가지 생각해보자."
   ]
  },
  {
   "cell_type": "markdown",
   "metadata": {},
   "source": [
    "1. **생명보험 계약자의 청약데이터를 활용한 계약자의 위험등급 예측**\n",
    "2. **대출 자료를 통한 부실대출 발생 여부 예측시스템**\n",
    "3. **주택 가격 예측 시스템**\n",
    "4. **Music Emotion Analysis by ML**"
   ]
  },
  {
   "cell_type": "markdown",
   "metadata": {},
   "source": [
    "# 연습문제 2"
   ]
  },
  {
   "cell_type": "markdown",
   "metadata": {},
   "source": [
    "## 위에서 생각한 3가지 예측 문제의 입력과 출력을 보다 정확하게 정의해 보자. 중요한 점은 다음과 같다.\n",
    "\n",
    "1. \"~등\", \"같은 것\"이란 용어를 사용하지 않고 정확히 입출력 데이터의 갯수를 정해야 한다.\n",
    "2. 입력이나 출력 데이터 값의 숫자 예를 제시하면 더욱 좋다. 예를 들어 부동산 가격을 예측하기 위해 면적을 입력 데이터로 사용하기로 했다면 40 제곱미터 혹은 80 제곱미터 등 실제로 어떤 숫자를 입력데이터로 사용할지도 예를 들어 준다."
   ]
  },
  {
   "cell_type": "markdown",
   "metadata": {},
   "source": [
    "### 1. 생명보험 계약자의 청약데이터를 활용한 계약자의 위험등급 예측\n",
    "\n",
    "* 입력데이터\n",
    "    * 나이 (Normalized Age)\n",
    "    * 신장 (Normalized Height)\n",
    "    * 무게 (Normalized Weight)\n",
    "    * BMI (Normalized BMI)\n",
    "    * 직업 (직업 분류 코드)\n",
    "    * 가족력 (가족의 질병 이력 코드)\n",
    "    * 병력 (계약자의 질병 이력 코드)\n",
    "* 출력데이터\n",
    "    * 계약자의 위험등급 (1~8등급)"
   ]
  },
  {
   "cell_type": "markdown",
   "metadata": {},
   "source": [
    "### 2. 대출 자료를 통한 부실대출 발생 여부 예측시스템"
   ]
  },
  {
   "cell_type": "markdown",
   "metadata": {},
   "source": [
    "* 입력데이터\n",
    "    * 대출금액 (loan_amnt)\n",
    "    * 대출기간 (term)\n",
    "    * 금리 (int_rate)\n",
    "    * 신용등급 (grade, sub-grade)\n",
    "    * DTI (debt to income, 총부채상환비율)\n",
    "    * 분할불입금 (installment)\n",
    "* 출력데이터\n",
    "    * loan_Status를 Good/Bad로 분류"
   ]
  },
  {
   "cell_type": "markdown",
   "metadata": {},
   "source": [
    "### 3. 주택가격 예측시스템"
   ]
  },
  {
   "cell_type": "markdown",
   "metadata": {},
   "source": [
    "* 입력데이터\n",
    "    * 거래일자 (timestamp)\n",
    "    * 전체면적 (full_sq)\n",
    "    * 주거면적 (life_sq)\n",
    "    * 층수 (floor)\n",
    "    * 건물층수 (max_floor)\n",
    "    * 건물재 (material)\n",
    "    * 건축연도 (build_year)\n",
    "    * 방 갯수 (num_room)\n",
    "    * 상태 (state)\n",
    "    * 주택위치 (sub_area)\n",
    "* 출력데이터\n",
    "    * 주택가격 (price_doc)"
   ]
  },
  {
   "cell_type": "markdown",
   "metadata": {},
   "source": [
    "### 4. Music Emotion Analysis by ML"
   ]
  },
  {
   "cell_type": "markdown",
   "metadata": {},
   "source": [
    "* 입력데이터\n",
    "    * 코드\n",
    "    * 리듬\n",
    "    * 다이나믹 (Freq Range)\n",
    "    *\n",
    "* 출력데이터\n",
    "    * Emotion of the Music"
   ]
  },
  {
   "cell_type": "markdown",
   "metadata": {},
   "source": [
    "# 연습문제 3"
   ]
  },
  {
   "cell_type": "markdown",
   "metadata": {},
   "source": [
    "## 위에서 생각한 3가지 예측 문제에 대해 규칙 기반의 해결 방법을 생각해보자. 정확한 답이 아니어도 괜찮다."
   ]
  },
  {
   "cell_type": "markdown",
   "metadata": {},
   "source": [
    "### 1. 생명보험 계약자의 청약데이터를 활용한 계약자의 위험등급 예측\n",
    "위험등급을 규칙 기반 방법으로 접근할경우 각각의 feature에 대한 weighting을 숙련된 언더라이터를 통해 산정할 수 있다. 특히 생명보험의 경우 과거 병력은 위험등급의 많은 영향을 줄 것이다. 각각의 weighting이 구해진 뒤에는 총 위험을 score로 산출하고 이를 8개의 rank로 구분하여 위험등급을 구분하는 방법을 적용할 수 있다. "
   ]
  },
  {
   "cell_type": "markdown",
   "metadata": {},
   "source": [
    "### 2. 대출 자료를 통한 부실대출 발생 여부 예측 시스템\n",
    "대출정보에 대해 대출의 현재 상태를 기반으로 weighting을 추정해야 한다. 또는 중요하다고 판단되는 feature로 decision tree를 만들 수 있다. 신용등급, 대출금액이 주요한 요소로 작용할 것으로 예상된다. 다만 실제 대출자료의 경우 feature가 100개를 초과하므로 규칙 기반의 방법을 적용하기에는 많은 어려움이 따를 것으로 생각된다."
   ]
  },
  {
   "cell_type": "markdown",
   "metadata": {},
   "source": [
    "### 3. 주택가격 예측시스템"
   ]
  },
  {
   "cell_type": "markdown",
   "metadata": {},
   "source": [
    "주택 가격은 건물 자체의 특성이외에도 거시경제지표에 의한 영향도 받는다. 따라서 규칙 기반으로 가격을 예측하기 위해서는 주택 가격에 영향을 주는 요소들에 대해 적절한 weighting이 이루어져야 하지만 수 많은 feature에 의해 결정되는 만큼 이 또한 규칙기반으로 높은 정확도의 예측시스템을 만들기가 쉽지 않을 것으로 생각된다."
   ]
  },
  {
   "cell_type": "markdown",
   "metadata": {},
   "source": [
    "# 연습문제 4"
   ]
  },
  {
   "cell_type": "markdown",
   "metadata": {},
   "source": [
    "## 위의 3가지 예측 문제에 대해 학습용 데이터 집합을 만들어본다. 학습용 데이터 집합의 크기는 최소한 각 문제에 대해 10개 이상 만들어보자."
   ]
  },
  {
   "cell_type": "markdown",
   "metadata": {},
   "source": [
    "### 1. 생명보험 계약자의 청약데이터를 활용한 계약자의 위험등급 예측\n",
    "\n",
    "|Id|Age|Height|Weight|BMI|Employment_Info|InsuredInfo|Insurance_History|Family_Hist|Medical_History|Medical_Keyword|Response|\n",
    "|---|---|---|---|---|---|---|---|---|---|---|---|\n",
    "|5|0.059701493|0.6|0.131799163|0.272287744|1|1|2|0.188405797|5|0|4|\n",
    "|6|0.029850746|0.745454545|0.288702929|0.428780429|9|1|2|0.304347826|10|0|8|\n",
    "|7|0.164179104|0.672727273|0.205020921|0.352437744|9|2|2|0.420289855|0|0|8|\n",
    "|8|0.417910448|0.654545455|0.234309623|0.424045645|9|1|2|0.463768116||0|8|\n",
    "|10|0.507462687|0.836363636|0.29916318|0.364886708|15|1|2||6|0|8|\n",
    "|11|0.373134328|0.581818182|0.173640167|0.376586717|1|1|1|0.594202899|5|0|8|\n",
    "|14|0.611940299|0.781818182|0.40376569|0.571611506|12|1|1||6|0|1|\n",
    "|15|0.52238806|0.618181818|0.184100418|0.36264306|9|1|1||4|0|8|\n",
    "|16|0.552238806|0.6|0.284518828|0.587795766|1|2|2|0.797101449||0|1|\n",
    "|17|0.537313433|0.690909091|0.309623431|0.521668453|9|1|1||1|0|6|\n",
    "|18|0.298507463|0.690909091|0.271966527|0.455050111|3|1|2|0.405797101|4|0|2|\n",
    "|19|0.567164179|0.618181818|0.163179916|0.320783966|9|1|1||5|0|7|\n",
    "|22|0.328358209|0.636363636|0.142259414|0.264648223|3|2|2||1|0|8|\n",
    "|23|0.626865672|0.672727273|0.330543933|0.58127899|9|1|1||1|0|5|\n",
    "|24|0.208955224|0.745454545|0.246861925|0.360968696|14|1|2|0.275362319|1|0|8|\n",
    "|25|0.268656716|0.636363636|0.228033473|0.430949212|9|1|2||39|0|7|\n",
    "|26|0.388059701|0.781818182|0.309623431|0.427393846|9|1|2||61|0|2|"
   ]
  },
  {
   "cell_type": "markdown",
   "metadata": {},
   "source": [
    "### 2. 대출 자료를 통한 부실대출 발생 여부 예측 시스템\n",
    "|id|loan_amnt|term|int_rate|grade|sub_grade|dti|installment|loan_status|\n",
    "|---|---|---|---|---|---|---|---|---|\n",
    "|0|5000.0|36 months|10.65|B|B2|27.65|162.87|Fully Paid|\n",
    "|1|2500.0|60 months|15.27|C|C4|1.00|59.83|Charged Off|\n",
    "|2|2400.0|36 months|15.96|C|C5|8.72|84.33|Fully Paid|\n",
    "|3|10000.0|36 months|13.49|C|C1|20.00|339.31|Fully Paid|\n",
    "|4|3000.0|60 months|12.69|B|B5|17.94|67.79|Fully Paid|\n",
    "|5|5000.0|36 months|7.90|A|A4|11.20|156.46|Fully Paid|\n",
    "|6|7000.0|60 months|15.96|C|C5|23.51|170.08|Fully Paid|\n",
    "|7|3000.0|36 months|18.64|E|E1|5.35|109.43|Fully Paid|\n",
    "|8|5600.0|60 months|21.28|F|F2|5.55|152.39|Charged Off|\n",
    "|9|5375.0|60 months|12.69|B|B5|18.08|121.45|Charged Off|\n",
    "|10|6500.0|60 months|14.65|C|C3|16.12|153.45|Fully Paid|\n",
    "|11|12000.0|36 months|12.69|B|B5|10.78|402.54|Fully Paid|\n",
    "|12|9000.0|36 months|13.49|C|C1|10.08|305.38|Charged Off|\n",
    "|13|3000.0|36 months|9.91|B|B1|12.56|96.68|Fully Paid||"
   ]
  },
  {
   "cell_type": "markdown",
   "metadata": {},
   "source": [
    "### 3. 주택가격 예측시스템\n",
    "\n",
    "|id|timestamp|full_sq|life_sq|floor|max_floor|material|build_year|num_room|state|sub_area|price_doc|\n",
    "|---|---|---|---|---|---|---|---|---|---|---|---|\n",
    "|30455|2015-06-29|79|79.0|3.0|3.0|1.0|1981.0|3.0|2.0|Poselenie Vnukovskoe|9014972|\n",
    "|30456|2015-06-29|52|30.0|8.0|14.0|1.0|1992.0|2.0|2.0|Mitino|1000000|\n",
    "|30457|2015-06-29|58|43.0|7.0|9.0|1.0|1979.0|3.0|3.0|Jaroslavskoe|7800000|\n",
    "|30458|2015-06-29|50|1.0|7.0|7.0|1.0|2015.0|1.0|1.0|Poselenie Moskovskij|6370777|\n",
    "|30459|2015-06-29|51|30.6|4.0|17.0|4.0|1981.0|2.0|1.0|Solncevo|5778893|\n",
    "|30460|2015-06-29|54|32.0|8.0|16.0|1.0|1979.0|2.0|2.0|Jasenevo|9500000|\n",
    "|30461|2015-06-30|36|19.0|5.0|16.0|1.0|1980.0|1.0|3.0|Obruchevskoe|5000000|\n",
    "|30462|2015-06-30|47|30.0|23.0|25.0|4.0|2016.0|1.0|1.0|Filevskij Park|10544070|\n",
    "|30463|2015-06-30|56|29.0|13.0|14.0|1.0|2001.0|2.0|3.0|Severnoe Tushino|12000000|\n",
    "|30464|2015-06-30|56|51.0|19.0|19.0|1.0|2017.0|2.0|1.0|Sviblovo|10262010|\n",
    "|30465|2015-06-30|52|31.2|13.0|17.0|1.0|1981.0|2.0|1.0|Tverskoe|6750554|\n",
    "|30466|2015-06-30|44|27.0|7.0|9.0|1.0|1975.0|2.0|3.0|Otradnoe|7400000|\n",
    "|30467|2015-06-30|86|59.0|3.0|9.0|2.0|1935.0|4.0|3.0|Tverskoe|25000000|\n",
    "|30468|2015-06-30|45|27.0|10.0|20.0|1.0|1981.0|1.0|1.0|Poselenie Vnukovskoe|6970959|\n",
    "|30469|2015-06-30|64|32.0|5.0|15.0|1.0|2003.0|2.0|2.0|Obruchevskoe|13500000|\n",
    "|30470|2015-06-30|43|28.0|1.0|9.0|1.0|1968.0|2.0|2.0|Novogireevo|5600000|"
   ]
  },
  {
   "cell_type": "markdown",
   "metadata": {},
   "source": [
    "# 연습 문제 5"
   ]
  },
  {
   "cell_type": "markdown",
   "metadata": {},
   "source": [
    "## 지금까지 생각한 예측 문제의 입력 데이터 중 전처리 혹은 인코딩이 필요한 것이 어떤 것인지 확인하고 어떻게 숫자로 바꿀 수 있을지 그 방법을 생각해 보자."
   ]
  },
  {
   "cell_type": "markdown",
   "metadata": {},
   "source": [
    "### 1. 생명보험 계약자의 청약데이터를 활용한 계약자의 위험등급 예측\n",
    "나이, 신장, 무게, BMI의 경우 numerical data로서 바로 활용이 가능하나 고용정보, 피보험자 정보, 병력, 가족력 등은 질병코드와 같은 categorical Data에 해당하므로 one-hot encoding으로 처리할 필요가 있다. 또한 missing Value가 존재하는 dataset으로 이에 대해 numerical data의 경우 mean/median 등으로, categorical data의 경우 'unknown' category로 처리를 해주어야 한다."
   ]
  },
  {
   "cell_type": "markdown",
   "metadata": {},
   "source": [
    "### 2. 대출 자료를 통한 부실대출 발생 여부 예측 시스템\n",
    "대출금액이나 대출기간, 금리 등의 numerical data는 그대로 사용이 가능하나 신용등급, 대출상태 등은 categorical data로써 encoding을 거쳐야 한다. missing data의 경우 mean/median 등으로, categorical data의 경우 'unknown' category로 처리를 해주어야 한다."
   ]
  },
  {
   "cell_type": "markdown",
   "metadata": {},
   "source": [
    "### 3. 주택가격 예측시스템\n",
    "주택의 거래시점이 명시된 만큼 time-series 분석이 가능하다. 면적, 층수, 준공연도, 방 갯수는 numerical data로 바로 이용이 가능하며 건물의 재질과 상태, 주거지역은 categorical data이므로 one-hot encoding을 통해 regression model을 만들어야 한다."
   ]
  },
  {
   "cell_type": "markdown",
   "metadata": {},
   "source": [
    "# 연습 문제 6"
   ]
  },
  {
   "cell_type": "markdown",
   "metadata": {},
   "source": [
    "## 지금까지 고려했던 예측 문제의 입력 데이터와 출력 데이터가 각각 숫자값인지 카테고리값인지 쓰고 문제가 회귀분석 문제인지 분류 문제인지 결정하라."
   ]
  },
  {
   "cell_type": "markdown",
   "metadata": {},
   "source": [
    "### 1. 생명보험 계약자의 청약데이터를 활용한 계약자의 위험등급 예측\n",
    "|나이|신장|무게|BMI|직업|가족력|병력|위험등급(target)|\n",
    "|---|---|---|---|---|---|---|---|\n",
    "|numerical|numerical|numerical|numerical|categorical|categorical|categorical|numerical|\n",
    "\n",
    "**문제의 종류: 분류**"
   ]
  },
  {
   "cell_type": "markdown",
   "metadata": {},
   "source": [
    "### 2. 대출 자료를 통한 부실대출 발생 여부 예측 시스템\n",
    "|id|loan_amnt|term|int_rate|grade|sub_grade|dti|installment|loan_status(target)|\n",
    "|---|---|---|---|---|---|---|---|---|\n",
    "|categorical|numerical|numerical|numerical|categorical|categorical|numerical|numerical|categorical|\n",
    "\n",
    "**문제의 종류: 분류**"
   ]
  },
  {
   "cell_type": "markdown",
   "metadata": {},
   "source": [
    "### 3. 주택가격 예측시스템\n",
    "\n",
    "|id|timestamp|full_sq|life_sq|floor|max_floor|material|build_year|num_room|state|sub_area|price_doc|\n",
    "|---|---|---|---|---|---|---|---|---|---|---|---|\n",
    "|categorical|time-series|numerical|numerical|numerical|numerical|categorical|numerical|numerical|categorical|categorical|numerical|\n",
    "\n",
    "**문제의 종류: 회귀분석**"
   ]
  },
  {
   "cell_type": "markdown",
   "metadata": {},
   "source": [
    "---"
   ]
  }
 ],
 "metadata": {
  "kernelspec": {
   "display_name": "Python 3",
   "language": "python",
   "name": "python3"
  },
  "language_info": {
   "codemirror_mode": {
    "name": "ipython",
    "version": 3
   },
   "file_extension": ".py",
   "mimetype": "text/x-python",
   "name": "python",
   "nbconvert_exporter": "python",
   "pygments_lexer": "ipython3",
   "version": "3.6.0"
  }
 },
 "nbformat": 4,
 "nbformat_minor": 2
}
