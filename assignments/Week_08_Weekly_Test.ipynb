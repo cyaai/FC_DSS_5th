{
 "cells": [
  {
   "cell_type": "markdown",
   "metadata": {},
   "source": [
    "# Week 08 Weekly Test"
   ]
  },
  {
   "cell_type": "code",
   "execution_count": 57,
   "metadata": {},
   "outputs": [
    {
     "data": {
      "text/plain": [
       "'/home/jihoon_kim/Documents/Career/Fast_Campus_Data_Science_School/FC_DSS_5th/assignments'"
      ]
     },
     "execution_count": 57,
     "metadata": {},
     "output_type": "execute_result"
    }
   ],
   "source": [
    "%pwd"
   ]
  },
  {
   "cell_type": "code",
   "execution_count": 58,
   "metadata": {
    "scrolled": true
   },
   "outputs": [
    {
     "name": "stdout",
     "output_type": "stream",
     "text": [
      "--2017-07-03 10:03:14--  http://www.stat.tamu.edu/~sheather/book/docs/datasets/nyc.csv\n",
      "Resolving www.stat.tamu.edu (www.stat.tamu.edu)... 165.91.112.167\n",
      "Connecting to www.stat.tamu.edu (www.stat.tamu.edu)|165.91.112.167|:80... connected.\n",
      "HTTP request sent, awaiting response... 200 OK\n",
      "Length: 5029 (4.9K) [text/csv]\n",
      "Saving to: ‘nyc.csv’\n",
      "\n",
      "nyc.csv             100%[===================>]   4.91K  --.-KB/s    in 0s      \n",
      "\n",
      "2017-07-03 10:03:15 (14.4 MB/s) - ‘nyc.csv’ saved [5029/5029]\n",
      "\n"
     ]
    }
   ],
   "source": [
    "!wget http://www.stat.tamu.edu/~sheather/book/docs/datasets/nyc.csv"
   ]
  },
  {
   "cell_type": "code",
   "execution_count": 118,
   "metadata": {},
   "outputs": [],
   "source": [
    "import numpy as np\n",
    "import matplotlib.pyplot as plt\n",
    "%matplotlib inline\n",
    "import seaborn as sns\n",
    "import pandas as pd\n",
    "import statsmodels as sm\n",
    "from patsy import dmatrix\n",
    "from statsmodels.regression.linear_model import OLS\n",
    "from statsmodels.tools.tools import add_constant"
   ]
  },
  {
   "cell_type": "code",
   "execution_count": 119,
   "metadata": {},
   "outputs": [],
   "source": [
    "df = pd.read_csv(\"nyc.csv\", encoding = \"ISO-8859-1\")"
   ]
  },
  {
   "cell_type": "code",
   "execution_count": 120,
   "metadata": {
    "scrolled": true
   },
   "outputs": [
    {
     "data": {
      "text/html": [
       "<div>\n",
       "<style>\n",
       "    .dataframe thead tr:only-child th {\n",
       "        text-align: right;\n",
       "    }\n",
       "\n",
       "    .dataframe thead th {\n",
       "        text-align: left;\n",
       "    }\n",
       "\n",
       "    .dataframe tbody tr th {\n",
       "        vertical-align: top;\n",
       "    }\n",
       "</style>\n",
       "<table border=\"1\" class=\"dataframe\">\n",
       "  <thead>\n",
       "    <tr style=\"text-align: right;\">\n",
       "      <th></th>\n",
       "      <th>Case</th>\n",
       "      <th>Restaurant</th>\n",
       "      <th>Price</th>\n",
       "      <th>Food</th>\n",
       "      <th>Decor</th>\n",
       "      <th>Service</th>\n",
       "      <th>East</th>\n",
       "    </tr>\n",
       "  </thead>\n",
       "  <tbody>\n",
       "    <tr>\n",
       "      <th>0</th>\n",
       "      <td>1</td>\n",
       "      <td>Daniella Ristorante</td>\n",
       "      <td>43</td>\n",
       "      <td>22</td>\n",
       "      <td>18</td>\n",
       "      <td>20</td>\n",
       "      <td>0</td>\n",
       "    </tr>\n",
       "    <tr>\n",
       "      <th>1</th>\n",
       "      <td>2</td>\n",
       "      <td>Tello's Ristorante</td>\n",
       "      <td>32</td>\n",
       "      <td>20</td>\n",
       "      <td>19</td>\n",
       "      <td>19</td>\n",
       "      <td>0</td>\n",
       "    </tr>\n",
       "    <tr>\n",
       "      <th>2</th>\n",
       "      <td>3</td>\n",
       "      <td>Biricchino</td>\n",
       "      <td>34</td>\n",
       "      <td>21</td>\n",
       "      <td>13</td>\n",
       "      <td>18</td>\n",
       "      <td>0</td>\n",
       "    </tr>\n",
       "    <tr>\n",
       "      <th>3</th>\n",
       "      <td>4</td>\n",
       "      <td>Bottino</td>\n",
       "      <td>41</td>\n",
       "      <td>20</td>\n",
       "      <td>20</td>\n",
       "      <td>17</td>\n",
       "      <td>0</td>\n",
       "    </tr>\n",
       "    <tr>\n",
       "      <th>4</th>\n",
       "      <td>5</td>\n",
       "      <td>Da Umberto</td>\n",
       "      <td>54</td>\n",
       "      <td>24</td>\n",
       "      <td>19</td>\n",
       "      <td>21</td>\n",
       "      <td>0</td>\n",
       "    </tr>\n",
       "  </tbody>\n",
       "</table>\n",
       "</div>"
      ],
      "text/plain": [
       "   Case           Restaurant  Price  Food  Decor  Service  East\n",
       "0     1  Daniella Ristorante     43    22     18       20     0\n",
       "1     2   Tello's Ristorante     32    20     19       19     0\n",
       "2     3           Biricchino     34    21     13       18     0\n",
       "3     4              Bottino     41    20     20       17     0\n",
       "4     5           Da Umberto     54    24     19       21     0"
      ]
     },
     "execution_count": 120,
     "metadata": {},
     "output_type": "execute_result"
    }
   ],
   "source": [
    "df.head(5)"
   ]
  },
  {
   "cell_type": "code",
   "execution_count": 121,
   "metadata": {},
   "outputs": [
    {
     "data": {
      "text/plain": [
       "168"
      ]
     },
     "execution_count": 121,
     "metadata": {},
     "output_type": "execute_result"
    }
   ],
   "source": [
    "df.Case.value_counts().sum()"
   ]
  },
  {
   "cell_type": "code",
   "execution_count": 122,
   "metadata": {},
   "outputs": [
    {
     "data": {
      "text/plain": [
       "(168, 7)"
      ]
     },
     "execution_count": 122,
     "metadata": {},
     "output_type": "execute_result"
    }
   ],
   "source": [
    "df.shape"
   ]
  },
  {
   "cell_type": "markdown",
   "metadata": {},
   "source": [
    "중복없이 모두 다른 레스토랑으로 구성되어있다."
   ]
  },
  {
   "cell_type": "markdown",
   "metadata": {},
   "source": [
    "# 문제 1"
   ]
  },
  {
   "cell_type": "markdown",
   "metadata": {},
   "source": [
    "Food, Decor, Service는 1~30의 numerical data이나 East는 0과 1로 구성된 feature로 categorical data로 취급해야한다."
   ]
  },
  {
   "cell_type": "code",
   "execution_count": 126,
   "metadata": {},
   "outputs": [
    {
     "name": "stdout",
     "output_type": "stream",
     "text": [
      "                            OLS Regression Results                            \n",
      "==============================================================================\n",
      "Dep. Variable:                  Price   R-squared:                       0.628\n",
      "Model:                            OLS   Adj. R-squared:                  0.619\n",
      "Method:                 Least Squares   F-statistic:                     68.76\n",
      "Date:                Mon, 03 Jul 2017   Prob (F-statistic):           5.35e-34\n",
      "Time:                        10:34:05   Log-Likelihood:                -529.36\n",
      "No. Observations:                 168   AIC:                             1069.\n",
      "Df Residuals:                     163   BIC:                             1084.\n",
      "Df Model:                           4                                         \n",
      "Covariance Type:            nonrobust                                         \n",
      "==============================================================================\n",
      "                 coef    std err          t      P>|t|      [0.025      0.975]\n",
      "------------------------------------------------------------------------------\n",
      "C(East)[0]   -24.0238      4.708     -5.102      0.000     -33.321     -14.727\n",
      "C(East)[1]   -21.9557      4.858     -4.520      0.000     -31.548     -12.363\n",
      "Food           1.5381      0.369      4.169      0.000       0.810       2.267\n",
      "Decor          1.9101      0.217      8.802      0.000       1.482       2.339\n",
      "Service       -0.0027      0.396     -0.007      0.995      -0.785       0.780\n",
      "==============================================================================\n",
      "Omnibus:                        5.180   Durbin-Watson:                   1.760\n",
      "Prob(Omnibus):                  0.075   Jarque-Bera (JB):                5.039\n",
      "Skew:                           0.304   Prob(JB):                       0.0805\n",
      "Kurtosis:                       3.591   Cond. No.                         510.\n",
      "==============================================================================\n",
      "\n",
      "Warnings:\n",
      "[1] Standard Errors assume that the covariance matrix of the errors is correctly specified.\n"
     ]
    }
   ],
   "source": [
    "model = OLS.from_formula(\"Price ~ Food + Decor + Service + C(East) + 0\", df)\n",
    "results = model.fit()\n",
    "print(results.summary())"
   ]
  },
  {
   "cell_type": "markdown",
   "metadata": {},
   "source": [
    "성능은 $R^2 (or\\ Adj. R^2)$로 나타낼 수 있다. $Adj. R^2 = 0.619$로 유의한 선형상관관계를 나타내고 있음을 알 수 있으며 정규성 검정수치결과도 정규성을 가지고 있음을 나타낸다."
   ]
  },
  {
   "cell_type": "markdown",
   "metadata": {},
   "source": [
    "## Scatter Plot"
   ]
  },
  {
   "cell_type": "code",
   "execution_count": 127,
   "metadata": {},
   "outputs": [],
   "source": [
    "predictions = results.predict(df)"
   ]
  },
  {
   "cell_type": "code",
   "execution_count": 128,
   "metadata": {},
   "outputs": [
    {
     "data": {
      "image/png": "[encoded data removed]",
      "text/plain": [
       "<matplotlib.figure.Figure at 0x7f2d1421f8d0>"
      ]
     },
     "metadata": {},
     "output_type": "display_data"
    }
   ],
   "source": [
    "plt.figure(figsize=(18,12))\n",
    "plt.scatter(df.Price,predictions)\n",
    "plt.xlabel(\"Actual Price\", fontsize=14)\n",
    "plt.ylabel(\"Predicted Price\", fontsize=14)\n",
    "plt.show()"
   ]
  },
  {
   "cell_type": "markdown",
   "metadata": {},
   "source": [
    "# 문제 2"
   ]
  },
  {
   "cell_type": "markdown",
   "metadata": {},
   "source": [
    "문제 1에서의 summary에서 유의성은 독립변수 Service가 가장 떨어진다. 따라서 가장 유의성이 적은 Service를 제거하고 다시 모델링을 하면 다음과 같은 결과를 얻게 된다."
   ]
  },
  {
   "cell_type": "code",
   "execution_count": 130,
   "metadata": {},
   "outputs": [
    {
     "name": "stdout",
     "output_type": "stream",
     "text": [
      "                            OLS Regression Results                            \n",
      "==============================================================================\n",
      "Dep. Variable:                  Price   R-squared:                       0.628\n",
      "Model:                            OLS   Adj. R-squared:                  0.621\n",
      "Method:                 Least Squares   F-statistic:                     92.24\n",
      "Date:                Mon, 03 Jul 2017   Prob (F-statistic):           5.10e-35\n",
      "Time:                        10:36:09   Log-Likelihood:                -529.36\n",
      "No. Observations:                 168   AIC:                             1067.\n",
      "Df Residuals:                     164   BIC:                             1079.\n",
      "Df Model:                           3                                         \n",
      "Covariance Type:            nonrobust                                         \n",
      "==============================================================================\n",
      "                 coef    std err          t      P>|t|      [0.025      0.975]\n",
      "------------------------------------------------------------------------------\n",
      "C(East)[0]   -24.0269      4.673     -5.142      0.000     -33.253     -14.800\n",
      "C(East)[1]   -21.9599      4.806     -4.569      0.000     -31.450     -12.470\n",
      "Food           1.5363      0.263      5.838      0.000       1.017       2.056\n",
      "Decor          1.9094      0.190     10.049      0.000       1.534       2.285\n",
      "==============================================================================\n",
      "Omnibus:                        5.191   Durbin-Watson:                   1.760\n",
      "Prob(Omnibus):                  0.075   Jarque-Bera (JB):                5.053\n",
      "Skew:                           0.305   Prob(JB):                       0.0799\n",
      "Kurtosis:                       3.592   Cond. No.                         413.\n",
      "==============================================================================\n",
      "\n",
      "Warnings:\n",
      "[1] Standard Errors assume that the covariance matrix of the errors is correctly specified.\n"
     ]
    }
   ],
   "source": [
    "model = OLS.from_formula(\"Price ~ Food + Decor + C(East) + 0\", df)\n",
    "results = model.fit()\n",
    "print(results.summary())"
   ]
  },
  {
   "cell_type": "markdown",
   "metadata": {},
   "source": [
    "$Adj. R^2$의 값이 0.619에서 0.621로 향상된 것을 확인할 수 있다."
   ]
  },
  {
   "cell_type": "markdown",
   "metadata": {},
   "source": [
    "# 문제 3"
   ]
  },
  {
   "cell_type": "markdown",
   "metadata": {},
   "source": [
    "Regression F-test를 각각의 변수에 대해 실시했을 때 Prob (F-statistic)을 비교하여 상대적 중요도 순위를 확인할 수 있다."
   ]
  },
  {
   "cell_type": "code",
   "execution_count": 149,
   "metadata": {},
   "outputs": [
    {
     "name": "stderr",
     "output_type": "stream",
     "text": [
      "/home/jihoon_kim/anaconda3/lib/python3.6/site-packages/scipy/stats/_distn_infrastructure.py:879: RuntimeWarning: invalid value encountered in greater\n",
      "  return (self.a < x) & (x < self.b)\n",
      "/home/jihoon_kim/anaconda3/lib/python3.6/site-packages/scipy/stats/_distn_infrastructure.py:879: RuntimeWarning: invalid value encountered in less\n",
      "  return (self.a < x) & (x < self.b)\n",
      "/home/jihoon_kim/anaconda3/lib/python3.6/site-packages/scipy/stats/_distn_infrastructure.py:1818: RuntimeWarning: invalid value encountered in less_equal\n",
      "  cond2 = cond0 & (x <= self.a)\n"
     ]
    },
    {
     "data": {
      "text/html": [
       "<div>\n",
       "<style>\n",
       "    .dataframe thead tr:only-child th {\n",
       "        text-align: right;\n",
       "    }\n",
       "\n",
       "    .dataframe thead th {\n",
       "        text-align: left;\n",
       "    }\n",
       "\n",
       "    .dataframe tbody tr th {\n",
       "        vertical-align: top;\n",
       "    }\n",
       "</style>\n",
       "<table border=\"1\" class=\"dataframe\">\n",
       "  <thead>\n",
       "    <tr style=\"text-align: right;\">\n",
       "      <th></th>\n",
       "      <th>df</th>\n",
       "      <th>sum_sq</th>\n",
       "      <th>mean_sq</th>\n",
       "      <th>F</th>\n",
       "      <th>PR(&gt;F)</th>\n",
       "    </tr>\n",
       "  </thead>\n",
       "  <tbody>\n",
       "    <tr>\n",
       "      <th>Food</th>\n",
       "      <td>1.0</td>\n",
       "      <td>311444.133169</td>\n",
       "      <td>311444.133169</td>\n",
       "      <td>8206.884509</td>\n",
       "      <td>5.598158e-142</td>\n",
       "    </tr>\n",
       "    <tr>\n",
       "      <th>Decor</th>\n",
       "      <td>1.0</td>\n",
       "      <td>2809.856806</td>\n",
       "      <td>2809.856806</td>\n",
       "      <td>74.042719</td>\n",
       "      <td>5.933631e-15</td>\n",
       "    </tr>\n",
       "    <tr>\n",
       "      <th>Service</th>\n",
       "      <td>1.0</td>\n",
       "      <td>0.398102</td>\n",
       "      <td>0.398102</td>\n",
       "      <td>0.010490</td>\n",
       "      <td>9.185463e-01</td>\n",
       "    </tr>\n",
       "    <tr>\n",
       "      <th>East</th>\n",
       "      <td>1.0</td>\n",
       "      <td>204.954482</td>\n",
       "      <td>204.954482</td>\n",
       "      <td>5.400769</td>\n",
       "      <td>2.135465e-02</td>\n",
       "    </tr>\n",
       "    <tr>\n",
       "      <th>Residual</th>\n",
       "      <td>164.0</td>\n",
       "      <td>6223.657441</td>\n",
       "      <td>37.949131</td>\n",
       "      <td>NaN</td>\n",
       "      <td>NaN</td>\n",
       "    </tr>\n",
       "  </tbody>\n",
       "</table>\n",
       "</div>"
      ],
      "text/plain": [
       "             df         sum_sq        mean_sq            F         PR(>F)\n",
       "Food        1.0  311444.133169  311444.133169  8206.884509  5.598158e-142\n",
       "Decor       1.0    2809.856806    2809.856806    74.042719   5.933631e-15\n",
       "Service     1.0       0.398102       0.398102     0.010490   9.185463e-01\n",
       "East        1.0     204.954482     204.954482     5.400769   2.135465e-02\n",
       "Residual  164.0    6223.657441      37.949131          NaN            NaN"
      ]
     },
     "execution_count": 149,
     "metadata": {},
     "output_type": "execute_result"
    }
   ],
   "source": [
    "from statsmodels.stats.anova import anova_lm\n",
    "anova_lm(result)"
   ]
  },
  {
   "cell_type": "markdown",
   "metadata": {},
   "source": [
    "따라서 중요도 순서는 다음과 같다.\n",
    "\n",
    "1. Food\n",
    "2. Decor\n",
    "3. East\n",
    "4. Service"
   ]
  },
  {
   "cell_type": "code",
   "execution_count": null,
   "metadata": {
    "collapsed": true
   },
   "outputs": [],
   "source": []
  }
 ],
 "metadata": {
  "kernelspec": {
   "display_name": "Python 3",
   "language": "python",
   "name": "python3"
  },
  "language_info": {
   "codemirror_mode": {
    "name": "ipython",
    "version": 3
   },
   "file_extension": ".py",
   "mimetype": "text/x-python",
   "name": "python",
   "nbconvert_exporter": "python",
   "pygments_lexer": "ipython3",
   "version": "3.6.1"
  }
 },
 "nbformat": 4,
 "nbformat_minor": 2
}
