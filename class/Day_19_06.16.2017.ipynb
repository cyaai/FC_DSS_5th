{
 "cells": [
  {
   "cell_type": "markdown",
   "metadata": {},
   "source": [
    "# Day 19"
   ]
  },
  {
   "cell_type": "code",
   "execution_count": 184,
   "metadata": {},
   "outputs": [],
   "source": [
    "from scipy.stats import binom_test"
   ]
  },
  {
   "cell_type": "markdown",
   "metadata": {},
   "source": [
    "## 이항검정"
   ]
  },
  {
   "cell_type": "code",
   "execution_count": 185,
   "metadata": {
    "collapsed": true
   },
   "outputs": [],
   "source": [
    "num_a = 50\n",
    "num_b = 500\n",
    "\n",
    "accept_a = 28\n",
    "accept_b = 252\n",
    "\n",
    "theta_0 = 0.5\n",
    "\n",
    "theta_a = accept_a/num_a\n",
    "tehta_b = accept_b/num_b"
   ]
  },
  {
   "cell_type": "code",
   "execution_count": 186,
   "metadata": {
    "scrolled": true
   },
   "outputs": [
    {
     "data": {
      "text/plain": [
       "0.47988766169832769"
      ]
     },
     "execution_count": 186,
     "metadata": {},
     "output_type": "execute_result"
    }
   ],
   "source": [
    "binom_test(accept_a,num_a)"
   ]
  },
  {
   "cell_type": "code",
   "execution_count": 187,
   "metadata": {},
   "outputs": [
    {
     "data": {
      "text/plain": [
       "0.064908647072272188"
      ]
     },
     "execution_count": 187,
     "metadata": {},
     "output_type": "execute_result"
    }
   ],
   "source": [
    "binom_test(32,50)"
   ]
  },
  {
   "cell_type": "code",
   "execution_count": 188,
   "metadata": {},
   "outputs": [
    {
     "data": {
      "text/plain": [
       "1.0"
      ]
     },
     "execution_count": 188,
     "metadata": {},
     "output_type": "execute_result"
    }
   ],
   "source": [
    "scipy.stats.binom_test(accept_a,num_a, p=0.56)"
   ]
  },
  {
   "cell_type": "code",
   "execution_count": 189,
   "metadata": {},
   "outputs": [
    {
     "data": {
      "text/plain": [
       "0.89329024378241417"
      ]
     },
     "execution_count": 189,
     "metadata": {},
     "output_type": "execute_result"
    }
   ],
   "source": [
    "scipy.stats.binom_test(252, 500)"
   ]
  },
  {
   "cell_type": "code",
   "execution_count": 190,
   "metadata": {},
   "outputs": [
    {
     "data": {
      "text/plain": [
       "0.081032349609206439"
      ]
     },
     "execution_count": 190,
     "metadata": {},
     "output_type": "execute_result"
    }
   ],
   "source": [
    "scipy.stats.binom_test(270,500)"
   ]
  },
  {
   "cell_type": "markdown",
   "metadata": {},
   "source": [
    "## 단일표본 t-검정"
   ]
  },
  {
   "cell_type": "code",
   "execution_count": 191,
   "metadata": {
    "collapsed": true
   },
   "outputs": [],
   "source": [
    "import numpy as np\n",
    "import pandas as pd"
   ]
  },
  {
   "cell_type": "code",
   "execution_count": 276,
   "metadata": {
    "scrolled": true
   },
   "outputs": [],
   "source": [
    "score = {}\n",
    "for i in range(10000):\n",
    "    mu = 175\n",
    "    sigma = 3\n",
    "    np.random.seed(i)\n",
    "    kor = sigma * np.random.randn(20) + mu\n",
    "    china = sigma * np.random.randn(10) + mu\n",
    "    score[i] = 10 * ((kor.mean()-175)**2 + (china.mean()-175)**2) + ((kor.std()-sigma)**2 + (china.std()-sigma)**2)"
   ]
  },
  {
   "cell_type": "code",
   "execution_count": 277,
   "metadata": {},
   "outputs": [
    {
     "data": {
      "text/plain": [
       "2938"
      ]
     },
     "execution_count": 277,
     "metadata": {},
     "output_type": "execute_result"
    }
   ],
   "source": [
    "min(score, key=score.get)"
   ]
  },
  {
   "cell_type": "code",
   "execution_count": 279,
   "metadata": {},
   "outputs": [
    {
     "data": {
      "text/plain": [
       "0.052496603385677403"
      ]
     },
     "execution_count": 279,
     "metadata": {},
     "output_type": "execute_result"
    }
   ],
   "source": [
    "score[2938]"
   ]
  },
  {
   "cell_type": "code",
   "execution_count": 193,
   "metadata": {},
   "outputs": [],
   "source": [
    "x1 = scipy.stats.norm(mu, sigma).rvs()\n",
    "x2 = scipy.stats.norm(mu, sigma).rvs()"
   ]
  },
  {
   "cell_type": "code",
   "execution_count": 241,
   "metadata": {},
   "outputs": [],
   "source": [
    "from scipy.stats import norm\n",
    "\n",
    "mu = 175\n",
    "std = 3\n",
    "n=20\n",
    "np.random.seed(0)\n",
    "rv = norm(mu, std)\n",
    "data1 = rv.rvs(n)\n",
    "data1.mean()\n",
    "for i in range(1, 100000):\n",
    "    for j in range(0,20):\n",
    "        data1[j] -=0.01\n",
    "        if data1.mean() <= 175:\n",
    "            break\n",
    "    if data1.mean() <= 175:\n",
    "        break\n",
    "data1\n",
    "\n",
    "kor = data1\n",
    "\n",
    "mu = 175\n",
    "std = 3\n",
    "n=10\n",
    "np.random.seed(0)\n",
    "rv = norm(mu, std)\n",
    "data2 = rv.rvs(n)\n",
    "data2.mean()\n",
    "for i in range(1, 100000):\n",
    "    for j in range(0,n):\n",
    "        data2[j] -=0.01\n",
    "        if data2.mean() <= 175:\n",
    "            break\n",
    "    if data2.mean() <= 175:\n",
    "        break\n",
    "data2\n",
    "\n",
    "china = data2"
   ]
  },
  {
   "cell_type": "code",
   "execution_count": 242,
   "metadata": {},
   "outputs": [
    {
     "data": {
      "text/plain": [
       "array([ 178.58215704,  174.49047163,  176.22621395,  180.0126796 ,\n",
       "        178.89267397,  170.35816636,  176.14026525,  172.83592838,\n",
       "        172.98034344,  174.52179551,  173.72213071,  177.65282052,\n",
       "        175.57311318,  173.65502505,  174.6215897 ,  174.29102298,\n",
       "        177.77223722,  172.68452521,  174.2392031 ,  170.73771278])"
      ]
     },
     "execution_count": 242,
     "metadata": {},
     "output_type": "execute_result"
    }
   ],
   "source": [
    "kor"
   ]
  },
  {
   "cell_type": "code",
   "execution_count": 243,
   "metadata": {
    "scrolled": true
   },
   "outputs": [
    {
     "data": {
      "text/plain": [
       "array([ 178.07215704,  173.98047163,  175.71621395,  179.5026796 ,\n",
       "        178.38267397,  169.85816636,  175.64026525,  172.33592838,\n",
       "        172.48034344,  174.02179551])"
      ]
     },
     "execution_count": 243,
     "metadata": {},
     "output_type": "execute_result"
    }
   ],
   "source": [
    "china"
   ]
  },
  {
   "cell_type": "code",
   "execution_count": 244,
   "metadata": {},
   "outputs": [
    {
     "data": {
      "text/plain": [
       "array([ 175.67215704,  171.58047163,  173.31621395,  177.1026796 ,\n",
       "        175.98267397,  167.45816636,  173.24026525,  169.93592838,\n",
       "        170.08034344,  171.62179551])"
      ]
     },
     "execution_count": 244,
     "metadata": {},
     "output_type": "execute_result"
    }
   ],
   "source": [
    "china2 = china - 2.4\n",
    "china2"
   ]
  },
  {
   "cell_type": "code",
   "execution_count": 245,
   "metadata": {},
   "outputs": [
    {
     "data": {
      "text/plain": [
       "Ttest_indResult(statistic=2.1259703568671759, pvalue=0.04962768969627155)"
      ]
     },
     "execution_count": 245,
     "metadata": {},
     "output_type": "execute_result"
    }
   ],
   "source": [
    "scipy.stats.ttest_ind(kor, china2, equal_var=False)"
   ]
  },
  {
   "cell_type": "markdown",
   "metadata": {},
   "source": [
    "# 베타 분포\n",
    "\n",
    "베타 분포(Beta  distribution)는 다른 확률 분포와 달리 자연계에 존재하는 데이터의 분포를 묘사하기 보다는 베이지안 추정의 결과를 묘사하기위한 목적으로 주로 사용된다. 베이지안 추정(Bayesian estimation)은 추정하고자 하는 모수의 값을 하나의 숫자로 나타내는 것이 아니라 분포로 묘사한다.\n",
    "\n",
    "베타 분포의 확률 밀도 함수는 $a$와 $b$라는 두 개의 모수(parameter)를 가지며 수학적으로 다음과 같이 정의된다. \n",
    "\n",
    "$$\n",
    "\\begin{align}\n",
    "\\text{Beta}(x;a,b) \n",
    "& = \\frac{\\Gamma(a+b)}{\\Gamma(a)\\Gamma(b)}\\, x^{a-1}(1-x)^{b-1} \n",
    "\\end{align}\n",
    "$$\n",
    "\n",
    "이 식에서 \n",
    "$$\n",
    "\\Gamma(a) = \\int_0^\\infty  x^{a-1} e^{-x}\\, dx\\\\\n",
    "0 \\leq x \\leq 1\\\\\n",
    "a, b > 0\n",
    "$$\n",
    "\n",
    "\n",
    "베타 분포의 확률 밀도 함수는 그림에서 볼 수 있듯이 0부터 1까지만의 값을 가진다. 이러한 함수를 finite support를 가진다고 한다."
   ]
  },
  {
   "cell_type": "code",
   "execution_count": 282,
   "metadata": {},
   "outputs": [
    {
     "data": {
      "image/png": "[encoded data removed]",
      "text/plain": [
       "<matplotlib.figure.Figure at 0x1af58bc0f28>"
      ]
     },
     "metadata": {},
     "output_type": "display_data"
    }
   ],
   "source": [
    "import matplotlib.pyplot as plt\n",
    "%matplotlib inline\n",
    "\n",
    "from scipy.stats import beta\n",
    "\n",
    "xx = np.linspace(0, 1, 1000)\n",
    "plt.subplot(221)\n",
    "plt.fill(xx, scipy.stats.beta(1.0001, 1.0001).pdf(xx)); plt.ylim(0, 6)\n",
    "plt.title(\"(A) a=1, b=1\")\n",
    "plt.subplot(222)\n",
    "plt.fill(xx, scipy.stats.beta(4, 2).pdf(xx)); plt.ylim(0, 6)\n",
    "plt.title(\"(B) a=4, b=2, mode={0}\".format((4-1)/(4+2-2)))\n",
    "plt.subplot(223)\n",
    "plt.fill(xx, scipy.stats.beta(8, 4).pdf(xx)); plt.ylim(0, 6)\n",
    "plt.title(\"(C) a=8, b=4, mode={0}\".format((8-1)/(8+4-2)))\n",
    "plt.subplot(224)\n",
    "plt.fill(xx, scipy.stats.beta(30, 12).pdf(xx)); plt.ylim(0, 6)\n",
    "plt.title(\"(D) a=30, b=12, mode={0}\".format((30-1)/(30+12-2)))\n",
    "plt.tight_layout()\n",
    "plt.show()"
   ]
  },
  {
   "cell_type": "markdown",
   "metadata": {},
   "source": [
    "위 그림이 베이지안 추정 결과라면 각각은 모수에 대해 다음과 같이 추정한 것과 같다.\n",
    "\n",
    "* (A): 추정할 수 없다. (정보가 없음)\n",
    "* (B): 모수값이 0.75일 가능성이 가장 크다. (정확도 낮음)\n",
    "* (C): 모수값이 0.70일 가능성이 가장 크다. (정확도 중간)\n",
    "* (D): 모수값이 0.725일 가능성이 가장 크다. (정확도 높음)\n",
    "\n",
    "베타 분포의 기댓값, 최빈값, 분산은 각각 다음과 같다.\n",
    "\n",
    "\n",
    "* 기댓값\n",
    "\n",
    "$$E[x] = \\dfrac{a}{a+b}$$\n",
    "\n",
    "\n",
    "* 최빈값\n",
    "$$\\dfrac{a - 1}{a+b - 2}$$\n",
    "\n",
    "\n",
    "* 분산\n",
    "$$\\text{Var}[x] = \\dfrac{ab}{(a+b)^2(a+b+1)}$$\n"
   ]
  },
  {
   "cell_type": "markdown",
   "metadata": {},
   "source": [
    "**베타에 대해서는 pdf, 각 모멘트를 외우도록 한다.**"
   ]
  },
  {
   "cell_type": "markdown",
   "metadata": {},
   "source": [
    "베타함수는 Bayesian Inference에서 유용하게 사용된다."
   ]
  },
  {
   "cell_type": "markdown",
   "metadata": {},
   "source": [
    "# 감마 분포\n",
    "\n",
    "감마 분포(Gamma distribution)도 베타 분포(Beta distribution)처럼 모수의 베이지안 추정에 사용된다. 다만 베타 분포가 0부터 1사이의 값을 가지는 모수를 베이지안 방법으로 추정하는데 사용되는 것과 달리 감마 분포는 0부터 무한대의 값을 가지는 양수 값을 추정하는데 사용된다.\n",
    "\n",
    "[[school_notebook:70a372b9c14a4e8d9d49737f0b5a3c97]]\n",
    "\n",
    "감마 분포의 확률 밀도 함수는 a와 b라는 두 개의 모수(parameter)를 가지며 수학적으로 다음과 같이 정의된다.\n",
    "\n",
    "$$ \\text{Gam}(x;a,b) = \\frac{1}{\\Gamma(a)} b^a x^{a-1}e^{-bx} $$\n",
    "\n",
    "이 식에서\n",
    "\n",
    "$$ \\Gamma(a) = \\int_0^\\infty  x^{a-1} e^{-x}\\, dx $$\n",
    "\n",
    "감마 분포의 확률 밀도 함수는 모수 $a$, $b$의 값에 따라 다음과 같은 형상을 가진다.\n",
    "\n",
    "SciPy의 stats 서브패키지에서 제공하는 `gamma` 클래스는 모수 $b=1$로 고정되어 $a$ 값만 설정할 수 있다. $b$를 바꾸려면 $x$값 스케일과 계수를 수동으로 설정하여야 한다."
   ]
  },
  {
   "cell_type": "code",
   "execution_count": 284,
   "metadata": {},
   "outputs": [
    {
     "data": {
      "image/png": "[encoded data removed]",
      "text/plain": [
       "<matplotlib.figure.Figure at 0x1af59124b38>"
      ]
     },
     "metadata": {},
     "output_type": "display_data"
    }
   ],
   "source": [
    "from scipy.stats import gamma\n",
    "\n",
    "xx = np.linspace(0, 10, 100)\n",
    "plt.subplot(221)\n",
    "plt.plot(xx, scipy.stats.gamma(9).pdf(xx))\n",
    "plt.ylim(0, 0.4)\n",
    "plt.title(\"(A) a=9, b=1, mode=8\")\n",
    "plt.subplot(222)\n",
    "plt.plot(xx, scipy.stats.gamma(6).pdf(xx))\n",
    "plt.ylim(0, 0.4)\n",
    "plt.title(\"(B) a=6, b=1, mode=5\")\n",
    "plt.subplot(223)\n",
    "plt.plot(xx, scipy.stats.gamma(3).pdf(xx))\n",
    "plt.ylim(0, 0.4)\n",
    "plt.title(\"(C) a=3, b=1, mode=2\")\n",
    "plt.subplot(224)\n",
    "plt.plot(xx, scipy.stats.gamma(2).pdf(xx))\n",
    "plt.ylim(0, 0.4)\n",
    "plt.title(\"(D) a=2, b=1, mode=1\")\n",
    "plt.tight_layout()\n",
    "plt.show()"
   ]
  },
  {
   "cell_type": "markdown",
   "metadata": {},
   "source": [
    "위 그림이 베이지안 추정 결과라면 각각은 모수에 대해 다음과 같이 추정한 것과 같다.\n",
    "\n",
    "* (A): 모수값이 8일 가능성이 가장 크다. (정확도 아주 낮음)\n",
    "* (B): 모수값이 5일 가능성이 가장 크다. (정확도 낮음)\n",
    "* (C): 모수값이 2일 가능성이 가장 크다. (정확도 높음)\n",
    "* (D): 모수값이 1일 가능성이 가장 크다. (정확도 아주 높음)\n",
    "\n",
    "\n",
    "\n",
    "감마 분포의 기댓값, 최빈값, 분산은 각각 다음과 같다.\n",
    "\n",
    "\n",
    "\n",
    "* 기댓값\n",
    "$$ \\text{E}[X] = \\dfrac{a}{b}$$\n",
    "\n",
    "* 최빈값\n",
    "$$ \\dfrac{a-1}{b}$$\n",
    "\n",
    "\n",
    "* 분산\n",
    "$$\\text{Var}[X] = \\dfrac{a}{b^2}$$\n"
   ]
  },
  {
   "cell_type": "markdown",
   "metadata": {},
   "source": [
    "# 카테고리 분포\n",
    "\n",
    "카테고리 분포(Categorical distribution)는 베르누이 분포의 확장판이다. 베르누이 분포는 0 이나 1(또는 -1 이나 1)이 나오는 확률 변수의 분포였다. 카케고리 분포는 1부터 K까지의 $K$개의 정수 값 중 하나가 나오는 확률 변수의 분포이다. 따라서 주사위를 던져 나오는 눈금의 수를 확률 변수라고 한다면 이 확률 변수의 분포는 $K=6$인 카테고리 분포이다.\n",
    "\n",
    "카테고리 분포의 모수 $\\theta$ 는 베르누이 분포와 달리 다음과 같은 제약 조건을 가지는 벡터값이 된다.\n",
    "\n",
    "$$ \\theta = ( \\theta_1, \\cdots , \\theta_K ) $$\n",
    "\n",
    "$$ 0 \\leq \\theta_i \\leq 1 $$\n",
    "\n",
    "$$ \\sum_{k=1}^K \\theta_k = 1 $$\n",
    "\n",
    "카테고리 분포는 원래 단일 변수 확률 분포이지만 일반적으로는 0 또는 1 값만 가지는 $K$개 베르누이 분포 벡터를 가지는 다변수 확률 분포로 가정하여 사용한다. 다만 이 경우 다변수 확률 변수의 각 원소 중 하나만 1이 될 수 있다는 제약 조건을 가진다. \n",
    "\n",
    "이를 수식으로 나타내면 다음과 같다. 카테고리 분포는 $\\text{Cat}(x;\\theta)$로 표기한다.\n",
    "\n",
    "$$ \\text{Cat}(x;\\theta) = \\prod_{k=1}^K \\theta_k^{x_k} $$\n",
    "\n",
    "이 식에서 $x = k $일때 $x_{j=k} = 1$ 이고 $x_{j\\neq k} = 0 $ 이다.\n",
    "\n",
    "카테고리 분포의 기댓값과 분산은 다음과 같다.\n",
    "\n",
    "* 기댓값\n",
    "$$\\text{E}[x_k] = \\theta_k$$\n",
    "\n",
    "* 분산\n",
    "$$\\text{Var}[x_k] = \\theta_k(1-\\theta_k)$$\n",
    "\n",
    "SciPy는 카테고리 분포를 위한 별도의 클래스나 명령어를 제공하지 않는다. 다만 NumPy의 random 서브패키지의 `multinomial` 명령에서 `n` 인수를 1로 설정하고 `pvals`에 모수 벡터 $\\theta$를 설정하면 1부터 `len(pvals)`까지의 카테고리 분포를 따르는 데이터 샘플을 생성할 수 있다."
   ]
  },
  {
   "cell_type": "code",
   "execution_count": 285,
   "metadata": {},
   "outputs": [
    {
     "data": {
      "text/plain": [
       "array([[0, 0, 0, 0, 0, 1],\n",
       "       [0, 0, 1, 0, 0, 0],\n",
       "       [1, 0, 0, 0, 0, 0],\n",
       "       [0, 0, 0, 0, 1, 0],\n",
       "       [0, 0, 0, 1, 0, 0],\n",
       "       [0, 1, 0, 0, 0, 0],\n",
       "       [1, 0, 0, 0, 0, 0],\n",
       "       [0, 0, 1, 0, 0, 0],\n",
       "       [0, 0, 0, 1, 0, 0],\n",
       "       [0, 0, 0, 1, 0, 0],\n",
       "       [0, 0, 0, 0, 1, 0],\n",
       "       [0, 1, 0, 0, 0, 0],\n",
       "       [0, 0, 0, 1, 0, 0],\n",
       "       [0, 0, 0, 0, 0, 1],\n",
       "       [0, 0, 0, 0, 1, 0],\n",
       "       [0, 0, 0, 0, 0, 1],\n",
       "       [0, 0, 0, 0, 1, 0],\n",
       "       [0, 0, 0, 1, 0, 0],\n",
       "       [0, 1, 0, 0, 0, 0],\n",
       "       [0, 1, 0, 0, 0, 0]])"
      ]
     },
     "execution_count": 285,
     "metadata": {},
     "output_type": "execute_result"
    }
   ],
   "source": [
    "np.random.seed(0)\n",
    "theta = np.array([1/6]*6)\n",
    "X = np.random.multinomial(1, theta, size=20)\n",
    "X"
   ]
  },
  {
   "cell_type": "code",
   "execution_count": 286,
   "metadata": {},
   "outputs": [
    {
     "data": {
      "image/png": "[encoded data removed]",
      "text/plain": [
       "<matplotlib.figure.Figure at 0x1af59164b38>"
      ]
     },
     "metadata": {},
     "output_type": "display_data"
    }
   ],
   "source": [
    "plt.bar(np.arange(1, 7), X.sum(axis=0), align=\"center\")\n",
    "plt.show()"
   ]
  },
  {
   "cell_type": "code",
   "execution_count": 287,
   "metadata": {},
   "outputs": [
    {
     "data": {
      "text/html": [
       "<div>\n",
       "<style>\n",
       "    .dataframe thead tr:only-child th {\n",
       "        text-align: right;\n",
       "    }\n",
       "\n",
       "    .dataframe thead th {\n",
       "        text-align: left;\n",
       "    }\n",
       "\n",
       "    .dataframe tbody tr th {\n",
       "        vertical-align: top;\n",
       "    }\n",
       "</style>\n",
       "<table border=\"1\" class=\"dataframe\">\n",
       "  <thead>\n",
       "    <tr style=\"text-align: right;\">\n",
       "      <th></th>\n",
       "      <th>value</th>\n",
       "      <th>type</th>\n",
       "      <th>ratio</th>\n",
       "    </tr>\n",
       "  </thead>\n",
       "  <tbody>\n",
       "    <tr>\n",
       "      <th>0</th>\n",
       "      <td>0</td>\n",
       "      <td>simulation</td>\n",
       "      <td>0.100000</td>\n",
       "    </tr>\n",
       "    <tr>\n",
       "      <th>1</th>\n",
       "      <td>0</td>\n",
       "      <td>theoretic</td>\n",
       "      <td>0.166667</td>\n",
       "    </tr>\n",
       "    <tr>\n",
       "      <th>2</th>\n",
       "      <td>1</td>\n",
       "      <td>simulation</td>\n",
       "      <td>0.200000</td>\n",
       "    </tr>\n",
       "    <tr>\n",
       "      <th>3</th>\n",
       "      <td>1</td>\n",
       "      <td>theoretic</td>\n",
       "      <td>0.166667</td>\n",
       "    </tr>\n",
       "    <tr>\n",
       "      <th>4</th>\n",
       "      <td>2</td>\n",
       "      <td>simulation</td>\n",
       "      <td>0.100000</td>\n",
       "    </tr>\n",
       "  </tbody>\n",
       "</table>\n",
       "</div>"
      ],
      "text/plain": [
       "   value        type     ratio\n",
       "0      0  simulation  0.100000\n",
       "1      0   theoretic  0.166667\n",
       "2      1  simulation  0.200000\n",
       "3      1   theoretic  0.166667\n",
       "4      2  simulation  0.100000"
      ]
     },
     "execution_count": 287,
     "metadata": {},
     "output_type": "execute_result"
    }
   ],
   "source": [
    "df = pd.DataFrame({\"theoretic\": theta, \"simulation\": X.mean(axis=0)}).stack()\n",
    "df = df.reset_index()\n",
    "df.columns = [\"value\", \"type\", \"ratio\"]\n",
    "df.head()"
   ]
  },
  {
   "cell_type": "code",
   "execution_count": 289,
   "metadata": {},
   "outputs": [
    {
     "data": {
      "image/png": "[encoded data removed]",
      "text/plain": [
       "<matplotlib.figure.Figure at 0x1af59574908>"
      ]
     },
     "metadata": {},
     "output_type": "display_data"
    }
   ],
   "source": [
    "import seaborn as sns\n",
    "\n",
    "sns.barplot(x=\"value\", y=\"ratio\", hue=\"type\", data=df)\n",
    "plt.show()"
   ]
  },
  {
   "cell_type": "markdown",
   "metadata": {},
   "source": [
    "$\\theta$를 다른 값으로 실행해보자"
   ]
  },
  {
   "cell_type": "code",
   "execution_count": 290,
   "metadata": {},
   "outputs": [
    {
     "data": {
      "text/plain": [
       "array([[0, 0, 0, 0, 0, 1],\n",
       "       [0, 0, 0, 1, 0, 0],\n",
       "       [0, 0, 0, 0, 1, 0],\n",
       "       [0, 0, 0, 1, 0, 0],\n",
       "       [0, 0, 1, 0, 0, 0],\n",
       "       [0, 0, 0, 0, 1, 0],\n",
       "       [0, 0, 0, 0, 0, 1],\n",
       "       [0, 0, 0, 0, 1, 0],\n",
       "       [0, 0, 1, 0, 0, 0],\n",
       "       [0, 0, 0, 0, 0, 1],\n",
       "       [0, 0, 0, 0, 0, 1],\n",
       "       [0, 0, 0, 1, 0, 0],\n",
       "       [0, 0, 0, 0, 0, 1],\n",
       "       [0, 0, 0, 0, 1, 0],\n",
       "       [0, 0, 0, 1, 0, 0],\n",
       "       [0, 0, 0, 1, 0, 0],\n",
       "       [0, 0, 0, 0, 0, 1],\n",
       "       [0, 0, 0, 0, 0, 1],\n",
       "       [0, 0, 0, 0, 0, 1],\n",
       "       [0, 0, 0, 1, 0, 0]])"
      ]
     },
     "execution_count": 290,
     "metadata": {},
     "output_type": "execute_result"
    }
   ],
   "source": [
    "np.random.seed(0)\n",
    "theta = np.array([0, 0, 0.1, 0.2, 0.3, 0.4])\n",
    "X = np.random.multinomial(1, theta, size=20)\n",
    "X"
   ]
  },
  {
   "cell_type": "code",
   "execution_count": 291,
   "metadata": {},
   "outputs": [
    {
     "data": {
      "image/png": "[encoded data removed]",
      "text/plain": [
       "<matplotlib.figure.Figure at 0x1af596c48d0>"
      ]
     },
     "metadata": {},
     "output_type": "display_data"
    }
   ],
   "source": [
    "plt.bar(np.arange(1, 7), X.sum(axis=0), align=\"center\")\n",
    "plt.show()"
   ]
  },
  {
   "cell_type": "code",
   "execution_count": 292,
   "metadata": {},
   "outputs": [
    {
     "data": {
      "text/html": [
       "<div>\n",
       "<style>\n",
       "    .dataframe thead tr:only-child th {\n",
       "        text-align: right;\n",
       "    }\n",
       "\n",
       "    .dataframe thead th {\n",
       "        text-align: left;\n",
       "    }\n",
       "\n",
       "    .dataframe tbody tr th {\n",
       "        vertical-align: top;\n",
       "    }\n",
       "</style>\n",
       "<table border=\"1\" class=\"dataframe\">\n",
       "  <thead>\n",
       "    <tr style=\"text-align: right;\">\n",
       "      <th></th>\n",
       "      <th>value</th>\n",
       "      <th>type</th>\n",
       "      <th>ratio</th>\n",
       "    </tr>\n",
       "  </thead>\n",
       "  <tbody>\n",
       "    <tr>\n",
       "      <th>0</th>\n",
       "      <td>0</td>\n",
       "      <td>simulation</td>\n",
       "      <td>0.0</td>\n",
       "    </tr>\n",
       "    <tr>\n",
       "      <th>1</th>\n",
       "      <td>0</td>\n",
       "      <td>theoretic</td>\n",
       "      <td>0.0</td>\n",
       "    </tr>\n",
       "    <tr>\n",
       "      <th>2</th>\n",
       "      <td>1</td>\n",
       "      <td>simulation</td>\n",
       "      <td>0.0</td>\n",
       "    </tr>\n",
       "    <tr>\n",
       "      <th>3</th>\n",
       "      <td>1</td>\n",
       "      <td>theoretic</td>\n",
       "      <td>0.0</td>\n",
       "    </tr>\n",
       "    <tr>\n",
       "      <th>4</th>\n",
       "      <td>2</td>\n",
       "      <td>simulation</td>\n",
       "      <td>0.1</td>\n",
       "    </tr>\n",
       "  </tbody>\n",
       "</table>\n",
       "</div>"
      ],
      "text/plain": [
       "   value        type  ratio\n",
       "0      0  simulation    0.0\n",
       "1      0   theoretic    0.0\n",
       "2      1  simulation    0.0\n",
       "3      1   theoretic    0.0\n",
       "4      2  simulation    0.1"
      ]
     },
     "execution_count": 292,
     "metadata": {},
     "output_type": "execute_result"
    }
   ],
   "source": [
    "df = pd.DataFrame({\"theoretic\": theta, \"simulation\": X.mean(axis=0)}).stack()\n",
    "df = df.reset_index()\n",
    "df.columns = [\"value\", \"type\", \"ratio\"]\n",
    "df.head()"
   ]
  },
  {
   "cell_type": "code",
   "execution_count": 293,
   "metadata": {},
   "outputs": [
    {
     "data": {
      "image/png": "[encoded data removed]",
      "text/plain": [
       "<matplotlib.figure.Figure at 0x1af59695a58>"
      ]
     },
     "metadata": {},
     "output_type": "display_data"
    }
   ],
   "source": [
    "sns.barplot(x=\"value\", y=\"ratio\", hue=\"type\", data=df)\n",
    "plt.show()"
   ]
  },
  {
   "cell_type": "markdown",
   "metadata": {},
   "source": [
    "# 다항 분포\n",
    "\n",
    "베르누이 시도를 여러번 하여 얻은 총 성공 횟수 합이 이항 분포를 이루는 것처럼 독립적인 카테고리 분포를 여러번 시도하여 얻은 각 원소의 성공횟수 값은 다항 분포(Multinomial distribution)을 이룬다.\n",
    "\n",
    "다항 분포는 확률 모수가 $\\theta = (\\theta_1, \\cdots, \\theta_K)$인 독립적인 카테고리 시도를 $N$번 반복해서 $k$가 각각 $x_k$번 나올 확률 즉, 벡터 $x = (x_1, \\cdots, x_K)$가 나올 확률 분포를 말한다. $\\text{Mu}(x;N,\\theta) $와 같이 표기하며 다음과 같은 수식을 따른다.\n",
    "\n",
    "$$ \\text{Mu}(x;N,\\theta) = \\binom N x  \\prod_{k=1}^K \\theta_k^{x_k} = \\binom N {x_1, \\cdots, x_K} \\prod_{k=1}^K \\theta_k^{x_k} $$\n",
    "\n",
    "이 식에서 \n",
    "$$ \\binom N {x_1, \\cdots, x_K} = \\dfrac{N!}{x_1! \\cdots x_K!} $$\n",
    "\n",
    "다항 분포의 기댓값과 분산은 다음과 같다.\n",
    "\n",
    "* 기댓값\n",
    "$$\\text{E}[x_k] = N\\theta_k$$\n",
    "\n",
    "* 분산\n",
    "$$\\text{Var}[x_k] = N\\theta_k(1-\\theta_k)$$\n",
    "\n",
    "SciPy는 다항 분포를 위한 별도의 클래스나 명령어를 제공하지 않고 NumPy의 random 서브패키지에서 다항 분포 샘플 생성을 하는  `multinomial` 명령어를 지원한다.\n",
    "\n",
    "`n` 인수는 시행 횟수 $N$을 설정하고 `pvals`에 모수 벡터 $\\theta$를 설정한다."
   ]
  },
  {
   "cell_type": "code",
   "execution_count": 304,
   "metadata": {},
   "outputs": [
    {
     "data": {
      "text/plain": [
       "array([[ 0,  0,  3,  6,  9, 12],\n",
       "       [ 0,  0,  5,  9,  6, 10],\n",
       "       [ 0,  0,  3,  9,  5, 13],\n",
       "       [ 0,  0,  5,  7, 10,  8],\n",
       "       [ 0,  0,  3,  8,  6, 13]])"
      ]
     },
     "execution_count": 304,
     "metadata": {},
     "output_type": "execute_result"
    }
   ],
   "source": [
    "np.random.seed(0)\n",
    "N = 30\n",
    "theta = np.array([0, 0, 0.1, 0.2, 0.3, 0.4])\n",
    "X = np.random.multinomial(N, theta, size=100)\n",
    "X[:5]"
   ]
  },
  {
   "cell_type": "code",
   "execution_count": 300,
   "metadata": {},
   "outputs": [
    {
     "data": {
      "image/png": "[encoded data removed]",
      "text/plain": [
       "<matplotlib.figure.Figure at 0x1af5907db00>"
      ]
     },
     "metadata": {},
     "output_type": "display_data"
    }
   ],
   "source": [
    "plt.boxplot(X)\n",
    "plt.show()"
   ]
  },
  {
   "cell_type": "code",
   "execution_count": 296,
   "metadata": {},
   "outputs": [
    {
     "data": {
      "text/html": [
       "<div>\n",
       "<style>\n",
       "    .dataframe thead tr:only-child th {\n",
       "        text-align: right;\n",
       "    }\n",
       "\n",
       "    .dataframe thead th {\n",
       "        text-align: left;\n",
       "    }\n",
       "\n",
       "    .dataframe tbody tr th {\n",
       "        vertical-align: top;\n",
       "    }\n",
       "</style>\n",
       "<table border=\"1\" class=\"dataframe\">\n",
       "  <thead>\n",
       "    <tr style=\"text-align: right;\">\n",
       "      <th></th>\n",
       "      <th>trial</th>\n",
       "      <th>class</th>\n",
       "      <th>binomial</th>\n",
       "    </tr>\n",
       "  </thead>\n",
       "  <tbody>\n",
       "    <tr>\n",
       "      <th>0</th>\n",
       "      <td>0</td>\n",
       "      <td>0</td>\n",
       "      <td>0</td>\n",
       "    </tr>\n",
       "    <tr>\n",
       "      <th>1</th>\n",
       "      <td>0</td>\n",
       "      <td>1</td>\n",
       "      <td>0</td>\n",
       "    </tr>\n",
       "    <tr>\n",
       "      <th>2</th>\n",
       "      <td>0</td>\n",
       "      <td>2</td>\n",
       "      <td>3</td>\n",
       "    </tr>\n",
       "    <tr>\n",
       "      <th>3</th>\n",
       "      <td>0</td>\n",
       "      <td>3</td>\n",
       "      <td>6</td>\n",
       "    </tr>\n",
       "    <tr>\n",
       "      <th>4</th>\n",
       "      <td>0</td>\n",
       "      <td>4</td>\n",
       "      <td>9</td>\n",
       "    </tr>\n",
       "  </tbody>\n",
       "</table>\n",
       "</div>"
      ],
      "text/plain": [
       "   trial  class  binomial\n",
       "0      0      0         0\n",
       "1      0      1         0\n",
       "2      0      2         3\n",
       "3      0      3         6\n",
       "4      0      4         9"
      ]
     },
     "execution_count": 296,
     "metadata": {},
     "output_type": "execute_result"
    }
   ],
   "source": [
    "df = pd.DataFrame(X).stack().reset_index()\n",
    "df.columns = [\"trial\", \"class\", \"binomial\"]\n",
    "df.head()"
   ]
  },
  {
   "cell_type": "code",
   "execution_count": 297,
   "metadata": {},
   "outputs": [
    {
     "data": {
      "image/png": "[encoded data removed]",
      "text/plain": [
       "<matplotlib.figure.Figure at 0x1af5969c4e0>"
      ]
     },
     "metadata": {},
     "output_type": "display_data"
    }
   ],
   "source": [
    "sns.boxplot(x=\"class\", y=\"binomial\", data=df)\n",
    "sns.stripplot(x=\"class\", y=\"binomial\", data=df, jitter=True, color=\".3\")\n",
    "plt.show()"
   ]
  },
  {
   "cell_type": "code",
   "execution_count": 298,
   "metadata": {},
   "outputs": [
    {
     "data": {
      "image/png": "[encoded data removed]",
      "text/plain": [
       "<matplotlib.figure.Figure at 0x1af592b8668>"
      ]
     },
     "metadata": {},
     "output_type": "display_data"
    }
   ],
   "source": [
    "sns.violinplot(x=\"class\", y=\"binomial\", data=df, inner=\"quartile\")\n",
    "sns.stripplot(x=\"class\", y=\"binomial\", data=df, jitter=True, color=\".3\")\n",
    "plt.show()"
   ]
  },
  {
   "cell_type": "markdown",
   "metadata": {},
   "source": [
    "# 디리클레 분포\n",
    "\n",
    "디리클레 분포(Dirichlet distribution)는 베타 분포의 확장판이라고 할 수 있다. 베타 분포는 0과 1사이의 값을 가지는 단일(univariate) 확률 변수의 베이지안 모형에 사용되고 디리클레 분포는 0과 1사이의 사이의 값을 가지는 다변수(multivariate) 확률 변수의 베이지안 모형에 사용된다. 다만 디리클레 분포틑 다변수 확률 변수들의 합이 1이되어야 한다는 제한 조건을 가진다.\n",
    "\n",
    "즉 $K=3$인 디리클레 분포를 따르는 확률 변수는 다음과 같은 값들을 샘플로 가질 수 있다.\n",
    "\n",
    "$$(1, 0, 0)$$\n",
    "$$(0.5, 0.5, 0)$$\n",
    "$$(0.2, 0.3, 0.5)$$\n",
    "\n",
    "디리클레 분포의 확률 밀도 함수는 다음과 같다.\n",
    "\n",
    "$$ f(x_1, x_2, \\cdots, x_K; \\alpha, \\beta) = \\frac{1}{\\mathrm{B}(\\boldsymbol\\alpha)} \\prod_{i=1}^K x_i^{\\alpha_i - 1} $$\n",
    "여기에서 \n",
    "$$ \\mathrm{B}(\\boldsymbol\\alpha) = \\frac{\\prod_{i=1}^K \\Gamma(\\alpha_i)} {\\Gamma\\bigl(\\sum_{i=1}^K \\alpha_i\\bigr)} $$\n",
    "이고 다음과 같은 제한 조건이 있다.\n",
    "$$  \\sum_{i=1}^{K} x_i = 1 $$\n",
    "\n",
    "이 식에서 $\\boldsymbol\\alpha =  (\\alpha_1, \\alpha_2, \\ldots, \\alpha_K)$는 디리클레 분포의 모수 벡터이다.\n",
    "\n",
    "## 베타 분포와 디리클레 분포의 관계\n",
    "\n",
    "베타 분포는 $K=2$ 인 디리클레 분포라고 볼 수 있다.\n",
    "\n",
    "즉 $x_1 = x$, $x_2 = 1 - x$, $\\alpha_1 = a$, $\\alpha_2 = b$ 로 하면 \n",
    "\n",
    "$$ \n",
    "\\begin{eqnarray}\n",
    "\\text{Beta}(x;a,b) \n",
    "&=& \\frac{\\Gamma(a+b)}{\\Gamma(a)\\Gamma(b)}\\, x^{a-1}(1-x)^{b-1} \\\\\n",
    "&=& \\frac{\\Gamma(\\alpha_1+\\alpha_2)}{\\Gamma(\\alpha_1)\\Gamma(\\alpha_2)}\\,  x_1^{\\alpha_1 - 1} x_2^{\\alpha_2 - 1} \\\\\n",
    "&=& \\frac{1}{\\mathrm{B}(\\alpha_1, \\alpha_2)} \\prod_{i=1}^2 x_i^{\\alpha_i - 1}\n",
    "\\end{eqnarray}\n",
    "$$\n",
    "\n",
    "\n",
    "\n",
    "## 디리클레 분포의 모멘트 특성\n",
    "\n",
    "디리클레 분포의 기댓값, 모드, 분산은 다음과 같다.\n",
    "\n",
    "* 기댓값\n",
    "$$E[x_k] = \\dfrac{\\alpha_k}{\\alpha}$$\n",
    "여기에서\n",
    "$$\\alpha=\\sum\\alpha_k$$\n",
    "\n",
    "* 모드\n",
    "$$ \\dfrac{\\alpha_k - 1}{\\alpha - K}$$\n",
    "\n",
    "* 분산\n",
    "$$\\text{Var}[x_k] =\\dfrac{\\alpha_k(\\alpha - \\alpha_k)}{\\alpha^2(\\alpha + 1)}$$\n",
    "\n",
    "기댓값 공식을 보면 모수인 $\\boldsymbol\\alpha = (\\alpha_1, \\alpha_2, \\ldots, \\alpha_K)$는 $(x_1, x_2, \\ldots, x_K$ 중 어느 수가 더 크게 나올 가능성이 높은지를 결정하는 형상 인자(shape factor)임을 알 수 있다. 모든 $\\alpha_i$값이 동일하면 모든 $x_i$의 분포가 같아진다. \n",
    "\n",
    "또한 분산 공식을 보면 $\\boldsymbol\\alpha$의 절대값이 클수록 분산이 작아진다. 즉, 어떤 특정한 값이 나올 가능성이 높아진다.\n"
   ]
  },
  {
   "cell_type": "markdown",
   "metadata": {},
   "source": [
    "# 선형대수와 해석기하\n",
    "\n",
    "### 중요 개념\n",
    "\n",
    "* 벡터 화살표\n",
    "* 벡터의 길이, 단위 벡터\n",
    "* 벡터의 합과 차\n",
    "* 벡터의 분해와 성분\n",
    "* 두 벡터 사이의 각도과 직교\n",
    "* 벡터의 투영\n",
    "* 직선의 방정식\n",
    "* 직선과 점의 거리\n",
    "* 벡터의 선형 종속과 선형 독립\n",
    "* 기저 벡터\n",
    "* 좌표와 좌표 변환\n",
    "\n",
    "## 벡터의 기하학적 의미\n",
    "\n",
    "$N$차원 벡터(vector) $a$는 $N$차원의 공간상에서 \n",
    "\n",
    "* 벡터 $a$의 값으로 표시되는 점(point) 또는\n",
    "* 원점과 벡터 $a$의 값으로 표시되는 점을 연결한 화살표(arrow)로 간주할 수 있다. \n",
    "\n",
    "예를 들어 2차원 벡터 $a = [a_1 \\;\\; a_2]^T$ 는 2차원 상의 공간에서 $x$좌표가 $a_1$, $y$좌표가 $a_2$인 점, 또는 원점에서 이 점을 가리키는 화살표가 된다. \n",
    "\n",
    "$$ a = \\begin{bmatrix}1 \\\\ 2 \\end{bmatrix} $$"
   ]
  },
  {
   "cell_type": "code",
   "execution_count": null,
   "metadata": {
    "collapsed": true
   },
   "outputs": [],
   "source": []
  }
 ],
 "metadata": {
  "kernelspec": {
   "display_name": "Python 3",
   "language": "python",
   "name": "python3"
  },
  "language_info": {
   "codemirror_mode": {
    "name": "ipython",
    "version": 3
   },
   "file_extension": ".py",
   "mimetype": "text/x-python",
   "name": "python",
   "nbconvert_exporter": "python",
   "pygments_lexer": "ipython3",
   "version": "3.6.1"
  }
 },
 "nbformat": 4,
 "nbformat_minor": 2
}
