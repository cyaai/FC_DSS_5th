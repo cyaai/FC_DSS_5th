{
 "cells": [
  {
   "cell_type": "markdown",
   "metadata": {},
   "source": [
    "# Day 12"
   ]
  },
  {
   "cell_type": "markdown",
   "metadata": {},
   "source": [
    "# Redis\n",
    "\n",
    "* Tutorial 참고: http://try.redis.io/\n",
    "\n",
    "데이터를 메모리에 올려 빠른 접근이 가능하다. 단, 메모리를 사용하므로 영구적인 기록저장목적으로 사용하지 않으며 효율적인 자원운용을 위해 사용한다.\n",
    "\n",
    "ex: 웹서버에서 url호출 시 메모리에 저장한 뒤에 동일 url요청이오면 바로 보낼 수 있다는 이점이 있다. 그러나 웹페이지가 업데이트 되기 때문에 일정 시간이 지난 후에는 새로 올려야 한다.\n",
    "\n",
    "* L: list\n",
    "* S: set\n",
    "* z: ordered set\n",
    "* H: dict"
   ]
  },
  {
   "cell_type": "code",
   "execution_count": null,
   "metadata": {
    "collapsed": true
   },
   "outputs": [],
   "source": []
  }
 ],
 "metadata": {
  "kernelspec": {
   "display_name": "Python 3",
   "language": "python",
   "name": "python3"
  },
  "language_info": {
   "codemirror_mode": {
    "name": "ipython",
    "version": 3
   },
   "file_extension": ".py",
   "mimetype": "text/x-python",
   "name": "python",
   "nbconvert_exporter": "python",
   "pygments_lexer": "ipython3",
   "version": "3.6.1"
  }
 },
 "nbformat": 4,
 "nbformat_minor": 2
}
