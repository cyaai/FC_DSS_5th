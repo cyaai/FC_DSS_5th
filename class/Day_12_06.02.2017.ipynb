{
 "cells": [
  {
   "cell_type": "markdown",
   "metadata": {},
   "source": [
    "# Day 12"
   ]
  },
  {
   "cell_type": "markdown",
   "metadata": {},
   "source": [
    "# Redis\n",
    "\n",
    "* Tutorial 참고: http://try.redis.io/\n",
    "\n",
    "데이터를 메모리에 올려 빠른 접근이 가능하다. 단, 메모리를 사용하므로 영구적인 기록저장목적으로 사용하지 않으며 효율적인 자원운용을 위해 사용한다.\n",
    "\n",
    "ex: 웹서버에서 url호출 시 메모리에 저장한 뒤에 동일 url요청이오면 바로 보낼 수 있다는 이점이 있다. 그러나 웹페이지가 업데이트 되기 때문에 일정 시간이 지난 후에는 새로 올려야 한다.\n",
    "\n",
    "* L: list\n",
    "* S: set\n",
    "* z: ordered set\n",
    "* H: dict"
   ]
  },
  {
   "cell_type": "markdown",
   "metadata": {},
   "source": [
    "# Mongo DB\n",
    "\n",
    "Mongo DB는 JSON문서 저장소로 생각하면 된다. Python의 Dictionary와 유사한 형식이며 key값으로는 문자열만 받는다. key에 대해서는 quotation mark를 생략할 수 있다.\n",
    "\n",
    "DB에 넣으려면 schema에 맞추어서 넣어야 하나 MongoDB는 원하는 데이터형 그대로 넣을 수 있다. (Schema에 대한 제약이 없다!) 단, 이러한 이유로 join을 할 수 없다는 단점이 있다.\n",
    "\n",
    "NoSQL이 나온 이유는 DB가 커져 컴퓨터 하나에 다 들어가지 않는 상황이 발생했고 join과 transaction의 기능을 포기하는 대신 schema의 제약을 풀고 만들게 됨\n",
    "\n",
    "* Scaling-up: 하드웨어향상을 통해 해결. 그러나 일정 수준 이상에서 cost가 급격하게 증가\n",
    "\n",
    "* Scaling-out: 비싼거 대신 싼거 여러개를 구성.\n",
    "\n",
    "Mongo DB \n",
    "\n",
    "장점:\n",
    "* 사용이 쉽고 구현이 빠르다\n",
    "* 특정 사용 케이스에 대한 성능 향상 및 최적화가 용이\n",
    "* 쉬운 스케일링 아웃\n",
    "\n",
    "단점:\n",
    "* 자료 일관성을 위한 추가적 고려가 필요\n",
    "* 사용 케이스를 확장하기 어려울 수도 있다.\n",
    "\n",
    "적합한 용도:\n",
    "* 스키마가 고정되어 있지 않는 다양한 자료의 집계 작업\n",
    "* 요구조건이 고정되어 있지 않고 수시로 변하는 분석 작업"
   ]
  },
  {
   "cell_type": "markdown",
   "metadata": {},
   "source": [
    "```\n",
    "{\n",
    "    name: ”Joel”,\n",
    "    age: 43,\n",
    "    address:\n",
    "    {\n",
    "        city: ”Seoul”,\n",
    "        street: ”Yeouido”,\n",
    "        zip-number: ”150-977”\n",
    "    }\n",
    "}\n",
    "```"
   ]
  },
  {
   "cell_type": "markdown",
   "metadata": {},
   "source": [
    "위와 같이 필드명 정보를 문서 내부에 가지게 되며 이로인해 메모리사용량이 커지게 된다. 따라서 MongoDB의 경우 key값의 변수이름을 작게해야한다."
   ]
  },
  {
   "cell_type": "markdown",
   "metadata": {},
   "source": [
    "# GPL, AGPL"
   ]
  },
  {
   "cell_type": "markdown",
   "metadata": {},
   "source": [
    "상업용 라이센스로 사용 불능, 포함시 무료배포해야함"
   ]
  },
  {
   "cell_type": "markdown",
   "metadata": {},
   "source": [
    "# LGPL, MIT, Apache"
   ]
  },
  {
   "cell_type": "markdown",
   "metadata": {},
   "source": [
    "상업이용 가능"
   ]
  }
 ],
 "metadata": {
  "kernelspec": {
   "display_name": "Python 3",
   "language": "python",
   "name": "python3"
  },
  "language_info": {
   "codemirror_mode": {
    "name": "ipython",
    "version": 3
   },
   "file_extension": ".py",
   "mimetype": "text/x-python",
   "name": "python",
   "nbconvert_exporter": "python",
   "pygments_lexer": "ipython3",
   "version": "3.6.1"
  }
 },
 "nbformat": 4,
 "nbformat_minor": 2
}
