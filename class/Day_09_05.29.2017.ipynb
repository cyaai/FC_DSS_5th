{
 "cells": [
  {
   "cell_type": "markdown",
   "metadata": {},
   "source": [
    "# Day 09"
   ]
  },
  {
   "cell_type": "markdown",
   "metadata": {},
   "source": [
    "## 기초 개념\n",
    "\n",
    "* Database\n",
    "\n",
    "\n",
    "* DBMS(Database Management System)\n",
    "\n",
    "\n",
    "* DBMS의 종류\n",
    "  * 관계형 데이터베이스 관리 시스템 (RDBMS: Relational Database Management System)\n",
    "    * SQL(Structured Query Language)\n",
    "  * NoSQL DBMS\n",
    "\n",
    "\n",
    "* DBMS의 구조\n",
    "  * 데이터베이스(database)\n",
    "  * 테이블(table)\n",
    "    * 스키마(schema)\n",
    "  * 레코드(record)\n",
    "\n",
    "\n",
    "* SQL\n",
    "  * 생성(Create): INSERT\n",
    "  * 읽기(Read): SELECT\n",
    "  * 갱신(Update): UPDATE\n",
    "  * 삭제(Delete): DELETE\n",
    "\n",
    "\n",
    "* 트랜잭션(Transaction)\n",
    "  * 데이터베이스의 작업 단위\n",
    "  * 커밋(commit)\n",
    "    * 트랜잭션 내용을 적용\n",
    "  * 롤백(rollback)\n",
    "    * 과거의 상태로 되돌림\n",
    "\n",
    "\n",
    "* ACID\n",
    "  * 원자성(Atomicity)\n",
    "    * 작업들이 부분적으로 실행되지 않고 완결되는 것을 보장\n",
    "  * 일관성(Consistency)\n",
    "    * \n",
    "  * Isolation\n",
    "  * Durability\n"
   ]
  },
  {
   "cell_type": "markdown",
   "metadata": {},
   "source": [
    "## PostgreSQL"
   ]
  },
  {
   "cell_type": "markdown",
   "metadata": {},
   "source": [
    "### 가동\n",
    "\n",
    "ssh 프로그램이나 docker attach 명령, 또는 jupyter notebook의 terminal을 이용하여 도커 컨테이너 콘솔로 들어간 뒤\n",
    "\n",
    "```\n",
    "sudo service postgresql start\n",
    "```\n",
    "\n",
    "### 콘솔\n",
    "\n",
    "콘솔에서 데이터베이스르 조작하는 명령은 권한을 가진 `postgres` 라는 계정으로 실행해야 하므로 항상 `sudo -u postgres`를 붙여서 실행한다.\n",
    "\n",
    "* 시작\n",
    "```\n",
    "sudo -u postgres psql\n",
    "```\n",
    "\n",
    "\n",
    "* 종료\n",
    "```\n",
    "postgres=# \\q\n",
    "```\n",
    "\n",
    "\n",
    "* 콘솔 도움말(vi 모드)\n",
    "```\n",
    "postgres=# \\?\n",
    "```\n",
    "\n",
    "\n",
    "* SQL 도움말\n",
    "```\n",
    "postgres=# \\h\n",
    "```\n"
   ]
  },
  {
   "cell_type": "markdown",
   "metadata": {},
   "source": [
    "## 교재\n",
    "\n",
    "* http://www.postgresqltutorial.com/\n",
    "\n",
    "### 샘플 데이터베이스 다운로드\n",
    "\n",
    "```\n",
    "$ wget -O dvdrental.zip http://www.postgresqltutorial.com/download/dvd-rental-sample-database/?wpdmdl=969\n",
    "$ unzip dvdrental.zip\n",
    "```\n",
    "\n",
    "### 샘플 데이터베이스 생성 (bash shell에서)\n",
    "\n",
    "```\n",
    "$ sudo -u postgres createdb dvdrental\n",
    "\n",
    "$ sudo -u postgres pg_restore -d dvdrental dvdrental.tar\n",
    "\n",
    "$ sudo -u postgres psql\n",
    "psql (9.5.6)\n",
    "Type \"help\" for help.\n",
    "\n",
    "postgres=# \\c dvdrental\n",
    "You are now connected to database \"dvdrental\" as user \"postgres\".\n",
    "\n",
    "dvdrental-# \\dt\n",
    "             List of relations\n",
    " Schema |     Name      | Type  |  Owner\n",
    "--------+---------------+-------+----------\n",
    " public | actor         | table | postgres\n",
    " public | address       | table | postgres\n",
    " public | category      | table | postgres\n",
    " public | city          | table | postgres\n",
    " public | country       | table | postgres\n",
    " public | customer      | table | postgres\n",
    " public | film          | table | postgres\n",
    " public | film_actor    | table | postgres\n",
    " public | film_category | table | postgres\n",
    " public | inventory     | table | postgres\n",
    " public | language      | table | postgres\n",
    " public | payment       | table | postgres\n",
    " public | rental        | table | postgres\n",
    " public | staff         | table | postgres\n",
    " public | store         | table | postgres\n",
    "(15 rows)\n",
    "\n",
    "\n",
    "```"
   ]
  },
  {
   "cell_type": "markdown",
   "metadata": {},
   "source": [
    "## 스키마 확인"
   ]
  },
  {
   "cell_type": "markdown",
   "metadata": {},
   "source": [
    "```\n",
    "dvdrental=# \\d+ customer\n",
    "\n",
    "\n",
    "                                                              Table \"public.customer\"\n",
    "   Column    |            Type             |                           Modifiers                            | Storage  | Stats target | Description\n",
    "-------------+-----------------------------+----------------------------------------------------------------+----------+--------------+-------------\n",
    " customer_id | integer                     | not null default nextval('customer_customer_id_seq'::regclass) | plain    |              |\n",
    " store_id    | smallint                    | not null                                                       | plain    |              |\n",
    " first_name  | character varying(45)       | not null                                                       | extended |              |\n",
    " last_name   | character varying(45)       | not null                                                       | extended |              |\n",
    " email       | character varying(50)       |                                                                | extended |              |\n",
    " address_id  | smallint                    | not null                                                       | plain    |              |\n",
    " activebool  | boolean                     | not null default true                                          | plain    |              |\n",
    " create_date | date                        | not null default ('now'::text)::date                           | plain    |              |\n",
    " last_update | timestamp without time zone | default now()                                                  | plain    |              |\n",
    " active      | integer                     |                                                                | plain    |              |\n",
    "Indexes:\n",
    "    \"customer_pkey\" PRIMARY KEY, btree (customer_id)\n",
    "    \"idx_fk_address_id\" btree (address_id)\n",
    "    \"idx_fk_store_id\" btree (store_id)\n",
    "    \"idx_last_name\" btree (last_name)\n",
    "Foreign-key constraints:\n",
    "    \"customer_address_id_fkey\" FOREIGN KEY (address_id) REFERENCES address(address_id) ON UPDATE CASCADE ON DELETE RESTRICT\n",
    "Referenced by:\n",
    "    TABLE \"payment\" CONSTRAINT \"payment_customer_id_fkey\" FOREIGN KEY (customer_id) REFERENCES customer(customer_id) ON UPDATE CASCADE ON DELETE RESTRICT\n",
    "    TABLE \"rental\" CONSTRAINT \"rental_customer_id_fkey\" FOREIGN KEY (customer_id) REFERENCES customer(customer_id) ON UPDATE CASCADE ON DELETE RESTRICT\n",
    "Triggers:\n",
    "    last_updated BEFORE UPDATE ON customer FOR EACH ROW EXECUTE PROCEDURE last_updated()\n",
    "\n",
    "\n",
    "```"
   ]
  },
  {
   "cell_type": "markdown",
   "metadata": {},
   "source": [
    "```\n",
    "dvdrental=# \\d+ payment\n",
    "\n",
    "\n",
    "                                                              Table \"public.payment\"\n",
    "    Column    |            Type             |                          Modifiers                           | Storage | Stats target | Description\n",
    "--------------+-----------------------------+--------------------------------------------------------------+---------+--------------+-------------\n",
    " payment_id   | integer                     | not null default nextval('payment_payment_id_seq'::regclass) | plain   |              |\n",
    " customer_id  | smallint                    | not null                                                     | plain   |              |\n",
    " staff_id     | smallint                    | not null                                                     | plain   |              |\n",
    " rental_id    | integer                     | not null                                                     | plain   |              |\n",
    " amount       | numeric(5,2)                | not null                                                     | main    |              |\n",
    " payment_date | timestamp without time zone | not null                                                     | plain   |              |\n",
    "Indexes:\n",
    "    \"payment_pkey\" PRIMARY KEY, btree (payment_id)\n",
    "    \"idx_fk_customer_id\" btree (customer_id)\n",
    "    \"idx_fk_rental_id\" btree (rental_id)\n",
    "    \"idx_fk_staff_id\" btree (staff_id)\n",
    "Foreign-key constraints:\n",
    "    \"payment_customer_id_fkey\" FOREIGN KEY (customer_id) REFERENCES customer(customer_id) ON UPDATE CASCADE ON DELETE RESTRICT\n",
    "    \"payment_rental_id_fkey\" FOREIGN KEY (rental_id) REFERENCES rental(rental_id) ON UPDATE CASCADE ON DELETE SET NULL\n",
    "    \"payment_staff_id_fkey\" FOREIGN KEY (staff_id) REFERENCES staff(staff_id) ON UPDATE CASCADE ON DELETE RESTRICT\n",
    "\n",
    "\n",
    "```"
   ]
  },
  {
   "cell_type": "markdown",
   "metadata": {},
   "source": [
    "```\n",
    "dvdrental=# \\d+ staff\n",
    "\n",
    "\n",
    "\n",
    "                                                             Table \"public.staff\"\n",
    "   Column    |            Type             |                        Modifiers                         | Storage  | Stats target | Description\n",
    "-------------+-----------------------------+----------------------------------------------------------+----------+--------------+-------------\n",
    " staff_id    | integer                     | not null default nextval('staff_staff_id_seq'::regclass) | plain    |              |\n",
    " first_name  | character varying(45)       | not null                                                 | extended |              |\n",
    " last_name   | character varying(45)       | not null                                                 | extended |              |\n",
    " address_id  | smallint                    | not null                                                 | plain    |              |\n",
    " email       | character varying(50)       |                                                          | extended |              |\n",
    " store_id    | smallint                    | not null                                                 | plain    |              |\n",
    " active      | boolean                     | not null default true                                    | plain    |              |\n",
    " username    | character varying(16)       | not null                                                 | extended |              |\n",
    " password    | character varying(40)       |                                                          | extended |              |\n",
    " last_update | timestamp without time zone | not null default now()                                   | plain    |              |\n",
    " picture     | bytea                       |                                                          | extended |              |\n",
    "Indexes:\n",
    "    \"staff_pkey\" PRIMARY KEY, btree (staff_id)\n",
    "Foreign-key constraints:\n",
    "    \"staff_address_id_fkey\" FOREIGN KEY (address_id) REFERENCES address(address_id) ON UPDATE CASCADE ON DELETE RESTRICT\n",
    "Referenced by:\n",
    "    TABLE \"payment\" CONSTRAINT \"payment_staff_id_fkey\" FOREIGN KEY (staff_id) REFERENCES staff(staff_id) ON UPDATE CASCADE ON DELETE RESTRICT\n",
    "    TABLE \"rental\" CONSTRAINT \"rental_staff_id_key\" FOREIGN KEY (staff_id) REFERENCES staff(staff_id)\n",
    "    TABLE \"store\" CONSTRAINT \"store_manager_staff_id_fkey\" FOREIGN KEY (manager_staff_id) REFERENCES staff(staff_id) ON UPDATE CASCADE ON DELETE RESTRICT\n",
    "Triggers:\n",
    "    last_updated BEFORE UPDATE ON staff FOR EACH ROW EXECUTE PROCEDURE last_updated()\n",
    "\n",
    "\n",
    "\n",
    "```"
   ]
  },
  {
   "cell_type": "markdown",
   "metadata": {},
   "source": [
    "## SQL SELECT 명령"
   ]
  },
  {
   "cell_type": "markdown",
   "metadata": {},
   "source": [
    "* http://www.postgresqltutorial.com/postgresql-select/"
   ]
  },
  {
   "cell_type": "markdown",
   "metadata": {},
   "source": [
    "```\n",
    "SELECT * FROM customer;\n",
    "```"
   ]
  },
  {
   "cell_type": "markdown",
   "metadata": {},
   "source": [
    "vi 모드에서 나갈 때는 <kbd>ESC</kbd> + <kbd>q</kbd>"
   ]
  },
  {
   "cell_type": "markdown",
   "metadata": {},
   "source": [
    "```\n",
    "SELECT first_name,\n",
    " last_name,\n",
    " email\n",
    "FROM customer;\n",
    "```"
   ]
  },
  {
   "cell_type": "markdown",
   "metadata": {},
   "source": [
    "## SQL WHERE 명령"
   ]
  },
  {
   "cell_type": "markdown",
   "metadata": {},
   "source": [
    "* http://www.postgresqltutorial.com/postgresql-where/\n",
    "\n",
    "```\n",
    "SELECT last_name, first_name\n",
    "FROM customer\n",
    "WHERE first_name = 'Jamie';\n",
    "```\n",
    "\n",
    "```\n",
    "SELECT last_name, first_name\n",
    "FROM customer\n",
    "WHERE first_name = 'Jamie' AND\n",
    " last_name = 'Rice';\n",
    "```\n",
    "\n",
    "```\n",
    "SELECT customer_id,\n",
    " amount,\n",
    " payment_date\n",
    "FROM payment\n",
    "WHERE amount <= 1 OR amount >= 8;\n",
    "```"
   ]
  },
  {
   "cell_type": "markdown",
   "metadata": {},
   "source": [
    "## SQL JOIN"
   ]
  },
  {
   "cell_type": "markdown",
   "metadata": {},
   "source": [
    "* http://www.postgresqltutorial.com/postgresql-inner-join/\n",
    "\n",
    "```\n",
    "SELECT\n",
    " customer.customer_id,\n",
    " first_name,\n",
    " last_name,\n",
    " email,\n",
    " amount,\n",
    " payment_date\n",
    "FROM\n",
    " customer\n",
    "INNER JOIN payment ON payment.customer_id = customer.customer_id;\n",
    "```\n",
    "\n",
    "```\n",
    "SELECT\n",
    " customer.customer_id,\n",
    " first_name,\n",
    " last_name,\n",
    " email,\n",
    " amount,\n",
    " payment_date\n",
    "FROM\n",
    " customer\n",
    "INNER JOIN payment ON payment.customer_id = customer.customer_id\n",
    "ORDER BY\n",
    " customer.customer_id;\n",
    " ```\n",
    "\n",
    "```\n",
    "SELECT\n",
    " customer.customer_id,\n",
    " first_name,\n",
    " last_name,\n",
    " email,\n",
    " amount,\n",
    " payment_date\n",
    "FROM\n",
    " customer\n",
    "INNER JOIN payment ON payment.customer_id = customer.customer_id\n",
    "WHERE\n",
    " customer.customer_id = 2;\n",
    " ```\n",
    "\n",
    "```\n",
    "SELECT\n",
    " customer.customer_id,\n",
    " customer.first_name customer_first_name,\n",
    " customer.last_name customer_last_name,\n",
    " customer.email,\n",
    " staff.first_name staff_first_name,\n",
    " staff.last_name staff_last_name,\n",
    " amount,\n",
    " payment_date\n",
    "FROM\n",
    " customer\n",
    "INNER JOIN payment ON payment.customer_id = customer.customer_id\n",
    "INNER JOIN staff ON payment.staff_id = staff.staff_id;\n",
    "```"
   ]
  },
  {
   "cell_type": "markdown",
   "metadata": {},
   "source": [
    "## SQL GROUPBY 명령"
   ]
  },
  {
   "cell_type": "markdown",
   "metadata": {},
   "source": [
    "* http://www.postgresqltutorial.com/postgresql-group-by/\n",
    "\n",
    "```\n",
    "SELECT\n",
    " customer_id\n",
    "FROM\n",
    " payment\n",
    "GROUP BY\n",
    " customer_id;\n",
    "```\n",
    "\n",
    "```\n",
    "SELECT\n",
    " customer_id,\n",
    " SUM (amount)\n",
    "FROM\n",
    " payment\n",
    "GROUP BY\n",
    " customer_id;\n",
    "```\n",
    "\n",
    "```\n",
    "SELECT\n",
    " customer_id,\n",
    " SUM (amount)\n",
    "FROM\n",
    " payment\n",
    "GROUP BY\n",
    " customer_id\n",
    "ORDER BY\n",
    " SUM (amount) DESC;\n",
    "```\n",
    "\n",
    "```\n",
    "SELECT\n",
    " staff_id,\n",
    " COUNT (payment_id)\n",
    "FROM\n",
    " payment\n",
    "GROUP BY\n",
    " staff_id;\n",
    "```"
   ]
  },
  {
   "cell_type": "markdown",
   "metadata": {},
   "source": [
    "# Pandas 시계열 자료 다루기"
   ]
  },
  {
   "cell_type": "code",
   "execution_count": 7,
   "metadata": {
    "collapsed": true
   },
   "outputs": [],
   "source": [
    "import pandas as pd\n",
    "import numpy as np"
   ]
  },
  {
   "cell_type": "markdown",
   "metadata": {},
   "source": [
    "pandas에서 일반적인 테이블 형태의 자료와 시계열 자료의 차이점은 인덱스(Index)에 있다.\n",
    "\n",
    "일반적인 테이블 형태의 자료는 임의의 값을 인덱스로 가질 수 있지만 시계열 자료는 다음 클래스를 인덱스로 가진다.\n",
    "\n",
    "* DatetimeIndex : 타임스탬프"
   ]
  },
  {
   "cell_type": "markdown",
   "metadata": {},
   "source": [
    "## DatatimeIndex\n",
    "\n",
    "DatetimeIndex는 특정한 순간에 기록된 타임스탬프(timestamp) 형식의 시계열 자료를 다루기 위한 인덱스이다. 타임스탬프 인덱스는 반드시 일정한 간격으로 자료가 있어야 한다는 조건은 없다.\n",
    "\n",
    "DatetimeIndex 타입의 인덱스는 보통 다음 방법으로 생성한다.\n",
    "\n",
    "* pd.to_datetime 함수\n",
    "* pd.date_range 함수"
   ]
  },
  {
   "cell_type": "code",
   "execution_count": 5,
   "metadata": {},
   "outputs": [
    {
     "data": {
      "text/plain": [
       "DatetimeIndex(['2016-01-01', '2016-01-04', '2016-01-05', '2016-01-06'], dtype='datetime64[ns]', freq=None)"
      ]
     },
     "execution_count": 5,
     "metadata": {},
     "output_type": "execute_result"
    }
   ],
   "source": [
    "date_str = [\"2016, 1, 1\", \"2016, 1, 4\", \"2016, 1, 5\", \"2016, 1, 6\"]\n",
    "idx = pd.to_datetime(date_str)\n",
    "idx"
   ]
  },
  {
   "cell_type": "code",
   "execution_count": 8,
   "metadata": {},
   "outputs": [
    {
     "data": {
      "text/plain": [
       "2016-01-01    1.764052\n",
       "2016-01-04    0.400157\n",
       "2016-01-05    0.978738\n",
       "2016-01-06    2.240893\n",
       "dtype: float64"
      ]
     },
     "execution_count": 8,
     "metadata": {},
     "output_type": "execute_result"
    }
   ],
   "source": [
    "np.random.seed(0)\n",
    "s = pd.Series(np.random.randn(4), index=idx)\n",
    "s"
   ]
  },
  {
   "cell_type": "markdown",
   "metadata": {},
   "source": [
    "## date_range\n",
    "\n",
    "* 시작일과 종료일 또는 시작일과 기간을 입력하면 범위 내의 날짜 및 시간 인덱스 생성\n",
    "* freq 인수로 빈도 지정 가능\n",
    "http://pandas.pydata.org/pandas-docs/stable/timeseries.html#dateoffset-objects"
   ]
  },
  {
   "cell_type": "code",
   "execution_count": 10,
   "metadata": {},
   "outputs": [
    {
     "data": {
      "text/plain": [
       "DatetimeIndex(['2016-04-01', '2016-04-02', '2016-04-03', '2016-04-04',\n",
       "               '2016-04-05', '2016-04-06', '2016-04-07', '2016-04-08',\n",
       "               '2016-04-09', '2016-04-10', '2016-04-11', '2016-04-12',\n",
       "               '2016-04-13', '2016-04-14', '2016-04-15', '2016-04-16',\n",
       "               '2016-04-17', '2016-04-18', '2016-04-19', '2016-04-20',\n",
       "               '2016-04-21', '2016-04-22', '2016-04-23', '2016-04-24',\n",
       "               '2016-04-25', '2016-04-26', '2016-04-27', '2016-04-28',\n",
       "               '2016-04-29', '2016-04-30'],\n",
       "              dtype='datetime64[ns]', freq='D')"
      ]
     },
     "execution_count": 10,
     "metadata": {},
     "output_type": "execute_result"
    }
   ],
   "source": [
    "pd.date_range(\"2016-4-1\", \"2016-4-30\")"
   ]
  },
  {
   "cell_type": "code",
   "execution_count": 11,
   "metadata": {},
   "outputs": [
    {
     "data": {
      "text/plain": [
       "DatetimeIndex(['2016-04-01', '2016-04-02', '2016-04-03', '2016-04-04',\n",
       "               '2016-04-05', '2016-04-06', '2016-04-07', '2016-04-08',\n",
       "               '2016-04-09', '2016-04-10', '2016-04-11', '2016-04-12',\n",
       "               '2016-04-13', '2016-04-14', '2016-04-15', '2016-04-16',\n",
       "               '2016-04-17', '2016-04-18', '2016-04-19', '2016-04-20',\n",
       "               '2016-04-21', '2016-04-22', '2016-04-23', '2016-04-24',\n",
       "               '2016-04-25', '2016-04-26', '2016-04-27', '2016-04-28',\n",
       "               '2016-04-29', '2016-04-30'],\n",
       "              dtype='datetime64[ns]', freq='D')"
      ]
     },
     "execution_count": 11,
     "metadata": {},
     "output_type": "execute_result"
    }
   ],
   "source": [
    "pd.date_range(start=\"2016-4-1\", periods=30)"
   ]
  },
  {
   "cell_type": "code",
   "execution_count": 12,
   "metadata": {},
   "outputs": [
    {
     "data": {
      "text/plain": [
       "DatetimeIndex(['2016-04-01', '2016-04-04', '2016-04-05', '2016-04-06',\n",
       "               '2016-04-07', '2016-04-08', '2016-04-11', '2016-04-12',\n",
       "               '2016-04-13', '2016-04-14', '2016-04-15', '2016-04-18',\n",
       "               '2016-04-19', '2016-04-20', '2016-04-21', '2016-04-22',\n",
       "               '2016-04-25', '2016-04-26', '2016-04-27', '2016-04-28',\n",
       "               '2016-04-29'],\n",
       "              dtype='datetime64[ns]', freq='B')"
      ]
     },
     "execution_count": 12,
     "metadata": {},
     "output_type": "execute_result"
    }
   ],
   "source": [
    "pd.date_range(\"2016-4-1\", \"2016-4-30\", freq=\"B\")"
   ]
  },
  {
   "cell_type": "code",
   "execution_count": 13,
   "metadata": {},
   "outputs": [
    {
     "data": {
      "text/plain": [
       "DatetimeIndex(['2016-04-01', '2016-05-01', '2016-06-01', '2016-07-01',\n",
       "               '2016-08-01', '2016-09-01', '2016-10-01', '2016-11-01',\n",
       "               '2016-12-01'],\n",
       "              dtype='datetime64[ns]', freq='MS')"
      ]
     },
     "execution_count": 13,
     "metadata": {},
     "output_type": "execute_result"
    }
   ],
   "source": [
    "pd.date_range(\"2016-4-1\", \"2016-12-31\", freq=\"MS\")"
   ]
  },
  {
   "cell_type": "code",
   "execution_count": 14,
   "metadata": {},
   "outputs": [
    {
     "data": {
      "text/plain": [
       "DatetimeIndex(['2016-04-30', '2016-05-31', '2016-06-30', '2016-07-31',\n",
       "               '2016-08-31', '2016-09-30', '2016-10-31', '2016-11-30',\n",
       "               '2016-12-31'],\n",
       "              dtype='datetime64[ns]', freq='M')"
      ]
     },
     "execution_count": 14,
     "metadata": {},
     "output_type": "execute_result"
    }
   ],
   "source": [
    "pd.date_range(\"2016-4-1\", \"2016-12-31\", freq=\"M\")"
   ]
  },
  {
   "cell_type": "code",
   "execution_count": 15,
   "metadata": {},
   "outputs": [
    {
     "data": {
      "text/plain": [
       "DatetimeIndex(['2016-04-01', '2016-05-02', '2016-06-01', '2016-07-01',\n",
       "               '2016-08-01', '2016-09-01', '2016-10-03', '2016-11-01',\n",
       "               '2016-12-01'],\n",
       "              dtype='datetime64[ns]', freq='BMS')"
      ]
     },
     "execution_count": 15,
     "metadata": {},
     "output_type": "execute_result"
    }
   ],
   "source": [
    "pd.date_range(\"2016-4-1\", \"2016-12-31\", freq=\"BMS\")"
   ]
  },
  {
   "cell_type": "code",
   "execution_count": 16,
   "metadata": {},
   "outputs": [
    {
     "data": {
      "text/plain": [
       "DatetimeIndex(['2016-04-29', '2016-05-31', '2016-06-30', '2016-07-29',\n",
       "               '2016-08-31', '2016-09-30', '2016-10-31', '2016-11-30',\n",
       "               '2016-12-30'],\n",
       "              dtype='datetime64[ns]', freq='BM')"
      ]
     },
     "execution_count": 16,
     "metadata": {},
     "output_type": "execute_result"
    }
   ],
   "source": [
    "pd.date_range(\"2016-4-1\", \"2016-12-31\", freq=\"BM\")"
   ]
  },
  {
   "cell_type": "code",
   "execution_count": 17,
   "metadata": {},
   "outputs": [
    {
     "data": {
      "text/plain": [
       "DatetimeIndex(['2016-01-04', '2016-01-11', '2016-01-18', '2016-01-25',\n",
       "               '2016-02-01', '2016-02-08', '2016-02-15', '2016-02-22',\n",
       "               '2016-02-29', '2016-03-07', '2016-03-14', '2016-03-21',\n",
       "               '2016-03-28', '2016-04-04', '2016-04-11', '2016-04-18',\n",
       "               '2016-04-25', '2016-05-02', '2016-05-09', '2016-05-16',\n",
       "               '2016-05-23', '2016-05-30', '2016-06-06', '2016-06-13',\n",
       "               '2016-06-20', '2016-06-27', '2016-07-04', '2016-07-11',\n",
       "               '2016-07-18', '2016-07-25', '2016-08-01', '2016-08-08',\n",
       "               '2016-08-15', '2016-08-22', '2016-08-29', '2016-09-05',\n",
       "               '2016-09-12', '2016-09-19', '2016-09-26', '2016-10-03',\n",
       "               '2016-10-10', '2016-10-17', '2016-10-24', '2016-10-31',\n",
       "               '2016-11-07', '2016-11-14', '2016-11-21', '2016-11-28',\n",
       "               '2016-12-05', '2016-12-12', '2016-12-19', '2016-12-26'],\n",
       "              dtype='datetime64[ns]', freq='W-MON')"
      ]
     },
     "execution_count": 17,
     "metadata": {},
     "output_type": "execute_result"
    }
   ],
   "source": [
    "pd.date_range(\"2016-1-1\", \"2016-12-31\", freq=\"W-MON\")"
   ]
  },
  {
   "cell_type": "code",
   "execution_count": 18,
   "metadata": {},
   "outputs": [
    {
     "data": {
      "text/plain": [
       "DatetimeIndex(['2016-01-14', '2016-02-11', '2016-03-10', '2016-04-14',\n",
       "               '2016-05-12', '2016-06-09', '2016-07-14', '2016-08-11',\n",
       "               '2016-09-08', '2016-10-13', '2016-11-10', '2016-12-08'],\n",
       "              dtype='datetime64[ns]', freq='WOM-2THU')"
      ]
     },
     "execution_count": 18,
     "metadata": {},
     "output_type": "execute_result"
    }
   ],
   "source": [
    "pd.date_range(\"2016-1-1\", \"2016-12-31\", freq=\"WOM-2THU\")"
   ]
  },
  {
   "cell_type": "code",
   "execution_count": 19,
   "metadata": {},
   "outputs": [
    {
     "data": {
      "text/plain": [
       "DatetimeIndex(['2016-03-31', '2016-06-30', '2016-09-30', '2016-12-31'], dtype='datetime64[ns]', freq='Q-DEC')"
      ]
     },
     "execution_count": 19,
     "metadata": {},
     "output_type": "execute_result"
    }
   ],
   "source": [
    "pd.date_range(\"2016-1-1\", \"2016-12-31\", freq=\"Q-DEC\")"
   ]
  },
  {
   "cell_type": "markdown",
   "metadata": {},
   "source": [
    "# shift 연산"
   ]
  },
  {
   "cell_type": "code",
   "execution_count": 20,
   "metadata": {},
   "outputs": [
    {
     "data": {
      "text/plain": [
       "2000-01-31    1.867558\n",
       "2000-02-29   -0.977278\n",
       "2000-03-31    0.950088\n",
       "2000-04-30   -0.151357\n",
       "Freq: M, dtype: float64"
      ]
     },
     "execution_count": 20,
     "metadata": {},
     "output_type": "execute_result"
    }
   ],
   "source": [
    "ts = pd.Series(np.random.randn(4), index=pd.date_range(\"2000-1-1\", periods=4, freq=\"M\"))\n",
    "ts"
   ]
  },
  {
   "cell_type": "code",
   "execution_count": 21,
   "metadata": {},
   "outputs": [
    {
     "data": {
      "text/plain": [
       "2000-01-31         NaN\n",
       "2000-02-29    1.867558\n",
       "2000-03-31   -0.977278\n",
       "2000-04-30    0.950088\n",
       "Freq: M, dtype: float64"
      ]
     },
     "execution_count": 21,
     "metadata": {},
     "output_type": "execute_result"
    }
   ],
   "source": [
    "ts.shift(1)"
   ]
  },
  {
   "cell_type": "code",
   "execution_count": 22,
   "metadata": {},
   "outputs": [
    {
     "data": {
      "text/plain": [
       "2000-01-31   -0.977278\n",
       "2000-02-29    0.950088\n",
       "2000-03-31   -0.151357\n",
       "2000-04-30         NaN\n",
       "Freq: M, dtype: float64"
      ]
     },
     "execution_count": 22,
     "metadata": {},
     "output_type": "execute_result"
    }
   ],
   "source": [
    "ts.shift(-1)"
   ]
  },
  {
   "cell_type": "code",
   "execution_count": 24,
   "metadata": {},
   "outputs": [
    {
     "data": {
      "text/plain": [
       "2000-02-29    1.867558\n",
       "2000-03-31   -0.977278\n",
       "2000-04-30    0.950088\n",
       "2000-05-31   -0.151357\n",
       "Freq: M, dtype: float64"
      ]
     },
     "execution_count": 24,
     "metadata": {},
     "output_type": "execute_result"
    }
   ],
   "source": [
    "ts.shift(1, freq=\"M\")"
   ]
  },
  {
   "cell_type": "code",
   "execution_count": 25,
   "metadata": {},
   "outputs": [
    {
     "data": {
      "text/plain": [
       "2000-02-06    1.867558\n",
       "2000-03-05   -0.977278\n",
       "2000-04-02    0.950088\n",
       "2000-05-07   -0.151357\n",
       "Freq: WOM-1SUN, dtype: float64"
      ]
     },
     "execution_count": 25,
     "metadata": {},
     "output_type": "execute_result"
    }
   ],
   "source": [
    "ts.shift(1, freq=\"W\")"
   ]
  },
  {
   "cell_type": "markdown",
   "metadata": {},
   "source": [
    "## 리샘플링 (Resampling)\n",
    "\n",
    "* up-sampling : 구간이 작아지는 경우\n",
    "* down-sampling: 구간이 커지는 경우"
   ]
  },
  {
   "cell_type": "code",
   "execution_count": 26,
   "metadata": {},
   "outputs": [
    {
     "data": {
      "text/plain": [
       "2000-03-21   -1.070753\n",
       "2000-03-22    1.054452\n",
       "2000-03-23   -0.403177\n",
       "2000-03-24    1.222445\n",
       "2000-03-25    0.208275\n",
       "2000-03-26    0.976639\n",
       "2000-03-27    0.356366\n",
       "2000-03-28    0.706573\n",
       "2000-03-29    0.010500\n",
       "2000-03-30    1.785870\n",
       "2000-03-31    0.126912\n",
       "2000-04-01    0.401989\n",
       "2000-04-02    1.883151\n",
       "2000-04-03   -1.347759\n",
       "2000-04-04   -1.270485\n",
       "2000-04-05    0.969397\n",
       "2000-04-06   -1.173123\n",
       "2000-04-07    1.943621\n",
       "2000-04-08   -0.413619\n",
       "2000-04-09   -0.747455\n",
       "Freq: D, dtype: float64"
      ]
     },
     "execution_count": 26,
     "metadata": {},
     "output_type": "execute_result"
    }
   ],
   "source": [
    "ts = pd.Series(np.random.randn(100), index=pd.date_range(\"2000-1-1\", periods=100, freq=\"D\"))\n",
    "ts.tail(20)"
   ]
  },
  {
   "cell_type": "code",
   "execution_count": 27,
   "metadata": {},
   "outputs": [
    {
     "data": {
      "text/plain": [
       "2000-01-02    0.153690\n",
       "2000-01-09    0.678949\n",
       "2000-01-16   -0.360469\n",
       "2000-01-23    0.547293\n",
       "2000-01-30   -0.035616\n",
       "2000-02-06   -0.489050\n",
       "2000-02-13   -0.464083\n",
       "2000-02-20   -0.222374\n",
       "2000-02-27   -0.594077\n",
       "2000-03-05   -0.003614\n",
       "2000-03-12   -0.460333\n",
       "2000-03-19    0.461145\n",
       "2000-03-26    0.258279\n",
       "2000-04-02    0.753052\n",
       "2000-04-09   -0.291346\n",
       "Freq: W-SUN, dtype: float64"
      ]
     },
     "execution_count": 27,
     "metadata": {},
     "output_type": "execute_result"
    }
   ],
   "source": [
    "ts.resample('W').mean()"
   ]
  },
  {
   "cell_type": "code",
   "execution_count": 28,
   "metadata": {},
   "outputs": [
    {
     "data": {
      "text/plain": [
       "2000-01-31   -0.103219\n",
       "2000-02-29   -0.302303\n",
       "2000-03-31   -0.907298\n",
       "2000-04-30    0.401989\n",
       "Freq: M, dtype: float64"
      ]
     },
     "execution_count": 28,
     "metadata": {},
     "output_type": "execute_result"
    }
   ],
   "source": [
    "ts.resample('M').first()"
   ]
  },
  {
   "cell_type": "code",
   "execution_count": 29,
   "metadata": {},
   "outputs": [
    {
     "data": {
      "text/plain": [
       "2000-01-01 00:00:00    1.922942\n",
       "2000-01-01 00:01:00    1.480515\n",
       "2000-01-01 00:02:00    1.867559\n",
       "2000-01-01 00:03:00    0.906045\n",
       "2000-01-01 00:04:00   -0.861226\n",
       "2000-01-01 00:05:00    1.910065\n",
       "2000-01-01 00:06:00   -0.268003\n",
       "2000-01-01 00:07:00    0.802456\n",
       "2000-01-01 00:08:00    0.947252\n",
       "2000-01-01 00:09:00   -0.155010\n",
       "2000-01-01 00:10:00    0.614079\n",
       "2000-01-01 00:11:00    0.922207\n",
       "2000-01-01 00:12:00    0.376426\n",
       "2000-01-01 00:13:00   -1.099401\n",
       "2000-01-01 00:14:00    0.298238\n",
       "2000-01-01 00:15:00    1.326386\n",
       "2000-01-01 00:16:00   -0.694568\n",
       "2000-01-01 00:17:00   -0.149635\n",
       "2000-01-01 00:18:00   -0.435154\n",
       "2000-01-01 00:19:00    1.849264\n",
       "Freq: T, dtype: float64"
      ]
     },
     "execution_count": 29,
     "metadata": {},
     "output_type": "execute_result"
    }
   ],
   "source": [
    "ts = pd.Series(np.random.randn(60), index=pd.date_range(\"2000-1-1\", periods=60, freq=\"T\"))\n",
    "ts.head(20)"
   ]
  },
  {
   "cell_type": "code",
   "execution_count": 30,
   "metadata": {},
   "outputs": [
    {
     "data": {
      "text/plain": [
       "2000-01-01 00:00:00    8.552595\n",
       "2000-01-01 00:10:00    3.007843\n",
       "2000-01-01 00:20:00    0.615467\n",
       "2000-01-01 00:30:00    2.584603\n",
       "2000-01-01 00:40:00   -2.418811\n",
       "2000-01-01 00:50:00   -2.042876\n",
       "Freq: 10T, dtype: float64"
      ]
     },
     "execution_count": 30,
     "metadata": {},
     "output_type": "execute_result"
    }
   ],
   "source": [
    "ts.resample('10min').sum()"
   ]
  },
  {
   "cell_type": "code",
   "execution_count": 31,
   "metadata": {},
   "outputs": [
    {
     "data": {
      "text/plain": [
       "1999-12-31 23:50:00    1.922942\n",
       "2000-01-01 00:00:00    7.243732\n",
       "2000-01-01 00:10:00    3.066058\n",
       "2000-01-01 00:20:00    0.339179\n",
       "2000-01-01 00:30:00    0.872688\n",
       "2000-01-01 00:40:00   -2.250372\n",
       "2000-01-01 00:50:00   -0.895407\n",
       "Freq: 10T, dtype: float64"
      ]
     },
     "execution_count": 31,
     "metadata": {},
     "output_type": "execute_result"
    }
   ],
   "source": [
    "ts.resample('10min', closed=\"right\").sum()"
   ]
  },
  {
   "cell_type": "code",
   "execution_count": 33,
   "metadata": {},
   "outputs": [
    {
     "data": {
      "text/html": [
       "<div>\n",
       "<style>\n",
       "    .dataframe thead tr:only-child th {\n",
       "        text-align: right;\n",
       "    }\n",
       "\n",
       "    .dataframe thead th {\n",
       "        text-align: left;\n",
       "    }\n",
       "\n",
       "    .dataframe tbody tr th {\n",
       "        vertical-align: top;\n",
       "    }\n",
       "</style>\n",
       "<table border=\"1\" class=\"dataframe\">\n",
       "  <thead>\n",
       "    <tr style=\"text-align: right;\">\n",
       "      <th></th>\n",
       "      <th>open</th>\n",
       "      <th>high</th>\n",
       "      <th>low</th>\n",
       "      <th>close</th>\n",
       "    </tr>\n",
       "  </thead>\n",
       "  <tbody>\n",
       "    <tr>\n",
       "      <th>2000-01-01 00:00:00</th>\n",
       "      <td>1.922942</td>\n",
       "      <td>1.922942</td>\n",
       "      <td>-0.861226</td>\n",
       "      <td>-0.861226</td>\n",
       "    </tr>\n",
       "    <tr>\n",
       "      <th>2000-01-01 00:05:00</th>\n",
       "      <td>1.910065</td>\n",
       "      <td>1.910065</td>\n",
       "      <td>-0.268003</td>\n",
       "      <td>-0.155010</td>\n",
       "    </tr>\n",
       "    <tr>\n",
       "      <th>2000-01-01 00:10:00</th>\n",
       "      <td>0.614079</td>\n",
       "      <td>0.922207</td>\n",
       "      <td>-1.099401</td>\n",
       "      <td>0.298238</td>\n",
       "    </tr>\n",
       "    <tr>\n",
       "      <th>2000-01-01 00:15:00</th>\n",
       "      <td>1.326386</td>\n",
       "      <td>1.849264</td>\n",
       "      <td>-0.694568</td>\n",
       "      <td>1.849264</td>\n",
       "    </tr>\n",
       "    <tr>\n",
       "      <th>2000-01-01 00:20:00</th>\n",
       "      <td>0.672295</td>\n",
       "      <td>0.672295</td>\n",
       "      <td>-0.769916</td>\n",
       "      <td>-0.674333</td>\n",
       "    </tr>\n",
       "    <tr>\n",
       "      <th>2000-01-01 00:25:00</th>\n",
       "      <td>0.031831</td>\n",
       "      <td>0.676433</td>\n",
       "      <td>-0.635846</td>\n",
       "      <td>-0.208299</td>\n",
       "    </tr>\n",
       "    <tr>\n",
       "      <th>2000-01-01 00:30:00</th>\n",
       "      <td>0.396007</td>\n",
       "      <td>0.439392</td>\n",
       "      <td>-1.491258</td>\n",
       "      <td>0.166673</td>\n",
       "    </tr>\n",
       "    <tr>\n",
       "      <th>2000-01-01 00:35:00</th>\n",
       "      <td>0.635031</td>\n",
       "      <td>2.383145</td>\n",
       "      <td>-0.912822</td>\n",
       "      <td>1.117016</td>\n",
       "    </tr>\n",
       "    <tr>\n",
       "      <th>2000-01-01 00:40:00</th>\n",
       "      <td>-1.315907</td>\n",
       "      <td>1.713343</td>\n",
       "      <td>-1.315907</td>\n",
       "      <td>-0.744755</td>\n",
       "    </tr>\n",
       "    <tr>\n",
       "      <th>2000-01-01 00:45:00</th>\n",
       "      <td>-0.826439</td>\n",
       "      <td>1.126636</td>\n",
       "      <td>-1.079932</td>\n",
       "      <td>-1.079932</td>\n",
       "    </tr>\n",
       "    <tr>\n",
       "      <th>2000-01-01 00:50:00</th>\n",
       "      <td>-1.147469</td>\n",
       "      <td>1.929532</td>\n",
       "      <td>-1.147469</td>\n",
       "      <td>0.949421</td>\n",
       "    </tr>\n",
       "    <tr>\n",
       "      <th>2000-01-01 00:55:00</th>\n",
       "      <td>0.087551</td>\n",
       "      <td>0.844363</td>\n",
       "      <td>-1.544771</td>\n",
       "      <td>-1.544771</td>\n",
       "    </tr>\n",
       "  </tbody>\n",
       "</table>\n",
       "</div>"
      ],
      "text/plain": [
       "                         open      high       low     close\n",
       "2000-01-01 00:00:00  1.922942  1.922942 -0.861226 -0.861226\n",
       "2000-01-01 00:05:00  1.910065  1.910065 -0.268003 -0.155010\n",
       "2000-01-01 00:10:00  0.614079  0.922207 -1.099401  0.298238\n",
       "2000-01-01 00:15:00  1.326386  1.849264 -0.694568  1.849264\n",
       "2000-01-01 00:20:00  0.672295  0.672295 -0.769916 -0.674333\n",
       "2000-01-01 00:25:00  0.031831  0.676433 -0.635846 -0.208299\n",
       "2000-01-01 00:30:00  0.396007  0.439392 -1.491258  0.166673\n",
       "2000-01-01 00:35:00  0.635031  2.383145 -0.912822  1.117016\n",
       "2000-01-01 00:40:00 -1.315907  1.713343 -1.315907 -0.744755\n",
       "2000-01-01 00:45:00 -0.826439  1.126636 -1.079932 -1.079932\n",
       "2000-01-01 00:50:00 -1.147469  1.929532 -1.147469  0.949421\n",
       "2000-01-01 00:55:00  0.087551  0.844363 -1.544771 -1.544771"
      ]
     },
     "execution_count": 33,
     "metadata": {},
     "output_type": "execute_result"
    }
   ],
   "source": [
    "ts.resample('5min').ohlc()"
   ]
  },
  {
   "cell_type": "code",
   "execution_count": 34,
   "metadata": {},
   "outputs": [
    {
     "data": {
      "text/plain": [
       "2000-01-01 00:00:00    1.922942\n",
       "2000-01-01 00:00:30    1.922942\n",
       "2000-01-01 00:01:00    1.480515\n",
       "2000-01-01 00:01:30    1.480515\n",
       "2000-01-01 00:02:00    1.867559\n",
       "2000-01-01 00:02:30    1.867559\n",
       "2000-01-01 00:03:00    0.906045\n",
       "2000-01-01 00:03:30    0.906045\n",
       "2000-01-01 00:04:00   -0.861226\n",
       "2000-01-01 00:04:30   -0.861226\n",
       "2000-01-01 00:05:00    1.910065\n",
       "2000-01-01 00:05:30    1.910065\n",
       "2000-01-01 00:06:00   -0.268003\n",
       "2000-01-01 00:06:30   -0.268003\n",
       "2000-01-01 00:07:00    0.802456\n",
       "2000-01-01 00:07:30    0.802456\n",
       "2000-01-01 00:08:00    0.947252\n",
       "2000-01-01 00:08:30    0.947252\n",
       "2000-01-01 00:09:00   -0.155010\n",
       "2000-01-01 00:09:30   -0.155010\n",
       "Freq: 30S, dtype: float64"
      ]
     },
     "execution_count": 34,
     "metadata": {},
     "output_type": "execute_result"
    }
   ],
   "source": [
    "ts.resample('30s').ffill().head(20)"
   ]
  },
  {
   "cell_type": "code",
   "execution_count": 36,
   "metadata": {},
   "outputs": [
    {
     "data": {
      "text/plain": [
       "2000-01-01 00:00:00    1.922942\n",
       "2000-01-01 00:00:30    1.480515\n",
       "2000-01-01 00:01:00    1.480515\n",
       "2000-01-01 00:01:30    1.867559\n",
       "2000-01-01 00:02:00    1.867559\n",
       "2000-01-01 00:02:30    0.906045\n",
       "2000-01-01 00:03:00    0.906045\n",
       "2000-01-01 00:03:30   -0.861226\n",
       "2000-01-01 00:04:00   -0.861226\n",
       "2000-01-01 00:04:30    1.910065\n",
       "2000-01-01 00:05:00    1.910065\n",
       "2000-01-01 00:05:30   -0.268003\n",
       "2000-01-01 00:06:00   -0.268003\n",
       "2000-01-01 00:06:30    0.802456\n",
       "2000-01-01 00:07:00    0.802456\n",
       "2000-01-01 00:07:30    0.947252\n",
       "2000-01-01 00:08:00    0.947252\n",
       "2000-01-01 00:08:30   -0.155010\n",
       "2000-01-01 00:09:00   -0.155010\n",
       "2000-01-01 00:09:30    0.614079\n",
       "Freq: 30S, dtype: float64"
      ]
     },
     "execution_count": 36,
     "metadata": {},
     "output_type": "execute_result"
    }
   ],
   "source": [
    "ts.resample('30s').bfill().head(20)"
   ]
  },
  {
   "cell_type": "markdown",
   "metadata": {},
   "source": [
    "**인과관계를 감안 backward fill은 잘 사용하지 않는다.**"
   ]
  },
  {
   "cell_type": "markdown",
   "metadata": {},
   "source": [
    "# Dask 사용법 기초"
   ]
  },
  {
   "cell_type": "markdown",
   "metadata": {},
   "source": [
    "원래 Pandas 는 데이터베이스나 CSV 파일의 데이터를 모두 메모리로 읽어들인 다음 메모리 위에서 데이터를 처리한다. 하지만 데이터의 양이 많은 경우에는 메모리의 제한으로 데이터프레임을 만들 수 없는 경우가 있다. 또한 데이터프레임의 크기가 너무 크면 질의나 그룹 연산을 할 때 하나의 CPU 코어로 처리하기에는 시간이 너무 많이 걸릴 수도 있다. \n",
    "\n",
    "이러한 경우에 도움이 되는 것이 Dask 패키지이다. Dask 패키지는 Pandas 데이터프레임 형식으로 빅데이터를 처리하기 위한 파이썬 패키지로 다음과 같은 두 가지 기능을 가진다.\n",
    "\n",
    "1. 가상 데이터프레임\n",
    "1. 병렬처리용 작업 스케줄러\n"
   ]
  },
  {
   "cell_type": "code",
   "execution_count": 39,
   "metadata": {
    "collapsed": true
   },
   "outputs": [],
   "source": [
    "import dask.dataframe as dd"
   ]
  },
  {
   "cell_type": "code",
   "execution_count": 41,
   "metadata": {},
   "outputs": [
    {
     "data": {
      "text/html": [
       "<div><strong>Dask DataFrame Structure:</strong></div>\n",
       "<div>\n",
       "<style>\n",
       "    .dataframe thead tr:only-child th {\n",
       "        text-align: right;\n",
       "    }\n",
       "\n",
       "    .dataframe thead th {\n",
       "        text-align: left;\n",
       "    }\n",
       "\n",
       "    .dataframe tbody tr th {\n",
       "        vertical-align: top;\n",
       "    }\n",
       "</style>\n",
       "<table border=\"1\" class=\"dataframe\">\n",
       "  <thead>\n",
       "    <tr style=\"text-align: right;\">\n",
       "      <th></th>\n",
       "      <th>total_bill</th>\n",
       "      <th>tip</th>\n",
       "      <th>sex</th>\n",
       "      <th>smoker</th>\n",
       "      <th>day</th>\n",
       "      <th>time</th>\n",
       "      <th>size</th>\n",
       "    </tr>\n",
       "    <tr>\n",
       "      <th>npartitions=1</th>\n",
       "      <th></th>\n",
       "      <th></th>\n",
       "      <th></th>\n",
       "      <th></th>\n",
       "      <th></th>\n",
       "      <th></th>\n",
       "      <th></th>\n",
       "    </tr>\n",
       "  </thead>\n",
       "  <tbody>\n",
       "    <tr>\n",
       "      <th>None</th>\n",
       "      <td>float64</td>\n",
       "      <td>float64</td>\n",
       "      <td>object</td>\n",
       "      <td>object</td>\n",
       "      <td>object</td>\n",
       "      <td>object</td>\n",
       "      <td>int64</td>\n",
       "    </tr>\n",
       "    <tr>\n",
       "      <th>None</th>\n",
       "      <td>...</td>\n",
       "      <td>...</td>\n",
       "      <td>...</td>\n",
       "      <td>...</td>\n",
       "      <td>...</td>\n",
       "      <td>...</td>\n",
       "      <td>...</td>\n",
       "    </tr>\n",
       "  </tbody>\n",
       "</table>\n",
       "</div>\n",
       "<div>Dask Name: from-delayed, 3 tasks</div>"
      ],
      "text/plain": [
       "Dask DataFrame Structure:\n",
       "              total_bill      tip     sex  smoker     day    time   size\n",
       "npartitions=1                                                           \n",
       "None             float64  float64  object  object  object  object  int64\n",
       "None                 ...      ...     ...     ...     ...     ...    ...\n",
       "Dask Name: from-delayed, 3 tasks"
      ]
     },
     "execution_count": 41,
     "metadata": {},
     "output_type": "execute_result"
    }
   ],
   "source": [
    "df = dd.read_csv(\"tips.csv\")\n",
    "df"
   ]
  },
  {
   "cell_type": "markdown",
   "metadata": {},
   "source": [
    "`read_csv` 명령으로 데이터 파일에 대한 가상 데이터프레임 `df`를 만든다."
   ]
  },
  {
   "cell_type": "markdown",
   "metadata": {},
   "source": [
    "`df`는 데이터프레임과 유사하지만 실제로 데이터를 메모리에 읽지 않았기 때문에 값은 표시되지 않는다.  \n",
    "\n",
    "`head`, `tail` 명령을 내리면 그 때서야 일부 데이터를 읽어서 표시한다."
   ]
  },
  {
   "cell_type": "code",
   "execution_count": 42,
   "metadata": {},
   "outputs": [
    {
     "data": {
      "text/html": [
       "<div>\n",
       "<style>\n",
       "    .dataframe thead tr:only-child th {\n",
       "        text-align: right;\n",
       "    }\n",
       "\n",
       "    .dataframe thead th {\n",
       "        text-align: left;\n",
       "    }\n",
       "\n",
       "    .dataframe tbody tr th {\n",
       "        vertical-align: top;\n",
       "    }\n",
       "</style>\n",
       "<table border=\"1\" class=\"dataframe\">\n",
       "  <thead>\n",
       "    <tr style=\"text-align: right;\">\n",
       "      <th></th>\n",
       "      <th>total_bill</th>\n",
       "      <th>tip</th>\n",
       "      <th>sex</th>\n",
       "      <th>smoker</th>\n",
       "      <th>day</th>\n",
       "      <th>time</th>\n",
       "      <th>size</th>\n",
       "    </tr>\n",
       "  </thead>\n",
       "  <tbody>\n",
       "    <tr>\n",
       "      <th>0</th>\n",
       "      <td>16.99</td>\n",
       "      <td>1.01</td>\n",
       "      <td>Female</td>\n",
       "      <td>No</td>\n",
       "      <td>Sun</td>\n",
       "      <td>Dinner</td>\n",
       "      <td>2</td>\n",
       "    </tr>\n",
       "    <tr>\n",
       "      <th>1</th>\n",
       "      <td>10.34</td>\n",
       "      <td>1.66</td>\n",
       "      <td>Male</td>\n",
       "      <td>No</td>\n",
       "      <td>Sun</td>\n",
       "      <td>Dinner</td>\n",
       "      <td>3</td>\n",
       "    </tr>\n",
       "    <tr>\n",
       "      <th>2</th>\n",
       "      <td>21.01</td>\n",
       "      <td>3.50</td>\n",
       "      <td>Male</td>\n",
       "      <td>No</td>\n",
       "      <td>Sun</td>\n",
       "      <td>Dinner</td>\n",
       "      <td>3</td>\n",
       "    </tr>\n",
       "    <tr>\n",
       "      <th>3</th>\n",
       "      <td>23.68</td>\n",
       "      <td>3.31</td>\n",
       "      <td>Male</td>\n",
       "      <td>No</td>\n",
       "      <td>Sun</td>\n",
       "      <td>Dinner</td>\n",
       "      <td>2</td>\n",
       "    </tr>\n",
       "    <tr>\n",
       "      <th>4</th>\n",
       "      <td>24.59</td>\n",
       "      <td>3.61</td>\n",
       "      <td>Female</td>\n",
       "      <td>No</td>\n",
       "      <td>Sun</td>\n",
       "      <td>Dinner</td>\n",
       "      <td>4</td>\n",
       "    </tr>\n",
       "  </tbody>\n",
       "</table>\n",
       "</div>"
      ],
      "text/plain": [
       "   total_bill   tip     sex smoker  day    time  size\n",
       "0       16.99  1.01  Female     No  Sun  Dinner     2\n",
       "1       10.34  1.66    Male     No  Sun  Dinner     3\n",
       "2       21.01  3.50    Male     No  Sun  Dinner     3\n",
       "3       23.68  3.31    Male     No  Sun  Dinner     2\n",
       "4       24.59  3.61  Female     No  Sun  Dinner     4"
      ]
     },
     "execution_count": 42,
     "metadata": {},
     "output_type": "execute_result"
    }
   ],
   "source": [
    "df.head()"
   ]
  },
  {
   "cell_type": "code",
   "execution_count": 43,
   "metadata": {},
   "outputs": [
    {
     "data": {
      "text/plain": [
       "dd.Scalar<series-..., dtype=float64>"
      ]
     },
     "execution_count": 43,
     "metadata": {},
     "output_type": "execute_result"
    }
   ],
   "source": [
    "df.tip.mean()"
   ]
  },
  {
   "cell_type": "markdown",
   "metadata": {},
   "source": [
    "데이터프레임과 달리 바로 결과가 나오지 않는다. 그 이유는 연산 반환값이 결과가 아닌 작업(task)이기 때문이다. 구체적으로 어떤 작업인지를 보려면 visualize 메서드를 사용하여 작업 그래프(graph)를 볼 수 있다. 작업 그래프란 이 계산을 하기 위해 실제로 CPU가 해야 할 일들의 순서도라고 볼 수 있다."
   ]
  },
  {
   "cell_type": "code",
   "execution_count": 44,
   "metadata": {},
   "outputs": [
    {
     "data": {
      "text/plain": [
       "2.9982786885245902"
      ]
     },
     "execution_count": 44,
     "metadata": {},
     "output_type": "execute_result"
    }
   ],
   "source": [
    "df.tip.mean().compute()"
   ]
  },
  {
   "cell_type": "code",
   "execution_count": 46,
   "metadata": {},
   "outputs": [
    {
     "data": {
      "text/plain": [
       "0      0.059447\n",
       "1      0.160542\n",
       "2      0.166587\n",
       "3      0.139780\n",
       "4      0.146808\n",
       "5      0.186240\n",
       "6      0.228050\n",
       "7      0.116071\n",
       "8      0.130319\n",
       "9      0.218539\n",
       "10     0.166504\n",
       "11     0.141804\n",
       "12     0.101816\n",
       "13     0.162778\n",
       "14     0.203641\n",
       "15     0.181650\n",
       "16     0.161665\n",
       "17     0.227747\n",
       "18     0.206246\n",
       "19     0.162228\n",
       "20     0.227679\n",
       "21     0.135535\n",
       "22     0.141408\n",
       "23     0.192288\n",
       "24     0.160444\n",
       "25     0.131387\n",
       "26     0.149589\n",
       "27     0.157604\n",
       "28     0.198157\n",
       "29     0.152672\n",
       "         ...   \n",
       "214    0.230742\n",
       "215    0.085271\n",
       "216    0.106572\n",
       "217    0.129422\n",
       "218    0.186047\n",
       "219    0.102522\n",
       "220    0.180921\n",
       "221    0.259314\n",
       "222    0.223776\n",
       "223    0.187735\n",
       "224    0.117735\n",
       "225    0.153657\n",
       "226    0.198216\n",
       "227    0.146699\n",
       "228    0.204819\n",
       "229    0.130199\n",
       "230    0.083299\n",
       "231    0.191205\n",
       "232    0.291990\n",
       "233    0.136490\n",
       "234    0.193175\n",
       "235    0.124131\n",
       "236    0.079365\n",
       "237    0.035638\n",
       "238    0.130338\n",
       "239    0.203927\n",
       "240    0.073584\n",
       "241    0.088222\n",
       "242    0.098204\n",
       "243    0.159744\n",
       "Length: 244, dtype: float64"
      ]
     },
     "execution_count": 46,
     "metadata": {},
     "output_type": "execute_result"
    }
   ],
   "source": [
    "(df.tip / df.total_bill).compute()"
   ]
  },
  {
   "cell_type": "code",
   "execution_count": 55,
   "metadata": {},
   "outputs": [
    {
     "data": {
      "text/html": [
       "<div>\n",
       "<style>\n",
       "    .dataframe thead tr:only-child th {\n",
       "        text-align: right;\n",
       "    }\n",
       "\n",
       "    .dataframe thead th {\n",
       "        text-align: left;\n",
       "    }\n",
       "\n",
       "    .dataframe tbody tr th {\n",
       "        vertical-align: top;\n",
       "    }\n",
       "</style>\n",
       "<table border=\"1\" class=\"dataframe\">\n",
       "  <thead>\n",
       "    <tr style=\"text-align: right;\">\n",
       "      <th></th>\n",
       "      <th>total_bill</th>\n",
       "      <th>tip</th>\n",
       "      <th>sex</th>\n",
       "      <th>smoker</th>\n",
       "      <th>day</th>\n",
       "      <th>time</th>\n",
       "      <th>size</th>\n",
       "      <th>tip_pct</th>\n",
       "    </tr>\n",
       "  </thead>\n",
       "  <tbody>\n",
       "    <tr>\n",
       "      <th>0</th>\n",
       "      <td>16.99</td>\n",
       "      <td>1.01</td>\n",
       "      <td>Female</td>\n",
       "      <td>No</td>\n",
       "      <td>Sun</td>\n",
       "      <td>Dinner</td>\n",
       "      <td>2</td>\n",
       "      <td>0.059447</td>\n",
       "    </tr>\n",
       "    <tr>\n",
       "      <th>1</th>\n",
       "      <td>10.34</td>\n",
       "      <td>1.66</td>\n",
       "      <td>Male</td>\n",
       "      <td>No</td>\n",
       "      <td>Sun</td>\n",
       "      <td>Dinner</td>\n",
       "      <td>3</td>\n",
       "      <td>0.160542</td>\n",
       "    </tr>\n",
       "    <tr>\n",
       "      <th>2</th>\n",
       "      <td>21.01</td>\n",
       "      <td>3.50</td>\n",
       "      <td>Male</td>\n",
       "      <td>No</td>\n",
       "      <td>Sun</td>\n",
       "      <td>Dinner</td>\n",
       "      <td>3</td>\n",
       "      <td>0.166587</td>\n",
       "    </tr>\n",
       "    <tr>\n",
       "      <th>3</th>\n",
       "      <td>23.68</td>\n",
       "      <td>3.31</td>\n",
       "      <td>Male</td>\n",
       "      <td>No</td>\n",
       "      <td>Sun</td>\n",
       "      <td>Dinner</td>\n",
       "      <td>2</td>\n",
       "      <td>0.139780</td>\n",
       "    </tr>\n",
       "    <tr>\n",
       "      <th>4</th>\n",
       "      <td>24.59</td>\n",
       "      <td>3.61</td>\n",
       "      <td>Female</td>\n",
       "      <td>No</td>\n",
       "      <td>Sun</td>\n",
       "      <td>Dinner</td>\n",
       "      <td>4</td>\n",
       "      <td>0.146808</td>\n",
       "    </tr>\n",
       "  </tbody>\n",
       "</table>\n",
       "</div>"
      ],
      "text/plain": [
       "   total_bill   tip     sex smoker  day    time  size   tip_pct\n",
       "0       16.99  1.01  Female     No  Sun  Dinner     2  0.059447\n",
       "1       10.34  1.66    Male     No  Sun  Dinner     3  0.160542\n",
       "2       21.01  3.50    Male     No  Sun  Dinner     3  0.166587\n",
       "3       23.68  3.31    Male     No  Sun  Dinner     2  0.139780\n",
       "4       24.59  3.61  Female     No  Sun  Dinner     4  0.146808"
      ]
     },
     "execution_count": 55,
     "metadata": {},
     "output_type": "execute_result"
    }
   ],
   "source": [
    "df['tip_pct'] = (df.tip / df.total_bill)\n",
    "df.head()"
   ]
  },
  {
   "cell_type": "markdown",
   "metadata": {},
   "source": [
    "# crime ## 복수 데이터에 대한 가상 데이터프레임data: dask 연습"
   ]
  },
  {
   "cell_type": "markdown",
   "metadata": {},
   "source": [
    "Dask의 가상 데이터프레임이므로 원천 데이터 파일을 하나가 아닌 복수로 설정할 수도 있다. 예를 들어 앞서 보았던 `data1.csv` 파일 이외에도 다음과 같이 `data2.csv', 'data3.csv` 파일이 있을 경우, 이 파일을 한 번에 하나의 데이터프레임으로 읽어들일 수도 있다."
   ]
  },
  {
   "cell_type": "code",
   "execution_count": 72,
   "metadata": {},
   "outputs": [
    {
     "name": "stdout",
     "output_type": "stream",
     "text": [
      "Writing data2.csv\n"
     ]
    }
   ],
   "source": [
    "%%writefile data2.csv\n",
    "time,temperature,humidity\n",
    "0,22,58\n",
    "1,21,57\n",
    "2,25,57\n",
    "3,26,55\n",
    "4,22,53\n",
    "5,23,59"
   ]
  },
  {
   "cell_type": "code",
   "execution_count": 73,
   "metadata": {},
   "outputs": [
    {
     "name": "stdout",
     "output_type": "stream",
     "text": [
      "Writing data3.csv\n"
     ]
    }
   ],
   "source": [
    "%%writefile data3.csv\n",
    "time,temperature,humidity\n",
    "0,22,58\n",
    "1,21,57\n",
    "2,25,57\n",
    "3,26,55\n",
    "4,22,53\n",
    "5,23,59"
   ]
  },
  {
   "cell_type": "code",
   "execution_count": 74,
   "metadata": {
    "collapsed": true
   },
   "outputs": [],
   "source": [
    "df = dd.read_csv(\"data*.csv\")"
   ]
  },
  {
   "cell_type": "code",
   "execution_count": 75,
   "metadata": {},
   "outputs": [
    {
     "data": {
      "text/plain": [
       "time           12\n",
       "temperature    12\n",
       "humidity       12\n",
       "dtype: int64"
      ]
     },
     "execution_count": 75,
     "metadata": {},
     "output_type": "execute_result"
    }
   ],
   "source": [
    "df.count().compute()"
   ]
  },
  {
   "cell_type": "code",
   "execution_count": 77,
   "metadata": {},
   "outputs": [
    {
     "data": {
      "text/plain": [
       "count    12.000000\n",
       "mean     23.166667\n",
       "std       1.850471\n",
       "min      21.000000\n",
       "25%      22.000000\n",
       "50%      22.500000\n",
       "75%      24.500000\n",
       "max      26.000000\n",
       "dtype: float64"
      ]
     },
     "execution_count": 77,
     "metadata": {},
     "output_type": "execute_result"
    }
   ],
   "source": [
    "df.temperature.describe().compute()"
   ]
  },
  {
   "cell_type": "markdown",
   "metadata": {},
   "source": [
    "## 대량 데이터의 병렬 처리"
   ]
  },
  {
   "cell_type": "markdown",
   "metadata": {},
   "source": [
    "이번에는 Dask로 대량의 데이터를 처리해보자. 샘플로 쓸 데이터는 미국 정부가 발표하는 공개 정보 중 하나로 시카고의 범죄 관련 데이터이다.\n",
    "​\n",
    "* https://catalog.data.gov/dataset/crimes-2001-to-present-398a4\n",
    "​\n",
    "다음 명령으로 이 데이터를 다운로드 받을 수 있다. CSV 파일의 크기가 1.3GB가 넘으므로 다운로드에 10분 이상이 걸릴 수도 있다.\n",
    "​\n",
    "```\n",
    "!wget -O crime.csv https://data.cityofchicago.org/api/views/ijzp-q8t2/rows.csv?accessType=DOWNLOAD\n",
    "```\n",
    "​\n",
    "파일을 다운로드 받은 후에는 가상 데이터프레임으로 읽어들인다. 구체적인 데이터를 아직 모르기 때문에 우선 문자열 자료형으로 읽어들인다. 또 `error_bad_lines` 옵션을 `False`로 해서 오류가 나는 데이터는 생략하도록 한다."
   ]
  },
  {
   "cell_type": "markdown",
   "metadata": {},
   "source": [
    "이제 이 데이터프레임으로 분석을 시작하자. 데이터의 크기가 큰 만큼 시간이 오래 걸리기 때문에 Dask는 작업 진행도를 알 수 있는 `ProgressBar`란 것을 제공한다. 다음과 같이 `ProgressBar`를 만들고 등록한다."
   ]
  },
  {
   "cell_type": "code",
   "execution_count": 80,
   "metadata": {
    "scrolled": true
   },
   "outputs": [
    {
     "data": {
      "text/html": [
       "<div><strong>Dask DataFrame Structure:</strong></div>\n",
       "<div>\n",
       "<style>\n",
       "    .dataframe thead tr:only-child th {\n",
       "        text-align: right;\n",
       "    }\n",
       "\n",
       "    .dataframe thead th {\n",
       "        text-align: left;\n",
       "    }\n",
       "\n",
       "    .dataframe tbody tr th {\n",
       "        vertical-align: top;\n",
       "    }\n",
       "</style>\n",
       "<table border=\"1\" class=\"dataframe\">\n",
       "  <thead>\n",
       "    <tr style=\"text-align: right;\">\n",
       "      <th></th>\n",
       "      <th>ID</th>\n",
       "      <th>Case Number</th>\n",
       "      <th>Date</th>\n",
       "      <th>Block</th>\n",
       "      <th>IUCR</th>\n",
       "      <th>Primary Type</th>\n",
       "      <th>Description</th>\n",
       "      <th>Location Description</th>\n",
       "      <th>Arrest</th>\n",
       "      <th>Domestic</th>\n",
       "      <th>Beat</th>\n",
       "      <th>District</th>\n",
       "      <th>Ward</th>\n",
       "      <th>Community Area</th>\n",
       "      <th>FBI Code</th>\n",
       "      <th>X Coordinate</th>\n",
       "      <th>Y Coordinate</th>\n",
       "      <th>Year</th>\n",
       "      <th>Updated On</th>\n",
       "      <th>Latitude</th>\n",
       "      <th>Longitude</th>\n",
       "      <th>Location</th>\n",
       "    </tr>\n",
       "    <tr>\n",
       "      <th>npartitions=24</th>\n",
       "      <th></th>\n",
       "      <th></th>\n",
       "      <th></th>\n",
       "      <th></th>\n",
       "      <th></th>\n",
       "      <th></th>\n",
       "      <th></th>\n",
       "      <th></th>\n",
       "      <th></th>\n",
       "      <th></th>\n",
       "      <th></th>\n",
       "      <th></th>\n",
       "      <th></th>\n",
       "      <th></th>\n",
       "      <th></th>\n",
       "      <th></th>\n",
       "      <th></th>\n",
       "      <th></th>\n",
       "      <th></th>\n",
       "      <th></th>\n",
       "      <th></th>\n",
       "      <th></th>\n",
       "    </tr>\n",
       "  </thead>\n",
       "  <tbody>\n",
       "    <tr>\n",
       "      <th>None</th>\n",
       "      <td>object</td>\n",
       "      <td>object</td>\n",
       "      <td>object</td>\n",
       "      <td>object</td>\n",
       "      <td>object</td>\n",
       "      <td>object</td>\n",
       "      <td>object</td>\n",
       "      <td>object</td>\n",
       "      <td>object</td>\n",
       "      <td>object</td>\n",
       "      <td>object</td>\n",
       "      <td>object</td>\n",
       "      <td>object</td>\n",
       "      <td>object</td>\n",
       "      <td>object</td>\n",
       "      <td>object</td>\n",
       "      <td>object</td>\n",
       "      <td>object</td>\n",
       "      <td>object</td>\n",
       "      <td>object</td>\n",
       "      <td>object</td>\n",
       "      <td>object</td>\n",
       "    </tr>\n",
       "    <tr>\n",
       "      <th>None</th>\n",
       "      <td>...</td>\n",
       "      <td>...</td>\n",
       "      <td>...</td>\n",
       "      <td>...</td>\n",
       "      <td>...</td>\n",
       "      <td>...</td>\n",
       "      <td>...</td>\n",
       "      <td>...</td>\n",
       "      <td>...</td>\n",
       "      <td>...</td>\n",
       "      <td>...</td>\n",
       "      <td>...</td>\n",
       "      <td>...</td>\n",
       "      <td>...</td>\n",
       "      <td>...</td>\n",
       "      <td>...</td>\n",
       "      <td>...</td>\n",
       "      <td>...</td>\n",
       "      <td>...</td>\n",
       "      <td>...</td>\n",
       "      <td>...</td>\n",
       "      <td>...</td>\n",
       "    </tr>\n",
       "    <tr>\n",
       "      <th>...</th>\n",
       "      <td>...</td>\n",
       "      <td>...</td>\n",
       "      <td>...</td>\n",
       "      <td>...</td>\n",
       "      <td>...</td>\n",
       "      <td>...</td>\n",
       "      <td>...</td>\n",
       "      <td>...</td>\n",
       "      <td>...</td>\n",
       "      <td>...</td>\n",
       "      <td>...</td>\n",
       "      <td>...</td>\n",
       "      <td>...</td>\n",
       "      <td>...</td>\n",
       "      <td>...</td>\n",
       "      <td>...</td>\n",
       "      <td>...</td>\n",
       "      <td>...</td>\n",
       "      <td>...</td>\n",
       "      <td>...</td>\n",
       "      <td>...</td>\n",
       "      <td>...</td>\n",
       "    </tr>\n",
       "    <tr>\n",
       "      <th>None</th>\n",
       "      <td>...</td>\n",
       "      <td>...</td>\n",
       "      <td>...</td>\n",
       "      <td>...</td>\n",
       "      <td>...</td>\n",
       "      <td>...</td>\n",
       "      <td>...</td>\n",
       "      <td>...</td>\n",
       "      <td>...</td>\n",
       "      <td>...</td>\n",
       "      <td>...</td>\n",
       "      <td>...</td>\n",
       "      <td>...</td>\n",
       "      <td>...</td>\n",
       "      <td>...</td>\n",
       "      <td>...</td>\n",
       "      <td>...</td>\n",
       "      <td>...</td>\n",
       "      <td>...</td>\n",
       "      <td>...</td>\n",
       "      <td>...</td>\n",
       "      <td>...</td>\n",
       "    </tr>\n",
       "    <tr>\n",
       "      <th>None</th>\n",
       "      <td>...</td>\n",
       "      <td>...</td>\n",
       "      <td>...</td>\n",
       "      <td>...</td>\n",
       "      <td>...</td>\n",
       "      <td>...</td>\n",
       "      <td>...</td>\n",
       "      <td>...</td>\n",
       "      <td>...</td>\n",
       "      <td>...</td>\n",
       "      <td>...</td>\n",
       "      <td>...</td>\n",
       "      <td>...</td>\n",
       "      <td>...</td>\n",
       "      <td>...</td>\n",
       "      <td>...</td>\n",
       "      <td>...</td>\n",
       "      <td>...</td>\n",
       "      <td>...</td>\n",
       "      <td>...</td>\n",
       "      <td>...</td>\n",
       "      <td>...</td>\n",
       "    </tr>\n",
       "  </tbody>\n",
       "</table>\n",
       "</div>\n",
       "<div>Dask Name: from-delayed, 72 tasks</div>"
      ],
      "text/plain": [
       "Dask DataFrame Structure:\n",
       "                    ID Case Number    Date   Block    IUCR Primary Type Description Location Description  Arrest Domestic    Beat District    Ward Community Area FBI Code X Coordinate Y Coordinate    Year Updated On Latitude Longitude Location\n",
       "npartitions=24                                                                                                                                                                                                                                     \n",
       "None            object      object  object  object  object       object      object               object  object   object  object   object  object         object   object       object       object  object     object   object    object   object\n",
       "None               ...         ...     ...     ...     ...          ...         ...                  ...     ...      ...     ...      ...     ...            ...      ...          ...          ...     ...        ...      ...       ...      ...\n",
       "...                ...         ...     ...     ...     ...          ...         ...                  ...     ...      ...     ...      ...     ...            ...      ...          ...          ...     ...        ...      ...       ...      ...\n",
       "None               ...         ...     ...     ...     ...          ...         ...                  ...     ...      ...     ...      ...     ...            ...      ...          ...          ...     ...        ...      ...       ...      ...\n",
       "None               ...         ...     ...     ...     ...          ...         ...                  ...     ...      ...     ...      ...     ...            ...      ...          ...          ...     ...        ...      ...       ...      ...\n",
       "Dask Name: from-delayed, 72 tasks"
      ]
     },
     "execution_count": 80,
     "metadata": {},
     "output_type": "execute_result"
    }
   ],
   "source": [
    "df = dd.read_csv(\"crime.csv\", dtype=str, error_bad_lines=False, warn_bad_lines=False)\n",
    "df"
   ]
  },
  {
   "cell_type": "code",
   "execution_count": 81,
   "metadata": {},
   "outputs": [
    {
     "name": "stdout",
     "output_type": "stream",
     "text": [
      "[########################################] | 100% Completed |  0.6s\n"
     ]
    },
    {
     "data": {
      "text/html": [
       "<div>\n",
       "<style>\n",
       "    .dataframe thead tr:only-child th {\n",
       "        text-align: right;\n",
       "    }\n",
       "\n",
       "    .dataframe thead th {\n",
       "        text-align: left;\n",
       "    }\n",
       "\n",
       "    .dataframe tbody tr th {\n",
       "        vertical-align: top;\n",
       "    }\n",
       "</style>\n",
       "<table border=\"1\" class=\"dataframe\">\n",
       "  <thead>\n",
       "    <tr style=\"text-align: right;\">\n",
       "      <th></th>\n",
       "      <th>ID</th>\n",
       "      <th>Case Number</th>\n",
       "      <th>Date</th>\n",
       "      <th>Block</th>\n",
       "      <th>IUCR</th>\n",
       "      <th>Primary Type</th>\n",
       "      <th>Description</th>\n",
       "      <th>Location Description</th>\n",
       "      <th>Arrest</th>\n",
       "      <th>Domestic</th>\n",
       "      <th>...</th>\n",
       "      <th>Ward</th>\n",
       "      <th>Community Area</th>\n",
       "      <th>FBI Code</th>\n",
       "      <th>X Coordinate</th>\n",
       "      <th>Y Coordinate</th>\n",
       "      <th>Year</th>\n",
       "      <th>Updated On</th>\n",
       "      <th>Latitude</th>\n",
       "      <th>Longitude</th>\n",
       "      <th>Location</th>\n",
       "    </tr>\n",
       "  </thead>\n",
       "  <tbody>\n",
       "    <tr>\n",
       "      <th>85326</th>\n",
       "      <td>10269079</td>\n",
       "      <td>HY456433</td>\n",
       "      <td>10/10/2015 07:58:00 AM</td>\n",
       "      <td>047XX S WESTERN AVE</td>\n",
       "      <td>4210</td>\n",
       "      <td>KIDNAPPING</td>\n",
       "      <td>KIDNAPPING</td>\n",
       "      <td>STREET</td>\n",
       "      <td>true</td>\n",
       "      <td>false</td>\n",
       "      <td>...</td>\n",
       "      <td>12</td>\n",
       "      <td>61</td>\n",
       "      <td>26</td>\n",
       "      <td>1161173</td>\n",
       "      <td>1873000</td>\n",
       "      <td>2015</td>\n",
       "      <td>01/27/2016 03:58:37 PM</td>\n",
       "      <td>41.807194419</td>\n",
       "      <td>-87.684389872</td>\n",
       "      <td>(41.807194419, -87.684389872)</td>\n",
       "    </tr>\n",
       "    <tr>\n",
       "      <th>85327</th>\n",
       "      <td>10269082</td>\n",
       "      <td>HY456475</td>\n",
       "      <td>10/10/2015 08:32:00 AM</td>\n",
       "      <td>0000X S LEAMINGTON AVE</td>\n",
       "      <td>143A</td>\n",
       "      <td>WEAPONS VIOLATION</td>\n",
       "      <td>UNLAWFUL POSS OF HANDGUN</td>\n",
       "      <td>SIDEWALK</td>\n",
       "      <td>false</td>\n",
       "      <td>false</td>\n",
       "      <td>...</td>\n",
       "      <td>28</td>\n",
       "      <td>25</td>\n",
       "      <td>15</td>\n",
       "      <td>1142140</td>\n",
       "      <td>1899421</td>\n",
       "      <td>2015</td>\n",
       "      <td>10/17/2015 03:55:01 PM</td>\n",
       "      <td>41.880070565</td>\n",
       "      <td>-87.753543987</td>\n",
       "      <td>(41.880070565, -87.753543987)</td>\n",
       "    </tr>\n",
       "    <tr>\n",
       "      <th>85328</th>\n",
       "      <td>10269083</td>\n",
       "      <td>HY456481</td>\n",
       "      <td>10/08/2015 12:31:00 PM</td>\n",
       "      <td>044XX W DIVERSEY AVE</td>\n",
       "      <td>1130</td>\n",
       "      <td>DECEPTIVE PRACTICE</td>\n",
       "      <td>FRAUD OR CONFIDENCE GAME</td>\n",
       "      <td>OTHER</td>\n",
       "      <td>false</td>\n",
       "      <td>false</td>\n",
       "      <td>...</td>\n",
       "      <td>31</td>\n",
       "      <td>20</td>\n",
       "      <td>11</td>\n",
       "      <td>1146483</td>\n",
       "      <td>1918250</td>\n",
       "      <td>2015</td>\n",
       "      <td>10/15/2015 03:57:16 PM</td>\n",
       "      <td>41.931657695</td>\n",
       "      <td>-87.737116292</td>\n",
       "      <td>(41.931657695, -87.737116292)</td>\n",
       "    </tr>\n",
       "    <tr>\n",
       "      <th>85329</th>\n",
       "      <td>10269086</td>\n",
       "      <td>HY456528</td>\n",
       "      <td>10/06/2015 09:00:00 AM</td>\n",
       "      <td>013XX N ADA ST</td>\n",
       "      <td>0810</td>\n",
       "      <td>THEFT</td>\n",
       "      <td>OVER $500</td>\n",
       "      <td>STREET</td>\n",
       "      <td>false</td>\n",
       "      <td>false</td>\n",
       "      <td>...</td>\n",
       "      <td>32</td>\n",
       "      <td>24</td>\n",
       "      <td>06</td>\n",
       "      <td>1167044</td>\n",
       "      <td>1909254</td>\n",
       "      <td>2015</td>\n",
       "      <td>10/13/2015 03:55:15 PM</td>\n",
       "      <td>41.906554936</td>\n",
       "      <td>-87.661816846</td>\n",
       "      <td>(41.906554936, -87.661816846)</td>\n",
       "    </tr>\n",
       "    <tr>\n",
       "      <th>85330</th>\n",
       "      <td>10269087</td>\n",
       "      <td>HY456540</td>\n",
       "      <td>09/26/2015 08:00:00 AM</td>\n",
       "      <td>016XX N MILWAUKEE AVE</td>\n",
       "      <td>1156</td>\n",
       "      <td>DECEPTIVE PRACTICE</td>\n",
       "      <td>ATTEMPT - FINANCIAL IDENTITY THEFT</td>\n",
       "      <td>SMALL RETAIL STORE</td>\n",
       "      <td>false</td>\n",
       "      <td>false</td>\n",
       "      <td>...</td>\n",
       "      <td>32</td>\n",
       "      <td>24</td>\n",
       "      <td>11</td>\n",
       "      <td>1162627</td>\n",
       "      <td>1910739</td>\n",
       "      <td>2015</td>\n",
       "      <td>10/12/2015 03:54:01 PM</td>\n",
       "      <td>41.910723622</td>\n",
       "      <td>-87.67800053</td>\n",
       "      <td>(41.910723622, -87.67800053)</td>\n",
       "    </tr>\n",
       "  </tbody>\n",
       "</table>\n",
       "<p>5 rows × 22 columns</p>\n",
       "</div>"
      ],
      "text/plain": [
       "             ID Case Number                    Date                   Block  \\\n",
       "85326  10269079    HY456433  10/10/2015 07:58:00 AM     047XX S WESTERN AVE   \n",
       "85327  10269082    HY456475  10/10/2015 08:32:00 AM  0000X S LEAMINGTON AVE   \n",
       "85328  10269083    HY456481  10/08/2015 12:31:00 PM    044XX W DIVERSEY AVE   \n",
       "85329  10269086    HY456528  10/06/2015 09:00:00 AM          013XX N ADA ST   \n",
       "85330  10269087    HY456540  09/26/2015 08:00:00 AM   016XX N MILWAUKEE AVE   \n",
       "\n",
       "       IUCR        Primary Type                         Description  \\\n",
       "85326  4210          KIDNAPPING                          KIDNAPPING   \n",
       "85327  143A   WEAPONS VIOLATION            UNLAWFUL POSS OF HANDGUN   \n",
       "85328  1130  DECEPTIVE PRACTICE            FRAUD OR CONFIDENCE GAME   \n",
       "85329  0810               THEFT                           OVER $500   \n",
       "85330  1156  DECEPTIVE PRACTICE  ATTEMPT - FINANCIAL IDENTITY THEFT   \n",
       "\n",
       "      Location Description Arrest Domestic              ...                \\\n",
       "85326               STREET   true    false              ...                 \n",
       "85327             SIDEWALK  false    false              ...                 \n",
       "85328                OTHER  false    false              ...                 \n",
       "85329               STREET  false    false              ...                 \n",
       "85330   SMALL RETAIL STORE  false    false              ...                 \n",
       "\n",
       "      Ward Community Area FBI Code X Coordinate Y Coordinate  Year  \\\n",
       "85326   12             61       26      1161173      1873000  2015   \n",
       "85327   28             25       15      1142140      1899421  2015   \n",
       "85328   31             20       11      1146483      1918250  2015   \n",
       "85329   32             24       06      1167044      1909254  2015   \n",
       "85330   32             24       11      1162627      1910739  2015   \n",
       "\n",
       "                   Updated On      Latitude      Longitude  \\\n",
       "85326  01/27/2016 03:58:37 PM  41.807194419  -87.684389872   \n",
       "85327  10/17/2015 03:55:01 PM  41.880070565  -87.753543987   \n",
       "85328  10/15/2015 03:57:16 PM  41.931657695  -87.737116292   \n",
       "85329  10/13/2015 03:55:15 PM  41.906554936  -87.661816846   \n",
       "85330  10/12/2015 03:54:01 PM  41.910723622   -87.67800053   \n",
       "\n",
       "                            Location  \n",
       "85326  (41.807194419, -87.684389872)  \n",
       "85327  (41.880070565, -87.753543987)  \n",
       "85328  (41.931657695, -87.737116292)  \n",
       "85329  (41.906554936, -87.661816846)  \n",
       "85330   (41.910723622, -87.67800053)  \n",
       "\n",
       "[5 rows x 22 columns]"
      ]
     },
     "execution_count": 81,
     "metadata": {},
     "output_type": "execute_result"
    }
   ],
   "source": [
    "df.tail()"
   ]
  },
  {
   "cell_type": "markdown",
   "metadata": {},
   "source": [
    "이제 이 데이터프레임으로 분석을 시작하자. 데이터의 크기가 큰 만큼 시간이 오래 걸리기 때문에 Dask는 작업 진행도를 알 수 있는 `ProgressBar`란 것을 제공한다. 다음과 같이 `ProgressBar`를 만들고 등록한다."
   ]
  },
  {
   "cell_type": "code",
   "execution_count": 78,
   "metadata": {
    "collapsed": true
   },
   "outputs": [],
   "source": [
    "from dask.diagnostics import ProgressBar\n",
    "pbar = ProgressBar()\n",
    "pbar.register()"
   ]
  },
  {
   "cell_type": "markdown",
   "metadata": {},
   "source": [
    "일단 등록하면 작업의 진행도를 프로그레스 바 형태로 알려준다. 우선 각 열의 데이터 갯수를 세어보자."
   ]
  },
  {
   "cell_type": "code",
   "execution_count": 82,
   "metadata": {},
   "outputs": [
    {
     "name": "stdout",
     "output_type": "stream",
     "text": [
      "[########################################] | 100% Completed | 44.0s\n",
      "Wall time: 44 s\n"
     ]
    },
    {
     "data": {
      "text/plain": [
       "ID                      6340790\n",
       "Case Number             6340786\n",
       "Date                    6340790\n",
       "Block                   6340790\n",
       "IUCR                    6340790\n",
       "Primary Type            6340790\n",
       "Description             6340790\n",
       "Location Description    6338399\n",
       "Arrest                  6340790\n",
       "Domestic                6340790\n",
       "Beat                    6340790\n",
       "District                6340741\n",
       "Ward                    5725934\n",
       "Community Area          5724757\n",
       "FBI Code                6340790\n",
       "X Coordinate            6262198\n",
       "Y Coordinate            6262198\n",
       "Year                    6340790\n",
       "Updated On              6340790\n",
       "Latitude                6262198\n",
       "Longitude               6262198\n",
       "Location                6262198\n",
       "dtype: int64"
      ]
     },
     "execution_count": 82,
     "metadata": {},
     "output_type": "execute_result"
    }
   ],
   "source": [
    "%%time\n",
    "df.count().compute()"
   ]
  },
  {
   "cell_type": "markdown",
   "metadata": {},
   "source": [
    "Dask는 이러한 대량 데이터의 분석 작업을 돕기 위한 작업 스케줄러(task scheduler)라는 것을 제공한다. 작업 스케줄러는 하나의 작업을 여러개의 쓰레드, 프로세스, 노드 등이 나누어 분담하도록 한다.\n",
    "\n",
    "현재 Dask에서 제공하는 스케줄러의 종류는 다음과 같다.\n",
    "\n",
    "* dask.get: 단일 쓰레드 \n",
    "* dask.threaded.get: 멀티쓰레드 풀(pool)\n",
    "* dask.multiprocessing.get: 멀티프로세스 풀\n",
    "* distributed.Client.get: 여러대의 컴퓨터에서 분산 처리 \n",
    "\n",
    "병렬처리를 위해서는 어떠한 병렬 처리 방식을 사용할지, 작업 프로세스의 갯수는 어떻게 할지 등은 `compute` 명령에서 인수로 설정해야 한다. 다음 코드는 멀티프로세싱을 하고 4개의 CPU 코어를 동시에 사용하도록 설정한 예이다. (물론 이 코드가 실행되는 컴퓨터가 실제로 4개 이상의 코어를 가지고 있어야 성능이 개선된다.)"
   ]
  },
  {
   "cell_type": "code",
   "execution_count": 83,
   "metadata": {
    "collapsed": true
   },
   "outputs": [],
   "source": [
    "import dask"
   ]
  },
  {
   "cell_type": "code",
   "execution_count": 85,
   "metadata": {},
   "outputs": [
    {
     "name": "stdout",
     "output_type": "stream",
     "text": [
      "[########################################] | 100% Completed | 23.0s\n",
      "Wall time: 23 s\n"
     ]
    },
    {
     "data": {
      "text/plain": [
       "ID                      6340790\n",
       "Case Number             6340786\n",
       "Date                    6340790\n",
       "Block                   6340790\n",
       "IUCR                    6340790\n",
       "Primary Type            6340790\n",
       "Description             6340790\n",
       "Location Description    6338399\n",
       "Arrest                  6340790\n",
       "Domestic                6340790\n",
       "Beat                    6340790\n",
       "District                6340741\n",
       "Ward                    5725934\n",
       "Community Area          5724757\n",
       "FBI Code                6340790\n",
       "X Coordinate            6262198\n",
       "Y Coordinate            6262198\n",
       "Year                    6340790\n",
       "Updated On              6340790\n",
       "Latitude                6262198\n",
       "Longitude               6262198\n",
       "Location                6262198\n",
       "dtype: int64"
      ]
     },
     "execution_count": 85,
     "metadata": {},
     "output_type": "execute_result"
    }
   ],
   "source": [
    "%%time\n",
    "df.count().compute(get=dask.multiprocessing.get, num_workers=4)"
   ]
  },
  {
   "cell_type": "markdown",
   "metadata": {},
   "source": [
    "속도 향상을 확인할 수 있다."
   ]
  },
  {
   "cell_type": "markdown",
   "metadata": {},
   "source": [
    "# 시각화 패키지 matplotlib 소개"
   ]
  },
  {
   "cell_type": "markdown",
   "metadata": {},
   "source": [
    "matplotlib는 파이썬에서 자료를 차트(chart)나 플롯(plot)으로 시각화(visulaization)하는 패키지이다.\n",
    "matplotlib는 다음과 같은 정형화된 차트나 플롯 이외에도 저수준 api를 사용한 다양한 시각화 기능을 제공한다.\n",
    "\n",
    "* 라인 플롯 (line plot)\n",
    "* 스캐터 플롯 (scatter plot)\n",
    "* 컨투어 플롯 (contour plot)\n",
    "* 서피스 플롯 (surface plot)\n",
    "* 바 차트 (bar chart)\n",
    "* 히스토그램 (histogram)\n",
    "* 박스 플롯 (box plot)\n"
   ]
  },
  {
   "cell_type": "markdown",
   "metadata": {},
   "source": [
    "## pylab 서브패키지"
   ]
  },
  {
   "cell_type": "markdown",
   "metadata": {},
   "source": [
    "matplotlib 패키지에는 pylab 라는 서브패키지가 존재한다. 이 pylab 서브패키지는 matlab 이라는 수치해석 소프트웨어의 시각화 명령을 거의 그대로 사용할 수 있도록 matplotlib 의 하위 API를 포장(wrapping)한 명령어 집합을 제공한다. 간단한 시각화 프로그램을 만드는 경우에는 pylab 서브패키지의 명령만으로도 충분하다. 다음에 설명할 명령어들도 별도의 설명이 없으면 pylab 패키지의 명령라고 생각하면 된다.\n",
    "\n",
    "matplotlib 패키지를 사용할 때는 보통 다음과 같이 주 패키지는 `mpl` 이라는 alias로 임포트하고 pylab 서브패키지는 `plt` 라는 alias 로 별도 임포트하여 사용하는 것이 관례이므로 여기에서도 이러한 방법을 사용한다."
   ]
  },
  {
   "cell_type": "code",
   "execution_count": 86,
   "metadata": {
    "collapsed": true
   },
   "outputs": [],
   "source": [
    "import matplotlib as mpl\n",
    "import matplotlib.pylab as plt"
   ]
  },
  {
   "cell_type": "markdown",
   "metadata": {},
   "source": [
    "## 라인 플롯"
   ]
  },
  {
   "cell_type": "code",
   "execution_count": 87,
   "metadata": {},
   "outputs": [
    {
     "data": {
      "image/png": "[encoded data removed]",
      "text/plain": [
       "<matplotlib.figure.Figure at 0x2159bde4978>"
      ]
     },
     "metadata": {},
     "output_type": "display_data"
    }
   ],
   "source": [
    "plt.plot([1,4, 9, 16])\n",
    "plt.show()"
   ]
  },
  {
   "cell_type": "markdown",
   "metadata": {},
   "source": [
    "이 때 x 축의 자료 위치 즉, 틱(tick)은 자동으로 0, 1, 2, 3 이 된다. 만약 이 x tick 위치를 별도로 명시하고 싶다면 다음과 같이 두 개의 같은 길이의 리스트 혹은 배열 자료를 넣는다."
   ]
  },
  {
   "cell_type": "code",
   "execution_count": 88,
   "metadata": {},
   "outputs": [
    {
     "data": {
      "image/png": "[encoded data removed]",
      "text/plain": [
       "<matplotlib.figure.Figure at 0x21567bc5470>"
      ]
     },
     "metadata": {},
     "output_type": "display_data"
    }
   ],
   "source": [
    "plt.plot([10, 20, 30, 40], [1,4, 9, 16])\n",
    "plt.show()"
   ]
  },
  {
   "cell_type": "markdown",
   "metadata": {},
   "source": [
    "`show` 명령은 시각화 명령을 실제로 차트로 렌더링(rendering)하고 마우스 움직임 등의 이벤트를 기다리라는 지시이다.\n",
    "\n",
    "만약 외부 렌더링을 하지 않고 IPython이나 Jupyter 노트북에서 내부 플롯(inline plot)을 사용하도록 다음과 같이 미리 설정하였다면 별도의 이벤트 처리를 할 수 없기 때문에 `show` 명령을 추가적으로 지시하지 않아도 자동으로 그림이 그려진다. 따라서 이 강의에서는 앞으로 모두 `show` 명령을 생략하도록 한다.\n",
    "\n",
    "Jupyter 노트북은 서버측에서 가동되므로 반드시 내부 플롯을 사용해야 한다."
   ]
  },
  {
   "cell_type": "code",
   "execution_count": 89,
   "metadata": {
    "collapsed": true
   },
   "outputs": [],
   "source": [
    "%matplotlib inline"
   ]
  },
  {
   "cell_type": "markdown",
   "metadata": {},
   "source": [
    "만약 IPython Qt 콘솔을 사용하는 경우에는 다음 명령으로 내부 플롯을 해제하고 그림을 콘솔 내부가 아닌 외부 창(window)에 그릴 수도 있다.\n",
    "\n",
    "```\n",
    "%matplotlib qt\n",
    "```"
   ]
  },
  {
   "cell_type": "markdown",
   "metadata": {},
   "source": [
    "## 스타일 지정"
   ]
  },
  {
   "cell_type": "markdown",
   "metadata": {},
   "source": [
    "플롯 명령어는 보는 사람이 그림을 더 알아보기 쉽게 하기 위해 다양한 스타일(style)을 지원한다. `plot` 명령어에서는 다음과 같이 추가 문자열 인수를 사용하여 스타일을 지원한다."
   ]
  },
  {
   "cell_type": "code",
   "execution_count": 90,
   "metadata": {},
   "outputs": [
    {
     "data": {
      "image/png": "[encoded data removed]",
      "text/plain": [
       "<matplotlib.figure.Figure at 0x2154f59e240>"
      ]
     },
     "metadata": {},
     "output_type": "display_data"
    }
   ],
   "source": [
    "plt.plot([1,4,9,16], 'rs--')\n",
    "plt.show()"
   ]
  },
  {
   "cell_type": "markdown",
   "metadata": {},
   "source": [
    "스타일 문자열은 색깔(color), 마커(marker), 선 종류(line style)의 순서로 지정한다. 만약 이 중 일부가 생략되면 디폴트값이 적용된다."
   ]
  },
  {
   "cell_type": "markdown",
   "metadata": {},
   "source": [
    "### 색깔"
   ]
  },
  {
   "cell_type": "markdown",
   "metadata": {},
   "source": [
    "색깔을 지정하는 방법은 색 이름 혹은 약자를 사용하거나 `#` 문자로 시작되는 RGB코드를 사용한다.\n",
    "\n",
    "자주 사용되는 색깔은 한글자 약자를 사용할 수 있으며 약자는 아래 표에 정리하였다. 전체 색깔 목록은 다음 웹사이트를 참조한다.\n",
    "\n",
    "* http://matplotlib.org/examples/color/named_colors.html\n",
    "\n",
    "| 문자열 | 약자 |\n",
    "|-|-|\n",
    "| `blue` | `b` |\n",
    "| `green` | `g` |\n",
    "| `red` | `r` |\n",
    "| `cyan` | `c` |\n",
    "| `magenta` | `m` |\n",
    "| `yellow` | `y` |\n",
    "| `black` | `k` |\n",
    "| `white` | `w` |\n"
   ]
  },
  {
   "cell_type": "markdown",
   "metadata": {},
   "source": [
    "### 마커"
   ]
  },
  {
   "cell_type": "markdown",
   "metadata": {},
   "source": [
    " 데이터 위치를 나타내는 기호를 마커(marker)라고 한다. 마커의 종류는 다음과 같다.\n",
    "\n",
    "| 마커 문자열 | 의미 |\n",
    "|-|-|\n",
    "| `.` | point marker  |\n",
    "| `,` | pixel marker |\n",
    "| `o` | circle marker |\n",
    "| `v` | triangle_down marker |\n",
    "| `^` | triangle_up marker |\n",
    "| `<` | triangle_left marker |\n",
    "| `>` | triangle_right marker |\n",
    "| `1` | tri_down marker |\n",
    "| `2` | tri_up marker |\n",
    "| `3` | tri_left marker |\n",
    "| `4` | tri_right marker |\n",
    "| `s` | square marker |\n",
    "| `p` | pentagon marker |\n",
    "| `*` | star marker |\n",
    "| `h` | hexagon1 marker |\n",
    "| `H` | hexagon2 marker |\n",
    "| `+` | plus marker |\n",
    "| `x` | x marker |\n",
    "| `D` | diamond marker |\n",
    "| `d` | thin_diamond marker |"
   ]
  },
  {
   "cell_type": "markdown",
   "metadata": {},
   "source": [
    "### 선 스타일"
   ]
  },
  {
   "cell_type": "markdown",
   "metadata": {},
   "source": [
    "선 스타일에는 실선(solid), 대시선(dashed), 점선(dotted), 대시-점선(dash-dit) 이 있다. 지정 문자열은 다음과 같다.\n",
    "\n",
    "| 선 스타일 문자열 | 의미 |\n",
    "|-|-|\n",
    "| `-` |  solid line style\n",
    "| `--` |  dashed line style\n",
    "| `-.` |  dash-dot line style\n",
    "| `:` |  dotted line style"
   ]
  },
  {
   "cell_type": "markdown",
   "metadata": {},
   "source": [
    "### 기타 스타일"
   ]
  },
  {
   "cell_type": "markdown",
   "metadata": {},
   "source": [
    "라인 플롯에서는 앞서 설명한 세 가지 스타일 이외에도 여러가지 스타일을 지정할 수 있지만 이 경우에는 인수 이름을 정확하게 지정해야 한다. 사용할 수 있는 스타일 인수의 목록은 `matplotlib.lines.Line2D` 클래스에 대한 다음 웹사이트를 참조한다.\n",
    "\n",
    "* http://matplotlib.org/1.5.1/api/lines_api.html#matplotlib.lines.Line2D\n",
    "\n",
    "라인 플롯에서 자주 사용되는 기타 스타일은 다음과 같다.\n",
    "\n",
    "| 스타일 문자열 | 약자 | 의미 |\n",
    "|-|-|-|\n",
    "| `color` | `c`  | 선 색깔 |\n",
    "| `linewidth` | `lw` | 선 굵기 |\n",
    "| `linestyle` | `ls` | 선 스타일 |\n",
    "| `marker` |   | 마커 종류 |\n",
    "| `markersize` | `ms`  | 마커 크기 |\n",
    "| `markeredgecolor` | `mec`   |\t마커 선 색깔 |\n",
    "| `markeredgewidth` | `mew`   |\t마커 선 굵기 |\n",
    "| `markerfacecolor` | `mfc`   |\t마커 내부 색깔 |\n"
   ]
  },
  {
   "cell_type": "code",
   "execution_count": 91,
   "metadata": {},
   "outputs": [
    {
     "data": {
      "image/png": "[encoded data removed]",
      "text/plain": [
       "<matplotlib.figure.Figure at 0x215eb76acc0>"
      ]
     },
     "metadata": {},
     "output_type": "display_data"
    }
   ],
   "source": [
    "plt.plot([1,4,9,16], c=\"b\", lw=5, ls=\"--\", marker=\"o\", ms=15, mec=\"g\", mew=5, mfc=\"r\")\n",
    "plt.show()"
   ]
  },
  {
   "cell_type": "markdown",
   "metadata": {},
   "source": [
    "## 그림 범위 지정"
   ]
  },
  {
   "cell_type": "markdown",
   "metadata": {},
   "source": [
    "플롯 그림을 보면 몇몇 점들은 그림의 범위 경계선에 있어서 잘 보이지 않는 경우가 있을 수 있다. 그림의 범위를 수동으로 지정하려면 `xlim` 명령과 `ylim` 명령을 사용한다. 이 명령들은 그림의 범위가 되는 x축, y축의 최소값과 최대값을 지정한다."
   ]
  },
  {
   "cell_type": "code",
   "execution_count": 92,
   "metadata": {},
   "outputs": [
    {
     "data": {
      "image/png": "[encoded data removed]",
      "text/plain": [
       "<matplotlib.figure.Figure at 0x216052fd128>"
      ]
     },
     "metadata": {},
     "output_type": "display_data"
    }
   ],
   "source": [
    "plt.plot([1,4,9,16], c=\"b\", lw=5, ls=\"--\", marker=\"o\", ms=15, mec=\"g\", mew=5, mfc=\"r\")\n",
    "plt.xlim(-0.2, 3.2)\n",
    "plt.ylim(-1, 18)\n",
    "plt.show()"
   ]
  },
  {
   "cell_type": "markdown",
   "metadata": {},
   "source": [
    "## 틱 설정"
   ]
  },
  {
   "cell_type": "markdown",
   "metadata": {},
   "source": [
    "플롯이나 차트에서 축상의 위치 표시 지점을 틱(tick)이라고 하고 이 틱에 써진 숫자 혹은 글자를 틱 라벨(tick label)이라고 한다. 틱의 위치나 틱 라벨은 matplotlib가 자동으로 정해주지만 만약 수동으로 설정하고 싶다면 `xticks` 명령이나 `yticks` 명령을 사용한다."
   ]
  },
  {
   "cell_type": "code",
   "execution_count": 93,
   "metadata": {},
   "outputs": [
    {
     "data": {
      "image/png": "[encoded data removed]",
      "text/plain": [
       "<matplotlib.figure.Figure at 0x21584251ac8>"
      ]
     },
     "metadata": {},
     "output_type": "display_data"
    }
   ],
   "source": [
    "X = np.linspace(-np.pi, np.pi, 256)\n",
    "C = np.cos(X)\n",
    "plt.plot(X, C)\n",
    "plt.xticks([-np.pi, -np.pi/2, 0, np.pi/2, np.pi])\n",
    "plt.yticks([-1, 0, +1])\n",
    "plt.show()"
   ]
  },
  {
   "cell_type": "markdown",
   "metadata": {},
   "source": [
    "틱 라벨 문자열에는 `$$` 사이에 $\\LaTeX$ 수학 문자식을 넣을 수도 있다."
   ]
  },
  {
   "cell_type": "code",
   "execution_count": 94,
   "metadata": {},
   "outputs": [
    {
     "data": {
      "image/png": "[encoded data removed]",
      "text/plain": [
       "<matplotlib.figure.Figure at 0x21500ceb9e8>"
      ]
     },
     "metadata": {},
     "output_type": "display_data"
    }
   ],
   "source": [
    "X = np.linspace(-np.pi, np.pi, 256)\n",
    "C = np.cos(X)\n",
    "plt.plot(X, C)\n",
    "plt.xticks([-np.pi, -np.pi/2, 0, np.pi/2, np.pi], [r'$-\\pi$', r'$-\\pi/2$', r'$0$', r'$+\\pi/2$', r'$+\\pi$'])\n",
    "plt.yticks([-1, 0, 1], [\"Low\", \"Zero\", \"High\"])\n",
    "plt.show()"
   ]
  },
  {
   "cell_type": "markdown",
   "metadata": {},
   "source": [
    "## 그리드 설정"
   ]
  },
  {
   "cell_type": "markdown",
   "metadata": {},
   "source": [
    "위 그림을 보면 틱 위치를 잘 보여주기 위해 그림 중간에 그리드 선(grid line)이 자동으로 그려진 것을 알 수 있다. 그리드를 사용하지 않으려면 `grid(False)` 명령을 사용한다. 다시 그리드를 사용하려면 `grid(True)`를 사용한다."
   ]
  },
  {
   "cell_type": "code",
   "execution_count": 96,
   "metadata": {},
   "outputs": [
    {
     "data": {
      "image/png": "[encoded data removed]",
      "text/plain": [
       "<matplotlib.figure.Figure at 0x21515a08a58>"
      ]
     },
     "metadata": {},
     "output_type": "display_data"
    }
   ],
   "source": [
    "X = np.linspace(-np.pi, np.pi, 256)\n",
    "C = np.cos(X)\n",
    "plt.plot(X, C)\n",
    "plt.xticks([-np.pi, -np.pi/2, 0, np.pi/2, np.pi], [r'$-\\pi$', r'$-\\pi/2$', r'$0$', r'$+\\pi/2$', r'$+\\pi$'])\n",
    "plt.yticks([-1, 0, 1], [\"Low\", \"Zero\", \"High\"])\n",
    "plt.grid(True)\n",
    "plt.show()"
   ]
  },
  {
   "cell_type": "markdown",
   "metadata": {},
   "source": [
    "## 여러개의 선을 그리기"
   ]
  },
  {
   "cell_type": "markdown",
   "metadata": {},
   "source": [
    "라인 플롯에서 선을 하나가 아니라 여러개를 그리고 싶은 경우에는 x 데이터, y 데이터, 스타일 문자열을 반복하여 인수로 넘긴다. 이 경우에는 하나의 선을 그릴 때 처럼 x 데이터나 스타일 문자열을 생략할 수 없다."
   ]
  },
  {
   "cell_type": "code",
   "execution_count": 97,
   "metadata": {},
   "outputs": [
    {
     "data": {
      "image/png": "[encoded data removed]",
      "text/plain": [
       "<matplotlib.figure.Figure at 0x215aca6b710>"
      ]
     },
     "metadata": {},
     "output_type": "display_data"
    }
   ],
   "source": [
    "t = np.arange(0., 5., 0.2)\n",
    "plt.plot(t, t, 'r--', t, 0.5*t**2, 'bs:', t, 0.2*t**3, 'g^-')\n",
    "plt.show()"
   ]
  },
  {
   "cell_type": "markdown",
   "metadata": {},
   "source": [
    "## 홀드 명령"
   ]
  },
  {
   "cell_type": "markdown",
   "metadata": {},
   "source": [
    "하나의 `plot` 명령이 아니라 복수의 `plot` 명령을 하나의 그림에 겹쳐서 그릴 수도 있다. 기존의 그림 위에 겹쳐 그리도록 하는 명령은 `hold(True)` 이다. 겹치기를 종료하는 것은 `hold(False)` 이다."
   ]
  },
  {
   "cell_type": "code",
   "execution_count": 100,
   "metadata": {},
   "outputs": [
    {
     "name": "stderr",
     "output_type": "stream",
     "text": [
      "C:\\ProgramData\\Anaconda3\\lib\\site-packages\\ipykernel_launcher.py:3: MatplotlibDeprecationWarning: pyplot.hold is deprecated.\n",
      "    Future behavior will be consistent with the long-time default:\n",
      "    plot commands add elements without first clearing the\n",
      "    Axes and/or Figure.\n",
      "  This is separate from the ipykernel package so we can avoid doing imports until\n",
      "C:\\ProgramData\\Anaconda3\\lib\\site-packages\\matplotlib\\__init__.py:917: UserWarning: axes.hold is deprecated. Please remove it from your matplotlibrc and/or style files.\n",
      "  warnings.warn(self.msg_depr_set % key)\n",
      "C:\\ProgramData\\Anaconda3\\lib\\site-packages\\matplotlib\\rcsetup.py:152: UserWarning: axes.hold is deprecated, will be removed in 3.0\n",
      "  warnings.warn(\"axes.hold is deprecated, will be removed in 3.0\")\n",
      "C:\\ProgramData\\Anaconda3\\lib\\site-packages\\ipykernel_launcher.py:5: MatplotlibDeprecationWarning: pyplot.hold is deprecated.\n",
      "    Future behavior will be consistent with the long-time default:\n",
      "    plot commands add elements without first clearing the\n",
      "    Axes and/or Figure.\n",
      "  \"\"\"\n"
     ]
    },
    {
     "data": {
      "image/png": "[encoded data removed]",
      "text/plain": [
       "<matplotlib.figure.Figure at 0x215e02beda0>"
      ]
     },
     "metadata": {},
     "output_type": "display_data"
    }
   ],
   "source": [
    "plt.figure(figsize=(12,8))\n",
    "plt.plot([1,4,9,16], c=\"b\", lw=5, ls=\"--\", marker=\"o\", ms=15, mec=\"g\", mew=5, mfc=\"r\")\n",
    "plt.hold(True)\n",
    "plt.plot([9,16, 4, 1], c=\"k\", lw=3, ls=\":\", marker=\"s\", ms=10, mec=\"m\", mew=5, mfc=\"c\")\n",
    "plt.hold(False)\n",
    "plt.grid(True)\n",
    "plt.show()"
   ]
  },
  {
   "cell_type": "markdown",
   "metadata": {},
   "source": [
    "## 범례"
   ]
  },
  {
   "cell_type": "markdown",
   "metadata": {},
   "source": [
    "여러개의 라인 플롯을 동시에 그리는 경우에는 각 선이 무슨 자료를 표시하는지를 보여주기 위해 `legend` 명령으로  범례(legend)를 추가할 수 있다. 범례의 위치는 자동으로 정해지지만 수동으로 설정하고 싶으면 `loc` 인수를 사용한다. 인수에는 문자열 혹은 숫자가 들어가며 가능한 코드는 다음과 같다.\n",
    "\n",
    "| loc 문자열 | 숫자 |\n",
    "|-|-|\n",
    "| `best` |  0 | \n",
    "| `upper right` |  1 | \n",
    "| `upper left` |  2 | \n",
    "| `lower left` |  3 | \n",
    "| `lower right` |  4 | \n",
    "| `right` |  5 | \n",
    "| `center left` |  6 | \n",
    "| `center right` |  7 | \n",
    "| `lower center` |  8 | \n",
    "| `upper center` |  9 | \n",
    "| `center` |  10 | \n",
    "\n"
   ]
  },
  {
   "cell_type": "code",
   "execution_count": 102,
   "metadata": {},
   "outputs": [
    {
     "name": "stderr",
     "output_type": "stream",
     "text": [
      "C:\\ProgramData\\Anaconda3\\lib\\site-packages\\ipykernel_launcher.py:5: MatplotlibDeprecationWarning: pyplot.hold is deprecated.\n",
      "    Future behavior will be consistent with the long-time default:\n",
      "    plot commands add elements without first clearing the\n",
      "    Axes and/or Figure.\n",
      "  \"\"\"\n",
      "C:\\ProgramData\\Anaconda3\\lib\\site-packages\\matplotlib\\__init__.py:917: UserWarning: axes.hold is deprecated. Please remove it from your matplotlibrc and/or style files.\n",
      "  warnings.warn(self.msg_depr_set % key)\n",
      "C:\\ProgramData\\Anaconda3\\lib\\site-packages\\matplotlib\\rcsetup.py:152: UserWarning: axes.hold is deprecated, will be removed in 3.0\n",
      "  warnings.warn(\"axes.hold is deprecated, will be removed in 3.0\")\n"
     ]
    },
    {
     "data": {
      "image/png": "[encoded data removed]",
      "text/plain": [
       "<matplotlib.figure.Figure at 0x2156be18e80>"
      ]
     },
     "metadata": {},
     "output_type": "display_data"
    }
   ],
   "source": [
    "X = np.linspace(-np.pi, np.pi, 256)\n",
    "C, S = np.cos(X), np.sin(X)\n",
    "plt.figure(figsize=(12,8))\n",
    "plt.plot(X, C, label=\"cosine\")\n",
    "plt.hold(True)\n",
    "plt.plot(X, S, label=\"sine\")\n",
    "plt.legend(loc=2)\n",
    "plt.grid(True)\n",
    "plt.show()"
   ]
  },
  {
   "cell_type": "markdown",
   "metadata": {},
   "source": [
    "## x축, y축 라벨, 타이틀"
   ]
  },
  {
   "cell_type": "markdown",
   "metadata": {},
   "source": [
    "플롯의 x축 위치와 y축 위치에는 각각 그 데이터가 의미하는 바를 표시하기 위해 라벨(label)를 추가할 수 있다. 라벨을 붙이려면 `xlabel`. `ylabel` 명령을 사용한다. 또 플롯의 위에는 `title` 명령으로 제목(title)을 붙일 수 있다."
   ]
  },
  {
   "cell_type": "code",
   "execution_count": 106,
   "metadata": {},
   "outputs": [
    {
     "data": {
      "image/png": "[encoded data removed]",
      "text/plain": [
       "<matplotlib.figure.Figure at 0x21523aba5c0>"
      ]
     },
     "metadata": {},
     "output_type": "display_data"
    }
   ],
   "source": [
    "X = np.linspace(-np.pi, np.pi, 256)\n",
    "C, S = np.cos(X), np.sin(X)\n",
    "plt.plot(X, C, label=\"cosine\")\n",
    "plt.xlabel(\"$t$\")\n",
    "plt.ylabel(\"$|X|$\")\n",
    "plt.title(\"Cosine Plot\")\n",
    "plt.show()"
   ]
  },
  {
   "cell_type": "markdown",
   "metadata": {},
   "source": [
    "## 부가설명"
   ]
  },
  {
   "cell_type": "markdown",
   "metadata": {},
   "source": [
    "`annotate` 명령을 사용하면 그림 내에 화살표를 포함한 부가 설명 문자열을 넣을 수 있다."
   ]
  },
  {
   "cell_type": "code",
   "execution_count": 115,
   "metadata": {},
   "outputs": [
    {
     "data": {
      "image/png": "[encoded data removed]",
      "text/plain": [
       "<matplotlib.figure.Figure at 0x215321210b8>"
      ]
     },
     "metadata": {},
     "output_type": "display_data"
    }
   ],
   "source": [
    "plt.plot(X, S, label=\"sine\")\n",
    "plt.scatter([0], [0], color=\"r\", linewidth=10)\n",
    "plt.annotate(r'$(0,0)$', xy=(0, 0), xycoords='data', xytext=(-50, 50), \n",
    "             textcoords='offset points', fontsize=16, \n",
    "             arrowprops=dict(arrowstyle=\"->\", linewidth=3, color=\"k\"))\n",
    "plt.show()"
   ]
  },
  {
   "cell_type": "markdown",
   "metadata": {},
   "source": [
    "## 그림의 구조"
   ]
  },
  {
   "cell_type": "markdown",
   "metadata": {},
   "source": [
    "matplotlib가 그리는 그림은 사실 Figure, Axes, Axis 등으로 이어지는 구조를 가진다. 다음 그림은 이 구조를 설명하고 있다.\n",
    "\n",
    "<img src=\"https://datascienceschool.net/upfiles/4e20efe6352e4f4fac65c26cb660f522.png\" style=\"width: 50%\">"
   ]
  },
  {
   "cell_type": "markdown",
   "metadata": {},
   "source": [
    "## Figure"
   ]
  },
  {
   "cell_type": "markdown",
   "metadata": {},
   "source": [
    "모든 그림은 Figure 라고 하는 부르는 `matplotlib.figure.Figure` 클래스 객체에 포함되어 있다. 내부 플롯(inline plot)이 아닌 경우에는 하나의 Figure는 하나의 아이디 숫자와 윈도우(Window)를 가진다. \n",
    "\n",
    "Figure 객체에 대한 자세한 설명은 다음 웹사이트를 참조한다.\n",
    "\n",
    "* http://matplotlib.org/api/figure_api.html#matplotlib.figure.Figure"
   ]
  },
  {
   "cell_type": "markdown",
   "metadata": {},
   "source": [
    "원래 Figure를 생성하려면 `figure` 명령을 사용하여 그 반환값으로 Figure 객체를 얻어야 한다. 그러나 일반적인 `plot` 명령 등을 실행하면 자동으로 Figure를 생성해주기 때문에 일반적으로는 `figure` 명령을 잘 사용하지 않는다. `figure` 명령을 명시적으로 사용하는 경우는 여러개의 윈도우를 동시에 띄워야 하거나(line plot이 아닌 경우), Jupyter 노트북 등에서(line plot의 경우) 그림의 크기를 설정하고 싶을 때이다. 그림의 크기는 figsize 인수로 설정한다."
   ]
  },
  {
   "cell_type": "code",
   "execution_count": 116,
   "metadata": {},
   "outputs": [
    {
     "data": {
      "image/png": "[encoded data removed]",
      "text/plain": [
       "<matplotlib.figure.Figure at 0x2156b709cf8>"
      ]
     },
     "metadata": {},
     "output_type": "display_data"
    }
   ],
   "source": [
    "f1 = plt.figure(figsize=(10,2))\n",
    "plt.plot(np.random.randn(100))\n",
    "plt.show()"
   ]
  },
  {
   "cell_type": "markdown",
   "metadata": {},
   "source": [
    "만약 명시적으로 `figure` 명령을 사용하지 않은 경우에 Figure 객체를 얻으려면 `gcf` 명령을 사용한다."
   ]
  },
  {
   "cell_type": "code",
   "execution_count": 117,
   "metadata": {},
   "outputs": [
    {
     "name": "stdout",
     "output_type": "stream",
     "text": [
      "Figure(432x288) 2292246235344\n",
      "Figure(432x288) 2292246235344\n"
     ]
    },
    {
     "data": {
      "image/png": "[encoded data removed]",
      "text/plain": [
       "<matplotlib.figure.Figure at 0x215b485c8d0>"
      ]
     },
     "metadata": {},
     "output_type": "display_data"
    }
   ],
   "source": [
    "f1 = plt.figure(1)\n",
    "plt.plot([1,2,3,4], 'ro:')\n",
    "f2 = plt.gcf()\n",
    "print(f1, id(f1))\n",
    "print(f2, id(f2))\n",
    "plt.show()"
   ]
  },
  {
   "cell_type": "markdown",
   "metadata": {},
   "source": [
    "## Axes와 Subplot"
   ]
  },
  {
   "cell_type": "markdown",
   "metadata": {},
   "source": [
    "때로는 다음과 같이 하나의 윈도우(Figure)안에 여러개의 플롯을 배열 형태로 보여야하는 경우도 있다. Figure 안에 있는 각각의 플롯은 Axes 라고 불리는 객체에 속한다.\n",
    "\n",
    "Axes 객체에 대한 자세한 설명은 다음 웹사이트를 참조한다.\n",
    "\n",
    "* http://matplotlib.org/api/axes_api.html#matplotlib.axes.Axes"
   ]
  },
  {
   "cell_type": "markdown",
   "metadata": {},
   "source": [
    "Figure 안에 Axes를 생성하려면 원래는 `subplot` 명령을 사용하여 명시적으로 Axes 객체를 얻어야 한다. 그러나 plot 명령을 바로 사용해도 자동으로 Axes를 생성해 준다.\n",
    "\n",
    "`subplot` 명령은 그리드(grid) 형태의 Axes 객체들을 생성하는데 Figure가 행렬(matrix)이고 Axes가 행렬의 원소라고 생각하면 된다. 예를 들어 \n",
    "위와 아래 두 개의 플롯이 있는 경우 행이 2 이고 열이 1인 2x1 행렬이다. \n",
    "\n",
    "`subplot` 명령은 세개의 인수를 가지는데 처음 두개의 원소가 전체 그리드 행렬의 모양을 지시하는 두 숫자이고 세번째 인수가 네 개 중 어느것인지를 의미하는 숫자이다."
   ]
  },
  {
   "cell_type": "code",
   "execution_count": 119,
   "metadata": {},
   "outputs": [
    {
     "name": "stdout",
     "output_type": "stream",
     "text": [
      "Axes(0.125,0.536818;0.775x0.343182)\n",
      "Axes(0.125,0.125;0.775x0.343182)\n"
     ]
    },
    {
     "data": {
      "image/png": "[encoded data removed]",
      "text/plain": [
       "<matplotlib.figure.Figure at 0x2155040ffd0>"
      ]
     },
     "metadata": {},
     "output_type": "display_data"
    }
   ],
   "source": [
    "x1 = np.linspace(0.0, 5.0)\n",
    "x2 = np.linspace(0.0, 2.0)\n",
    "y1 = np.cos(2 * np.pi * x1) * np.exp(-x1)\n",
    "y2 = np.cos(2 * np.pi * x2)\n",
    "\n",
    "ax1 = plt.subplot(2, 1, 1)\n",
    "plt.plot(x1, y1, 'yo-')\n",
    "plt.title('A tale of 2 subplots')\n",
    "plt.ylabel('Damped oscillation')\n",
    "print(ax1)\n",
    "\n",
    "ax2 = plt.subplot(2, 1, 2)\n",
    "plt.plot(x2, y2, 'r^-')\n",
    "plt.xlabel('time (s)')\n",
    "plt.ylabel('Undamped')\n",
    "print(ax2)\n",
    "\n",
    "plt.show()"
   ]
  },
  {
   "cell_type": "markdown",
   "metadata": {},
   "source": [
    "만약 2x2 형태의 네 개의 플롯이라면 다음과 같이 그린다. 이 때 `subplot` 의 인수는 (2,2,1)를 줄여서 221 라는 하나의 숫자로 표시할 수도 있다.\n",
    "Axes의 위치는 위에서 부터 아래로, 왼쪽에서 오른쪽으로 카운트한다."
   ]
  },
  {
   "cell_type": "code",
   "execution_count": 120,
   "metadata": {},
   "outputs": [
    {
     "data": {
      "image/png": "[encoded data removed]",
      "text/plain": [
       "<matplotlib.figure.Figure at 0x2158bd611d0>"
      ]
     },
     "metadata": {},
     "output_type": "display_data"
    }
   ],
   "source": [
    "plt.subplot(221); plt.plot([1, 2]); plt.title(1)\n",
    "plt.subplot(222); plt.plot([1, 2]); plt.title(2)\n",
    "plt.subplot(223); plt.plot([1, 2]); plt.title(3)\n",
    "plt.subplot(224); plt.plot([1, 2]); plt.title(4)\n",
    "plt.tight_layout()\n",
    "plt.show()"
   ]
  },
  {
   "cell_type": "markdown",
   "metadata": {},
   "source": [
    "## xkcd 스타일"
   ]
  },
  {
   "cell_type": "code",
   "execution_count": 121,
   "metadata": {},
   "outputs": [
    {
     "name": "stderr",
     "output_type": "stream",
     "text": [
      "C:\\ProgramData\\Anaconda3\\lib\\site-packages\\matplotlib\\__init__.py:917: UserWarning: axes.hold is deprecated. Please remove it from your matplotlibrc and/or style files.\n",
      "  warnings.warn(self.msg_depr_set % key)\n",
      "C:\\ProgramData\\Anaconda3\\lib\\site-packages\\matplotlib\\rcsetup.py:152: UserWarning: axes.hold is deprecated, will be removed in 3.0\n",
      "  warnings.warn(\"axes.hold is deprecated, will be removed in 3.0\")\n"
     ]
    },
    {
     "data": {
      "image/png": "[encoded data removed]",
      "text/plain": [
       "<matplotlib.figure.Figure at 0x21584252940>"
      ]
     },
     "metadata": {},
     "output_type": "display_data"
    }
   ],
   "source": [
    "with plt.xkcd():\n",
    "    plt.title('XKCD style plot!!!')\n",
    "    plt.plot(X, C, label=\"cosine\")\n",
    "    t = 2 * np.pi / 3\n",
    "    plt.scatter(t, np.cos(t), 50, color='blue')\n",
    "    plt.annotate(r'0.5 Here!', xy=(t, np.cos(t)), xycoords='data', xytext=(-90, -50), \n",
    "                 textcoords='offset points', fontsize=16, arrowprops=dict(arrowstyle=\"->\"))\n",
    "plt.show()    "
   ]
  }
 ],
 "metadata": {
  "kernelspec": {
   "display_name": "Python 3",
   "language": "python",
   "name": "python3"
  },
  "language_info": {
   "codemirror_mode": {
    "name": "ipython",
    "version": 3
   },
   "file_extension": ".py",
   "mimetype": "text/x-python",
   "name": "python",
   "nbconvert_exporter": "python",
   "pygments_lexer": "ipython3",
   "version": "3.6.0"
  }
 },
 "nbformat": 4,
 "nbformat_minor": 2
}
