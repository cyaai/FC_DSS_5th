{
 "cells": [
  {
   "cell_type": "markdown",
   "metadata": {},
   "source": [
    "# Day 09"
   ]
  },
  {
   "cell_type": "markdown",
   "metadata": {},
   "source": [
    "## 기초 개념\n",
    "\n",
    "* Database\n",
    "\n",
    "\n",
    "* DBMS(Database Management System)\n",
    "\n",
    "\n",
    "* DBMS의 종류\n",
    "  * 관계형 데이터베이스 관리 시스템 (RDBMS: Relational Database Management System)\n",
    "    * SQL(Structured Query Language)\n",
    "  * NoSQL DBMS\n",
    "\n",
    "\n",
    "* DBMS의 구조\n",
    "  * 데이터베이스(database)\n",
    "  * 테이블(table)\n",
    "    * 스키마(schema)\n",
    "  * 레코드(record)\n",
    "\n",
    "\n",
    "* SQL\n",
    "  * 생성(Create): INSERT\n",
    "  * 읽기(Read): SELECT\n",
    "  * 갱신(Update): UPDATE\n",
    "  * 삭제(Delete): DELETE\n",
    "\n",
    "\n",
    "* 트랜잭션(Transaction)\n",
    "  * 데이터베이스의 작업 단위\n",
    "  * 커밋(commit)\n",
    "    * 트랜잭션 내용을 적용\n",
    "  * 롤백(rollback)\n",
    "    * 과거의 상태로 되돌림\n",
    "\n",
    "\n",
    "* ACID\n",
    "  * 원자성(Atomicity)\n",
    "    * 작업들이 부분적으로 실행되지 않고 완결되는 것을 보장\n",
    "  * 일관성(Consistency)\n",
    "    * \n",
    "  * Isolation\n",
    "  * Durability\n"
   ]
  },
  {
   "cell_type": "markdown",
   "metadata": {},
   "source": [
    "## PostgreSQL"
   ]
  },
  {
   "cell_type": "markdown",
   "metadata": {},
   "source": [
    "### 가동\n",
    "\n",
    "ssh 프로그램이나 docker attach 명령, 또는 jupyter notebook의 terminal을 이용하여 도커 컨테이너 콘솔로 들어간 뒤\n",
    "\n",
    "```\n",
    "sudo service postgresql start\n",
    "```\n",
    "\n",
    "### 콘솔\n",
    "\n",
    "콘솔에서 데이터베이스르 조작하는 명령은 권한을 가진 `postgres` 라는 계정으로 실행해야 하므로 항상 `sudo -u postgres`를 붙여서 실행한다.\n",
    "\n",
    "* 시작\n",
    "```\n",
    "sudo -u postgres psql\n",
    "```\n",
    "\n",
    "\n",
    "* 종료\n",
    "```\n",
    "postgres=# \\q\n",
    "```\n",
    "\n",
    "\n",
    "* 콘솔 도움말(vi 모드)\n",
    "```\n",
    "postgres=# \\?\n",
    "```\n",
    "\n",
    "\n",
    "* SQL 도움말\n",
    "```\n",
    "postgres=# \\h\n",
    "```\n"
   ]
  },
  {
   "cell_type": "markdown",
   "metadata": {},
   "source": [
    "## 교재\n",
    "\n",
    "* http://www.postgresqltutorial.com/\n",
    "\n",
    "### 샘플 데이터베이스 다운로드\n",
    "\n",
    "```\n",
    "$ wget -O dvdrental.zip http://www.postgresqltutorial.com/download/dvd-rental-sample-database/?wpdmdl=969\n",
    "$ unzip dvdrental.zip\n",
    "```\n",
    "\n",
    "### 샘플 데이터베이스 생성 (bash shell에서)\n",
    "\n",
    "```\n",
    "$ sudo -u postgres createdb dvdrental\n",
    "\n",
    "$ sudo -u postgres pg_restore -d dvdrental dvdrental.tar\n",
    "\n",
    "$ sudo -u postgres psql\n",
    "psql (9.5.6)\n",
    "Type \"help\" for help.\n",
    "\n",
    "postgres=# \\c dvdrental\n",
    "You are now connected to database \"dvdrental\" as user \"postgres\".\n",
    "\n",
    "dvdrental-# \\dt\n",
    "             List of relations\n",
    " Schema |     Name      | Type  |  Owner\n",
    "--------+---------------+-------+----------\n",
    " public | actor         | table | postgres\n",
    " public | address       | table | postgres\n",
    " public | category      | table | postgres\n",
    " public | city          | table | postgres\n",
    " public | country       | table | postgres\n",
    " public | customer      | table | postgres\n",
    " public | film          | table | postgres\n",
    " public | film_actor    | table | postgres\n",
    " public | film_category | table | postgres\n",
    " public | inventory     | table | postgres\n",
    " public | language      | table | postgres\n",
    " public | payment       | table | postgres\n",
    " public | rental        | table | postgres\n",
    " public | staff         | table | postgres\n",
    " public | store         | table | postgres\n",
    "(15 rows)\n",
    "\n",
    "\n",
    "```"
   ]
  },
  {
   "cell_type": "markdown",
   "metadata": {},
   "source": [
    "## 스키마 확인"
   ]
  },
  {
   "cell_type": "markdown",
   "metadata": {},
   "source": [
    "```\n",
    "dvdrental=# \\d+ customer\n",
    "\n",
    "\n",
    "                                                              Table \"public.customer\"\n",
    "   Column    |            Type             |                           Modifiers                            | Storage  | Stats target | Description\n",
    "-------------+-----------------------------+----------------------------------------------------------------+----------+--------------+-------------\n",
    " customer_id | integer                     | not null default nextval('customer_customer_id_seq'::regclass) | plain    |              |\n",
    " store_id    | smallint                    | not null                                                       | plain    |              |\n",
    " first_name  | character varying(45)       | not null                                                       | extended |              |\n",
    " last_name   | character varying(45)       | not null                                                       | extended |              |\n",
    " email       | character varying(50)       |                                                                | extended |              |\n",
    " address_id  | smallint                    | not null                                                       | plain    |              |\n",
    " activebool  | boolean                     | not null default true                                          | plain    |              |\n",
    " create_date | date                        | not null default ('now'::text)::date                           | plain    |              |\n",
    " last_update | timestamp without time zone | default now()                                                  | plain    |              |\n",
    " active      | integer                     |                                                                | plain    |              |\n",
    "Indexes:\n",
    "    \"customer_pkey\" PRIMARY KEY, btree (customer_id)\n",
    "    \"idx_fk_address_id\" btree (address_id)\n",
    "    \"idx_fk_store_id\" btree (store_id)\n",
    "    \"idx_last_name\" btree (last_name)\n",
    "Foreign-key constraints:\n",
    "    \"customer_address_id_fkey\" FOREIGN KEY (address_id) REFERENCES address(address_id) ON UPDATE CASCADE ON DELETE RESTRICT\n",
    "Referenced by:\n",
    "    TABLE \"payment\" CONSTRAINT \"payment_customer_id_fkey\" FOREIGN KEY (customer_id) REFERENCES customer(customer_id) ON UPDATE CASCADE ON DELETE RESTRICT\n",
    "    TABLE \"rental\" CONSTRAINT \"rental_customer_id_fkey\" FOREIGN KEY (customer_id) REFERENCES customer(customer_id) ON UPDATE CASCADE ON DELETE RESTRICT\n",
    "Triggers:\n",
    "    last_updated BEFORE UPDATE ON customer FOR EACH ROW EXECUTE PROCEDURE last_updated()\n",
    "\n",
    "\n",
    "```"
   ]
  },
  {
   "cell_type": "markdown",
   "metadata": {},
   "source": [
    "```\n",
    "dvdrental=# \\d+ payment\n",
    "\n",
    "\n",
    "                                                              Table \"public.payment\"\n",
    "    Column    |            Type             |                          Modifiers                           | Storage | Stats target | Description\n",
    "--------------+-----------------------------+--------------------------------------------------------------+---------+--------------+-------------\n",
    " payment_id   | integer                     | not null default nextval('payment_payment_id_seq'::regclass) | plain   |              |\n",
    " customer_id  | smallint                    | not null                                                     | plain   |              |\n",
    " staff_id     | smallint                    | not null                                                     | plain   |              |\n",
    " rental_id    | integer                     | not null                                                     | plain   |              |\n",
    " amount       | numeric(5,2)                | not null                                                     | main    |              |\n",
    " payment_date | timestamp without time zone | not null                                                     | plain   |              |\n",
    "Indexes:\n",
    "    \"payment_pkey\" PRIMARY KEY, btree (payment_id)\n",
    "    \"idx_fk_customer_id\" btree (customer_id)\n",
    "    \"idx_fk_rental_id\" btree (rental_id)\n",
    "    \"idx_fk_staff_id\" btree (staff_id)\n",
    "Foreign-key constraints:\n",
    "    \"payment_customer_id_fkey\" FOREIGN KEY (customer_id) REFERENCES customer(customer_id) ON UPDATE CASCADE ON DELETE RESTRICT\n",
    "    \"payment_rental_id_fkey\" FOREIGN KEY (rental_id) REFERENCES rental(rental_id) ON UPDATE CASCADE ON DELETE SET NULL\n",
    "    \"payment_staff_id_fkey\" FOREIGN KEY (staff_id) REFERENCES staff(staff_id) ON UPDATE CASCADE ON DELETE RESTRICT\n",
    "\n",
    "\n",
    "```"
   ]
  },
  {
   "cell_type": "markdown",
   "metadata": {},
   "source": [
    "```\n",
    "dvdrental=# \\d+ staff\n",
    "\n",
    "\n",
    "\n",
    "                                                             Table \"public.staff\"\n",
    "   Column    |            Type             |                        Modifiers                         | Storage  | Stats target | Description\n",
    "-------------+-----------------------------+----------------------------------------------------------+----------+--------------+-------------\n",
    " staff_id    | integer                     | not null default nextval('staff_staff_id_seq'::regclass) | plain    |              |\n",
    " first_name  | character varying(45)       | not null                                                 | extended |              |\n",
    " last_name   | character varying(45)       | not null                                                 | extended |              |\n",
    " address_id  | smallint                    | not null                                                 | plain    |              |\n",
    " email       | character varying(50)       |                                                          | extended |              |\n",
    " store_id    | smallint                    | not null                                                 | plain    |              |\n",
    " active      | boolean                     | not null default true                                    | plain    |              |\n",
    " username    | character varying(16)       | not null                                                 | extended |              |\n",
    " password    | character varying(40)       |                                                          | extended |              |\n",
    " last_update | timestamp without time zone | not null default now()                                   | plain    |              |\n",
    " picture     | bytea                       |                                                          | extended |              |\n",
    "Indexes:\n",
    "    \"staff_pkey\" PRIMARY KEY, btree (staff_id)\n",
    "Foreign-key constraints:\n",
    "    \"staff_address_id_fkey\" FOREIGN KEY (address_id) REFERENCES address(address_id) ON UPDATE CASCADE ON DELETE RESTRICT\n",
    "Referenced by:\n",
    "    TABLE \"payment\" CONSTRAINT \"payment_staff_id_fkey\" FOREIGN KEY (staff_id) REFERENCES staff(staff_id) ON UPDATE CASCADE ON DELETE RESTRICT\n",
    "    TABLE \"rental\" CONSTRAINT \"rental_staff_id_key\" FOREIGN KEY (staff_id) REFERENCES staff(staff_id)\n",
    "    TABLE \"store\" CONSTRAINT \"store_manager_staff_id_fkey\" FOREIGN KEY (manager_staff_id) REFERENCES staff(staff_id) ON UPDATE CASCADE ON DELETE RESTRICT\n",
    "Triggers:\n",
    "    last_updated BEFORE UPDATE ON staff FOR EACH ROW EXECUTE PROCEDURE last_updated()\n",
    "\n",
    "\n",
    "\n",
    "```"
   ]
  },
  {
   "cell_type": "markdown",
   "metadata": {},
   "source": [
    "## SQL SELECT 명령"
   ]
  },
  {
   "cell_type": "markdown",
   "metadata": {},
   "source": [
    "* http://www.postgresqltutorial.com/postgresql-select/"
   ]
  },
  {
   "cell_type": "markdown",
   "metadata": {},
   "source": [
    "```\n",
    "SELECT * FROM customer;\n",
    "```"
   ]
  },
  {
   "cell_type": "markdown",
   "metadata": {},
   "source": [
    "vi 모드에서 나갈 때는 <kbd>ESC</kbd> + <kbd>q</kbd>"
   ]
  },
  {
   "cell_type": "markdown",
   "metadata": {},
   "source": [
    "```\n",
    "SELECT first_name,\n",
    " last_name,\n",
    " email\n",
    "FROM customer;\n",
    "```"
   ]
  },
  {
   "cell_type": "markdown",
   "metadata": {},
   "source": [
    "## SQL WHERE 명령"
   ]
  },
  {
   "cell_type": "markdown",
   "metadata": {},
   "source": [
    "* http://www.postgresqltutorial.com/postgresql-where/\n",
    "\n",
    "```\n",
    "SELECT last_name, first_name\n",
    "FROM customer\n",
    "WHERE first_name = 'Jamie';\n",
    "```\n",
    "\n",
    "```\n",
    "SELECT last_name, first_name\n",
    "FROM customer\n",
    "WHERE first_name = 'Jamie' AND\n",
    " last_name = 'Rice';\n",
    "```\n",
    "\n",
    "```\n",
    "SELECT customer_id,\n",
    " amount,\n",
    " payment_date\n",
    "FROM payment\n",
    "WHERE amount <= 1 OR amount >= 8;\n",
    "```"
   ]
  },
  {
   "cell_type": "markdown",
   "metadata": {},
   "source": [
    "## SQL JOIN"
   ]
  },
  {
   "cell_type": "markdown",
   "metadata": {},
   "source": [
    "* http://www.postgresqltutorial.com/postgresql-inner-join/\n",
    "\n",
    "```\n",
    "SELECT\n",
    " customer.customer_id,\n",
    " first_name,\n",
    " last_name,\n",
    " email,\n",
    " amount,\n",
    " payment_date\n",
    "FROM\n",
    " customer\n",
    "INNER JOIN payment ON payment.customer_id = customer.customer_id;\n",
    "```\n",
    "\n",
    "```\n",
    "SELECT\n",
    " customer.customer_id,\n",
    " first_name,\n",
    " last_name,\n",
    " email,\n",
    " amount,\n",
    " payment_date\n",
    "FROM\n",
    " customer\n",
    "INNER JOIN payment ON payment.customer_id = customer.customer_id\n",
    "ORDER BY\n",
    " customer.customer_id;\n",
    " ```\n",
    "\n",
    "```\n",
    "SELECT\n",
    " customer.customer_id,\n",
    " first_name,\n",
    " last_name,\n",
    " email,\n",
    " amount,\n",
    " payment_date\n",
    "FROM\n",
    " customer\n",
    "INNER JOIN payment ON payment.customer_id = customer.customer_id\n",
    "WHERE\n",
    " customer.customer_id = 2;\n",
    " ```\n",
    "\n",
    "```\n",
    "SELECT\n",
    " customer.customer_id,\n",
    " customer.first_name customer_first_name,\n",
    " customer.last_name customer_last_name,\n",
    " customer.email,\n",
    " staff.first_name staff_first_name,\n",
    " staff.last_name staff_last_name,\n",
    " amount,\n",
    " payment_date\n",
    "FROM\n",
    " customer\n",
    "INNER JOIN payment ON payment.customer_id = customer.customer_id\n",
    "INNER JOIN staff ON payment.staff_id = staff.staff_id;\n",
    "```"
   ]
  },
  {
   "cell_type": "markdown",
   "metadata": {},
   "source": [
    "## SQL GROUPBY 명령"
   ]
  },
  {
   "cell_type": "markdown",
   "metadata": {},
   "source": [
    "* http://www.postgresqltutorial.com/postgresql-group-by/\n",
    "\n",
    "```\n",
    "SELECT\n",
    " customer_id\n",
    "FROM\n",
    " payment\n",
    "GROUP BY\n",
    " customer_id;\n",
    "```\n",
    "\n",
    "```\n",
    "SELECT\n",
    " customer_id,\n",
    " SUM (amount)\n",
    "FROM\n",
    " payment\n",
    "GROUP BY\n",
    " customer_id;\n",
    "```\n",
    "\n",
    "```\n",
    "SELECT\n",
    " customer_id,\n",
    " SUM (amount)\n",
    "FROM\n",
    " payment\n",
    "GROUP BY\n",
    " customer_id\n",
    "ORDER BY\n",
    " SUM (amount) DESC;\n",
    "```\n",
    "\n",
    "```\n",
    "SELECT\n",
    " staff_id,\n",
    " COUNT (payment_id)\n",
    "FROM\n",
    " payment\n",
    "GROUP BY\n",
    " staff_id;\n",
    "```"
   ]
  },
  {
   "cell_type": "markdown",
   "metadata": {},
   "source": [
    "# Pandas 시계열 자료 다루기"
   ]
  },
  {
   "cell_type": "code",
   "execution_count": 7,
   "metadata": {
    "collapsed": true
   },
   "outputs": [],
   "source": [
    "import pandas as pd\n",
    "import numpy as np"
   ]
  },
  {
   "cell_type": "markdown",
   "metadata": {},
   "source": [
    "pandas에서 일반적인 테이블 형태의 자료와 시계열 자료의 차이점은 인덱스(Index)에 있다.\n",
    "\n",
    "일반적인 테이블 형태의 자료는 임의의 값을 인덱스로 가질 수 있지만 시계열 자료는 다음 클래스를 인덱스로 가진다.\n",
    "\n",
    "* DatetimeIndex : 타임스탬프"
   ]
  },
  {
   "cell_type": "markdown",
   "metadata": {},
   "source": [
    "## DatatimeIndex\n",
    "\n",
    "DatetimeIndex는 특정한 순간에 기록된 타임스탬프(timestamp) 형식의 시계열 자료를 다루기 위한 인덱스이다. 타임스탬프 인덱스는 반드시 일정한 간격으로 자료가 있어야 한다는 조건은 없다.\n",
    "\n",
    "DatetimeIndex 타입의 인덱스는 보통 다음 방법으로 생성한다.\n",
    "\n",
    "* pd.to_datetime 함수\n",
    "* pd.date_range 함수"
   ]
  },
  {
   "cell_type": "code",
   "execution_count": 5,
   "metadata": {},
   "outputs": [
    {
     "data": {
      "text/plain": [
       "DatetimeIndex(['2016-01-01', '2016-01-04', '2016-01-05', '2016-01-06'], dtype='datetime64[ns]', freq=None)"
      ]
     },
     "execution_count": 5,
     "metadata": {},
     "output_type": "execute_result"
    }
   ],
   "source": [
    "date_str = [\"2016, 1, 1\", \"2016, 1, 4\", \"2016, 1, 5\", \"2016, 1, 6\"]\n",
    "idx = pd.to_datetime(date_str)\n",
    "idx"
   ]
  },
  {
   "cell_type": "code",
   "execution_count": 8,
   "metadata": {},
   "outputs": [
    {
     "data": {
      "text/plain": [
       "2016-01-01    1.764052\n",
       "2016-01-04    0.400157\n",
       "2016-01-05    0.978738\n",
       "2016-01-06    2.240893\n",
       "dtype: float64"
      ]
     },
     "execution_count": 8,
     "metadata": {},
     "output_type": "execute_result"
    }
   ],
   "source": [
    "np.random.seed(0)\n",
    "s = pd.Series(np.random.randn(4), index=idx)\n",
    "s"
   ]
  },
  {
   "cell_type": "markdown",
   "metadata": {},
   "source": [
    "## date_range\n",
    "\n",
    "* 시작일과 종료일 또는 시작일과 기간을 입력하면 범위 내의 날짜 및 시간 인덱스 생성\n",
    "* freq 인수로 빈도 지정 가능\n",
    "http://pandas.pydata.org/pandas-docs/stable/timeseries.html#dateoffset-objects"
   ]
  },
  {
   "cell_type": "code",
   "execution_count": 10,
   "metadata": {},
   "outputs": [
    {
     "data": {
      "text/plain": [
       "DatetimeIndex(['2016-04-01', '2016-04-02', '2016-04-03', '2016-04-04',\n",
       "               '2016-04-05', '2016-04-06', '2016-04-07', '2016-04-08',\n",
       "               '2016-04-09', '2016-04-10', '2016-04-11', '2016-04-12',\n",
       "               '2016-04-13', '2016-04-14', '2016-04-15', '2016-04-16',\n",
       "               '2016-04-17', '2016-04-18', '2016-04-19', '2016-04-20',\n",
       "               '2016-04-21', '2016-04-22', '2016-04-23', '2016-04-24',\n",
       "               '2016-04-25', '2016-04-26', '2016-04-27', '2016-04-28',\n",
       "               '2016-04-29', '2016-04-30'],\n",
       "              dtype='datetime64[ns]', freq='D')"
      ]
     },
     "execution_count": 10,
     "metadata": {},
     "output_type": "execute_result"
    }
   ],
   "source": [
    "pd.date_range(\"2016-4-1\", \"2016-4-30\")"
   ]
  },
  {
   "cell_type": "code",
   "execution_count": 11,
   "metadata": {},
   "outputs": [
    {
     "data": {
      "text/plain": [
       "DatetimeIndex(['2016-04-01', '2016-04-02', '2016-04-03', '2016-04-04',\n",
       "               '2016-04-05', '2016-04-06', '2016-04-07', '2016-04-08',\n",
       "               '2016-04-09', '2016-04-10', '2016-04-11', '2016-04-12',\n",
       "               '2016-04-13', '2016-04-14', '2016-04-15', '2016-04-16',\n",
       "               '2016-04-17', '2016-04-18', '2016-04-19', '2016-04-20',\n",
       "               '2016-04-21', '2016-04-22', '2016-04-23', '2016-04-24',\n",
       "               '2016-04-25', '2016-04-26', '2016-04-27', '2016-04-28',\n",
       "               '2016-04-29', '2016-04-30'],\n",
       "              dtype='datetime64[ns]', freq='D')"
      ]
     },
     "execution_count": 11,
     "metadata": {},
     "output_type": "execute_result"
    }
   ],
   "source": [
    "pd.date_range(start=\"2016-4-1\", periods=30)"
   ]
  },
  {
   "cell_type": "code",
   "execution_count": 12,
   "metadata": {},
   "outputs": [
    {
     "data": {
      "text/plain": [
       "DatetimeIndex(['2016-04-01', '2016-04-04', '2016-04-05', '2016-04-06',\n",
       "               '2016-04-07', '2016-04-08', '2016-04-11', '2016-04-12',\n",
       "               '2016-04-13', '2016-04-14', '2016-04-15', '2016-04-18',\n",
       "               '2016-04-19', '2016-04-20', '2016-04-21', '2016-04-22',\n",
       "               '2016-04-25', '2016-04-26', '2016-04-27', '2016-04-28',\n",
       "               '2016-04-29'],\n",
       "              dtype='datetime64[ns]', freq='B')"
      ]
     },
     "execution_count": 12,
     "metadata": {},
     "output_type": "execute_result"
    }
   ],
   "source": [
    "pd.date_range(\"2016-4-1\", \"2016-4-30\", freq=\"B\")"
   ]
  },
  {
   "cell_type": "code",
   "execution_count": 13,
   "metadata": {},
   "outputs": [
    {
     "data": {
      "text/plain": [
       "DatetimeIndex(['2016-04-01', '2016-05-01', '2016-06-01', '2016-07-01',\n",
       "               '2016-08-01', '2016-09-01', '2016-10-01', '2016-11-01',\n",
       "               '2016-12-01'],\n",
       "              dtype='datetime64[ns]', freq='MS')"
      ]
     },
     "execution_count": 13,
     "metadata": {},
     "output_type": "execute_result"
    }
   ],
   "source": [
    "pd.date_range(\"2016-4-1\", \"2016-12-31\", freq=\"MS\")"
   ]
  },
  {
   "cell_type": "code",
   "execution_count": 14,
   "metadata": {},
   "outputs": [
    {
     "data": {
      "text/plain": [
       "DatetimeIndex(['2016-04-30', '2016-05-31', '2016-06-30', '2016-07-31',\n",
       "               '2016-08-31', '2016-09-30', '2016-10-31', '2016-11-30',\n",
       "               '2016-12-31'],\n",
       "              dtype='datetime64[ns]', freq='M')"
      ]
     },
     "execution_count": 14,
     "metadata": {},
     "output_type": "execute_result"
    }
   ],
   "source": [
    "pd.date_range(\"2016-4-1\", \"2016-12-31\", freq=\"M\")"
   ]
  },
  {
   "cell_type": "code",
   "execution_count": 15,
   "metadata": {},
   "outputs": [
    {
     "data": {
      "text/plain": [
       "DatetimeIndex(['2016-04-01', '2016-05-02', '2016-06-01', '2016-07-01',\n",
       "               '2016-08-01', '2016-09-01', '2016-10-03', '2016-11-01',\n",
       "               '2016-12-01'],\n",
       "              dtype='datetime64[ns]', freq='BMS')"
      ]
     },
     "execution_count": 15,
     "metadata": {},
     "output_type": "execute_result"
    }
   ],
   "source": [
    "pd.date_range(\"2016-4-1\", \"2016-12-31\", freq=\"BMS\")"
   ]
  },
  {
   "cell_type": "code",
   "execution_count": 16,
   "metadata": {},
   "outputs": [
    {
     "data": {
      "text/plain": [
       "DatetimeIndex(['2016-04-29', '2016-05-31', '2016-06-30', '2016-07-29',\n",
       "               '2016-08-31', '2016-09-30', '2016-10-31', '2016-11-30',\n",
       "               '2016-12-30'],\n",
       "              dtype='datetime64[ns]', freq='BM')"
      ]
     },
     "execution_count": 16,
     "metadata": {},
     "output_type": "execute_result"
    }
   ],
   "source": [
    "pd.date_range(\"2016-4-1\", \"2016-12-31\", freq=\"BM\")"
   ]
  },
  {
   "cell_type": "code",
   "execution_count": 17,
   "metadata": {},
   "outputs": [
    {
     "data": {
      "text/plain": [
       "DatetimeIndex(['2016-01-04', '2016-01-11', '2016-01-18', '2016-01-25',\n",
       "               '2016-02-01', '2016-02-08', '2016-02-15', '2016-02-22',\n",
       "               '2016-02-29', '2016-03-07', '2016-03-14', '2016-03-21',\n",
       "               '2016-03-28', '2016-04-04', '2016-04-11', '2016-04-18',\n",
       "               '2016-04-25', '2016-05-02', '2016-05-09', '2016-05-16',\n",
       "               '2016-05-23', '2016-05-30', '2016-06-06', '2016-06-13',\n",
       "               '2016-06-20', '2016-06-27', '2016-07-04', '2016-07-11',\n",
       "               '2016-07-18', '2016-07-25', '2016-08-01', '2016-08-08',\n",
       "               '2016-08-15', '2016-08-22', '2016-08-29', '2016-09-05',\n",
       "               '2016-09-12', '2016-09-19', '2016-09-26', '2016-10-03',\n",
       "               '2016-10-10', '2016-10-17', '2016-10-24', '2016-10-31',\n",
       "               '2016-11-07', '2016-11-14', '2016-11-21', '2016-11-28',\n",
       "               '2016-12-05', '2016-12-12', '2016-12-19', '2016-12-26'],\n",
       "              dtype='datetime64[ns]', freq='W-MON')"
      ]
     },
     "execution_count": 17,
     "metadata": {},
     "output_type": "execute_result"
    }
   ],
   "source": [
    "pd.date_range(\"2016-1-1\", \"2016-12-31\", freq=\"W-MON\")"
   ]
  },
  {
   "cell_type": "code",
   "execution_count": 18,
   "metadata": {},
   "outputs": [
    {
     "data": {
      "text/plain": [
       "DatetimeIndex(['2016-01-14', '2016-02-11', '2016-03-10', '2016-04-14',\n",
       "               '2016-05-12', '2016-06-09', '2016-07-14', '2016-08-11',\n",
       "               '2016-09-08', '2016-10-13', '2016-11-10', '2016-12-08'],\n",
       "              dtype='datetime64[ns]', freq='WOM-2THU')"
      ]
     },
     "execution_count": 18,
     "metadata": {},
     "output_type": "execute_result"
    }
   ],
   "source": [
    "pd.date_range(\"2016-1-1\", \"2016-12-31\", freq=\"WOM-2THU\")"
   ]
  },
  {
   "cell_type": "code",
   "execution_count": 19,
   "metadata": {},
   "outputs": [
    {
     "data": {
      "text/plain": [
       "DatetimeIndex(['2016-03-31', '2016-06-30', '2016-09-30', '2016-12-31'], dtype='datetime64[ns]', freq='Q-DEC')"
      ]
     },
     "execution_count": 19,
     "metadata": {},
     "output_type": "execute_result"
    }
   ],
   "source": [
    "pd.date_range(\"2016-1-1\", \"2016-12-31\", freq=\"Q-DEC\")"
   ]
  },
  {
   "cell_type": "markdown",
   "metadata": {},
   "source": [
    "# shift 연산"
   ]
  },
  {
   "cell_type": "code",
   "execution_count": 20,
   "metadata": {},
   "outputs": [
    {
     "data": {
      "text/plain": [
       "2000-01-31    1.867558\n",
       "2000-02-29   -0.977278\n",
       "2000-03-31    0.950088\n",
       "2000-04-30   -0.151357\n",
       "Freq: M, dtype: float64"
      ]
     },
     "execution_count": 20,
     "metadata": {},
     "output_type": "execute_result"
    }
   ],
   "source": [
    "ts = pd.Series(np.random.randn(4), index=pd.date_range(\"2000-1-1\", periods=4, freq=\"M\"))\n",
    "ts"
   ]
  },
  {
   "cell_type": "code",
   "execution_count": 21,
   "metadata": {},
   "outputs": [
    {
     "data": {
      "text/plain": [
       "2000-01-31         NaN\n",
       "2000-02-29    1.867558\n",
       "2000-03-31   -0.977278\n",
       "2000-04-30    0.950088\n",
       "Freq: M, dtype: float64"
      ]
     },
     "execution_count": 21,
     "metadata": {},
     "output_type": "execute_result"
    }
   ],
   "source": [
    "ts.shift(1)"
   ]
  },
  {
   "cell_type": "code",
   "execution_count": 22,
   "metadata": {},
   "outputs": [
    {
     "data": {
      "text/plain": [
       "2000-01-31   -0.977278\n",
       "2000-02-29    0.950088\n",
       "2000-03-31   -0.151357\n",
       "2000-04-30         NaN\n",
       "Freq: M, dtype: float64"
      ]
     },
     "execution_count": 22,
     "metadata": {},
     "output_type": "execute_result"
    }
   ],
   "source": [
    "ts.shift(-1)"
   ]
  },
  {
   "cell_type": "code",
   "execution_count": 24,
   "metadata": {},
   "outputs": [
    {
     "data": {
      "text/plain": [
       "2000-02-29    1.867558\n",
       "2000-03-31   -0.977278\n",
       "2000-04-30    0.950088\n",
       "2000-05-31   -0.151357\n",
       "Freq: M, dtype: float64"
      ]
     },
     "execution_count": 24,
     "metadata": {},
     "output_type": "execute_result"
    }
   ],
   "source": [
    "ts.shift(1, freq=\"M\")"
   ]
  },
  {
   "cell_type": "code",
   "execution_count": 25,
   "metadata": {},
   "outputs": [
    {
     "data": {
      "text/plain": [
       "2000-02-06    1.867558\n",
       "2000-03-05   -0.977278\n",
       "2000-04-02    0.950088\n",
       "2000-05-07   -0.151357\n",
       "Freq: WOM-1SUN, dtype: float64"
      ]
     },
     "execution_count": 25,
     "metadata": {},
     "output_type": "execute_result"
    }
   ],
   "source": [
    "ts.shift(1, freq=\"W\")"
   ]
  },
  {
   "cell_type": "markdown",
   "metadata": {},
   "source": [
    "## 리샘플링 (Resampling)\n",
    "\n",
    "* up-sampling : 구간이 작아지는 경우\n",
    "* down-sampling: 구간이 커지는 경우"
   ]
  },
  {
   "cell_type": "code",
   "execution_count": 26,
   "metadata": {},
   "outputs": [
    {
     "data": {
      "text/plain": [
       "2000-03-21   -1.070753\n",
       "2000-03-22    1.054452\n",
       "2000-03-23   -0.403177\n",
       "2000-03-24    1.222445\n",
       "2000-03-25    0.208275\n",
       "2000-03-26    0.976639\n",
       "2000-03-27    0.356366\n",
       "2000-03-28    0.706573\n",
       "2000-03-29    0.010500\n",
       "2000-03-30    1.785870\n",
       "2000-03-31    0.126912\n",
       "2000-04-01    0.401989\n",
       "2000-04-02    1.883151\n",
       "2000-04-03   -1.347759\n",
       "2000-04-04   -1.270485\n",
       "2000-04-05    0.969397\n",
       "2000-04-06   -1.173123\n",
       "2000-04-07    1.943621\n",
       "2000-04-08   -0.413619\n",
       "2000-04-09   -0.747455\n",
       "Freq: D, dtype: float64"
      ]
     },
     "execution_count": 26,
     "metadata": {},
     "output_type": "execute_result"
    }
   ],
   "source": [
    "ts = pd.Series(np.random.randn(100), index=pd.date_range(\"2000-1-1\", periods=100, freq=\"D\"))\n",
    "ts.tail(20)"
   ]
  },
  {
   "cell_type": "code",
   "execution_count": 27,
   "metadata": {},
   "outputs": [
    {
     "data": {
      "text/plain": [
       "2000-01-02    0.153690\n",
       "2000-01-09    0.678949\n",
       "2000-01-16   -0.360469\n",
       "2000-01-23    0.547293\n",
       "2000-01-30   -0.035616\n",
       "2000-02-06   -0.489050\n",
       "2000-02-13   -0.464083\n",
       "2000-02-20   -0.222374\n",
       "2000-02-27   -0.594077\n",
       "2000-03-05   -0.003614\n",
       "2000-03-12   -0.460333\n",
       "2000-03-19    0.461145\n",
       "2000-03-26    0.258279\n",
       "2000-04-02    0.753052\n",
       "2000-04-09   -0.291346\n",
       "Freq: W-SUN, dtype: float64"
      ]
     },
     "execution_count": 27,
     "metadata": {},
     "output_type": "execute_result"
    }
   ],
   "source": [
    "ts.resample('W').mean()"
   ]
  },
  {
   "cell_type": "code",
   "execution_count": 28,
   "metadata": {},
   "outputs": [
    {
     "data": {
      "text/plain": [
       "2000-01-31   -0.103219\n",
       "2000-02-29   -0.302303\n",
       "2000-03-31   -0.907298\n",
       "2000-04-30    0.401989\n",
       "Freq: M, dtype: float64"
      ]
     },
     "execution_count": 28,
     "metadata": {},
     "output_type": "execute_result"
    }
   ],
   "source": [
    "ts.resample('M').first()"
   ]
  },
  {
   "cell_type": "code",
   "execution_count": 29,
   "metadata": {},
   "outputs": [
    {
     "data": {
      "text/plain": [
       "2000-01-01 00:00:00    1.922942\n",
       "2000-01-01 00:01:00    1.480515\n",
       "2000-01-01 00:02:00    1.867559\n",
       "2000-01-01 00:03:00    0.906045\n",
       "2000-01-01 00:04:00   -0.861226\n",
       "2000-01-01 00:05:00    1.910065\n",
       "2000-01-01 00:06:00   -0.268003\n",
       "2000-01-01 00:07:00    0.802456\n",
       "2000-01-01 00:08:00    0.947252\n",
       "2000-01-01 00:09:00   -0.155010\n",
       "2000-01-01 00:10:00    0.614079\n",
       "2000-01-01 00:11:00    0.922207\n",
       "2000-01-01 00:12:00    0.376426\n",
       "2000-01-01 00:13:00   -1.099401\n",
       "2000-01-01 00:14:00    0.298238\n",
       "2000-01-01 00:15:00    1.326386\n",
       "2000-01-01 00:16:00   -0.694568\n",
       "2000-01-01 00:17:00   -0.149635\n",
       "2000-01-01 00:18:00   -0.435154\n",
       "2000-01-01 00:19:00    1.849264\n",
       "Freq: T, dtype: float64"
      ]
     },
     "execution_count": 29,
     "metadata": {},
     "output_type": "execute_result"
    }
   ],
   "source": [
    "ts = pd.Series(np.random.randn(60), index=pd.date_range(\"2000-1-1\", periods=60, freq=\"T\"))\n",
    "ts.head(20)"
   ]
  },
  {
   "cell_type": "code",
   "execution_count": 30,
   "metadata": {},
   "outputs": [
    {
     "data": {
      "text/plain": [
       "2000-01-01 00:00:00    8.552595\n",
       "2000-01-01 00:10:00    3.007843\n",
       "2000-01-01 00:20:00    0.615467\n",
       "2000-01-01 00:30:00    2.584603\n",
       "2000-01-01 00:40:00   -2.418811\n",
       "2000-01-01 00:50:00   -2.042876\n",
       "Freq: 10T, dtype: float64"
      ]
     },
     "execution_count": 30,
     "metadata": {},
     "output_type": "execute_result"
    }
   ],
   "source": [
    "ts.resample('10min').sum()"
   ]
  },
  {
   "cell_type": "code",
   "execution_count": 31,
   "metadata": {},
   "outputs": [
    {
     "data": {
      "text/plain": [
       "1999-12-31 23:50:00    1.922942\n",
       "2000-01-01 00:00:00    7.243732\n",
       "2000-01-01 00:10:00    3.066058\n",
       "2000-01-01 00:20:00    0.339179\n",
       "2000-01-01 00:30:00    0.872688\n",
       "2000-01-01 00:40:00   -2.250372\n",
       "2000-01-01 00:50:00   -0.895407\n",
       "Freq: 10T, dtype: float64"
      ]
     },
     "execution_count": 31,
     "metadata": {},
     "output_type": "execute_result"
    }
   ],
   "source": [
    "ts.resample('10min', closed=\"right\").sum()"
   ]
  },
  {
   "cell_type": "code",
   "execution_count": 33,
   "metadata": {},
   "outputs": [
    {
     "data": {
      "text/html": [
       "<div>\n",
       "<style>\n",
       "    .dataframe thead tr:only-child th {\n",
       "        text-align: right;\n",
       "    }\n",
       "\n",
       "    .dataframe thead th {\n",
       "        text-align: left;\n",
       "    }\n",
       "\n",
       "    .dataframe tbody tr th {\n",
       "        vertical-align: top;\n",
       "    }\n",
       "</style>\n",
       "<table border=\"1\" class=\"dataframe\">\n",
       "  <thead>\n",
       "    <tr style=\"text-align: right;\">\n",
       "      <th></th>\n",
       "      <th>open</th>\n",
       "      <th>high</th>\n",
       "      <th>low</th>\n",
       "      <th>close</th>\n",
       "    </tr>\n",
       "  </thead>\n",
       "  <tbody>\n",
       "    <tr>\n",
       "      <th>2000-01-01 00:00:00</th>\n",
       "      <td>1.922942</td>\n",
       "      <td>1.922942</td>\n",
       "      <td>-0.861226</td>\n",
       "      <td>-0.861226</td>\n",
       "    </tr>\n",
       "    <tr>\n",
       "      <th>2000-01-01 00:05:00</th>\n",
       "      <td>1.910065</td>\n",
       "      <td>1.910065</td>\n",
       "      <td>-0.268003</td>\n",
       "      <td>-0.155010</td>\n",
       "    </tr>\n",
       "    <tr>\n",
       "      <th>2000-01-01 00:10:00</th>\n",
       "      <td>0.614079</td>\n",
       "      <td>0.922207</td>\n",
       "      <td>-1.099401</td>\n",
       "      <td>0.298238</td>\n",
       "    </tr>\n",
       "    <tr>\n",
       "      <th>2000-01-01 00:15:00</th>\n",
       "      <td>1.326386</td>\n",
       "      <td>1.849264</td>\n",
       "      <td>-0.694568</td>\n",
       "      <td>1.849264</td>\n",
       "    </tr>\n",
       "    <tr>\n",
       "      <th>2000-01-01 00:20:00</th>\n",
       "      <td>0.672295</td>\n",
       "      <td>0.672295</td>\n",
       "      <td>-0.769916</td>\n",
       "      <td>-0.674333</td>\n",
       "    </tr>\n",
       "    <tr>\n",
       "      <th>2000-01-01 00:25:00</th>\n",
       "      <td>0.031831</td>\n",
       "      <td>0.676433</td>\n",
       "      <td>-0.635846</td>\n",
       "      <td>-0.208299</td>\n",
       "    </tr>\n",
       "    <tr>\n",
       "      <th>2000-01-01 00:30:00</th>\n",
       "      <td>0.396007</td>\n",
       "      <td>0.439392</td>\n",
       "      <td>-1.491258</td>\n",
       "      <td>0.166673</td>\n",
       "    </tr>\n",
       "    <tr>\n",
       "      <th>2000-01-01 00:35:00</th>\n",
       "      <td>0.635031</td>\n",
       "      <td>2.383145</td>\n",
       "      <td>-0.912822</td>\n",
       "      <td>1.117016</td>\n",
       "    </tr>\n",
       "    <tr>\n",
       "      <th>2000-01-01 00:40:00</th>\n",
       "      <td>-1.315907</td>\n",
       "      <td>1.713343</td>\n",
       "      <td>-1.315907</td>\n",
       "      <td>-0.744755</td>\n",
       "    </tr>\n",
       "    <tr>\n",
       "      <th>2000-01-01 00:45:00</th>\n",
       "      <td>-0.826439</td>\n",
       "      <td>1.126636</td>\n",
       "      <td>-1.079932</td>\n",
       "      <td>-1.079932</td>\n",
       "    </tr>\n",
       "    <tr>\n",
       "      <th>2000-01-01 00:50:00</th>\n",
       "      <td>-1.147469</td>\n",
       "      <td>1.929532</td>\n",
       "      <td>-1.147469</td>\n",
       "      <td>0.949421</td>\n",
       "    </tr>\n",
       "    <tr>\n",
       "      <th>2000-01-01 00:55:00</th>\n",
       "      <td>0.087551</td>\n",
       "      <td>0.844363</td>\n",
       "      <td>-1.544771</td>\n",
       "      <td>-1.544771</td>\n",
       "    </tr>\n",
       "  </tbody>\n",
       "</table>\n",
       "</div>"
      ],
      "text/plain": [
       "                         open      high       low     close\n",
       "2000-01-01 00:00:00  1.922942  1.922942 -0.861226 -0.861226\n",
       "2000-01-01 00:05:00  1.910065  1.910065 -0.268003 -0.155010\n",
       "2000-01-01 00:10:00  0.614079  0.922207 -1.099401  0.298238\n",
       "2000-01-01 00:15:00  1.326386  1.849264 -0.694568  1.849264\n",
       "2000-01-01 00:20:00  0.672295  0.672295 -0.769916 -0.674333\n",
       "2000-01-01 00:25:00  0.031831  0.676433 -0.635846 -0.208299\n",
       "2000-01-01 00:30:00  0.396007  0.439392 -1.491258  0.166673\n",
       "2000-01-01 00:35:00  0.635031  2.383145 -0.912822  1.117016\n",
       "2000-01-01 00:40:00 -1.315907  1.713343 -1.315907 -0.744755\n",
       "2000-01-01 00:45:00 -0.826439  1.126636 -1.079932 -1.079932\n",
       "2000-01-01 00:50:00 -1.147469  1.929532 -1.147469  0.949421\n",
       "2000-01-01 00:55:00  0.087551  0.844363 -1.544771 -1.544771"
      ]
     },
     "execution_count": 33,
     "metadata": {},
     "output_type": "execute_result"
    }
   ],
   "source": [
    "ts.resample('5min').ohlc()"
   ]
  },
  {
   "cell_type": "code",
   "execution_count": 34,
   "metadata": {},
   "outputs": [
    {
     "data": {
      "text/plain": [
       "2000-01-01 00:00:00    1.922942\n",
       "2000-01-01 00:00:30    1.922942\n",
       "2000-01-01 00:01:00    1.480515\n",
       "2000-01-01 00:01:30    1.480515\n",
       "2000-01-01 00:02:00    1.867559\n",
       "2000-01-01 00:02:30    1.867559\n",
       "2000-01-01 00:03:00    0.906045\n",
       "2000-01-01 00:03:30    0.906045\n",
       "2000-01-01 00:04:00   -0.861226\n",
       "2000-01-01 00:04:30   -0.861226\n",
       "2000-01-01 00:05:00    1.910065\n",
       "2000-01-01 00:05:30    1.910065\n",
       "2000-01-01 00:06:00   -0.268003\n",
       "2000-01-01 00:06:30   -0.268003\n",
       "2000-01-01 00:07:00    0.802456\n",
       "2000-01-01 00:07:30    0.802456\n",
       "2000-01-01 00:08:00    0.947252\n",
       "2000-01-01 00:08:30    0.947252\n",
       "2000-01-01 00:09:00   -0.155010\n",
       "2000-01-01 00:09:30   -0.155010\n",
       "Freq: 30S, dtype: float64"
      ]
     },
     "execution_count": 34,
     "metadata": {},
     "output_type": "execute_result"
    }
   ],
   "source": [
    "ts.resample('30s').ffill().head(20)"
   ]
  },
  {
   "cell_type": "code",
   "execution_count": 36,
   "metadata": {},
   "outputs": [
    {
     "data": {
      "text/plain": [
       "2000-01-01 00:00:00    1.922942\n",
       "2000-01-01 00:00:30    1.480515\n",
       "2000-01-01 00:01:00    1.480515\n",
       "2000-01-01 00:01:30    1.867559\n",
       "2000-01-01 00:02:00    1.867559\n",
       "2000-01-01 00:02:30    0.906045\n",
       "2000-01-01 00:03:00    0.906045\n",
       "2000-01-01 00:03:30   -0.861226\n",
       "2000-01-01 00:04:00   -0.861226\n",
       "2000-01-01 00:04:30    1.910065\n",
       "2000-01-01 00:05:00    1.910065\n",
       "2000-01-01 00:05:30   -0.268003\n",
       "2000-01-01 00:06:00   -0.268003\n",
       "2000-01-01 00:06:30    0.802456\n",
       "2000-01-01 00:07:00    0.802456\n",
       "2000-01-01 00:07:30    0.947252\n",
       "2000-01-01 00:08:00    0.947252\n",
       "2000-01-01 00:08:30   -0.155010\n",
       "2000-01-01 00:09:00   -0.155010\n",
       "2000-01-01 00:09:30    0.614079\n",
       "Freq: 30S, dtype: float64"
      ]
     },
     "execution_count": 36,
     "metadata": {},
     "output_type": "execute_result"
    }
   ],
   "source": [
    "ts.resample('30s').bfill().head(20)"
   ]
  },
  {
   "cell_type": "markdown",
   "metadata": {},
   "source": [
    "**인과관계를 감안 backward fill은 잘 사용하지 않는다.**"
   ]
  },
  {
   "cell_type": "markdown",
   "metadata": {},
   "source": [
    "# Dask 사용법 기초"
   ]
  },
  {
   "cell_type": "markdown",
   "metadata": {},
   "source": [
    "원래 Pandas 는 데이터베이스나 CSV 파일의 데이터를 모두 메모리로 읽어들인 다음 메모리 위에서 데이터를 처리한다. 하지만 데이터의 양이 많은 경우에는 메모리의 제한으로 데이터프레임을 만들 수 없는 경우가 있다. 또한 데이터프레임의 크기가 너무 크면 질의나 그룹 연산을 할 때 하나의 CPU 코어로 처리하기에는 시간이 너무 많이 걸릴 수도 있다. \n",
    "\n",
    "이러한 경우에 도움이 되는 것이 Dask 패키지이다. Dask 패키지는 Pandas 데이터프레임 형식으로 빅데이터를 처리하기 위한 파이썬 패키지로 다음과 같은 두 가지 기능을 가진다.\n",
    "\n",
    "1. 가상 데이터프레임\n",
    "1. 병렬처리용 작업 스케줄러\n"
   ]
  },
  {
   "cell_type": "code",
   "execution_count": 39,
   "metadata": {
    "collapsed": true
   },
   "outputs": [],
   "source": [
    "import dask.dataframe as dd"
   ]
  },
  {
   "cell_type": "code",
   "execution_count": 41,
   "metadata": {},
   "outputs": [
    {
     "data": {
      "text/html": [
       "<div><strong>Dask DataFrame Structure:</strong></div>\n",
       "<div>\n",
       "<style>\n",
       "    .dataframe thead tr:only-child th {\n",
       "        text-align: right;\n",
       "    }\n",
       "\n",
       "    .dataframe thead th {\n",
       "        text-align: left;\n",
       "    }\n",
       "\n",
       "    .dataframe tbody tr th {\n",
       "        vertical-align: top;\n",
       "    }\n",
       "</style>\n",
       "<table border=\"1\" class=\"dataframe\">\n",
       "  <thead>\n",
       "    <tr style=\"text-align: right;\">\n",
       "      <th></th>\n",
       "      <th>total_bill</th>\n",
       "      <th>tip</th>\n",
       "      <th>sex</th>\n",
       "      <th>smoker</th>\n",
       "      <th>day</th>\n",
       "      <th>time</th>\n",
       "      <th>size</th>\n",
       "    </tr>\n",
       "    <tr>\n",
       "      <th>npartitions=1</th>\n",
       "      <th></th>\n",
       "      <th></th>\n",
       "      <th></th>\n",
       "      <th></th>\n",
       "      <th></th>\n",
       "      <th></th>\n",
       "      <th></th>\n",
       "    </tr>\n",
       "  </thead>\n",
       "  <tbody>\n",
       "    <tr>\n",
       "      <th>None</th>\n",
       "      <td>float64</td>\n",
       "      <td>float64</td>\n",
       "      <td>object</td>\n",
       "      <td>object</td>\n",
       "      <td>object</td>\n",
       "      <td>object</td>\n",
       "      <td>int64</td>\n",
       "    </tr>\n",
       "    <tr>\n",
       "      <th>None</th>\n",
       "      <td>...</td>\n",
       "      <td>...</td>\n",
       "      <td>...</td>\n",
       "      <td>...</td>\n",
       "      <td>...</td>\n",
       "      <td>...</td>\n",
       "      <td>...</td>\n",
       "    </tr>\n",
       "  </tbody>\n",
       "</table>\n",
       "</div>\n",
       "<div>Dask Name: from-delayed, 3 tasks</div>"
      ],
      "text/plain": [
       "Dask DataFrame Structure:\n",
       "              total_bill      tip     sex  smoker     day    time   size\n",
       "npartitions=1                                                           \n",
       "None             float64  float64  object  object  object  object  int64\n",
       "None                 ...      ...     ...     ...     ...     ...    ...\n",
       "Dask Name: from-delayed, 3 tasks"
      ]
     },
     "execution_count": 41,
     "metadata": {},
     "output_type": "execute_result"
    }
   ],
   "source": [
    "df = dd.read_csv(\"tips.csv\")\n",
    "df"
   ]
  },
  {
   "cell_type": "markdown",
   "metadata": {},
   "source": [
    "`read_csv` 명령으로 데이터 파일에 대한 가상 데이터프레임 `df`를 만든다."
   ]
  },
  {
   "cell_type": "markdown",
   "metadata": {},
   "source": [
    "`df`는 데이터프레임과 유사하지만 실제로 데이터를 메모리에 읽지 않았기 때문에 값은 표시되지 않는다.  \n",
    "\n",
    "`head`, `tail` 명령을 내리면 그 때서야 일부 데이터를 읽어서 표시한다."
   ]
  },
  {
   "cell_type": "code",
   "execution_count": 42,
   "metadata": {},
   "outputs": [
    {
     "data": {
      "text/html": [
       "<div>\n",
       "<style>\n",
       "    .dataframe thead tr:only-child th {\n",
       "        text-align: right;\n",
       "    }\n",
       "\n",
       "    .dataframe thead th {\n",
       "        text-align: left;\n",
       "    }\n",
       "\n",
       "    .dataframe tbody tr th {\n",
       "        vertical-align: top;\n",
       "    }\n",
       "</style>\n",
       "<table border=\"1\" class=\"dataframe\">\n",
       "  <thead>\n",
       "    <tr style=\"text-align: right;\">\n",
       "      <th></th>\n",
       "      <th>total_bill</th>\n",
       "      <th>tip</th>\n",
       "      <th>sex</th>\n",
       "      <th>smoker</th>\n",
       "      <th>day</th>\n",
       "      <th>time</th>\n",
       "      <th>size</th>\n",
       "    </tr>\n",
       "  </thead>\n",
       "  <tbody>\n",
       "    <tr>\n",
       "      <th>0</th>\n",
       "      <td>16.99</td>\n",
       "      <td>1.01</td>\n",
       "      <td>Female</td>\n",
       "      <td>No</td>\n",
       "      <td>Sun</td>\n",
       "      <td>Dinner</td>\n",
       "      <td>2</td>\n",
       "    </tr>\n",
       "    <tr>\n",
       "      <th>1</th>\n",
       "      <td>10.34</td>\n",
       "      <td>1.66</td>\n",
       "      <td>Male</td>\n",
       "      <td>No</td>\n",
       "      <td>Sun</td>\n",
       "      <td>Dinner</td>\n",
       "      <td>3</td>\n",
       "    </tr>\n",
       "    <tr>\n",
       "      <th>2</th>\n",
       "      <td>21.01</td>\n",
       "      <td>3.50</td>\n",
       "      <td>Male</td>\n",
       "      <td>No</td>\n",
       "      <td>Sun</td>\n",
       "      <td>Dinner</td>\n",
       "      <td>3</td>\n",
       "    </tr>\n",
       "    <tr>\n",
       "      <th>3</th>\n",
       "      <td>23.68</td>\n",
       "      <td>3.31</td>\n",
       "      <td>Male</td>\n",
       "      <td>No</td>\n",
       "      <td>Sun</td>\n",
       "      <td>Dinner</td>\n",
       "      <td>2</td>\n",
       "    </tr>\n",
       "    <tr>\n",
       "      <th>4</th>\n",
       "      <td>24.59</td>\n",
       "      <td>3.61</td>\n",
       "      <td>Female</td>\n",
       "      <td>No</td>\n",
       "      <td>Sun</td>\n",
       "      <td>Dinner</td>\n",
       "      <td>4</td>\n",
       "    </tr>\n",
       "  </tbody>\n",
       "</table>\n",
       "</div>"
      ],
      "text/plain": [
       "   total_bill   tip     sex smoker  day    time  size\n",
       "0       16.99  1.01  Female     No  Sun  Dinner     2\n",
       "1       10.34  1.66    Male     No  Sun  Dinner     3\n",
       "2       21.01  3.50    Male     No  Sun  Dinner     3\n",
       "3       23.68  3.31    Male     No  Sun  Dinner     2\n",
       "4       24.59  3.61  Female     No  Sun  Dinner     4"
      ]
     },
     "execution_count": 42,
     "metadata": {},
     "output_type": "execute_result"
    }
   ],
   "source": [
    "df.head()"
   ]
  },
  {
   "cell_type": "code",
   "execution_count": 43,
   "metadata": {},
   "outputs": [
    {
     "data": {
      "text/plain": [
       "dd.Scalar<series-..., dtype=float64>"
      ]
     },
     "execution_count": 43,
     "metadata": {},
     "output_type": "execute_result"
    }
   ],
   "source": [
    "df.tip.mean()"
   ]
  },
  {
   "cell_type": "markdown",
   "metadata": {},
   "source": [
    "데이터프레임과 달리 바로 결과가 나오지 않는다. 그 이유는 연산 반환값이 결과가 아닌 작업(task)이기 때문이다. 구체적으로 어떤 작업인지를 보려면 visualize 메서드를 사용하여 작업 그래프(graph)를 볼 수 있다. 작업 그래프란 이 계산을 하기 위해 실제로 CPU가 해야 할 일들의 순서도라고 볼 수 있다."
   ]
  },
  {
   "cell_type": "code",
   "execution_count": 44,
   "metadata": {},
   "outputs": [
    {
     "data": {
      "text/plain": [
       "2.9982786885245902"
      ]
     },
     "execution_count": 44,
     "metadata": {},
     "output_type": "execute_result"
    }
   ],
   "source": [
    "df.tip.mean().compute()"
   ]
  },
  {
   "cell_type": "code",
   "execution_count": 46,
   "metadata": {},
   "outputs": [
    {
     "data": {
      "text/plain": [
       "0      0.059447\n",
       "1      0.160542\n",
       "2      0.166587\n",
       "3      0.139780\n",
       "4      0.146808\n",
       "5      0.186240\n",
       "6      0.228050\n",
       "7      0.116071\n",
       "8      0.130319\n",
       "9      0.218539\n",
       "10     0.166504\n",
       "11     0.141804\n",
       "12     0.101816\n",
       "13     0.162778\n",
       "14     0.203641\n",
       "15     0.181650\n",
       "16     0.161665\n",
       "17     0.227747\n",
       "18     0.206246\n",
       "19     0.162228\n",
       "20     0.227679\n",
       "21     0.135535\n",
       "22     0.141408\n",
       "23     0.192288\n",
       "24     0.160444\n",
       "25     0.131387\n",
       "26     0.149589\n",
       "27     0.157604\n",
       "28     0.198157\n",
       "29     0.152672\n",
       "         ...   \n",
       "214    0.230742\n",
       "215    0.085271\n",
       "216    0.106572\n",
       "217    0.129422\n",
       "218    0.186047\n",
       "219    0.102522\n",
       "220    0.180921\n",
       "221    0.259314\n",
       "222    0.223776\n",
       "223    0.187735\n",
       "224    0.117735\n",
       "225    0.153657\n",
       "226    0.198216\n",
       "227    0.146699\n",
       "228    0.204819\n",
       "229    0.130199\n",
       "230    0.083299\n",
       "231    0.191205\n",
       "232    0.291990\n",
       "233    0.136490\n",
       "234    0.193175\n",
       "235    0.124131\n",
       "236    0.079365\n",
       "237    0.035638\n",
       "238    0.130338\n",
       "239    0.203927\n",
       "240    0.073584\n",
       "241    0.088222\n",
       "242    0.098204\n",
       "243    0.159744\n",
       "Length: 244, dtype: float64"
      ]
     },
     "execution_count": 46,
     "metadata": {},
     "output_type": "execute_result"
    }
   ],
   "source": [
    "(df.tip / df.total_bill).compute()"
   ]
  },
  {
   "cell_type": "code",
   "execution_count": 55,
   "metadata": {},
   "outputs": [
    {
     "data": {
      "text/html": [
       "<div>\n",
       "<style>\n",
       "    .dataframe thead tr:only-child th {\n",
       "        text-align: right;\n",
       "    }\n",
       "\n",
       "    .dataframe thead th {\n",
       "        text-align: left;\n",
       "    }\n",
       "\n",
       "    .dataframe tbody tr th {\n",
       "        vertical-align: top;\n",
       "    }\n",
       "</style>\n",
       "<table border=\"1\" class=\"dataframe\">\n",
       "  <thead>\n",
       "    <tr style=\"text-align: right;\">\n",
       "      <th></th>\n",
       "      <th>total_bill</th>\n",
       "      <th>tip</th>\n",
       "      <th>sex</th>\n",
       "      <th>smoker</th>\n",
       "      <th>day</th>\n",
       "      <th>time</th>\n",
       "      <th>size</th>\n",
       "      <th>tip_pct</th>\n",
       "    </tr>\n",
       "  </thead>\n",
       "  <tbody>\n",
       "    <tr>\n",
       "      <th>0</th>\n",
       "      <td>16.99</td>\n",
       "      <td>1.01</td>\n",
       "      <td>Female</td>\n",
       "      <td>No</td>\n",
       "      <td>Sun</td>\n",
       "      <td>Dinner</td>\n",
       "      <td>2</td>\n",
       "      <td>0.059447</td>\n",
       "    </tr>\n",
       "    <tr>\n",
       "      <th>1</th>\n",
       "      <td>10.34</td>\n",
       "      <td>1.66</td>\n",
       "      <td>Male</td>\n",
       "      <td>No</td>\n",
       "      <td>Sun</td>\n",
       "      <td>Dinner</td>\n",
       "      <td>3</td>\n",
       "      <td>0.160542</td>\n",
       "    </tr>\n",
       "    <tr>\n",
       "      <th>2</th>\n",
       "      <td>21.01</td>\n",
       "      <td>3.50</td>\n",
       "      <td>Male</td>\n",
       "      <td>No</td>\n",
       "      <td>Sun</td>\n",
       "      <td>Dinner</td>\n",
       "      <td>3</td>\n",
       "      <td>0.166587</td>\n",
       "    </tr>\n",
       "    <tr>\n",
       "      <th>3</th>\n",
       "      <td>23.68</td>\n",
       "      <td>3.31</td>\n",
       "      <td>Male</td>\n",
       "      <td>No</td>\n",
       "      <td>Sun</td>\n",
       "      <td>Dinner</td>\n",
       "      <td>2</td>\n",
       "      <td>0.139780</td>\n",
       "    </tr>\n",
       "    <tr>\n",
       "      <th>4</th>\n",
       "      <td>24.59</td>\n",
       "      <td>3.61</td>\n",
       "      <td>Female</td>\n",
       "      <td>No</td>\n",
       "      <td>Sun</td>\n",
       "      <td>Dinner</td>\n",
       "      <td>4</td>\n",
       "      <td>0.146808</td>\n",
       "    </tr>\n",
       "  </tbody>\n",
       "</table>\n",
       "</div>"
      ],
      "text/plain": [
       "   total_bill   tip     sex smoker  day    time  size   tip_pct\n",
       "0       16.99  1.01  Female     No  Sun  Dinner     2  0.059447\n",
       "1       10.34  1.66    Male     No  Sun  Dinner     3  0.160542\n",
       "2       21.01  3.50    Male     No  Sun  Dinner     3  0.166587\n",
       "3       23.68  3.31    Male     No  Sun  Dinner     2  0.139780\n",
       "4       24.59  3.61  Female     No  Sun  Dinner     4  0.146808"
      ]
     },
     "execution_count": 55,
     "metadata": {},
     "output_type": "execute_result"
    }
   ],
   "source": [
    "df['tip_pct'] = (df.tip / df.total_bill)\n",
    "df.head()"
   ]
  },
  {
   "cell_type": "markdown",
   "metadata": {},
   "source": [
    "# consumer data: dask 연습"
   ]
  },
  {
   "cell_type": "markdown",
   "metadata": {},
   "source": [
    "Dask의 가상 데이터프레임이므로 원천 데이터 파일을 하나가 아닌 복수로 설정할 수도 있다. 예를 들어 앞서 보았던 `data1.csv` 파일 이외에도 다음과 같이 `data2.csv', 'data3.csv` 파일이 있을 경우, 이 파일을 한 번에 하나의 데이터프레임으로 읽어들일 수도 있다."
   ]
  },
  {
   "cell_type": "code",
   "execution_count": 72,
   "metadata": {},
   "outputs": [
    {
     "name": "stdout",
     "output_type": "stream",
     "text": [
      "Writing data2.csv\n"
     ]
    }
   ],
   "source": [
    "%%writefile data2.csv\n",
    "time,temperature,humidity\n",
    "0,22,58\n",
    "1,21,57\n",
    "2,25,57\n",
    "3,26,55\n",
    "4,22,53\n",
    "5,23,59"
   ]
  },
  {
   "cell_type": "code",
   "execution_count": 73,
   "metadata": {},
   "outputs": [
    {
     "name": "stdout",
     "output_type": "stream",
     "text": [
      "Writing data3.csv\n"
     ]
    }
   ],
   "source": [
    "%%writefile data3.csv\n",
    "time,temperature,humidity\n",
    "0,22,58\n",
    "1,21,57\n",
    "2,25,57\n",
    "3,26,55\n",
    "4,22,53\n",
    "5,23,59"
   ]
  },
  {
   "cell_type": "code",
   "execution_count": 74,
   "metadata": {
    "collapsed": true
   },
   "outputs": [],
   "source": [
    "df = dd.read_csv(\"data*.csv\")"
   ]
  },
  {
   "cell_type": "code",
   "execution_count": 75,
   "metadata": {},
   "outputs": [
    {
     "data": {
      "text/plain": [
       "time           12\n",
       "temperature    12\n",
       "humidity       12\n",
       "dtype: int64"
      ]
     },
     "execution_count": 75,
     "metadata": {},
     "output_type": "execute_result"
    }
   ],
   "source": [
    "df.count().compute()"
   ]
  },
  {
   "cell_type": "code",
   "execution_count": 77,
   "metadata": {},
   "outputs": [
    {
     "data": {
      "text/plain": [
       "count    12.000000\n",
       "mean     23.166667\n",
       "std       1.850471\n",
       "min      21.000000\n",
       "25%      22.000000\n",
       "50%      22.500000\n",
       "75%      24.500000\n",
       "max      26.000000\n",
       "dtype: float64"
      ]
     },
     "execution_count": 77,
     "metadata": {},
     "output_type": "execute_result"
    }
   ],
   "source": [
    "df.temperature.describe().compute()"
   ]
  },
  {
   "cell_type": "code",
   "execution_count": null,
   "metadata": {
    "collapsed": true
   },
   "outputs": [],
   "source": []
  }
 ],
 "metadata": {
  "kernelspec": {
   "display_name": "Python 3",
   "language": "python",
   "name": "python3"
  },
  "language_info": {
   "codemirror_mode": {
    "name": "ipython",
    "version": 3
   },
   "file_extension": ".py",
   "mimetype": "text/x-python",
   "name": "python",
   "nbconvert_exporter": "python",
   "pygments_lexer": "ipython3",
   "version": "3.6.0"
  }
 },
 "nbformat": 4,
 "nbformat_minor": 2
}
