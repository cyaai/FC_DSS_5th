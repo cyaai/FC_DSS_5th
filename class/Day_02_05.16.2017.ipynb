{
 "cells": [
  {
   "cell_type": "markdown",
   "metadata": {},
   "source": [
    "# 데이터 분석을 위한 환경 설정"
   ]
  },
  {
   "cell_type": "markdown",
   "metadata": {},
   "source": [
    "# 데이터 분석을 위한 계산 환경의 변화"
   ]
  },
  {
   "cell_type": "markdown",
   "metadata": {},
   "source": [
    "실제로 데이터를 수집, 저장하고 분석작업을 수행하는 것은 컴퓨터 프로그램이므로 계산 환경은 데이터 분석에서 가장 먼저 고려되어야하는 중요한 요소이다. 데이터 분석을 위한 계산환경이란 컴퓨터 하드웨어, 운영체제, 분석용 프로그램 등을 모두 통틀어 말한다. 아무리 많은 데이터와 좋은 분석 모형이 있어도 실제로 데이터 가공과 분석을 수행할 계산환경이 이를 받쳐주지 못한다면 아무런 소용이 없을 것이다.\n",
    "\n",
    "최근 데이터 분석을 위한 계산 환경은 빠르게 변화하고 있으므로 우선 이러한 변화에 대해 알아볼 필요가 있다.\n",
    "\n",
    "과거에 주로 사용하던 데이터 분석 환경은 개인용 데스크톱 컴퓨터의 윈도우즈 운영체제 위에 이미 완성된 형태의 특정 분석 전용 애플리케이션(프로그램)을 설치하고 이 애플리케이션의 GUI 혹은 명령어 메뉴를 사용하여 특정한 분석 기능을 구동하는 방식으로 분석을 수행하였다.\n",
    "\n",
    "현재에는 리눅스 OS기반의 서버 컴퓨터에서 분석 프로그램 작성용 라이브러리를 설치하고 분석하고자 하는 사람이 이 라이브러리의 함수등을 사용한 R 혹은 파이썬 프로그램을 직접 작성하여 프로그램 실행을 통해 분석을 수행하는 방식으로 변화하고 있다."
   ]
  },
  {
   "cell_type": "markdown",
   "metadata": {},
   "source": [
    "<img src=\"images/data_analysis_env.png\">"
   ]
  },
  {
   "cell_type": "markdown",
   "metadata": {},
   "source": [
    "분석 환경이 이렇게 변화하는 이유는 무엇일까?\n",
    "\n",
    "우선 분석하고자 하는 문제와 요구사항이 다양해지고 있다는 점이다. 메뉴나 명령어 방식으로 수행되는 전용 분석 애플리케이션의 경우 보통 풀고자 하는 문제의 목표 및 자료, 결과물의 형식 등이 미리 정해져 있고 여기에 따라서면 분석을 수행할 수 있다. 만약 분석하고자 하는 문제가 약간이라도 원래의 문제에서 변형된 형태이거나 결과물을 다른 형식으로 표현하는 것이 쉽지 않다.\n",
    "\n",
    "두번째로 분석의 주체가 달라지고 있다. 과거에는 자료분석은 사람이 하는 일이었다. 사람이 컴퓨터 키보드를 사용하여 분석 프로그램을 가동하고 자료를 입력하고 모니터에 나타난 결과물을 눈으로 살펴봄으로써 자료에 대한 인사이트(insight)를 얻는 것이 분석의 최종 목표였다. 그러나 이제는 분석의 주체가 사람이 아닌 프로그램 혹은 시스템이 되어가고 있다. 실제 어떤 업무를 처리하는 프로그램이나 시스템이 업무 처리과정에서 필요한 분석 결과를 실시간으로 얻기 위해 분석가가 만든 분석 프로그램을 수행시키고 그 결과를 얻어가서 업무에 적용한다. 즉, 분석을 포함한 전체 업무 프로세스를 컴퓨터 프로그램이 자동으로 수행하게 된 것이다.\n",
    "\n",
    "분석 프로그램이 실행되는 기반이 데스크탑과 윈도우즈 OS가 아닌 서버와 리눅스 OS가 된 것도 이러한 이유이다. 대부분의 실제 업무처리 시스템이 리눅스 OS가 설치된 서버위에서 돌아가기 때문에 원활한 연결을 위해 분석 프로그램도 같은 하드웨어나 OS위에서 돌아가는 것이 자료 처리나 시스템 연동에 좋기 때문이다.\n",
    "\n"
   ]
  },
  {
   "cell_type": "markdown",
   "metadata": {},
   "source": [
    "* 분석하고자 하는 문제 및 요구 사항의 다양화\n",
    "    * 문제의 형식이 달라지면 전용 분석 애플리케이션 사용이 어려움\n",
    "    * 결과의 표현 방식 등에 대한 요구 사항의 변화에 적응이 힘듬\n",
    "\n",
    "---\n",
    "\n",
    "* 분석의 주체가 사람이 아닌 프로그램으로 변화\n",
    "    * 사람이 아닌 기존 업무 프로그램이 분석 프로그램을 호출하여 결과 획득\n",
    "    * 기본 업무 프로그램과 같은 환경에서 작동해야 함"
   ]
  },
  {
   "cell_type": "markdown",
   "metadata": {},
   "source": [
    "** 사람이 하던 일을 대체한다기 보다는 이전에는 엄두도 못내던 일들을 할 수 있게 된다는데 의의가 있다.**"
   ]
  },
  {
   "cell_type": "markdown",
   "metadata": {},
   "source": [
    "## Linux\n",
    "\n",
    "\n",
    "리눅스(Linux)는 리누스 토르발스가 개발한 커널을 기반으로 하는 운영체제를 말한다. 리눅스는 포직스(POSIX) 커널과 호환성을 가지며 유닉스 시스템에서 사용하던 대부분의 운영체제 구성요소를 사용할 수 있다. 또한 소스코드가 공개되어 있고 무료이므로 원가 절감이 요구되는 기업 환경에서 많이 사용되고 있다.\n",
    "\n",
    "리눅스 배포판(Linux distribution)은 리눅스 커널을 포함한 전체 운영체제를 말하며 다양한 배포판들이 존재한다. 그중 가장 많이 사용되는 것은 페도라(fedora) 계열과 데비안(debian) 계열이다.\n",
    "\n",
    "페도라 계열에서 가장 유명한 것은 레드햇 엔터프라이즈 리눅스(Red Hat Enterprise Linux, RHEL)로 유상 유지보수 서비스를 제공하기 때문에 국내 기업체에서 많이 사용하고 있다. CentOS는 레드햇 엔터프라이즈 리눅스와 호환되는 무료 버전이라고 볼 수 있다. 레드햇의 경우에는 유상 유지보수 서비스를 제공하기 때문에 커널이나 라이브러리 등 구성요소의 업그레이드에 굉장히 보수적인 경향이 있다. 예를 들어 C++11, 도커(Docker) 등의 라이브러리나 서비스는 국내에서 많이 쓰이는 RHEL 6 버전에서는 돌아가지 않는다.\n",
    "\n",
    "이와 반대로 개인 사용자 환경을 지향하며 지속적으로 커널 및 구성요소 업그레이드를 지향하는 배포판이 데비안 계열의 우분투(ubuntu) 배포판이다. 따라서 최신의 데이터 분석 혹은 머신러닝 라이브러리를 사용하고자 하는 경우에는 우분투 사용이 필수적이다.\n",
    "\n",
    "리눅스 커널을 사용하지 않지만 포직스(POSIX) 커널에 호환되는 운영체제로 freeBSD와 netBSD가 있다. 리눅스 커널을 사용하지 않기 때문에 정확히는 리눅스라고 부를 수는 없지만 보통 리눅스와 같이 취급되곤 한다. 국내의 경우에는 사용자가 많지 않지만 일본의 경우에는 두터운 사용자 층을 확보하고 있다. 매킨토시의 운영체제인 OS X는 FreeBSD를 기반으로 한다."
   ]
  },
  {
   "cell_type": "markdown",
   "metadata": {},
   "source": [
    "* 리눅스\n",
    "\n",
    "    * 페도라 계열\n",
    "        * 레드햇 엔터프라이즈 리눅스\n",
    "        * CentOS\n",
    "    * 데비안 계열\n",
    "        * 우분투\n",
    "\n",
    "---\n",
    "\n",
    "* BSD\n",
    "    * freeBSD\n",
    "    * netBSD\n",
    "    * 매킨토시 OS X"
   ]
  },
  {
   "cell_type": "markdown",
   "metadata": {},
   "source": [
    "## 도커 Docker"
   ]
  },
  {
   "cell_type": "markdown",
   "metadata": {},
   "source": [
    "리눅스 기반의 운영에서 빠질 수 없는 것이 도커(Docker) 서비스이다. 도커는 리눅스에서 사용가능한 운영체제 수준의 가상화 서비스이다. 보통 컨테이너 서비스라고 불린다.\n",
    "\n",
    "도커는 흔히 하드웨어를 에뮬레이션하여 하나의 컴퓨터 위에 복수의 운영체제를 가동하기 위한 하드웨어 수준의 가상 머신과 비교된다. 오라클의 버추얼박스(VirtualBox)나 마이크로소프트의 Windows Virtual PC는 하드웨어 수준의 가상 머신으로 윈도우즈 운영체제 위에서 리눅스 운영체제를 가동한다거나 반대로 리눅스 운영체제 위에서 윈도우즈 운영체제를 가동하는 것이 가능하다. 이 때 원래의 운영체제를 호스트(Host)라고 하고 가상의 운영체제를 게스트(Guest)라고 한다. 게스트 운영체제는 하드웨어 수준에서 에뮬레이션하는 것이므로 속도 등의 성능이 급격하게 저하하고 프로세스를 시작하기 위해서도 게스트 운영체제의 부팅 과정을 거쳐야 하므로 가상 프로세스를 시작하거나 종료하는데 시간이 많이 걸린다.\n",
    "\n",
    "이와 달리 도커는 리눅스 커널을 공유하는 운영체제 수준의 가상화 서비스이므로 VirtualBox와 같이 서로 다른 운영체제를 가동하는 것은 불가능하지만 게스트 프로세스도 호스트 프로세스와 같은 속도와 성능으로 움직이며 가상화 프로세스를 시작하거나 종료하기 위한 추가 부담도 거의 없다.\n",
    "\n",
    "도커는 클러스터/클라우드 서비스의 활성화와 함께 인기를 얻게 되었다. 리눅스 상의 어플리케이션을 설정하는 과정은 상당히 복잡하다. 그러나 도커 이미지를 사용하면 가상의 컴퓨터를 쉽게 클러스터/클라우드 상의 노드에 복제할 수 있고 쉽게 설치 코드를 공유할 수 있으므로 운영 및 유지 보수 부담이 적다."
   ]
  },
  {
   "cell_type": "markdown",
   "metadata": {},
   "source": [
    "* Docker\n",
    "\t* 운영체제 수준의 가상화 서비스 (컨테이너 서비스)\n",
    "\t* 리눅스 커널 공유 (커널 버전 3.10 이상)\n",
    "\t* 게스트 프로세스 운용시 성능 저하 없음\n",
    "\t* 다양한 배포판의 동시 사용 가능\n",
    "\n",
    "---\n",
    "\n",
    "* 오라클 VirtualBox\n",
    "\t* 하드웨어 수준의 가상화 서비스 (가상 머신)\n",
    "\t* 하드웨어 에뮬레이션\n",
    "\t* 게스트 프로세스 성능 저하\n",
    "\t* 윈도우즈 위에서 리눅스 사용 가능"
   ]
  },
  {
   "cell_type": "markdown",
   "metadata": {},
   "source": [
    "## 데이터 분석용 프로그래밍 언어"
   ]
  },
  {
   "cell_type": "markdown",
   "metadata": {},
   "source": [
    "데이터 분석에는 다양한 언어들이 사용된다. SAS, SPSS, Stata, Minitab, Weka, S, R 등 데이터 분석을 위한 전용 프로그램이나 언어 뿐 아니라 C, C++, 자바(Java), 스칼라(Scala), 루아(Lua), 파이썬(Python) 등 범용 언어도 많이 사용된다. 데이터 분석 목적으로만 보자면 사용자 기준으로 가장 많이 사용되는 언어가 R과 파이썬이다."
   ]
  },
  {
   "cell_type": "markdown",
   "metadata": {},
   "source": [
    "## R\n",
    "\n",
    "R 언어(이하 R)는 통계 계산에 사용되는 S/S+ 언어와 호환되는 무료이자 오픈소스인 프로그래밍 언어이다. S 언어는 벨 연구소에서 1976년에 개발된 오래된 통계 계산용 언어이지만 현재까지도 각종 통계 계산용 프로그램 개발에 활발히 사용된다. (참고로 가장 널리 쓰이는 프로그래밍 언어인 C는 1972년도에 개발되었다.)\n",
    "\n",
    "R의 장점은 통계 계산에 최적화된 각종 자료형(data type)과 R로 만들어진 다양한 통계 패키지들이다. 예를 들어 R의 data.frame 자료형은 다차원 통계 자료를 위한 것으로 기존의 행렬 자료형과 달리 인덱스(index)와 라벨(label)을 지원한다. R은 사용이 간편하여 학계에서 새로운 통계 알고리즘을 프로토타입 형태로 구현할 때 많이 사용된다. 따라서 대부분의 통계 분석 방법론이나 알고리즘에 대해 R 패키지가 존재한다. 2017년 1월 현재 공개된 R 패키지의 수는 약 10,000개이다.(https://cran.r-project.org/web/packages/ 참조)\n",
    "\n",
    "다만 R은 일반적인 프로그래밍 언어가 아니므로 독립 실행 애플리케이션을 제작한다던가 타 시스템과 연동하는 것이 어려울 수 있다. 또한 실행 속도가 느리므로 실시간 계산에 적합하지 않다.\n",
    "\n",
    "* R\n",
    "\t* S/S+ 언어와 호환되는 통계 계산용 언어\n",
    "\t* 무료, 오픈소스\n",
    "* 장점\n",
    "    * 통계 계산에 최적화된 각종 자료형\n",
    "    * 다양한 통계 패키지들\n",
    "* 단점\n",
    "    * 느린 속도\n",
    "    * 범용 언어가 아님\n",
    "    * 타 시스템과의 연동이 어려움"
   ]
  },
  {
   "cell_type": "markdown",
   "metadata": {},
   "source": [
    "## 파이썬\n",
    "\n",
    "여기에서는 파이썬을 기준으로 모든 내용을 설명한다.\n",
    "\n",
    "파이썬 언어(이하 파이썬)는 1991년 귀도 반 로섬(Guido van Rossum)이 개발한 범용 프로그래밍 언어이다. 스크립트 기반의 언어이고 플랫폼 독립적이므로 어떤 운영체제에서도 사용가능하며 객체 지향(OOP) 및 동적 타입(dynamic type) 특성을 가진다.\n",
    "\n",
    "파이썬이 데이터 분석 언어로써 널리 사용되는 이유 중의 하나는 NumPy, SciPy, Pandas, Scikit-learn, Statsmodels 등 다양한 수치 해석 및 데이터 분석 라이브러리를 가지기 있기 때문이다. 또한 범용 언어로서 독립 실행 애플리케이션, 웹 서버 등의 개발이 용이하고 다른 프로그래밍 언어와 연동이 쉽다는 것도 파이썬의 인기 요소이다.\n",
    "\n",
    "다만 R과 마찬가지로 스크립트 언어이기 때문에 실행 속도가 C/C++ 등의 컴파일 언어에 비해 일반적으로 느리다. 그러나 핵심 코드만 C언어등을 사용하여 개발이 가능하고 다양한 Cython, Numba 등 다양한 최적화 옵션이 존재하며 최근에는 Pyston, PyPy 등 JIT가 가능한 파이썬 구현도 개발되어 속도에 대한 부담이 점차 줄어들고 있다.\n",
    "\n",
    "* 파이썬\n",
    "    * 범용 프로그래밍 언어\n",
    "    * 객체 지향, 동적 타입\n",
    "\n",
    "* 장점\n",
    "    * 다양한 수치해석 및 데이터 분석 패키지들\n",
    "        * NumPy, SciPy, Pandas, Scikit-learn, Statsmodels, 등\n",
    "    * 독립 실행 애플리케이션, 웹 서버 개발 가능\n",
    "    * 다른 프로그래밍 언어와 연동 용이\n",
    "* 단점\n",
    "    * 느린 속도\n",
    "    \n",
    "정확히 말하면 파이썬이란 파이썬 스크립트 언어를 해석하여 실행할 수 있는 인터프리터 엔진을 말한다. 그러나 실제로는 구체적인 기능을 수행하는 패키지(라이브러리)가 함께 설치되어야 한다. 따라서 리눅스와 마찬가지로 패키지와 패키지 관리 유틸리티를 포함한 다양한 배포판이 존재한다. 2016년 현재 가장 널리 쓰이는 파이썬 배포판은 Continuum Anaytics 사가 개발한 아나콘다(Anaconda) 배포판이다."
   ]
  },
  {
   "cell_type": "markdown",
   "metadata": {},
   "source": [
    "** Glue Language라는 별명처럼 언어간 접합성이 매우 좋다.**"
   ]
  },
  {
   "cell_type": "markdown",
   "metadata": {},
   "source": [
    "# Shell, Terminal, Console\n",
    "본격적인 프로그래밍을 시작하기 전에 반드시 알아야 하는 것이 셸(shell)과 터미널(terminal), 그리고 콘솔(console)이다. 윈도우즈에서는 커맨드 프롬프트 라인(command prompt line), 우리말로 번역하여 명령줄이라고도 한다.\n",
    "\n",
    "사실 정확히 따지자면 이 단어들은 서로 같은 뜻이 아니지만 프로그램을 처음으로 시작하는 초보자는 일단 다음과 같이 같은 개념으로 생각해도 된다."
   ]
  },
  {
   "cell_type": "markdown",
   "metadata": {},
   "source": [
    "<img src='images/shell_ex.png'>"
   ]
  },
  {
   "cell_type": "markdown",
   "metadata": {},
   "source": [
    "## Prompt\n",
    "셸 화면에서 항상 줄 앞에서 표시되는 글자를 프롬프트(prompt)라고 한다. 위 그림에서는 `dockeruser@7e2af2c6d2d:~$` 라는 글자가 프롬프트이다. 프롬프트는 컴퓨터의 현재 상태 등을 보여주는 동시에 셸이 사용자의 명령을 받을 준비가 되었다는 것을 알려준다.\n",
    "\n",
    "앞으로 셸 명령 예제를 보여줄 때 프롬프트까지 포함하여 보여줄 것이다. 따라서 이러한 예제들을 직접 타이핑하여 실행할 때는 프롬프트 부분은 타이핑하면 안된다."
   ]
  },
  {
   "cell_type": "markdown",
   "metadata": {},
   "source": [
    "## Shell Command"
   ]
  },
  {
   "cell_type": "markdown",
   "metadata": {},
   "source": [
    "아까 셸과 터미널/콘솔은 각각 의미가 다르다고 했는데 정확하게 말하면\n",
    "\n",
    "* 셀은 사용자가 글자를 타이핑하여 컴퓨터에게 명령할 수 있도록 하는 프로그램을 뜻하고\n",
    "* 터미널/콘솔은 셸을 실행하기 위해 글자 입력을 받아 컴퓨터에게 전달하거나 컴퓨터의 출력을 글자 화면에 쓰는 프로그램을 말한다.\n",
    "\n",
    "따라서 셸과 터미널/콘솔은 항상 같이 실행할 수 밖에 없기 때문에 보통 같은 의미로 사용된다.\n",
    "\n",
    "셸 화면에서는 컴퓨터에게 글자를 타이핑하여 간단한 명령을 수행할 수 있다. 셸 명령은 주로 파일이나 폴더(디렉토리)를 관리하기 위한 명령이다. 윈도우즈의 셸 명령과 맥/리눅스의 셸 명령은 비슷하지만 약간 차이가 있다."
   ]
  },
  {
   "cell_type": "markdown",
   "metadata": {},
   "source": [
    "## 기본 셸 명령"
   ]
  },
  {
   "cell_type": "markdown",
   "metadata": {},
   "source": [
    "|명령|윈도우즈 셸|맥/리눅스 셸\n",
    "|---|---|\n",
    "|화면 지우기|cls|ctrl+l|\n",
    "|현재 디렉토리 이름 출력|cd|pwd\n",
    "|현재 디렉토리의 파일 목록 출력|dir|ls -Fcal\n",
    "|한 칸 위의 디렉토리로 이동|cd ..|cd ..\n",
    "|한 칸 아래의 디렉토리로 이동|cd 디렉토리이름|cd 디렉토리이름\n",
    "|파일 지우기|del 파일이름|rm 파일이름\n",
    "|디렉토리 만들기|mkdir 디렉토리이름|mkdir 디렉토리이름\n",
    "|디렉토리 지우기|rmdir 디렉토리이름|rmdir 디렉토리이름\n",
    "|셸 나가기|exit|exit|"
   ]
  },
  {
   "cell_type": "markdown",
   "metadata": {},
   "source": [
    "## 계정과 홈 디렉토리"
   ]
  },
  {
   "cell_type": "markdown",
   "metadata": {},
   "source": [
    "윈도우즈, 맥, 리눅스와 같은 운영체제는 사용자 계정(account)과 홈 디렉토리(home directory)를 지원한다. 사용자 계정은 운영체제에 로그인하기 위한 사용자 이름이고 디렉토리는 각각의 사용자의 개인화 정보를 저정하기 위한 디렉토리이다.\n",
    "\n",
    "셸을 가동하면 보통은 로그인한 사용자의 홈 디렉토리에서 셸이 시작한다. 만약 홈 디렉토리에서 시작하지 않았다면 다음 명령으로 홈 디렉토리로 옮길 수 있다. ~ 기호는 틸드(tilde)라고 읽는다. 이 기호는 사용자의 홈 디렉토리를 표시하는 단축 기호이다."
   ]
  },
  {
   "cell_type": "markdown",
   "metadata": {},
   "source": [
    "> $ cd ~"
   ]
  },
  {
   "cell_type": "markdown",
   "metadata": {},
   "source": [
    "## 도커 컨테이너"
   ]
  },
  {
   "cell_type": "markdown",
   "metadata": {},
   "source": [
    "<img src='images/docker_command.png'>"
   ]
  },
  {
   "cell_type": "markdown",
   "metadata": {},
   "source": [
    "### docker ps -a"
   ]
  },
  {
   "cell_type": "markdown",
   "metadata": {},
   "source": [
    "현재 존재하는 모든 도커 컨테이너 목록을 보려면 `docker ps -a` 명령을 사용한다. 만약 `-a` 옵션 없이 사용하면 가동중인 컨테이너만 보인다."
   ]
  },
  {
   "cell_type": "markdown",
   "metadata": {},
   "source": [
    "```\n",
    "$ docker ps -a\n",
    "CONTAINER ID IMAGE                     COMMAND         CREATED    STATUS                      PORTS    NAMES\n",
    "3be34f7a1cb2 datascienceschool/rpython \"/usr/bin/tini\" 5 days ago Exited (137) 15 minutes ago 8787/tcp rpython\n",
    "```"
   ]
  },
  {
   "cell_type": "markdown",
   "metadata": {},
   "source": [
    "도커 이미지와 마찬가지로 도커 컨테이너도 `NAMES` 열에 보인 컨테이너 이름 문자열과 `CONTAINER ID` 열에 보인 컨테이너 아이디로 특정 컨테이너를 지정할 수 있다. 컨테이너를 멈추거나 삭제하는 경우에 사용한다.\n",
    "\n",
    "출력에서 주의해야 할 것은 `STATUS` 항목이다. `STATUS` 항목이 `Up` 이면 해당 컨테이너가 현재 작동중이라는 뜻이고 웹 브라우저를 통해 `Jupyter Notebook`을 사용할 수 있다. 만약 `STATUS` 항목이 위의 예처럼 `Exited` 이면 현재 동작이 멈추어 있다는 의미이다. 따라서 `Jupyter Notebook`을 사용하려면 `docker start` 를 시키거나 `docker rm` 명령으로 삭제한 뒤에 다시 `docker run` 을 해야 한다."
   ]
  },
  {
   "cell_type": "markdown",
   "metadata": {},
   "source": [
    "### docker run"
   ]
  },
  {
   "cell_type": "markdown",
   "metadata": {},
   "source": [
    "도커 컨테이너를 시작하려면 `docker run` 명령을 사용한다. 이 명령에는 많은 옵션이 오게 되는데 대표적인 옵션은 다음과 같다."
   ]
  },
  {
   "cell_type": "markdown",
   "metadata": {},
   "source": [
    "* -it : 터미널을 가진 대화형으로 도커 컨테이너를 시작한다.\n",
    "* -d : 데몬(daemon)으로 도커 컨테이너를 시작한다.\n",
    "* --name : 컨테이너에 이름을 지정한다.\n",
    "* -p : 컨테이너와 호스트간의 포트 포워딩\n",
    "* -v : 컨테이너와 호스트간의 폴더 공유\n",
    "\n",
    "옵션 다음에는 가동할 이미지의 이름과 수행할 명령을 추가한다.\n",
    "\n",
    "예를 들어 `datascienceschool/rpython` 이미지를 대화형 컨테이너로 가동하는 경우 다음과 같이 입력할 수 있다.\n",
    "\n",
    "```\n",
    "docker run -Pit --name rpython -p 8888:8888 -p 8787:8787 -p 6006:6006 datascienceschool/rpython\n",
    "```\n"
   ]
  },
  {
   "cell_type": "markdown",
   "metadata": {},
   "source": [
    "위 명령은 `datascienceschool/rpython` 이미지를 `rpython`이란 컨테이너 이름으로 가동시키며 터미널을 가진 대화형 컨테이너를 사용하고 컨테이의 8888 포트와 8787포트를 호스트의 8888 포트 및 8787 포트와 연결하라는 의미이다."
   ]
  },
  {
   "cell_type": "markdown",
   "metadata": {},
   "source": [
    "`-Pit` 옵션은 모든 포트를 열고 상호 대화적 셸 사용이 가능하게 하라는 옵션이다."
   ]
  },
  {
   "cell_type": "markdown",
   "metadata": {},
   "source": [
    "원래 docker run 명령은 마지막에 `/bin/bash` 등의 명령을 주지만 `datascienceschool/rpython` 이미지의 경우 아무런 명령이 없을 경우 자동으로 `/bin/bash`를 수행하도록 만들어져 있다. `docker run` 으로 `/bin/bash` 를 수행한 경우 다음과 같이 프롬프트가 바뀌며 도커 컨테이너 안으로 들어갔음을 보여준다."
   ]
  },
  {
   "cell_type": "markdown",
   "metadata": {},
   "source": [
    "```\n",
    "$ docker run -Pit --name rpython -p 8888:8888 -p 8787:8787 -p 6006:6006 datascienceschool/rpython\n",
    "dockeruser@377ad03459bf:~$\n",
    "```"
   ]
  },
  {
   "cell_type": "markdown",
   "metadata": {},
   "source": [
    "앞의 프롬프트에서 `dockeruser`는 도커 컨테이너상의 사용자 아이디를, `377ad03459bf`는 도커 컨테이너 아이디를 가리킨다."
   ]
  },
  {
   "cell_type": "markdown",
   "metadata": {},
   "source": [
    "### Ctrl+p, Ctrl+q\n",
    "도커 컨테이너 안에서 작업을 하다가 도커 컨테이너는 정지시키지 않고 잠시 컨테이너에서 호스트로 빠져나오고 싶은 경우에는 Ctrl+p, Ctrl+q 버튼을 누른다. (이 때 호스트 컴퓨터의 프롬프트가 바로 나타나지 않으면 Enter키를 몇 번 친다.)"
   ]
  },
  {
   "cell_type": "markdown",
   "metadata": {},
   "source": [
    "### docker attach\n",
    "호스트 컴퓨터에서 작업을 끝낸 후 다시 빠져나왔던 도커 컨테이너로 들어가려면 docker attach 명령을 입력한다. 물론 명령어 뒤에 컨테이너 아이디나 이름을 인수로 입력해야 한다. (마찬가지로 컨테이너의 프롬프트가 바로 나타나지 않으면 Enter키를 몇 번 친다.)\n",
    "\n",
    "```\n",
    "$ docker attach rpython\n",
    "dockeruser@377ad03459bf:~$\n",
    "```"
   ]
  },
  {
   "cell_type": "markdown",
   "metadata": {},
   "source": [
    "### exit\n",
    "만약 컨테이너 사용을 완전히 마치고 싶으면 컨테이너 안에서 exit 명령을 입력한다. 컨테이너를 중지하고 호스트 컴퓨터로 빠져나온다.\n",
    "\n",
    "```\n",
    "dockeruser@377ad03459bf:~$ exit\n",
    "exit\n",
    "user@user-PC MINGW64 ~\n",
    "```"
   ]
  },
  {
   "cell_type": "markdown",
   "metadata": {},
   "source": [
    "### docker stop\n",
    "컨테이너를 중지하지 않고 빠져나온 경우에 외부에서 컨테이너를 중지하고 싶으면 `docker stop` 명령을 사용한다.\n",
    "\n",
    "```\n",
    "user@user-PC MINGW64 ~\n",
    "$ docker ps -a\n",
    "CONTAINER ID IMAGE                     COMMAND         CREATED        STATUS       PORTS                  NAMES\n",
    "a181562ac4d8 datascienceschool/rpython \"/usr/bin/tini\" 15 seconds ago Up 5 seconds 0.0.0.0:8787->8787/tcp rpython\n",
    "\n",
    "user@user-PC MINGW64 ~\n",
    "$ docker stop rpython\n",
    "rpython\n",
    "\n",
    "user@user-PC MINGW64 ~\n",
    "$ docker ps -a\n",
    "CONTAINER ID IMAGE                     COMMAND         CREATED        STATUS                     PORTS NAMES\n",
    "a181562ac4d8 datascienceschool/rpython \"/usr/bin/tini\" 25 seconds ago Exited (143) 7 seconds ago       rpython\n",
    "```"
   ]
  },
  {
   "cell_type": "markdown",
   "metadata": {},
   "source": [
    "### docker start\n",
    "컨테이너가 중지가 중지된 상태에서 다시 시작하고 싶으면 `docker start` 명령을 사용한다.\n",
    "\n",
    "```\n",
    "user@user-PC MINGW64 ~\n",
    "$ docker ps -a\n",
    "CONTAINER ID IMAGE                     COMMAND         CREATED        STATUS                     PORTS NAMES\n",
    "a181562ac4d8 datascienceschool/rpython \"/usr/bin/tini\" 45 seconds ago Exited (143) 6 seconds ago       rpython\n",
    "\n",
    "user@user-PC MINGW64 ~\n",
    "$ docker start rpython\n",
    "rpython\n",
    "\n",
    "user@user-PC MINGW64 ~\n",
    "$ docker ps -a\n",
    "CONTAINER ID IMAGE                     COMMAND         CREATED        STATUS       PORTS                  NAMES\n",
    "a181562ac4d8 datascienceschool/rpython \"/usr/bin/tini\" 57 seconds ago Up 5 seconds 0.0.0.0:8787->8787/tcp rpython\n",
    "```"
   ]
  },
  {
   "cell_type": "markdown",
   "metadata": {},
   "source": [
    "### docker restart\n",
    "컨테이너의 상태에 관계없이 (동작 중에도) 중지한 후에 다시 시작하고 싶으면 docker restart 명령을 사용한다.\n",
    "\n",
    "```\n",
    "user@user-PC MINGW64 ~\n",
    "$ docker ps -a\n",
    "CONTAINER ID IMAGE                     COMMAND         CREATED        STATUS                     PORTS NAMES\n",
    "a181562ac4d8 datascienceschool/rpython \"/usr/bin/tini\" 53 seconds ago Up 6 seconds                     rpython\n",
    "\n",
    "user@user-PC MINGW64 ~\n",
    "$ docker restart rpython\n",
    "rpython\n",
    "\n",
    "user@user-PC MINGW64 ~\n",
    "$ docker ps -a\n",
    "CONTAINER ID IMAGE                     COMMAND         CREATED        STATUS       PORTS                  NAMES\n",
    "a181562ac4d8 datascienceschool/rpython \"/usr/bin/tini\" 54 seconds ago Up 6 seconds 0.0.0.0:8787->8787/tcp rpython\n",
    "```"
   ]
  },
  {
   "cell_type": "markdown",
   "metadata": {},
   "source": [
    "### docker rm\n",
    "컨테이너가 중지되었어도 컨테이너 자체는 계속 남아있기 때문에 같은 이름으로 컨테이너를 다시 생성하기 위해서는 해당 이름을 가진 컨테이너를 삭제해야 한다. 이 때 `docker rm` 명령을 사용한다.\n",
    "```\n",
    "user@user-PC MINGW64 ~\n",
    "$ docker rm rpython\n",
    "rpython\n",
    "\n",
    "user@user-PC MINGW64 ~\n",
    "$ docker ps -a\n",
    "CONTAINER ID        IMAGE               COMMAND             CREATED             STATUS              PORTS               NAMES\n",
    "```"
   ]
  },
  {
   "cell_type": "markdown",
   "metadata": {},
   "source": [
    "# iPython Notebook"
   ]
  },
  {
   "cell_type": "code",
   "execution_count": 12,
   "metadata": {},
   "outputs": [
    {
     "name": "stdout",
     "output_type": "stream",
     "text": [
      "Hello\n"
     ]
    }
   ],
   "source": [
    "print(\"Hello\")"
   ]
  },
  {
   "cell_type": "code",
   "execution_count": 15,
   "metadata": {
    "collapsed": true
   },
   "outputs": [],
   "source": [
    "x=1"
   ]
  },
  {
   "cell_type": "code",
   "execution_count": 14,
   "metadata": {},
   "outputs": [
    {
     "data": {
      "text/plain": [
       "1"
      ]
     },
     "execution_count": 14,
     "metadata": {},
     "output_type": "execute_result"
    }
   ],
   "source": [
    "x"
   ]
  },
  {
   "cell_type": "markdown",
   "metadata": {},
   "source": [
    "위에서 out이 나오는 이유는 notebook에서 변수만 입력될경우 representation 하도록 되어 있으며 이에 대한 출력으로 보여주는 것이다."
   ]
  },
  {
   "cell_type": "markdown",
   "metadata": {},
   "source": [
    "***Markdown Mode Editting***\n",
    "1. C\n",
    "2. JAVA\n",
    "3. Python\n",
    "4. JavaScript\n",
    "5. Markdown\n",
    "6. LaTeX\n",
    "\n",
    "\\begin{equation}\n",
    "e = \\frac{a}{\\sigma+\\delta+\\eta}\n",
    "\\end{equation}\n",
    "\n",
    "```\n",
    "def python(variable):\n",
    "    string = 'this is function'\n",
    "    a = variable\n",
    "    return(string)\n",
    "```\n",
    "\n",
    "\\begin{equation}\n",
    "\\text{test} = \\int_{-\\infty}^{+\\infty} x^2 dx \\approx \\dfrac{1}{2+\\alpha+\\beta}= \\left(\\frac{1}{\\alpha+\\beta}\\right)\n",
    "\\end{equation} "
   ]
  },
  {
   "cell_type": "markdown",
   "metadata": {},
   "source": [
    "** 과제 제출은 .ipynb형태로 **"
   ]
  },
  {
   "cell_type": "markdown",
   "metadata": {},
   "source": [
    "# Python Packages"
   ]
  },
  {
   "cell_type": "markdown",
   "metadata": {},
   "source": [
    "## Numpy\n",
    "\n",
    "NumPy(\"넘파이\"라고 읽는다) 패키지는 파이썬에서 수치 해석, 특히 선형 대수(linear algebra) 계산을 위한 패키지이다. 자료형이 고정된 다차원 배열 클래스(n-dimensional array)와 벡터화 연산(vectorized operation)을 지원하며 수학 연산을 위한 가장 기본적이고 중요한 패키지이다.\n",
    "\n",
    "원래는 파이썬에서 MATLAB과 같은 기능을 구현하고자 Numeric이라는 이름으로 프로젝트가 시작되었으나 2005년 Travis Oliphant에 의해 Numarray 패키지와 통합되며 NumPy라는 이름으로 바뀌었다. 내부적으로는 BLAS(Basic Linear Algebra Subprograms)와 LAPACK(Linear Algebra Package)이라고 하는 오픈 소스 선형 대수 라이브러리에 의존하며 CPython에서만 동작하도록 만들어졌다."
   ]
  },
  {
   "cell_type": "markdown",
   "metadata": {},
   "source": [
    "## Scipy\n",
    "\n",
    "SciPy(\"싸이파이\"라고 읽는다) 패키지는 고급 수학 함수, 수치적 미적분, 미분 방정식 계산, 최적화, 신호 처리 등을 위한 다양한 과학 기술 계산 기능을 제공하는 패키지이다.\n",
    "\n",
    "SciPy 패키지는 Numeric 패키지 기반으로 만들어진 다양한 수치 해석 패키지들을 2001년에 Travis Oliphant와 Pearu Peterson 등이 통합, 재정리하여 만든 패키지이다."
   ]
  },
  {
   "cell_type": "markdown",
   "metadata": {},
   "source": [
    "## SymPy\n",
    "SymPy(\"심파이\"라고 읽는다) 패키지는 숫자를 더하거나 빼는 수치 연산이 아니라 인수 분해, 미분, 적분 등 심볼릭 연산을 위한 패키지이다.\n",
    "\n",
    "SymPy 프로젝트는 파이썬에 Mathematica와 같은 심볼릭 연산 기능을 넣고자 하는 노력으로 2006년에 Ondrej Certik에 의해 시작되었다. SymPy의 기능은 http://live.sympy.org/ 또는 http://www.sympygamma.com/ 웹사이트를 방문하면 브라우저 상에서 바로 확인할 수 있다."
   ]
  },
  {
   "cell_type": "markdown",
   "metadata": {},
   "source": [
    "## Pandas\n",
    "Pandas(\"판다스\"라고 읽는다) 패키지는 테이블 형태의 데이터를 다루기 위한 데이터프레임(DataFrame) 자료형을 제공하는 패키지이다. 자료의 탐색이나 정리에 아주 유용하여 데이터 분석에는 빠질 수 없는 필수적인 패키지이다.\n",
    "\n",
    "2008년도에 Wes McKinney에 의해 프로젝트가 시작되었다. 원래는 R 언어에서 제공하는 데이터프레임 자료형을 파이썬에서 제공할 수 있도록 하는 목적이었으나 다양한 기능을 추가되어 원래의 R 데이터프레임의 기능을 능가하는 대규모 프로젝트가 되었다."
   ]
  },
  {
   "cell_type": "markdown",
   "metadata": {},
   "source": [
    "## Matplotlib\n",
    "Matplotlib(\"맷플롯리브\"라고 읽는다) 패키지는 파이썬에서 각종 그래프나 챠트 등을 그리기 위한 시각화 패키지이다. Tkinter, wxPython, Qt, GTK+ 등의 다양한 그래픽 엔진을 사용할 수 있다. 또한 MATLAB 의 그래프 기능을 거의 동일하게 사용할 수 있는 pylab 이라는 서브패키지를 제공하므로 MATLAB 에 익숙한 사람들은 바로 Matplotlib 을 사용할 수 있다."
   ]
  },
  {
   "cell_type": "markdown",
   "metadata": {},
   "source": [
    "## Seaborn\n",
    "Seaborn(\"씨본\"이라고 읽는다) 패키지는 Matplotlib 패키지에서 지원하지 않는 고급 통계 챠트를 그리기 위한 통계용 시각화 패키지이다."
   ]
  },
  {
   "cell_type": "markdown",
   "metadata": {},
   "source": [
    "## Bokeh\n",
    "Bokeh(\"보케\"라고 읽는다.) 패키지는 주피터 노트북이나 웹 상에서 자바스크립트로 그래프나 차트를 그려주는 파이썬 패키지이다. 챠트의 확대나 이동 등의 상호 작용이 가능하다."
   ]
  },
  {
   "cell_type": "markdown",
   "metadata": {},
   "source": [
    "## Statsmodels\n",
    "Statsmodels(\"스탯츠모델즈\"라고 읽는다) 패키지는 회귀 분석이나 시계열 분석을 위한 라이브러리이다."
   ]
  },
  {
   "cell_type": "markdown",
   "metadata": {},
   "source": [
    "## Scikit-Learn\n",
    "Scikit-Learn(\"싸이킷런\"이라고 읽는다) 패키지는 머신러닝 학습용 패키지이다. 딥러닝을 제외한 대부분의 머신러닝 모형을 제공하므로 파이썬으로 머신러닝을 공부하고자 하는 사람들에게 최적의 학습 도구이다."
   ]
  },
  {
   "cell_type": "markdown",
   "metadata": {},
   "source": [
    "## TensorFlow\n",
    "TensorFlow(\"텐서플로우\"라고 읽는다) 패키지는 신경망 모형 등의 딥러닝 모형을 위한 파이썬 패키지이다. 심볼릭 연산과 그래프 연산 모형, GPGPU를 사용한 연산 등을 제공하므로 대량 연산을 필요로 하는 딥러닝 학습에 필수적인 패키지이다."
   ]
  },
  {
   "cell_type": "markdown",
   "metadata": {},
   "source": [
    "## Keras\n",
    "Keras(\"케라스\"라고 읽는다) 패키지는 TensorFlow 패키지를 쉽게 사용할 수 있도록 도와주는 고수준 패키지이다. Keras를 사용하면 쉽게 신경망 모형을 구현할 수 있다."
   ]
  },
  {
   "cell_type": "markdown",
   "metadata": {},
   "source": [
    "# 파이썬 처음 사용하기"
   ]
  },
  {
   "cell_type": "markdown",
   "metadata": {},
   "source": [
    "파이썬을 설치하였으면 이제 사용해 보자. 파이썬을 사용하는 방식에는 다음 두 가지 방법이 있다.\n",
    "\n",
    "1. 콘솔이나 주피터 노트북을 사용한 REPL(Read–Eval–Print Loop) 방식\n",
    "2. 스크립트(script) 실행 방식"
   ]
  },
  {
   "cell_type": "markdown",
   "metadata": {},
   "source": [
    "# REPL (Read-Eval-Print Loop) 방식\n",
    "\n",
    "REPL(Read–Eval–Print Loop, \"레플\"이라고 읽는다) 방식은 주피터 노트북이나 파이썬(또는 IPython) 콘솔을 실행해서 명령어를 한줄씩 입력하며 실행 상황을 지켜보는 방식이다. 파이썬 프로그래밍을 공부하거나 코드의 초기 버전을 제작할 때 유용한 방식이다. 본서에서는 모든 코드를 REPL 방식으로 실행하면서 공부하게 된다."
   ]
  },
  {
   "cell_type": "markdown",
   "metadata": {},
   "source": [
    "# 스크립트(Script) 실행 방식\n",
    "코드를 모두 완성한 후 전체 코드를 한 번에 실행하고 싶을 때는 코드를 .py 확장자를 가진 파일로 만든다. 이렇게 만든 코드 파일을 스크립트(script)라고 한다. 스크립트는 주피터 노트북이나 IPython 콘솔을 실행하지 않고 터미널에서 직접 실행할 수 있다.\n",
    "\n",
    "다만 스크립트에서는 변수 이름만 쳐서 변수의 값이 표시되게 하는 것은 불가능하므로 화면에 무언가를 표시하려면 반드시 print 명령을 사용해야 한다.\n",
    "\n",
    "우선 간단한 스크립트를 하나 만들어보자. 홈 화면의 우측 상단에 있는 New 버튼에서 Text File을 실행하여 파일 입력 탭을 생성한다. 텍스트 파일에 다음과 같이 코드를 입력하고 File > Rename 명령을 실행하여 노트북의 이름을 test.py로 변경한 후 File > Save 명령으로 저장한다."
   ]
  },
  {
   "cell_type": "code",
   "execution_count": null,
   "metadata": {
    "collapsed": true
   },
   "outputs": [],
   "source": []
  }
 ],
 "metadata": {
  "kernelspec": {
   "display_name": "Python 3",
   "language": "python",
   "name": "python3"
  },
  "language_info": {
   "codemirror_mode": {
    "name": "ipython",
    "version": 3
   },
   "file_extension": ".py",
   "mimetype": "text/x-python",
   "name": "python",
   "nbconvert_exporter": "python",
   "pygments_lexer": "ipython3",
   "version": "3.6.0"
  }
 },
 "nbformat": 4,
 "nbformat_minor": 2
}
