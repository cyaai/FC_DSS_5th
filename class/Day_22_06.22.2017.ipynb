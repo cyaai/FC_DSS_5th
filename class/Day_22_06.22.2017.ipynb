{
 "cells": [
  {
   "cell_type": "markdown",
   "metadata": {},
   "source": [
    "# Day 22"
   ]
  },
  {
   "cell_type": "code",
   "execution_count": 4,
   "metadata": {
    "collapsed": true
   },
   "outputs": [],
   "source": [
    "import numpy as np\n",
    "import scipy as sp\n",
    "import matplotlib.pyplot as plt\n",
    "import seaborn as sns\n",
    "%matplotlib inline"
   ]
  },
  {
   "cell_type": "markdown",
   "metadata": {},
   "source": [
    "# MLE(Maximum Likelihood Estimation)의 원리\n",
    "\n",
    "* Likelihood와 확률밀도함수의 차이\n",
    "* Likelihood와 로그 Likelihood\n",
    "\n",
    "MLE(Maximum Likelihood Estimation) 방법은 확률 모형의 모수 추정에서 가장 일반적으로 사용되는 방법이다. \n",
    "\n",
    "## Likelihood\n",
    "\n",
    "확률 변수 $X$에 대한 확률 모형은 확률 밀도 함수 $f_X$에 의해 정의된다. 확률 밀도 함수는 일반적으로 $f_X(x;\\theta)$와 같이 표기한다. 여기에서 $x$는 확률 변수가 가질 수 있는 실수값이고 $\\theta$는 확률 밀도 함수 즉, 확률 모형의 모수(parameter) 집합을 대표하는 기호이다.\n",
    "\n",
    "예를 들어 가우시안 확률 변수 $X$의 확률 밀도 함수는 다음과 같은 형태를 가진다. 이 식에서 $\\theta = (\\mu, \\sigma^2)$ 이다.\n",
    "\n",
    "$$ f_X (x; \\theta) = f_X (x; \\mu, \\sigma^2) = \\dfrac{1}{\\sqrt{2\\pi\\sigma^2}} \\exp\\left({-\\frac{(x-\\mu)^2}{2\\sigma^2}}\\right) $$\n",
    "\n",
    "함수의 관점에서 일반적으로 $\\theta$는 고정된 값, 즉 상수 계수이고 $x$를 변수(variable)로 가정한다. 즉, 이미 확률 변수 모형은 고정되어 있고 주어진 실수 입력값에 대해 그 실수값이 나올 상대적 가능성을 출력하는 것이 $x$를 변수로 가지는 확률 밀도 함수이다.\n",
    "\n",
    "그러나 반대로 추정 문제에서는 $x$ 즉, 이미 실현된 샘플값은 알고 있지만 모수 $\\theta$를 모르고 있다. 이 경우에는 확률 밀도 함수라는 수식에서 $x$를 이미 결정되어 버린 상수 계수로 놓고 $\\theta$를 찾아내야 할 변수로 생각할 수 있다. 물론 $f_X(x, \\theta)$의 의미 자체는 변함없이 주어진 $x$가 나올 수 있는 확률밀도 값이다. 이를 likelihood라고 한다.\n",
    "\n",
    "likelihood를 수식으로 나타내면 수식 자체는 확률밀도함수와 다르지 않다. 모수를 상수가 아닌 확률변수로 보는 경우에는 조건부 확률밀도함수로 쓸 수도 있다.\n",
    "\n",
    "$$ \\mathcal{L}(\\theta;x) = f_X(x ; \\theta)  = f_X(x \\vert \\theta) $$\n",
    "\n",
    "* likelihood\n",
    "    * 확률 밀도 함수를 랜덤변수의 값 $x$의 함수가 아닌 파라미터 $\\theta$의 함수로 보는 것\n",
    "    * 확률 분포로부터 특정한 샘플 값 $x$가 발생하였을 때, 이 샘플 값  $x$가 나오게 하는 파라미터 $\\theta$의 가능성\n",
    "    * 확률 분포로부터 특정한 샘플 값 $x$가 발생하였을 때, 샘플 값  $x$와 변수 $\\theta$에서의는 확률(밀도함수)\n",
    "\n",
    "\n",
    "* 확률 밀도 함수 $f_X(x; \\theta) $\n",
    "    * $\\theta$ 값을 이미 알고 있음\n",
    "    * $\\theta$는 상수, $x$는 변수\n",
    "    * $\\theta$가 이미 정해져 있는 상황에서의 $x$ 값의 상대적 가능성\n",
    "\n",
    "\n",
    "* Likelihood $L(\\theta) = f_X(x|\\theta)$\n",
    "    * $x$가 이미 발생. 값을 이미 알고 있음\n",
    "    * $x$는 상수, $\\theta$는 변수\n",
    "    * $x$가 이미 정해져 있는 상황에서의 $\\theta$ 값의 상대적 가능성\n",
    "\n"
   ]
  },
  {
   "cell_type": "code",
   "execution_count": 6,
   "metadata": {},
   "outputs": [
    {
     "data": {
      "image/png": "[encoded data removed]",
      "text/plain": [
       "<matplotlib.figure.Figure at 0x1876f7b3f60>"
      ]
     },
     "metadata": {},
     "output_type": "display_data"
    }
   ],
   "source": [
    "x = np.linspace(-5, 5, 100)\n",
    "plt.plot(x, sp.stats.norm(loc=0).pdf(x))\n",
    "plt.scatter(1, 0, s=100, c='k')\n",
    "plt.vlines(1, -0.05, 0.45, linestyle=\":\")\n",
    "plt.text(1-0.09, -0.08, \"$x_0$\")\n",
    "plt.plot(x, sp.stats.norm(loc=-1).pdf(x))\n",
    "plt.plot(x, sp.stats.norm(loc=1).pdf(x))\n",
    "plt.scatter(1, sp.stats.norm(loc=-1).pdf(1), s=100, c='g');\n",
    "plt.scatter(1, sp.stats.norm(loc=0).pdf(1), s=100, c='b');\n",
    "plt.scatter(1, sp.stats.norm(loc=1).pdf(1), s=100, c='r');\n",
    "plt.text(-3.3, 0.35, \"$f_X(x;-1)$\")\n",
    "plt.text(-0.5, 0.44, \"$f_X(x;0)$\")\n",
    "plt.text(1.9, 0.35, \"$f_X(x;1)$\");"
   ]
  },
  {
   "cell_type": "markdown",
   "metadata": {},
   "source": [
    "일반적으로는 추정을 위해 확보하고 있는 확률변수 표본의 수가 하나가 아니라 복수개($x_1, x_2, \\cdots x_N$)이므로 likelihood도 복수 샘플값에 대한 결합확률밀도 $f_{X_1, X_2, \\cdots, X_N}(x_1, x_2, \\cdots, x_N ; \\theta)$ 에서 구해야 한다.\n",
    "\n",
    "## MLE의 구현\n",
    "\n",
    "실제로 MLE 방법을 사용하려면 likelihood가 최대가 되는 $\\theta$를 수치적으로 계산해야 한다. 즉 수치적 최적화(numerical optimization) 문제가 된다.\n",
    "\n",
    "$$ \\hat\\theta_{\\text{MLE}} = \\arg \\max_{\\theta} L(\\theta; \\{x_i\\}) $$\n",
    "\n",
    "일반적으로 likelihood를 직접 사용하는 것이 아니라 다음과 같은 이유로 로그 변환한 로그 likelihood 함수 $\\mathcal{LL} = \\log{\\mathcal{L}}$를 사용하는 경우가 많다.\n",
    "\n",
    "\n",
    "1. 로그 변환에 의해서는 최대값의 위치가 변치 않는데다\n",
    "1. 반복시행으로 인한 복수 표본 데이터인 경우 결합 확률밀도함수가 동일한 함수의 곱으로 나타나는 경우가 많은데 이 때 로그 변환에 의해 곱셈이 덧셈되어 계산이 단순해진다."
   ]
  },
  {
   "cell_type": "markdown",
   "metadata": {},
   "source": [
    "# MLE 방법의 적용 예\n",
    "\n",
    "## 베르누이 분포의 모수 추정\n",
    "\n",
    "\n",
    "\n",
    "* 각각의 시도 $x_i$에 대한 확률은 베르누이 분포\n",
    "\n",
    "$$ P(x ; \\theta ) = \\text{Bern}(x ; \\theta ) = \\theta^x (1 - \\theta)^{1-x}$$\n",
    "\n",
    "\n",
    "*  $N$개의 독립 샘플 $x_{1:N}$ 이 있는 경우, \n",
    "$$ L(\\theta ; x_{1:N}) = P(x_{1:N};\\theta) = \\prod_{i=1}^N  \\theta^{x_i} (1 - \\theta)^{1-x_i} $$\n",
    "\n",
    "* Log-Likelihood\n",
    "$$ \n",
    "\\begin{eqnarray*}\n",
    "\\log L \n",
    "&=& \\log P(x_{1:N};\\theta)  \\\\\n",
    "&=& \\sum_{i=1}^N \\big\\{ {x_i} \\log\\theta + (1-x_i)\\log(1 - \\theta) \\big\\} \\\\\n",
    "&=&  \\sum_{i=1}^N {x_i} \\log\\theta +  \\left( N-\\sum_{i=1}^N x_i \\right) \\log( 1 - \\theta ) \\\\\n",
    "\\end{eqnarray*}\n",
    "$$\n",
    "\n",
    "\n",
    "* $x = 1$(성공) 또는 $x= 0$ (실패) 이므로 \n",
    " * 전체 시도 횟수 $N$\n",
    " * 그 중 성공 횟수 $N_1 = \\sum_{i=1}^N {x_i}$\n",
    " \n",
    " \n",
    "* 따라서  Log-Likelihood는 \n",
    "$$ \n",
    "\\begin{eqnarray*}\n",
    "\\log L \n",
    "&=&  N_1 \\log\\theta  + (N-N_1) \\log(1 - \\theta) \\\\\n",
    "\\end{eqnarray*}\n",
    "$$\n",
    "\n",
    "* Log-Likelihood Derivative\n",
    "\n",
    "$$\n",
    "\\begin{eqnarray*}\n",
    "\\dfrac{\\partial \\log L}{\\partial \\theta} \n",
    "&=& \\dfrac{\\partial}{\\partial \\theta} \\big\\{ N_1 \\log\\theta  + (N-N_1) \\log(1 - \\theta)  \\big\\} = 0\\\\\n",
    "&=& \\dfrac{N_1}{\\theta}  - \\dfrac{N-N_1}{1-\\theta} = 0 \\\\\n",
    "\\end{eqnarray*}\n",
    "$$\n",
    "\n",
    "\n",
    "$$\n",
    "\\dfrac{N_1}{\\theta}  = \\dfrac{N-N_1}{1-\\theta}\n",
    "$$\n",
    "\n",
    "\n",
    "$$\n",
    "\\dfrac{1-\\theta}{\\theta} = \\dfrac{N-N_1}{N_1} \n",
    "$$\n",
    "\n",
    "\n",
    "$$\n",
    "\\dfrac{1}{\\theta} - 1 = \\dfrac{N}{N_1} - 1\n",
    "$$\n",
    "\n",
    "\n",
    "$$\n",
    "\\theta= \\dfrac{N_1}{N}\n",
    "$$"
   ]
  },
  {
   "cell_type": "code",
   "execution_count": 7,
   "metadata": {},
   "outputs": [
    {
     "data": {
      "text/plain": [
       "0.60999999999999999"
      ]
     },
     "execution_count": 7,
     "metadata": {},
     "output_type": "execute_result"
    }
   ],
   "source": [
    "np.random.seed(0)\n",
    "theta0 = 0.6\n",
    "x = sp.stats.bernoulli(theta0).rvs(1000)\n",
    "N0, N1 = np.bincount(x, minlength=2)\n",
    "N = N0 + N1\n",
    "theta = N1/N\n",
    "theta"
   ]
  },
  {
   "cell_type": "markdown",
   "metadata": {},
   "source": [
    "## 카테고리 분포의 모수 추정\n",
    "\n",
    "\n",
    "* 각각의 시도 $x_i$에 대한 확률은 카테고리 분포\n",
    "\n",
    "$$ P(x ; \\theta ) = \\text{Cat}(x ; \\theta) = \\prod_{k=1}^K \\theta_k^{x_k} $$\n",
    "\n",
    "$$ \\sum_{k=1}^K \\theta_k = 1 $$\n",
    "\n",
    "\n",
    "*  $N$개의 독립 샘플 $x_{1:N}$ 이 있는 경우, \n",
    "$$ L(\\theta ; x_{1:N}) = P(x_{1:N};\\theta) = \\prod_{i=1}^N \\prod_{k=1}^K \\theta_k^{x_{i,k}} $$\n",
    "\n",
    "* Log-Likelihood\n",
    "$$ \n",
    "\\begin{eqnarray*}\n",
    "\\log L \n",
    "&=& \\log P(x_{1:N};\\theta)  \\\\\n",
    "&=& \\sum_{i=1}^N \\sum_{k=1}^K  \\left( {x_{i,k}} \\log\\theta_k  \\right) \\\\\n",
    "&=& \\sum_{k=1}^K  \\sum_{i=1}^N  \\left(  \\log\\theta_k  {x_{i,k}}\\right) \\\\\n",
    "&=& \\sum_{k=1}^K \\left( \\log\\theta_k \\left( \\sum_{i=1}^N {x_{i,k}}   \\right)  \\right)\n",
    "\\end{eqnarray*}\n",
    "$$\n",
    "\n",
    "\n",
    "* $x_k$가 나온 횟수 $N_k = \\sum_{i=1}^N {x_{i,k}}$이라고 표시\n",
    "\n",
    " \n",
    "* 따라서  Log-Likelihood는 \n",
    "$$ \n",
    "\\begin{eqnarray*}\n",
    "\\log L \n",
    "&=& \\sum_{k=1}^K \\left( \\log\\theta_k  N_k  \\right)\n",
    "\\end{eqnarray*}\n",
    "$$\n",
    "\n",
    "* 추가 조건\n",
    "$$ \\sum_{k=1}^K \\theta_k = 1 $$\n",
    "\n",
    "\n",
    "* Log-Likelihood Derivative with Lagrange multiplier\n",
    "\n",
    "$$\n",
    "\\begin{eqnarray*}\n",
    "\\dfrac{\\partial \\log L}{\\partial \\theta_k} \n",
    "&=& \\dfrac{\\partial}{\\partial \\theta_k} \\left\\{ \\sum_{k=1}^K \\log\\theta_k N_k  + \\lambda \\left(1- \\sum_{k=1}^K \\theta_k\\right)  \\right\\} = 0 \\\\\n",
    "\\dfrac{\\partial \\log L}{\\partial \\lambda} \n",
    "&=& \\dfrac{\\partial}{\\partial \\lambda} \\left\\{ \\sum_{k=1}^K \\log\\theta_k N_k  + \\lambda \\left(1- \\sum_{k=1}^K \\theta_k \\right)  \\right\\} = 0\\\\\n",
    "\\end{eqnarray*}\n",
    "$$\n",
    "\n",
    "\n",
    "$$\n",
    "\\dfrac{N_1}{\\theta_1}  = \\dfrac{N_2}{\\theta_2} = \\cdots = \\dfrac{N_K}{\\theta_K} = \\lambda\n",
    "$$\n",
    "\n",
    "\n",
    "$$\n",
    "\\sum_{k=1}^K N_k = N  \n",
    "$$\n",
    "\n",
    "\n",
    "$$\n",
    "\\lambda \\sum_{k=1}^K \\theta_k  = \\lambda = N\n",
    "$$\n",
    "\n",
    "$$\n",
    "\\theta_k = \\dfrac{N_k}{N}\n",
    "$$\n"
   ]
  },
  {
   "cell_type": "code",
   "execution_count": 8,
   "metadata": {},
   "outputs": [
    {
     "data": {
      "text/plain": [
       "array([ 0.098,  0.317,  0.585])"
      ]
     },
     "execution_count": 8,
     "metadata": {},
     "output_type": "execute_result"
    }
   ],
   "source": [
    "np.random.seed(0)\n",
    "theta0 = np.array([0.1, 0.3, 0.6])\n",
    "x = np.random.choice(np.arange(3), 1000, p=theta0)\n",
    "N0, N1, N2 = np.bincount(x, minlength=3)\n",
    "N = N0 + N1 + N2\n",
    "theta = np.array([N0, N1, N2]) / N\n",
    "theta"
   ]
  },
  {
   "cell_type": "markdown",
   "metadata": {},
   "source": [
    "## 정규 분포의 모수 추정\n",
    "\n",
    "\n",
    "* 각각의 시도 $x_i$에 대한 확률밀도는 가우시안 정규 분포\n",
    "\n",
    "$$ p(x ; \\theta ) = N(x ; \\mu, \\sigma^2) = \\dfrac{1}{\\sqrt{2\\pi\\sigma^2}} \\exp \\left(-\\dfrac{(x-\\mu)^2}{2\\sigma^2}\\right) $$\n",
    "\n",
    "\n",
    "\n",
    "*  $N$개의 독립 샘플 $x_{1:N}$ 이 있는 경우, \n",
    "$$ L(\\theta;x_{1:N}) = p(x_{1:N};\\theta) = \\prod_{i=1}^N  \\dfrac{1}{\\sqrt{2\\pi\\sigma^2}} \\exp \\left(-\\dfrac{(x_i-\\mu)^2}{2\\sigma^2}\\right)$$\n",
    "\n",
    "* Log-Likelihood\n",
    "$$ \n",
    "\\begin{eqnarray*}\n",
    "\\log L \n",
    "&=& \\log p(x_{1:N};\\theta)  \\\\\n",
    "&=& \\sum_{i=1}^N \\left\\{ -\\dfrac{1}{2}\\log(2\\pi\\sigma^2) - \\dfrac{(x_i-\\mu)^2}{2\\sigma^2} \\right\\} \\\\\n",
    "&=& -\\dfrac{N}{2} \\log(2\\pi\\sigma^2) - \\dfrac{1}{2\\sigma^2}\\sum_{i=1}^N (x_i-\\mu)^2\n",
    "\\end{eqnarray*}\n",
    "$$\n",
    "\n",
    "* Log-Likelihood Derivative\n",
    "\n",
    "$$\n",
    "\\begin{eqnarray*}\n",
    "\\dfrac{\\partial \\log L}{\\partial \\mu} \n",
    "&=& \\dfrac{\\partial}{\\partial \\mu} \\left\\{ \\dfrac{N}{2} \\log(2\\pi\\sigma^2) + \\dfrac{1}{2\\sigma^2}\\sum_{i=1}^N (x_i-\\mu)^2  \\right\\} = 0 \\\\\n",
    "\\dfrac{\\partial \\log L}{\\partial \\sigma^2} \n",
    "&=& \\dfrac{\\partial}{\\partial \\sigma^2} \\left\\{ \\dfrac{N}{2} \\log(2\\pi\\sigma^2) + \\dfrac{1}{2\\sigma^2}\\sum_{i=1}^N (x_i-\\mu)^2 \\right\\} = 0\\\\\n",
    "\\end{eqnarray*}\n",
    "$$\n",
    "\n",
    "\n",
    "$$\n",
    "\\dfrac{2}{2\\sigma^2}\\sum_{i=1}^N (x_i-\\mu) = 0\n",
    "$$\n",
    "\n",
    "$$\n",
    "N \\mu = \\sum_{i=1}^N x_i\n",
    "$$\n",
    "\n",
    "$$\n",
    "\\mu = \\dfrac{1}{N}\\sum_{i=1}^N x_i = \\bar{x}\n",
    "$$\n",
    "\n",
    "\n",
    "\n",
    "$$\n",
    "\\dfrac{N}{2\\sigma^2 } -  \\dfrac{1}{2(\\sigma^2)^2}\\sum_{i=1}^N (x_i-\\mu)^2  = 0\n",
    "$$\n",
    "\n",
    "\n",
    "$$\n",
    "\\sigma^2  =  \\dfrac{1}{N}\\sum_{i=1}^N (x_i-\\mu)^2 = \\dfrac{1}{N}\\sum_{i=1}^N (x_i-\\bar{x})^2 = s^2\n",
    "$$\n"
   ]
  },
  {
   "cell_type": "code",
   "execution_count": 10,
   "metadata": {},
   "outputs": [
    {
     "data": {
      "text/plain": [
       "(0.90948658501960922, 1.9750540913890255)"
      ]
     },
     "execution_count": 10,
     "metadata": {},
     "output_type": "execute_result"
    }
   ],
   "source": [
    "np.random.seed(0)\n",
    "mu0 = 1\n",
    "sigma0 = 2\n",
    "x = sp.stats.norm(mu0, sigma0).rvs(1000)\n",
    "xbar = x.mean()\n",
    "s2 = x.std(ddof=1)\n",
    "xbar, s2"
   ]
  },
  {
   "cell_type": "markdown",
   "metadata": {},
   "source": [
    "## 다변수 정규 분포의 모수 추정\n",
    "\n",
    "#### MLE for Multivariate Gaussian Normal Distribution\n",
    "\n",
    "* 각각의 시도 $x_i$에 대한 확률은 다변수 정규 분포\n",
    "\n",
    "$$ p(x ; \\theta ) = N(x ; \\mu, \\Sigma) = \\dfrac{1}{(2\\pi)^{D/2} |\\Sigma|^{1/2}} \\exp \\left( -\\dfrac{1}{2} (x-\\mu)^T \\Sigma^{-1} (x-\\mu) \\right) $$\n",
    "\n",
    "\n",
    "\n",
    "*  $N$개의 독립 샘플 $x_{1:N}$ 이 있는 경우, \n",
    "$$ L(\\theta;x_{1:N}) = p(x_{1:N};\\theta) = \\prod_{i=1}^N  \\dfrac{1}{(2\\pi)^{D/2} |\\Sigma|^{1/2}} \\exp \\left( -\\dfrac{1}{2} (x_i-\\mu)^T \\Sigma^{-1} (x_i-\\mu) \\right)$$\n",
    "\n",
    "* Log-Likelihood\n",
    "$$ \n",
    "\\begin{eqnarray*}\n",
    "\\log L \n",
    "&=& \\log P(x_{1:N};\\theta)  \\\\\n",
    "&=& \\sum_{i=1}^N \\left\\{ -\\log((2\\pi)^{D/2} |\\Sigma|^{1/2}) - \\dfrac{1}{2} (x-\\mu)^T \\Sigma^{-1} (x-\\mu) \\right\\} \\\\\n",
    "&=& C -\\dfrac{N}{2} \\log|\\Sigma| - \\dfrac{1}{2} \\sum (x-\\mu)^T \\Sigma^{-1} (x-\\mu) \n",
    "\\end{eqnarray*}\n",
    "$$\n",
    "\n",
    "\n",
    "* precision matrix $\\Lambda = \\Sigma^{-1}$\n",
    "\n",
    "$$ \n",
    "\\begin{eqnarray*}\n",
    "\\log L \n",
    "&=& C + \\dfrac{N}{2} \\log|\\Lambda| - \\dfrac{1}{2} \\sum(x-\\mu)^T \\Lambda (x-\\mu) \n",
    "\\end{eqnarray*}\n",
    "$$\n",
    "\n",
    "\n",
    "$$ \\dfrac{\\partial L}{\\partial \\mu} = -  \\dfrac{\\partial}{\\partial \\mu}  \\sum_{i=1}^N (x_i-\\mu)^T \\Lambda (x_i-\\mu) =  - \\sum_{i=1}^N 2\\Lambda (x_i - \\mu) = -2\\Lambda \\sum_{i=1}^N  (x_i - \\mu) = 0 $$\n",
    "\n",
    "$$ \\sum_{i=1}^N  (x_i - \\mu) = 0 $$\n",
    "\n",
    "$$ \\mu = \\dfrac{1}{N}\\sum_{i=1}^N x_i $$\n",
    "\n",
    "$$ \\dfrac{\\partial L}{\\partial \\Lambda} = \\dfrac{\\partial}{\\partial \\Lambda} \\dfrac{N}{2} \\log|\\Lambda| - \\dfrac{\\partial}{\\partial \\Lambda}  \\dfrac{1}{2} \\sum_{i=1}^N \\text{tr}( (x_i-\\mu)(x_i-\\mu)^T\\Lambda) =0  $$\n",
    "\n",
    "$$ \\dfrac{N}{2} \\Lambda^{-T} = \\dfrac{1}{2}\\sum_{i=1}^N (x_i-\\mu)(x_i-\\mu)^T $$ \n",
    "\n",
    "$$ \\Sigma = \\dfrac{1}{N}\\sum_{i=1}^N (x_i-\\mu)(x_i-\\mu)^T $$ "
   ]
  },
  {
   "cell_type": "code",
   "execution_count": 11,
   "metadata": {},
   "outputs": [
    {
     "name": "stdout",
     "output_type": "stream",
     "text": [
      "[-0.0126996   0.95720206]\n",
      "[[ 0.96100921  0.16283508]\n",
      " [ 0.16283508  3.80507694]]\n"
     ]
    }
   ],
   "source": [
    "np.random.seed(0)\n",
    "mu0 = np.array([0, 1])\n",
    "sigma0 = np.array([[1, 0.2], [0.2, 4]])\n",
    "x = sp.stats.multivariate_normal(mu0, sigma0).rvs(1000)\n",
    "xbar = x.mean(axis=0)\n",
    "S2 = np.cov(x, rowvar=0)\n",
    "print(xbar)\n",
    "print(S2)"
   ]
  },
  {
   "cell_type": "markdown",
   "metadata": {},
   "source": [
    "# 제한 조건이 있는 최적화\n",
    "\n",
    "### 중요 개념\n",
    "\n",
    "* 등식 제한 조건이 있는 최적화 문제\n",
    "* 라그랑주 승수법\n",
    "* 부등식 제한 조건이 있는 최적화 문제\n",
    "* KKT 조건\n",
    "\n",
    "## 등식 제한 조건이 있는 최적화\n",
    "\n",
    "현실의 최적화 문제에서는 여러가지 제한 조건이 걸려있는 최적화 문제(constrained optimization)가 많다. 가장 간단한 경우는 다음과 같이 등식 제한 조건이 있는 경우이다.\n",
    "\n",
    "$$ x^{\\ast} = \\text{arg} \\min_x f(x) ,\\,\\,\\,\\ \\text{subject to } \\;\\; g(x)=0$$\n",
    "\n",
    "\n",
    "이렇게 등식 제한 조건이 있는 최적화 문제는 **라그랑주 승수법(Lagrange multiplier)**을 사용하여 최적화 할 수 있다.\n",
    "\n",
    "라그랑주 승수 방법에서는 $f$가 아닌 $h = f + \\lambda g$를 최적화한다.\n",
    "\n",
    "$h$ 는 독립 변수 $\\lambda$가 추가된 함수 $h(x_1, x_2, \\cdots , x_N, \\lambda) $가 되므로 다음 조건을 만족해야 한다.\n",
    "\n",
    "$$ \\dfrac{\\partial (f + \\lambda g)}{\\partial x_1} = \\dfrac{\\partial f}{\\partial x_1} + \\lambda\\dfrac{\\partial g}{\\partial x_1} = 0 $$\n",
    "\n",
    "\n",
    "$$ \\dfrac{\\partial (f + \\lambda g)}{\\partial x_2} = \\dfrac{\\partial f}{\\partial x_2} + \\lambda\\dfrac{\\partial g}{\\partial x_2}= 0 $$\n",
    "$$ \\vdots $$\n",
    "$$ \\dfrac{\\partial (f + \\lambda g)}{\\partial x_N} = \\dfrac{\\partial f}{\\partial x_N} + \\lambda\\dfrac{\\partial g}{\\partial x_N}= 0 $$\n",
    "\n",
    "$$ \\dfrac{\\partial (f + \\lambda g)}{\\partial \\lambda} = g = 0 $$\n",
    "\n",
    "\n",
    "위에서 구한 $N+1$개의 연립 방정식을 풀면 $N+1$개의 미지수 $x_1, x_2, \\cdots, x_N, \\lambda$를 구할 수 있다. 여기에서 $x_1, x_2, \\cdots, x_N$ 이 제한 조건을 만족하는 최소값 위치를 나타낸다.\n",
    "\n",
    "예를 들어 다음과 같은 함수 $f$를 최적화하는 문제를 라그랑주 승수법으로 풀어보자.\n",
    "\n",
    "$$ f(x_1, x_2) = \\log{x_1} + \\log{x_2} $$\n",
    "\n",
    "여기에서 $x_1$, $x_2$는? 단 $ x_1 + x_2 = 1 $ 을 만족해야 한다.\n",
    "\n",
    "$$ h = f + \\lambda g = \\log{x_1} + \\log{x_2} + \\lambda ( x_1 + x_2 - 1 ) $$\n",
    "\n",
    "\n",
    "$$ \\dfrac{\\partial (f + \\lambda g)}{\\partial x_1} = \\dfrac{1}{x_1} + \\lambda = 0$$\n",
    "\n",
    "\n",
    "$$ \\dfrac{\\partial (f + \\lambda g)}{\\partial x_2} = \\dfrac{1}{x_2} + \\lambda = 0 $$\n",
    "\n",
    "\n",
    "$$ \\dfrac{\\partial (f + \\lambda g)}{\\partial \\lambda } = x_1 + x_2 - 1 = 0 $$\n",
    "\n",
    "\n",
    "$$ x_1 = x_2 = \\dfrac{1}{2}, \\;\\;\\; \\lambda = -2 $$\n",
    "\n",
    "SciPy의 optimize 서브패키지에서는 제한 최적화 문제를 풀기위한 `fmin_slsqp` 명령을 제공한다."
   ]
  },
  {
   "cell_type": "code",
   "execution_count": 14,
   "metadata": {},
   "outputs": [
    {
     "name": "stdout",
     "output_type": "stream",
     "text": [
      "Optimization terminated successfully.    (Exit mode 0)\n",
      "            Current function value: -1.3862943611198901\n",
      "            Iterations: 2\n",
      "            Function evaluations: 8\n",
      "            Gradient evaluations: 2\n"
     ]
    },
    {
     "data": {
      "text/plain": [
       "array([ 0.5,  0.5])"
      ]
     },
     "execution_count": 14,
     "metadata": {},
     "output_type": "execute_result"
    }
   ],
   "source": [
    "def f2logs(x):\n",
    "    return np.log(x[0]) + np.log(x[1])\n",
    "\n",
    "def eq_constraint(x):\n",
    "    return x[0] + x[1] - 1\n",
    "\n",
    "sp.optimize.fmin_slsqp(f2logs, np.array([1, 1]), eqcons=[eq_constraint])"
   ]
  },
  {
   "cell_type": "markdown",
   "metadata": {},
   "source": [
    "## 부등식 제한 조건이 있는 최적화\n",
    "\n",
    "이번에는 다음과 같이 $ g(x) \\geq 0 $ 이라는 부등식(inequality) 제한 조건이 있는 최소화 문제를 생각하자\n",
    " \n",
    "$$ x^{\\ast} = \\text{arg} \\min_x f(x) ,\\,\\,\\,\\ \\text{subject to } \\;\\; g(x) \\leq 0$$\n",
    "\n",
    "이렇게 부등식 제한 조건이 있는 최적화 문제는 최소점 위치에서의 조건을 변형한 KKT(Karush-Kuhn-Tucker) 조건을 이용하여 최적화한다.\n",
    "\n",
    "KKT 조건을 요약하자면 최적화 문제에서 부등식 제한 조건은 다음 두 가지 경우의 하나가 되어 버린다는 것이다.\n",
    "\n",
    "* 최적화 결과에 전혀 영향을 주지 않는 쓸모없는 제한 조건\n",
    "* 최적화 결과에 영향을 주는 **등식** 제한 조건\n",
    "\n",
    "따라서 등식 조건과 같이 라그랑지 승수법을 사용할 수 있다. 다만 등식 제한 조건과는 달리 라그랑지 승수가 0이 되는 경우, 즉, 제한 조건이 최적화에 전혀 영향을 주지 않는 경우도 있을 수 있다.\n",
    "\n",
    "이를 수식으로 나타내면 KKT 조건에서는 라그랑지 승수 방법과 마찬가지로 $f$가 아닌 $h = f + \\lambda g$를 최적화한다.\n",
    "\n",
    "$h$ 는 독립 변수 $\\lambda$가 추가된 함수 $h(x_1, x_2, \\cdots , x_N, \\lambda) $가 되며 우선 다음과 같이 기울기 필요조건을 만족해야 한다.\n",
    "\n",
    "$$ \\dfrac{\\partial (f + \\lambda g)}{\\partial x_i} = \\dfrac{\\partial f}{\\partial x_i} + \\lambda\\dfrac{\\partial g}{\\partial x_i} = 0 $$\n",
    "\n",
    "$$ \\dfrac{\\partial (f + \\lambda g)}{\\partial \\lambda} = g = 0 $$\n",
    "\n",
    "다만 KKT 조건에서는 라그랑지 승수법의 조건 이외에도 다음과 같은 두가지 조건이 추가된다.\n",
    "\n",
    "\n",
    "$$  \\lambda g = 0 $$\n",
    "\n",
    "$$  \\lambda \\geq 0 $$\n",
    "\n",
    "첫번째 수식은 $\\mu$ 또는 $g$ 중 적어도 하나는 0이어야 한다는 것이다. 만약 $g=0$이면 이 조건은 부등식 제한 조건이 아닌 등식 제한 조건이 된다. 만약  $\\mu=0$이면 $h=f$이므로 제한 조건이 아무런 의미가 없어진다. 두번째 수식은 KKT조건이 실제로 부등식 제한 조건인 있는 최적화 문제와 같은 문제임을 보장(strong duality)하기 위한 조건이다.\n",
    "\n",
    "다음은 부등식 제한 조건이 있는 2차원 최적화 문제의 예이다.\n",
    "\n",
    "<img src=\"https://datascienceschool.net/upfiles/eec248f4c5234a41a20d9baba492a696.png\" >\n",
    "\n",
    "`fmin_slsqp` 명령은 이렇게 부등식 제한 조건이 있는 경우에도 사용할 수 있다."
   ]
  },
  {
   "cell_type": "code",
   "execution_count": 15,
   "metadata": {},
   "outputs": [
    {
     "name": "stdout",
     "output_type": "stream",
     "text": [
      "Optimization terminated successfully.    (Exit mode 0)\n",
      "            Current function value: 2.4748737350428893\n",
      "            Iterations: 5\n",
      "            Function evaluations: 20\n",
      "            Gradient evaluations: 5\n"
     ]
    },
    {
     "data": {
      "text/plain": [
       "array([ 1.25004693,  0.24995307])"
      ]
     },
     "execution_count": 15,
     "metadata": {},
     "output_type": "execute_result"
    }
   ],
   "source": [
    "def f(x):\n",
    "    return np.sqrt((x[0] - 3)**2 + (x[1] - 2)**2)\n",
    "\n",
    "def ieq_constraint(x):\n",
    "    return np.atleast_1d(1.5 - np.sum(np.abs(x)))\n",
    "\n",
    "sp.optimize.fmin_slsqp(f, np.array([0, 0]), ieqcons=[ieq_constraint])"
   ]
  },
  {
   "cell_type": "markdown",
   "metadata": {},
   "source": [
    "# 베이지안 모수 추정\n",
    "\n",
    "베이지안 모수 추정(Bayesian parameter estimation) 방법은 모수의 값에 해당하는 특정한 하나의 숫자를 계산하는 것이 아니라 모수의 값이 가질 수 있는 모든 가능성, 즉 모수의 분포를 계산하는 작업이다.\n",
    "\n",
    "이때 계산된 모수의 분포를 표현 방법은 두 가지가 있다.\n",
    "\n",
    "1. 비모수적(non-parametric) 방법\n",
    " * 샘플을 제시한 후 히스토그램와 같은 방법으로 임의의 분포를 표현한다. MCMC(Markov chain Monte Carlo)와 같은 몬테카를로 방법에서 사용한다.\n",
    " \n",
    "2. 모수적(parametric) 방법 \n",
    "  * 모수의 분포를 잘 알려진 확률 분포 모형을 사용하여 나타낸다. 이렇게 하면 모수를 나타내는 확률 분포 수식이 다시 모수(parameter)를 가지게 되는데 이를 hyper-parameter라고도 부른다. 모수적 방법은 결국 hypter-parameter의 값을 숫자로 계산하는 작업이 된다.\n",
    "\n",
    "여기에서는 모수적 방법의 몇 가지 간단한 예를 보인다.\n",
    "\n",
    "## 베이지안 모수 추정의 기본 원리\n",
    "\n",
    "베이지안 모수 추정 방법은 다음 공식을 사용하여 모수의 분포 $p(\\theta)$를 $p(\\theta \\mid x_{1},\\ldots,x_{N})$ 로 갱신(update)하는 작업이다.\n",
    "\n",
    "\n",
    "$$ p(\\theta \\mid x_{1},\\ldots,x_{N}) = \\dfrac{p(x_{1},\\ldots,x_{N} \\mid \\theta) \\cdot p(\\theta)}{p(x_{1},\\ldots,x_{N})} \\propto p(x_{1},\\ldots,x_{N}  \\mid \\theta )  \\cdot p(\\theta) $$ \n",
    "\n",
    "\n",
    "이 식에서 \n",
    "\n",
    "$p(\\theta)$ 는 사전(Prior) 분포라고 한다. 사전 분포는 베이지안 추정 작업을 하기 전에 이미 알고 있던 모수 $\\theta$의 분포를 뜻한다. \n",
    "아무런 지식이 없는 경우에는 보통 uniform 분포 $\\text{Beta}(1,1)$나 0 을 중심으로하는 정규 분포 $\\mathcal{N}(0, 1)$를 사용한다\n",
    "\n",
    "\n",
    "$p(\\theta \\mid x_{1},\\ldots,x_{N})$ 는 사후(Posterior) 분포라고 한다. 수학적으로는 데이터 $x_{1},\\ldots,x_{N}$가 알려진 상태에서의 $\\theta$에 대한 조건부 확률 분포이다. 우리가 베이지안 모수 추정 작업을 통해 구하고자 하는 것이 바로 이 사후 분포이다. \n",
    " \n",
    " \n",
    "$p(x_{1},\\ldots,x_{N} \\mid \\theta)$  분포는 Likelihood 분포라고 한다. 현재 우리가 알고 있는 값은 데이터  $x_{1},\\ldots,x_{N}$ 이고 $\\theta$가 미지수이다. 이와 반대로 $\\theta$를 알고 있는 상태에서의 데이터  $x_{1},\\ldots,x_{N}$ 가 나올 조건부 확률 분포를 Likelihood 라고 한다. \n",
    "\n",
    "\n",
    "## 베르누이 분포의 모수 추정\n",
    "\n",
    "가장 단순한 이산 확률 분포인 베르누이 분포의 모수 $\\theta$를 베이지안 추정법으로 추정해 본다.\n",
    "\n",
    "베르누이 분포의 모수는 0부터 1사이의 값을 가지므로 사전 분포는 하이퍼 모수 $a=b=1$인 베타 분포로 한다.\n",
    "\n",
    "$$ P(\\theta) \\propto \\theta^{a−1}(1−\\theta)^{b−1} \\;\\;\\; (a=1, b=1)$$\n",
    "\n",
    "\n",
    "데이터는 모두 독립적인 베르누이 분포의 곱이므로 Likelihood는 다음과 같이 이항 분포가 된다.\n",
    "\n",
    "$$ P(x_{1},\\ldots,x_{N} \\mid \\theta) = \\prod_{i=1}^N  \\theta^{x_i} (1 - \\theta)^{1-x_i} $$\n",
    "\n",
    "베이지안 규칙을 사용하여 사후 분포를 구하면 다음과 같이 갱신된 하이퍼 모수 $a'$, $b'$를 가지는 베타 분포가 된다.\n",
    "\n",
    "$$ \n",
    "\\begin{eqnarray}\n",
    "P(\\theta \\mid x_{1},\\ldots,x_{N})\n",
    "&\\propto & P(x_{1},\\ldots,x_{N} \\mid \\theta)  P(\\theta) \\\\\n",
    "&=& \\prod_{i=1}^N  \\theta^{x_i} (1 - \\theta)^{1-x_i} \\cdot \\theta^{a−1}(1−\\theta)^{b−1}  \\\\\n",
    "&=& \\theta^{\\sum_{i=1}^N x_i + a−1} (1 - \\theta)^{\\sum_{i=1}^N (1-x_i) + b−1 }   \\\\\n",
    "&=& \\theta^{N_1 + a−1} (1 - \\theta)^{N_0 + b−1 }   \\\\\n",
    "&=& \\theta^{a'−1} (1 - \\theta)^{b'−1 }   \\\\\n",
    "\\end{eqnarray}\n",
    "$$\n",
    "\n",
    "이렇게 사전 분포와 사후 분포가 같은 확률 분포 모형을 가지게 하는 사전 분포를 conjugate prior 라고 한다.\n",
    "\n",
    "갱신된 하이퍼 모수의 값은 다음과 같다.\n",
    "\n",
    "$$ a' = N_1 + a $$\n",
    "$$ b' = N_0 + b $$\n",
    "\n"
   ]
  },
  {
   "cell_type": "code",
   "execution_count": 36,
   "metadata": {},
   "outputs": [
    {
     "name": "stdout",
     "output_type": "stream",
     "text": [
      "step 0: mode = unknown\n",
      "step 1: mode = 0.4125\n",
      "step 2: mode = 0.530769230769\n",
      "step 3: mode = 0.522222222222\n",
      "step 4: mode = 0.54347826087\n"
     ]
    },
    {
     "data": {
      "image/png": "[encoded data removed]",
      "text/plain": [
       "<matplotlib.figure.Figure at 0x187708477b8>"
      ]
     },
     "metadata": {},
     "output_type": "display_data"
    }
   ],
   "source": [
    "theta0 = 0.6\n",
    "a0, b0 = 8, 24\n",
    "print(\"step 0: mode = unknown\")\n",
    "\n",
    "xx = np.linspace(0, 1, 1000)\n",
    "plt.plot(xx, sp.stats.beta(a0, b0).pdf(xx), label=\"initial\");\n",
    "\n",
    "np.random.seed(0)\n",
    "x = sp.stats.bernoulli(theta0).rvs(50)\n",
    "N0, N1 = np.bincount(x, minlength=2)\n",
    "a1, b1 = a0 + N1, b0 + N0\n",
    "plt.plot(xx, sp.stats.beta(a1, b1).pdf(xx), label=\"1st\");\n",
    "print(\"step 1: mode =\", (a1 - 1)/(a1 + b1 - 2))\n",
    "\n",
    "x = sp.stats.bernoulli(theta0).rvs(50)\n",
    "N0, N1 = np.bincount(x, minlength=2)\n",
    "a2, b2 = a1 + N1, b1 + N0\n",
    "plt.plot(xx, sp.stats.beta(a2, b2).pdf(xx), label=\"2nd\");\n",
    "print(\"step 2: mode =\", (a2 - 1)/(a2 + b2 - 2))\n",
    "\n",
    "x = sp.stats.bernoulli(theta0).rvs(50)\n",
    "N0, N1 = np.bincount(x, minlength=2)\n",
    "a3, b3 = a2 + N1, b2 + N0\n",
    "plt.plot(xx, sp.stats.beta(a3, b3).pdf(xx), label=\"3rd\");\n",
    "print(\"step 3: mode =\", (a3 - 1)/(a3 + b3 - 2))\n",
    "\n",
    "x = sp.stats.bernoulli(theta0).rvs(50)\n",
    "N0, N1 = np.bincount(x, minlength=2)\n",
    "a4, b4 = a3 + N1, b3 + N0\n",
    "plt.plot(xx, sp.stats.beta(a4, b4).pdf(xx), label=\"4th\");\n",
    "print(\"step 4: mode =\", (a4 - 1)/(a4 + b4 - 2))\n",
    "\n",
    "plt.legend()\n",
    "plt.show()"
   ]
  },
  {
   "cell_type": "markdown",
   "metadata": {},
   "source": [
    "## 카테고리 분포의 모수 추정\n",
    "\n",
    "다음으로 클래스 갯수가 $K$인 카테고리 분포의 모수 $\\theta$ 벡터를 베이지안 추정법으로 추정해 본다.\n",
    "\n",
    "카테고리 분포의 모수의 각 원소는 모두 0부터 1사이의 값을 가지므로 사전 분포는 하이퍼 모수 $\\alpha_k=1$인 디리클리 분포로 한다.\n",
    "\n",
    "$$ P(\\theta) \\propto \\prod_{k=1}^K \\theta_k^{\\alpha_k - 1} \\;\\;\\; (\\alpha_k = 1, \\; \\text{ for all } k) $$\n",
    "\n",
    "\n",
    "데이터는 모두 독립적인 카테고리 분포의 곱이므로 Likelihood는 다음과 같이 다항 분포가 된다.\n",
    "\n",
    "$$ P(x_{1},\\ldots,x_{N} \\mid \\theta) = \\prod_{i=1}^N  \\prod_{k=1}^K \\theta_k^{x_{i,k}} $$\n",
    "\n",
    "베이지안 규칙을 사용하여 사후 분포를 구하면 다음과 같이 갱신된 하이퍼 모수 $\\alpha'_i$를 가지는 디리클리 분포가 된다.\n",
    "\n",
    "$$ \n",
    "\\begin{eqnarray}\n",
    "P(\\theta \\mid x_{1},\\ldots,x_{N})\n",
    "&\\propto & P(x_{1},\\ldots,x_{N} \\mid \\theta)  P(\\theta) \\\\\n",
    "&=& \\prod_{i=1}^N  \\prod_{k=1}^K \\theta_k^{x_{i,k}} \\cdot \\prod_{k=1}^K \\theta_k^{\\alpha_k - 1}  \\\\\n",
    "&=& \\prod_{k=1}^K  \\theta^{\\sum_{i=1}^N x_{i,k} + \\alpha_k − 1}   \\\\\n",
    "&=& \\prod_{k=1}^K  \\theta^{N_k + \\alpha_k −1}   \\\\\n",
    "&=& \\prod_{k=1}^K  \\theta^{\\alpha'_k −1}   \\\\\n",
    "\\end{eqnarray}\n",
    "$$\n",
    "\n",
    "이 경우에도 conjugate prior 임을 알 수 있다.\n",
    "\n",
    "갱신된 하이퍼 모수의 값은 다음과 같다.\n",
    "$$ \\alpha'_k = N_k + \\alpha_k $$\n",
    "\n"
   ]
  },
  {
   "cell_type": "code",
   "execution_count": 37,
   "metadata": {
    "collapsed": true
   },
   "outputs": [],
   "source": [
    "def plot_dirichlet(alpha):\n",
    "\n",
    "    def project(x):\n",
    "        n1 = np.array([1, 0, 0])\n",
    "        n2 = np.array([0, 1, 0])\n",
    "        n3 = np.array([0, 0, 1])\n",
    "        n12 = (n1 + n2)/2\n",
    "        m1 = np.array([1, -1, 0])\n",
    "        m2 = n3 - n12\n",
    "        m1 = m1/np.linalg.norm(m1)\n",
    "        m2 = m2/np.linalg.norm(m2)\n",
    "        return np.dstack([(x-n12).dot(m1), (x-n12).dot(m2)])[0]\n",
    "\n",
    "    def project_reverse(x):\n",
    "        n1 = np.array([1, 0, 0])\n",
    "        n2 = np.array([0, 1, 0])\n",
    "        n3 = np.array([0, 0, 1])\n",
    "        n12 = (n1 + n2)/2\n",
    "        m1 = np.array([1, -1, 0])\n",
    "        m2 = n3 - n12\n",
    "        m1 = m1/np.linalg.norm(m1)\n",
    "        m2 = m2/np.linalg.norm(m2)\n",
    "        return x[:,0][:, np.newaxis] * m1 + x[:,1][:, np.newaxis] * m2 + n12\n",
    "\n",
    "    eps = np.finfo(float).eps * 10\n",
    "    X = project([[1-eps,0,0], [0,1-eps,0], [0,0,1-eps]])\n",
    "    \n",
    "    import matplotlib.tri as mtri\n",
    "\n",
    "    triang = mtri.Triangulation(X[:,0], X[:,1], [[0, 1, 2]])\n",
    "    refiner = mtri.UniformTriRefiner(triang)\n",
    "    triang2 = refiner.refine_triangulation(subdiv=6)\n",
    "    XYZ = project_reverse(np.dstack([triang2.x, triang2.y, 1-triang2.x-triang2.y])[0])\n",
    "\n",
    "    pdf = sp.stats.dirichlet(alpha).pdf(XYZ.T)\n",
    "    plt.tricontourf(triang2, pdf)\n",
    "    plt.axis(\"equal\")\n",
    "    plt.show()"
   ]
  },
  {
   "cell_type": "code",
   "execution_count": 38,
   "metadata": {
    "collapsed": true
   },
   "outputs": [],
   "source": [
    "theta0 = np.array([0.2, 0.6, 0.2])\n",
    "\n",
    "np.random.seed(0)\n",
    "x1 = np.random.choice(3, 20, p=theta0)\n",
    "N1 = np.bincount(x1, minlength=3)\n",
    "x2 = np.random.choice(3, 100, p=theta0)\n",
    "N2 = np.bincount(x2, minlength=3)\n",
    "x3 = np.random.choice(3, 1000, p=theta0)\n",
    "N3 = np.bincount(x3, minlength=3)"
   ]
  },
  {
   "cell_type": "code",
   "execution_count": 39,
   "metadata": {},
   "outputs": [
    {
     "data": {
      "image/png": "[encoded data removed]",
      "text/plain": [
       "<matplotlib.figure.Figure at 0x18770ffb128>"
      ]
     },
     "metadata": {},
     "output_type": "display_data"
    }
   ],
   "source": [
    "a0 = np.ones(3) / 3\n",
    "plot_dirichlet(a0)"
   ]
  },
  {
   "cell_type": "code",
   "execution_count": 40,
   "metadata": {},
   "outputs": [
    {
     "data": {
      "image/png": "[encoded data removed]",
      "text/plain": [
       "<matplotlib.figure.Figure at 0x18770fb9e10>"
      ]
     },
     "metadata": {},
     "output_type": "display_data"
    },
    {
     "name": "stdout",
     "output_type": "stream",
     "text": [
      "[ 0.12962963  0.62962963  0.24074074]\n"
     ]
    }
   ],
   "source": [
    "a1 = a0 + N1\n",
    "plot_dirichlet(a1)\n",
    "print((a1 - 1)/(a1.sum() - 3))"
   ]
  },
  {
   "cell_type": "code",
   "execution_count": 41,
   "metadata": {},
   "outputs": [
    {
     "data": {
      "image/png": "[encoded data removed]",
      "text/plain": [
       "<matplotlib.figure.Figure at 0x18770dbdac8>"
      ]
     },
     "metadata": {},
     "output_type": "display_data"
    },
    {
     "name": "stdout",
     "output_type": "stream",
     "text": [
      "[ 0.20621469  0.62146893  0.17231638]\n"
     ]
    }
   ],
   "source": [
    "a2 = a1 + N2\n",
    "plot_dirichlet(a2)\n",
    "print((a2 - 1)/(a2.sum() - 3))"
   ]
  },
  {
   "cell_type": "code",
   "execution_count": 42,
   "metadata": {},
   "outputs": [
    {
     "data": {
      "image/png": "[encoded data removed]",
      "text/plain": [
       "<matplotlib.figure.Figure at 0x1877087dfd0>"
      ]
     },
     "metadata": {},
     "output_type": "display_data"
    },
    {
     "name": "stdout",
     "output_type": "stream",
     "text": [
      "[ 0.2033393   0.59421586  0.20244484]\n"
     ]
    }
   ],
   "source": [
    "a3 = a2 + N3\n",
    "plot_dirichlet(a3)\n",
    "print((a3 - 1)/(a3.sum() - 3))"
   ]
  },
  {
   "cell_type": "markdown",
   "metadata": {},
   "source": [
    "## 정규 분포의 기댓값 모수 추정\n",
    "\n",
    "이번에는 정규 분포의 기댓값 모수를 베이지안 방법으로 추정한다. 분산 모수 $\\sigma^2$은 알고 있다고 가정한다.\n",
    "\n",
    "기댓값은 $-\\infty$부터 $\\infty$까지의 모든 수가 가능하기 때문에 모수의 사전 분포로는 정규 분포를 사용한다.\n",
    "\n",
    "$$ P(\\mu) = N(\\mu_0, \\sigma^2_0) = \\dfrac{1}{\\sqrt{2\\pi\\sigma_0^2}} \\exp \\left(-\\dfrac{(\\mu-\\mu_0)^2}{2\\sigma_0^2}\\right)$$\n",
    "\n",
    "데이터는 모두 독립적인 정규 분포의 곱이므로 Likelihood는 다음과 같이 된다.\n",
    "\n",
    "$$ P(x_{1},\\ldots,x_{N} \\mid \\mu) = \\prod_{i=1}^N N(x_i \\mid \\mu )  = \\prod_{i=1}^N  \\dfrac{1}{\\sqrt{2\\pi\\sigma^2}} \\exp \\left(-\\dfrac{(x_i-\\mu)^2}{2\\sigma^2}\\right)  $$\n",
    "\n",
    "$$ \n",
    "\\begin{eqnarray}\n",
    "P(\\theta \\mid x_{1},\\ldots,x_{N})  \n",
    "&\\propto & P(x_{1},\\ldots,x_{N} \\mid \\theta) P(\\theta) \\\\\n",
    "&\\propto & \\exp \\left(-\\dfrac{(\\mu-\\mu'_0)^2}{2\\sigma_0^{'2}}\\right) \\\\\n",
    "\\end{eqnarray}\n",
    "$$\n",
    "\n",
    "베이지안 규칙을 사용하여 사후 분포를 구하면 다음과 같이 갱신된 하이퍼 모수  를 가지는 정규 분포가 된다.\n",
    "\n",
    "$$\n",
    "\\begin{eqnarray}\n",
    "\\mu'_0 &=& \\dfrac{\\sigma^2}{N\\sigma_0^2 + \\sigma^2}\\mu_0 + \\dfrac{N\\sigma_0^2}{N\\sigma_0^2 + \\sigma^2} \\dfrac{\\sum x_i}{N} \\\\\n",
    "\\dfrac{1}{\\sigma_0^{'2}} &=& \\dfrac{1}{\\sigma_0^{2}} + \\dfrac{N}{\\sigma^{'2}}\n",
    "\\end{eqnarray}\n",
    "$$\n"
   ]
  },
  {
   "cell_type": "code",
   "execution_count": 63,
   "metadata": {},
   "outputs": [
    {
     "name": "stdout",
     "output_type": "stream",
     "text": [
      "INITIAL DEGREE OF BELIEF(mu):  0\n",
      "1.15009324852\n",
      "1.61220499039\n",
      "1.85003397857\n",
      "1.80588407879\n"
     ]
    },
    {
     "data": {
      "image/png": "[encoded data removed]",
      "text/plain": [
       "<matplotlib.figure.Figure at 0x18771003550>"
      ]
     },
     "metadata": {},
     "output_type": "display_data"
    }
   ],
   "source": [
    "mu, sigma2 = 2, 4\n",
    "\n",
    "mu0, sigma20 = 0, 0.4\n",
    "xx = np.linspace(0, 3, 1000)\n",
    "np.random.seed(0)\n",
    "\n",
    "\n",
    "plt.plot(xx, sp.stats.norm(mu0, sigma20).pdf(xx), label=\"INITIAL\");\n",
    "print(\"INITIAL DEGREE OF BELIEF(mu): \", mu0)\n",
    "\n",
    "N = 5\n",
    "x = sp.stats.norm(mu).rvs(N)\n",
    "mu0 = sigma2/(N*sigma20 + sigma2) * mu0 + (N*sigma20)/(N*sigma20 + sigma2)*x.mean()\n",
    "sigma20 = 1/(1/sigma20 + N/sigma2)\n",
    "plt.plot(xx, sp.stats.norm(mu0, sigma20).pdf(xx), label=\"1st\");\n",
    "print(mu0)\n",
    "\n",
    "N = 10\n",
    "x = sp.stats.norm(mu).rvs(N)\n",
    "mu0 = sigma2/(N*sigma20 + sigma2) * mu0 + (N*sigma20)/(N*sigma20 + sigma2)*x.mean()\n",
    "sigma20 = 1/(1/sigma20 + N/sigma2)\n",
    "plt.plot(xx, sp.stats.norm(mu0, sigma20).pdf(xx), label=\"2nd\");\n",
    "print(mu0)\n",
    "\n",
    "N = 25\n",
    "x = sp.stats.norm(mu).rvs(N)\n",
    "mu0 = sigma2/(N*sigma20 + sigma2) * mu0 + (N*sigma20)/(N*sigma20 + sigma2)*x.mean()\n",
    "sigma20 = 1/(1/sigma20 + N/sigma2)\n",
    "plt.plot(xx, sp.stats.norm(mu0, sigma20).pdf(xx), label=\"3rd\");\n",
    "print(mu0)\n",
    "\n",
    "N = 50\n",
    "x = sp.stats.norm(mu).rvs(N)\n",
    "mu0 = sigma2/(N*sigma20 + sigma2) * mu0 + (N*sigma20)/(N*sigma20 + sigma2)*x.mean()\n",
    "sigma20 = 1/(1/sigma20 + N/sigma2)\n",
    "plt.plot(xx, sp.stats.norm(mu0, sigma20).pdf(xx), label=\"4th\");\n",
    "print(mu0)\n",
    "\n",
    "plt.axis([1, 3, 0, 20])\n",
    "plt.legend()\n",
    "plt.xlim(0, 2.5)\n",
    "plt.ylim(0,10)\n",
    "plt.show()"
   ]
  },
  {
   "cell_type": "code",
   "execution_count": null,
   "metadata": {
    "collapsed": true
   },
   "outputs": [],
   "source": []
  }
 ],
 "metadata": {
  "kernelspec": {
   "display_name": "Python 3",
   "language": "python",
   "name": "python3"
  },
  "language_info": {
   "codemirror_mode": {
    "name": "ipython",
    "version": 3
   },
   "file_extension": ".py",
   "mimetype": "text/x-python",
   "name": "python",
   "nbconvert_exporter": "python",
   "pygments_lexer": "ipython3",
   "version": "3.6.1"
  }
 },
 "nbformat": 4,
 "nbformat_minor": 2
}
