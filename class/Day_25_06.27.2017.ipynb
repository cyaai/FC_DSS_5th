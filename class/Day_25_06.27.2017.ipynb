{
 "cells": [
  {
   "cell_type": "markdown",
   "metadata": {},
   "source": [
    "# Day 25"
   ]
  },
  {
   "cell_type": "code",
   "execution_count": 55,
   "metadata": {},
   "outputs": [],
   "source": [
    "from patsy import dmatrix\n",
    "import numpy as np\n",
    "import pandas as pd\n",
    "import matplotlib.pyplot as plt\n",
    "%matplotlib inline\n",
    "import seaborn as sns"
   ]
  },
  {
   "cell_type": "markdown",
   "metadata": {},
   "source": [
    "# R 스타일 모형 정의\n",
    "\n",
    "StatsModels 패키지는 통계분석과 관련된 R의 기능을 파이썬으로 옮겨오기 위한 패키지이다. R에는 데이터프레임과 문자열 기호를 이용하여 회귀모형을 정의하는 방법이 존재한다. StatsModels 패키지도 이러한 R 스타일 모형 정의 방법을 지원한다. 이러한 지원을 가능하게 하는 것은 patsy라는 패키지 덕분이다. 여기에서는 patsy 패키지의 간단한 사용법과 이를 이용하여 StatsModels에서 회귀 모형을 정의하는 방법을 설명한다.\n",
    "\n",
    "## patsy 패키지 소개\n",
    "\n",
    "patsy 패키지는 회귀분석 전처리를 위한 패키지로 데이터프레임을 가공하여 인코딩, 변환 등을 쉽게 해주는 기능을 제공한다.\n",
    "\n",
    "patsy 패키지의 `dmatrix`라는 명령을 사용하면 실험설계행렬(experiment design matrix)을 간단히 만들수 있다. `dmatrix`에 다음과 같이 모형 정의 문자열 `formula`와 원데이터 `data`을 입력하면 `formula`에서 지정한 대로 변환된 데이터 `data_transformed`를 출력한다. \n",
    "\n",
    "```\n",
    "data_transformed = dmatrix(formula, data)\n",
    "```"
   ]
  },
  {
   "cell_type": "markdown",
   "metadata": {},
   "source": [
    "예제를 위해 다음과 같이 데이터 `x1`, `x2`를 만들자."
   ]
  },
  {
   "cell_type": "code",
   "execution_count": 6,
   "metadata": {},
   "outputs": [],
   "source": [
    "np.random.seed(0)\n",
    "x1 = np.random.rand(5) + 10\n",
    "x2 = np.random.rand(5) * 10\n",
    "y = x1 + 2 * x2 + np.random.randn(5)\n",
    "df1 = pd.DataFrame(x1, columns=[\"x1\"])\n",
    "df2 = pd.DataFrame(np.array([x1, x2]).T, columns=[\"x1\", \"x2\"])\n",
    "df = pd.DataFrame(np.array([x1, x2, y]).T, columns=[\"x1\", \"x2\", \"y\"])"
   ]
  },
  {
   "cell_type": "code",
   "execution_count": 7,
   "metadata": {},
   "outputs": [
    {
     "data": {
      "text/html": [
       "<div>\n",
       "<style>\n",
       "    .dataframe thead tr:only-child th {\n",
       "        text-align: right;\n",
       "    }\n",
       "\n",
       "    .dataframe thead th {\n",
       "        text-align: left;\n",
       "    }\n",
       "\n",
       "    .dataframe tbody tr th {\n",
       "        vertical-align: top;\n",
       "    }\n",
       "</style>\n",
       "<table border=\"1\" class=\"dataframe\">\n",
       "  <thead>\n",
       "    <tr style=\"text-align: right;\">\n",
       "      <th></th>\n",
       "      <th>x1</th>\n",
       "    </tr>\n",
       "  </thead>\n",
       "  <tbody>\n",
       "    <tr>\n",
       "      <th>0</th>\n",
       "      <td>10.548814</td>\n",
       "    </tr>\n",
       "    <tr>\n",
       "      <th>1</th>\n",
       "      <td>10.715189</td>\n",
       "    </tr>\n",
       "    <tr>\n",
       "      <th>2</th>\n",
       "      <td>10.602763</td>\n",
       "    </tr>\n",
       "    <tr>\n",
       "      <th>3</th>\n",
       "      <td>10.544883</td>\n",
       "    </tr>\n",
       "    <tr>\n",
       "      <th>4</th>\n",
       "      <td>10.423655</td>\n",
       "    </tr>\n",
       "  </tbody>\n",
       "</table>\n",
       "</div>"
      ],
      "text/plain": [
       "          x1\n",
       "0  10.548814\n",
       "1  10.715189\n",
       "2  10.602763\n",
       "3  10.544883\n",
       "4  10.423655"
      ]
     },
     "execution_count": 7,
     "metadata": {},
     "output_type": "execute_result"
    }
   ],
   "source": [
    "df1"
   ]
  },
  {
   "cell_type": "code",
   "execution_count": 8,
   "metadata": {},
   "outputs": [
    {
     "data": {
      "text/html": [
       "<div>\n",
       "<style>\n",
       "    .dataframe thead tr:only-child th {\n",
       "        text-align: right;\n",
       "    }\n",
       "\n",
       "    .dataframe thead th {\n",
       "        text-align: left;\n",
       "    }\n",
       "\n",
       "    .dataframe tbody tr th {\n",
       "        vertical-align: top;\n",
       "    }\n",
       "</style>\n",
       "<table border=\"1\" class=\"dataframe\">\n",
       "  <thead>\n",
       "    <tr style=\"text-align: right;\">\n",
       "      <th></th>\n",
       "      <th>x1</th>\n",
       "      <th>x2</th>\n",
       "    </tr>\n",
       "  </thead>\n",
       "  <tbody>\n",
       "    <tr>\n",
       "      <th>0</th>\n",
       "      <td>10.548814</td>\n",
       "      <td>6.458941</td>\n",
       "    </tr>\n",
       "    <tr>\n",
       "      <th>1</th>\n",
       "      <td>10.715189</td>\n",
       "      <td>4.375872</td>\n",
       "    </tr>\n",
       "    <tr>\n",
       "      <th>2</th>\n",
       "      <td>10.602763</td>\n",
       "      <td>8.917730</td>\n",
       "    </tr>\n",
       "    <tr>\n",
       "      <th>3</th>\n",
       "      <td>10.544883</td>\n",
       "      <td>9.636628</td>\n",
       "    </tr>\n",
       "    <tr>\n",
       "      <th>4</th>\n",
       "      <td>10.423655</td>\n",
       "      <td>3.834415</td>\n",
       "    </tr>\n",
       "  </tbody>\n",
       "</table>\n",
       "</div>"
      ],
      "text/plain": [
       "          x1        x2\n",
       "0  10.548814  6.458941\n",
       "1  10.715189  4.375872\n",
       "2  10.602763  8.917730\n",
       "3  10.544883  9.636628\n",
       "4  10.423655  3.834415"
      ]
     },
     "execution_count": 8,
     "metadata": {},
     "output_type": "execute_result"
    }
   ],
   "source": [
    "df2"
   ]
  },
  {
   "cell_type": "code",
   "execution_count": 9,
   "metadata": {},
   "outputs": [
    {
     "data": {
      "text/html": [
       "<div>\n",
       "<style>\n",
       "    .dataframe thead tr:only-child th {\n",
       "        text-align: right;\n",
       "    }\n",
       "\n",
       "    .dataframe thead th {\n",
       "        text-align: left;\n",
       "    }\n",
       "\n",
       "    .dataframe tbody tr th {\n",
       "        vertical-align: top;\n",
       "    }\n",
       "</style>\n",
       "<table border=\"1\" class=\"dataframe\">\n",
       "  <thead>\n",
       "    <tr style=\"text-align: right;\">\n",
       "      <th></th>\n",
       "      <th>x1</th>\n",
       "      <th>x2</th>\n",
       "      <th>y</th>\n",
       "    </tr>\n",
       "  </thead>\n",
       "  <tbody>\n",
       "    <tr>\n",
       "      <th>0</th>\n",
       "      <td>10.548814</td>\n",
       "      <td>6.458941</td>\n",
       "      <td>23.610739</td>\n",
       "    </tr>\n",
       "    <tr>\n",
       "      <th>1</th>\n",
       "      <td>10.715189</td>\n",
       "      <td>4.375872</td>\n",
       "      <td>20.921207</td>\n",
       "    </tr>\n",
       "    <tr>\n",
       "      <th>2</th>\n",
       "      <td>10.602763</td>\n",
       "      <td>8.917730</td>\n",
       "      <td>29.199261</td>\n",
       "    </tr>\n",
       "    <tr>\n",
       "      <th>3</th>\n",
       "      <td>10.544883</td>\n",
       "      <td>9.636628</td>\n",
       "      <td>29.939813</td>\n",
       "    </tr>\n",
       "    <tr>\n",
       "      <th>4</th>\n",
       "      <td>10.423655</td>\n",
       "      <td>3.834415</td>\n",
       "      <td>18.536348</td>\n",
       "    </tr>\n",
       "  </tbody>\n",
       "</table>\n",
       "</div>"
      ],
      "text/plain": [
       "          x1        x2          y\n",
       "0  10.548814  6.458941  23.610739\n",
       "1  10.715189  4.375872  20.921207\n",
       "2  10.602763  8.917730  29.199261\n",
       "3  10.544883  9.636628  29.939813\n",
       "4  10.423655  3.834415  18.536348"
      ]
     },
     "execution_count": 9,
     "metadata": {},
     "output_type": "execute_result"
    }
   ],
   "source": [
    "df"
   ]
  },
  {
   "cell_type": "markdown",
   "metadata": {},
   "source": [
    "`dmatrix`의 첫번째 기능은 자동 오그멘테이션이다. 대상이 되는 데이터에 자동으로 Intecept라는 이름의 컬럼을 추가한다. \n",
    "\n",
    "다음 예제에서 스타일 문자열은 단순히 `\"x1\"`이다. 스타일 문자열은 데이터와 연산자로 이루어지는데 데이터는 변수명 혹은 데이터프레임 컬럼 라벨로 지정한다. 변수명으로 지정하는 경우에는 현재의 이름 공간(name space)에서 변수를 찾고 데이터프레임 컬럼 라벨을 지정하는 경우에는 `data`라는 인수에 데이터프레임을 넣어주어야 한다."
   ]
  },
  {
   "cell_type": "code",
   "execution_count": 12,
   "metadata": {},
   "outputs": [
    {
     "data": {
      "text/plain": [
       "DesignMatrix with shape (5, 2)\n",
       "  Intercept        x1\n",
       "          1  10.54881\n",
       "          1  10.71519\n",
       "          1  10.60276\n",
       "          1  10.54488\n",
       "          1  10.42365\n",
       "  Terms:\n",
       "    'Intercept' (column 0)\n",
       "    'x1' (column 1)"
      ]
     },
     "execution_count": 12,
     "metadata": {},
     "output_type": "execute_result"
    }
   ],
   "source": [
    "dmatrix(\"x1\")"
   ]
  },
  {
   "cell_type": "code",
   "execution_count": 13,
   "metadata": {},
   "outputs": [
    {
     "data": {
      "text/plain": [
       "DesignMatrix with shape (5, 2)\n",
       "  Intercept        x1\n",
       "          1  10.54881\n",
       "          1  10.71519\n",
       "          1  10.60276\n",
       "          1  10.54488\n",
       "          1  10.42365\n",
       "  Terms:\n",
       "    'Intercept' (column 0)\n",
       "    'x1' (column 1)"
      ]
     },
     "execution_count": 13,
     "metadata": {},
     "output_type": "execute_result"
    }
   ],
   "source": [
    "dmatrix(\"x1\", df1)"
   ]
  },
  {
   "cell_type": "markdown",
   "metadata": {},
   "source": [
    "## R-style formula 연산자\n",
    "\n",
    "모형정의 연산자 `formula`에 복수의 데이터를 지정하는 경우에는 다음과 같은 연산자를 포함해야 한다.\n",
    "\n",
    "| 기호 | 설명 |\n",
    "|-|-|\n",
    "|`+`| 설명 변수 추가 |\n",
    "|`-`| 설명 변수 제거 |\n",
    "|1, 0| intercept. (제거시 사용) |\n",
    "|`:`| interaction (곱) |\n",
    "|`*`| `a*b = a + b + a:b` |\n",
    "|`/`| `a/b = a + a:b` |\n",
    "|`~`| 종속 - 독립 관계 |"
   ]
  },
  {
   "cell_type": "markdown",
   "metadata": {},
   "source": [
    "상수항을 제외하고자 하는 경우에는 `- 1` 또는 `+ 0`을 써주어야 한다."
   ]
  },
  {
   "cell_type": "code",
   "execution_count": 14,
   "metadata": {},
   "outputs": [
    {
     "data": {
      "text/plain": [
       "DesignMatrix with shape (5, 1)\n",
       "        x1\n",
       "  10.54881\n",
       "  10.71519\n",
       "  10.60276\n",
       "  10.54488\n",
       "  10.42365\n",
       "  Terms:\n",
       "    'x1' (column 0)"
      ]
     },
     "execution_count": 14,
     "metadata": {},
     "output_type": "execute_result"
    }
   ],
   "source": [
    "dmatrix(\"x1 - 1\")"
   ]
  },
  {
   "cell_type": "code",
   "execution_count": 15,
   "metadata": {},
   "outputs": [
    {
     "data": {
      "text/plain": [
       "DesignMatrix with shape (5, 1)\n",
       "        x1\n",
       "  10.54881\n",
       "  10.71519\n",
       "  10.60276\n",
       "  10.54488\n",
       "  10.42365\n",
       "  Terms:\n",
       "    'x1' (column 0)"
      ]
     },
     "execution_count": 15,
     "metadata": {},
     "output_type": "execute_result"
    }
   ],
   "source": [
    "dmatrix(\"x1 + 0\")"
   ]
  },
  {
   "cell_type": "code",
   "execution_count": 16,
   "metadata": {},
   "outputs": [
    {
     "data": {
      "text/plain": [
       "DesignMatrix with shape (5, 3)\n",
       "  Intercept        x1       x2\n",
       "          1  10.54881  6.45894\n",
       "          1  10.71519  4.37587\n",
       "          1  10.60276  8.91773\n",
       "          1  10.54488  9.63663\n",
       "          1  10.42365  3.83442\n",
       "  Terms:\n",
       "    'Intercept' (column 0)\n",
       "    'x1' (column 1)\n",
       "    'x2' (column 2)"
      ]
     },
     "execution_count": 16,
     "metadata": {},
     "output_type": "execute_result"
    }
   ],
   "source": [
    "dmatrix(\"x1 + x2\")"
   ]
  },
  {
   "cell_type": "code",
   "execution_count": 22,
   "metadata": {},
   "outputs": [
    {
     "data": {
      "text/plain": [
       "DesignMatrix with shape (5, 2)\n",
       "        x1       x2\n",
       "  10.54881  6.45894\n",
       "  10.71519  4.37587\n",
       "  10.60276  8.91773\n",
       "  10.54488  9.63663\n",
       "  10.42365  3.83442\n",
       "  Terms:\n",
       "    'x1' (column 0)\n",
       "    'x2' (column 1)"
      ]
     },
     "execution_count": 22,
     "metadata": {},
     "output_type": "execute_result"
    }
   ],
   "source": [
    "dmatrix(\"x1 + x2 - 1\")"
   ]
  },
  {
   "cell_type": "code",
   "execution_count": 18,
   "metadata": {},
   "outputs": [
    {
     "data": {
      "text/plain": [
       "DesignMatrix with shape (5, 2)\n",
       "        x1       x2\n",
       "  10.54881  6.45894\n",
       "  10.71519  4.37587\n",
       "  10.60276  8.91773\n",
       "  10.54488  9.63663\n",
       "  10.42365  3.83442\n",
       "  Terms:\n",
       "    'x1' (column 0)\n",
       "    'x2' (column 1)"
      ]
     },
     "execution_count": 18,
     "metadata": {},
     "output_type": "execute_result"
    }
   ],
   "source": [
    "dmatrix(\"x1 + x2 - 1\", data=df2)"
   ]
  },
  {
   "cell_type": "markdown",
   "metadata": {},
   "source": [
    "두 변수의 곱을 새로운 변수로 추가하려면 `:` 연산자를 사용한다."
   ]
  },
  {
   "cell_type": "code",
   "execution_count": 23,
   "metadata": {
    "scrolled": false
   },
   "outputs": [
    {
     "data": {
      "text/plain": [
       "DesignMatrix with shape (5, 3)\n",
       "        x1       x2      x1:x2\n",
       "  10.54881  6.45894   68.13417\n",
       "  10.71519  4.37587   46.88830\n",
       "  10.60276  8.91773   94.55258\n",
       "  10.54488  9.63663  101.61711\n",
       "  10.42365  3.83442   39.96862\n",
       "  Terms:\n",
       "    'x1' (column 0)\n",
       "    'x2' (column 1)\n",
       "    'x1:x2' (column 2)"
      ]
     },
     "execution_count": 23,
     "metadata": {},
     "output_type": "execute_result"
    }
   ],
   "source": [
    "dmatrix(\"x1 + x2 + x1:x2 - 1\")"
   ]
  },
  {
   "cell_type": "markdown",
   "metadata": {},
   "source": [
    "interaction이라고 하며 비선형적인 효과를 잡아주기 위해 변수의 곱을 넣어야 할 때가 있는데 이 때 사용한다."
   ]
  },
  {
   "cell_type": "markdown",
   "metadata": {},
   "source": [
    "위 식은 다음과 같이 `*` 연산자로 간단하게 나타낼 수도 있다."
   ]
  },
  {
   "cell_type": "code",
   "execution_count": 24,
   "metadata": {},
   "outputs": [
    {
     "data": {
      "text/plain": [
       "DesignMatrix with shape (5, 3)\n",
       "        x1       x2      x1:x2\n",
       "  10.54881  6.45894   68.13417\n",
       "  10.71519  4.37587   46.88830\n",
       "  10.60276  8.91773   94.55258\n",
       "  10.54488  9.63663  101.61711\n",
       "  10.42365  3.83442   39.96862\n",
       "  Terms:\n",
       "    'x1' (column 0)\n",
       "    'x2' (column 1)\n",
       "    'x1:x2' (column 2)"
      ]
     },
     "execution_count": 24,
     "metadata": {},
     "output_type": "execute_result"
    }
   ],
   "source": [
    "dmatrix(\"x1 * x2 - 1\")"
   ]
  },
  {
   "cell_type": "markdown",
   "metadata": {},
   "source": [
    "`/` 연산자는 다음과 같은 출력을 낸다."
   ]
  },
  {
   "cell_type": "code",
   "execution_count": 25,
   "metadata": {},
   "outputs": [
    {
     "data": {
      "text/plain": [
       "DesignMatrix with shape (5, 2)\n",
       "        x1      x1:x2\n",
       "  10.54881   68.13417\n",
       "  10.71519   46.88830\n",
       "  10.60276   94.55258\n",
       "  10.54488  101.61711\n",
       "  10.42365   39.96862\n",
       "  Terms:\n",
       "    'x1' (column 0)\n",
       "    'x1:x2' (column 1)"
      ]
     },
     "execution_count": 25,
     "metadata": {},
     "output_type": "execute_result"
    }
   ],
   "source": [
    "dmatrix(\"x1 / x2 - 1\")"
   ]
  },
  {
   "cell_type": "markdown",
   "metadata": {},
   "source": [
    "## 변환\n",
    "\n",
    "`dmatrix`에서는 일반적인 수학 변환(transform)도 가능하다. numpy 함수 뿐 아니라 사용자 정의 함수와 다음과 같은 patsy 전용 함수도 사용할 수 있다. \n",
    "\n",
    "* `center(x)`: 평균 제거\n",
    "* `standardize(x)`: 평균 제거 및 표준편차로 스케일링\n",
    "* `scale(x)`: `standardize(x)` 과 같음 \n"
   ]
  },
  {
   "cell_type": "code",
   "execution_count": 26,
   "metadata": {},
   "outputs": [
    {
     "data": {
      "text/plain": [
       "DesignMatrix with shape (5, 3)\n",
       "  Intercept        x1  np.log(np.abs(x2))\n",
       "          1  10.54881             1.86547\n",
       "          1  10.71519             1.47611\n",
       "          1  10.60276             2.18804\n",
       "          1  10.54488             2.26557\n",
       "          1  10.42365             1.34402\n",
       "  Terms:\n",
       "    'Intercept' (column 0)\n",
       "    'x1' (column 1)\n",
       "    'np.log(np.abs(x2))' (column 2)"
      ]
     },
     "execution_count": 26,
     "metadata": {},
     "output_type": "execute_result"
    }
   ],
   "source": [
    "dmatrix(\"x1 + np.log(np.abs(x2))\", data=df2)"
   ]
  },
  {
   "cell_type": "code",
   "execution_count": 27,
   "metadata": {},
   "outputs": [
    {
     "data": {
      "text/plain": [
       "DesignMatrix with shape (5, 2)\n",
       "  Intercept  doubleit(x1)\n",
       "          1      21.09763\n",
       "          1      21.43038\n",
       "          1      21.20553\n",
       "          1      21.08977\n",
       "          1      20.84731\n",
       "  Terms:\n",
       "    'Intercept' (column 0)\n",
       "    'doubleit(x1)' (column 1)"
      ]
     },
     "execution_count": 27,
     "metadata": {},
     "output_type": "execute_result"
    }
   ],
   "source": [
    "def doubleit(x):\n",
    "    return 2 * x\n",
    "\n",
    "dmatrix(\"doubleit(x1)\", data=df1)"
   ]
  },
  {
   "cell_type": "code",
   "execution_count": 28,
   "metadata": {},
   "outputs": [
    {
     "data": {
      "text/plain": [
       "DesignMatrix with shape (5, 4)\n",
       "  Intercept  center(x1)  standardize(x1)  scale(x2)\n",
       "          1    -0.01825         -0.19319   -0.07965\n",
       "          1     0.14813          1.56828   -0.97279\n",
       "          1     0.03570          0.37799    0.97458\n",
       "          1    -0.02218         -0.23480    1.28282\n",
       "          1    -0.14341         -1.51828   -1.20495\n",
       "  Terms:\n",
       "    'Intercept' (column 0)\n",
       "    'center(x1)' (column 1)\n",
       "    'standardize(x1)' (column 2)\n",
       "    'scale(x2)' (column 3)"
      ]
     },
     "execution_count": 28,
     "metadata": {},
     "output_type": "execute_result"
    }
   ],
   "source": [
    "dmatrix(\"center(x1) + standardize(x1) + scale(x2)\", data=df2)"
   ]
  },
  {
   "cell_type": "markdown",
   "metadata": {},
   "source": [
    "## 변수 보호\n",
    " \n",
    "함수를 사용한 변수 변환 이외에도 모형 정의 문자열 자체내에 연산기호를 넣어 연산한 값을 만드는 것도 가능하다. 이 때에는 모형정의 연산자와 혼동되지 않도록  `I()` 연산자를 추가해야 한다.\n",
    " \n",
    "\n",
    "dmatrix(\"I(x1 + x2)\", data=df2)\n",
    "\n",
    "이 값을 다음 식과 비교하면  `I()`의 기능을 확실히 알 수 있다. "
   ]
  },
  {
   "cell_type": "code",
   "execution_count": 29,
   "metadata": {},
   "outputs": [
    {
     "data": {
      "text/plain": [
       "DesignMatrix with shape (5, 3)\n",
       "  Intercept        x1       x2\n",
       "          1  10.54881  6.45894\n",
       "          1  10.71519  4.37587\n",
       "          1  10.60276  8.91773\n",
       "          1  10.54488  9.63663\n",
       "          1  10.42365  3.83442\n",
       "  Terms:\n",
       "    'Intercept' (column 0)\n",
       "    'x1' (column 1)\n",
       "    'x2' (column 2)"
      ]
     },
     "execution_count": 29,
     "metadata": {},
     "output_type": "execute_result"
    }
   ],
   "source": [
    "dmatrix(\"x1 + x2\", data=df2)"
   ]
  },
  {
   "cell_type": "markdown",
   "metadata": {},
   "source": [
    "## 다항선형회귀 \n",
    "\n",
    "`I()` 연산자를 활용하면 다항선형회귀(polynomial regression)도 할 수 있다."
   ]
  },
  {
   "cell_type": "code",
   "execution_count": 30,
   "metadata": {},
   "outputs": [
    {
     "data": {
      "text/plain": [
       "DesignMatrix with shape (5, 5)\n",
       "  Intercept        x1  I(x1 ** 2)  I(x1 ** 3)   I(x1 ** 4)\n",
       "          1  10.54881   111.27747  1173.84524  12382.67452\n",
       "          1  10.71519   114.81528  1230.26750  13182.54925\n",
       "          1  10.60276   112.41859  1191.94772  12637.93965\n",
       "          1  10.54488   111.19456  1172.53366  12364.23047\n",
       "          1  10.42365   108.65258  1132.55698  11805.38301\n",
       "  Terms:\n",
       "    'Intercept' (column 0)\n",
       "    'x1' (column 1)\n",
       "    'I(x1 ** 2)' (column 2)\n",
       "    'I(x1 ** 3)' (column 3)\n",
       "    'I(x1 ** 4)' (column 4)"
      ]
     },
     "execution_count": 30,
     "metadata": {},
     "output_type": "execute_result"
    }
   ],
   "source": [
    "dmatrix(\"x1 + I(x1**2) + I(x1**3) + I(x1**4)\", data=df1)"
   ]
  },
  {
   "cell_type": "markdown",
   "metadata": {},
   "source": [
    "## 카테고리 변수 인코딩\n",
    "\n",
    "데이터로 문자열이 오는 경우에는 카테고리 값으로 인정하여 One-Hot-Encoding 방식의 인코딩을 하게 된다."
   ]
  },
  {
   "cell_type": "code",
   "execution_count": 31,
   "metadata": {},
   "outputs": [
    {
     "data": {
      "text/html": [
       "<div>\n",
       "<style>\n",
       "    .dataframe thead tr:only-child th {\n",
       "        text-align: right;\n",
       "    }\n",
       "\n",
       "    .dataframe thead th {\n",
       "        text-align: left;\n",
       "    }\n",
       "\n",
       "    .dataframe tbody tr th {\n",
       "        vertical-align: top;\n",
       "    }\n",
       "</style>\n",
       "<table border=\"1\" class=\"dataframe\">\n",
       "  <thead>\n",
       "    <tr style=\"text-align: right;\">\n",
       "      <th></th>\n",
       "      <th>x3</th>\n",
       "    </tr>\n",
       "  </thead>\n",
       "  <tbody>\n",
       "    <tr>\n",
       "      <th>0</th>\n",
       "      <td>A</td>\n",
       "    </tr>\n",
       "    <tr>\n",
       "      <th>1</th>\n",
       "      <td>B</td>\n",
       "    </tr>\n",
       "    <tr>\n",
       "      <th>2</th>\n",
       "      <td>A</td>\n",
       "    </tr>\n",
       "    <tr>\n",
       "      <th>3</th>\n",
       "      <td>C</td>\n",
       "    </tr>\n",
       "  </tbody>\n",
       "</table>\n",
       "</div>"
      ],
      "text/plain": [
       "  x3\n",
       "0  A\n",
       "1  B\n",
       "2  A\n",
       "3  C"
      ]
     },
     "execution_count": 31,
     "metadata": {},
     "output_type": "execute_result"
    }
   ],
   "source": [
    "df3 = pd.DataFrame([\"A\", \"B\", \"A\", \"C\"], columns=[\"x3\"])\n",
    "df3"
   ]
  },
  {
   "cell_type": "code",
   "execution_count": 32,
   "metadata": {},
   "outputs": [
    {
     "data": {
      "text/plain": [
       "DesignMatrix with shape (4, 3)\n",
       "  x3[A]  x3[B]  x3[C]\n",
       "      1      0      0\n",
       "      0      1      0\n",
       "      1      0      0\n",
       "      0      0      1\n",
       "  Terms:\n",
       "    'x3' (columns 0:3)"
      ]
     },
     "execution_count": 32,
     "metadata": {},
     "output_type": "execute_result"
    }
   ],
   "source": [
    "dmatrix(\"x3 - 1\", data=df3)"
   ]
  },
  {
   "cell_type": "markdown",
   "metadata": {},
   "source": [
    "카테고리 값이지만 정수 등으로 표시된 경우에는 C() 연산자를 이용하여 카테고리 값임을 지정할 수 있다."
   ]
  },
  {
   "cell_type": "code",
   "execution_count": 33,
   "metadata": {},
   "outputs": [
    {
     "data": {
      "text/html": [
       "<div>\n",
       "<style>\n",
       "    .dataframe thead tr:only-child th {\n",
       "        text-align: right;\n",
       "    }\n",
       "\n",
       "    .dataframe thead th {\n",
       "        text-align: left;\n",
       "    }\n",
       "\n",
       "    .dataframe tbody tr th {\n",
       "        vertical-align: top;\n",
       "    }\n",
       "</style>\n",
       "<table border=\"1\" class=\"dataframe\">\n",
       "  <thead>\n",
       "    <tr style=\"text-align: right;\">\n",
       "      <th></th>\n",
       "      <th>x4</th>\n",
       "    </tr>\n",
       "  </thead>\n",
       "  <tbody>\n",
       "    <tr>\n",
       "      <th>0</th>\n",
       "      <td>1</td>\n",
       "    </tr>\n",
       "    <tr>\n",
       "      <th>1</th>\n",
       "      <td>1</td>\n",
       "    </tr>\n",
       "    <tr>\n",
       "      <th>2</th>\n",
       "      <td>4</td>\n",
       "    </tr>\n",
       "    <tr>\n",
       "      <th>3</th>\n",
       "      <td>2</td>\n",
       "    </tr>\n",
       "  </tbody>\n",
       "</table>\n",
       "</div>"
      ],
      "text/plain": [
       "   x4\n",
       "0   1\n",
       "1   1\n",
       "2   4\n",
       "3   2"
      ]
     },
     "execution_count": 33,
     "metadata": {},
     "output_type": "execute_result"
    }
   ],
   "source": [
    "df4 = pd.DataFrame([1, 1, 4, 2], columns=[\"x4\"])\n",
    "df4"
   ]
  },
  {
   "cell_type": "code",
   "execution_count": 34,
   "metadata": {},
   "outputs": [
    {
     "data": {
      "text/plain": [
       "DesignMatrix with shape (4, 3)\n",
       "  C(x4)[1]  C(x4)[2]  C(x4)[4]\n",
       "         1         0         0\n",
       "         1         0         0\n",
       "         0         0         1\n",
       "         0         1         0\n",
       "  Terms:\n",
       "    'C(x4)' (columns 0:3)"
      ]
     },
     "execution_count": 34,
     "metadata": {},
     "output_type": "execute_result"
    }
   ],
   "source": [
    "dmatrix(\"C(x4) + 0\", data=df4)"
   ]
  },
  {
   "cell_type": "markdown",
   "metadata": {},
   "source": [
    "## `OLS.from_formula` 메서드\n",
    "\n",
    "선형회귀분석을 위한 `OLS` 클래스에는 모형 정의 문자열을 사용할 수 있는 `from_formula`라는 메서드가 있다. 이 메서드를 쓰면 사용자가 데이터 행렬을 직접 정의하지 않고 모형 정의 문자열만으로 선형회귀모형을 만드는 것이 가능하다.\n",
    "\n",
    "예를 들어 df가 다음과 같은 경우,"
   ]
  },
  {
   "cell_type": "code",
   "execution_count": 35,
   "metadata": {},
   "outputs": [
    {
     "data": {
      "text/html": [
       "<div>\n",
       "<style>\n",
       "    .dataframe thead tr:only-child th {\n",
       "        text-align: right;\n",
       "    }\n",
       "\n",
       "    .dataframe thead th {\n",
       "        text-align: left;\n",
       "    }\n",
       "\n",
       "    .dataframe tbody tr th {\n",
       "        vertical-align: top;\n",
       "    }\n",
       "</style>\n",
       "<table border=\"1\" class=\"dataframe\">\n",
       "  <thead>\n",
       "    <tr style=\"text-align: right;\">\n",
       "      <th></th>\n",
       "      <th>x1</th>\n",
       "      <th>x2</th>\n",
       "      <th>y</th>\n",
       "    </tr>\n",
       "  </thead>\n",
       "  <tbody>\n",
       "    <tr>\n",
       "      <th>0</th>\n",
       "      <td>10.548814</td>\n",
       "      <td>6.458941</td>\n",
       "      <td>23.610739</td>\n",
       "    </tr>\n",
       "    <tr>\n",
       "      <th>1</th>\n",
       "      <td>10.715189</td>\n",
       "      <td>4.375872</td>\n",
       "      <td>20.921207</td>\n",
       "    </tr>\n",
       "    <tr>\n",
       "      <th>2</th>\n",
       "      <td>10.602763</td>\n",
       "      <td>8.917730</td>\n",
       "      <td>29.199261</td>\n",
       "    </tr>\n",
       "    <tr>\n",
       "      <th>3</th>\n",
       "      <td>10.544883</td>\n",
       "      <td>9.636628</td>\n",
       "      <td>29.939813</td>\n",
       "    </tr>\n",
       "    <tr>\n",
       "      <th>4</th>\n",
       "      <td>10.423655</td>\n",
       "      <td>3.834415</td>\n",
       "      <td>18.536348</td>\n",
       "    </tr>\n",
       "  </tbody>\n",
       "</table>\n",
       "</div>"
      ],
      "text/plain": [
       "          x1        x2          y\n",
       "0  10.548814  6.458941  23.610739\n",
       "1  10.715189  4.375872  20.921207\n",
       "2  10.602763  8.917730  29.199261\n",
       "3  10.544883  9.636628  29.939813\n",
       "4  10.423655  3.834415  18.536348"
      ]
     },
     "execution_count": 35,
     "metadata": {},
     "output_type": "execute_result"
    }
   ],
   "source": [
    "df"
   ]
  },
  {
   "cell_type": "code",
   "execution_count": 50,
   "metadata": {},
   "outputs": [],
   "source": [
    "# 직접 데이터 행렬을 만드는  statsmodels.tools.tools as sm\n",
    "from statsmodels.regression.linear_model import OLS\n",
    "from statsmodels.tools.tools import add_constant\n",
    "dfy = df.iloc[:, -1]\n",
    "dfX = add_constant(df.iloc[:, :-1])\n",
    "model1 = OLS(dfy, dfX)\n",
    "\n",
    "# 모형 정의 문자열을 사용하는 경우\n",
    "model2 = OLS.from_formula(\"y ~ x1 + x2\", data=df)"
   ]
  },
  {
   "cell_type": "markdown",
   "metadata": {},
   "source": [
    "# 입력변수가 카테고리값인 경우\n",
    "\n",
    "회귀 분석 대상이 되는 독립 변수가 카테고리 값을 가지는 변수인 경우에는 카테고리 값에 의해 연속 변수인 y값이 달라진다. 이러한 경우, 분산 분석(ANOVA)을 사용하면 카테고리 값의 영향을 정량적으로 분석할 수 있다. 또한 이는 카테고리 값에 의해 회귀 모형이 달라지는 것으로도 볼 수 있기 때문에 모형 비교에도 사용될 수 있다.\n",
    "\n",
    "## 카테고리 독립 변수와 더미 변수\n",
    "\n",
    "카테고리 값은 여러개의 다른 상태를 나타내는 값이다. 분석시에는 편의상 이 값은 0, 1과 같은 정수로 표현하지만 원래 카테고리값은 1, 2, 3과 같이 숫자로 표현되어 있어도 이는 단지 \"A\", \"B\", \"C\"라는 라벨을 숫자로 대신 쓴 것에 지나지 않으며 실제로 크기의 의미가 없다는 점에 주의해야 한다. 즉, 2라는 값이 1보다 2배 더 크다는 뜻이 아니고 3이라는 값도 1보다 3배 더 크다는 뜻이 아니다.\n",
    "\n",
    "따라서 카테고리 값을 그냥 정수로 쓰면  회귀 분석 모형은 이 값을 크기를 가진 숫자로 인식할 수 있는 위험이 있기 때문에 0과 1 두 가지 값만 가지는 더미 변수(dummy variable)의 형태로 변환하여 회귀 분석을 한다.\n",
    "\n",
    "더미 변수는 0 또는 1만으로 표현되는 값으로 어떤 요인이 존재하는가 존재하지 않는가를 표시하는 독립 변수이다. 다음과 같은 명칭으로도 불린다.\n",
    "\n",
    "* indicator variable\n",
    "* design variable\n",
    "* Boolean indicator\n",
    "* binary variable\n",
    "* treatment\n",
    "\n",
    "카테고리 변수를 더미 변수로 만들 때는 보통 One-Hot-Encoding 방법을 쓴다. 이 방법을 사용하는 경우, 하나의 카테고리 값은 하나의 더미 변수가 된다.\n",
    "\n",
    "## 더미 변수와 복수 모형\n",
    "\n",
    "더미 변수를 사용하면 카테고리 변수의 값에 따라 나누어진 여러 그룹의 데이터에 대해 각각 회귀 모형을 사용하는 것과 같다. 다만 이  회귀 모형들은 더미 변수의 사용 방법에 따라 공통 모수를 가진다.  \n",
    "\n",
    "### 더미 변수의 예 1\n",
    "\n",
    "$A, B, C$ 세개의 카테고리 값을 가지는 변수 $x_1$은 다음과 같이  $d_1$, $d_2$, $d_3$ 라는 더미 변수로 표현할 수 있다.\n",
    "\n",
    "* $x_1 = A$ 이면  $d_1 = 1, d_2 = 0, d_3 = 0$\n",
    "* $x_1 = B$ 이면  $d_1 = 0, d_2 = 1, d_3 = 0$\n",
    "* $x_1 = C$ 이면  $d_1 = 0, d_2 = 0, d_3 = 1$\n",
    "\n",
    "더미 변수를 사용하면 선형 회귀 모형은 다음과 같다.\n",
    "$$ y = w_1 d_1 + w_2 d_2 + w_3 d_3  $$\n",
    "\n",
    "더미 변수의 값을 대입하면\n",
    "\n",
    "* $x_1 = A$, 즉, $d_1 = 1, d_2 = 0, d_3 = 0$ 이면 $ y = w_1 = w_{A} $\n",
    "* $x_1 = B$, 즉, $d_1 = 0, d_2 = 1, d_3 = 0$ 이면 $ y = w_2 = w_{B} $\n",
    "* $x_1 = C$, 즉, $d_1 = 0, d_2 = 0, d_3 = 1$ 이면 $ y = w_3 = w_{C} $\n",
    "\n",
    "이므로 사실상 3개의 독립적인 0차 모형과 같다.\n",
    "\n",
    "위에서 사용한 모형에는 **상수항이 없다**는 사실에 유의하라. One-Hot-Encoding된 더미 변수를 사용하는 경우에는 상수항을 사용하면 그룹의 수보다 모수의 수가 많아지므로 추정이 불가능하다. \n",
    "\n",
    "만약 상수항을 넣고 싶다면 더미 변수의 수를 하나 줄이고 클래스 중 하나를 모든 더미 변수가 0인 경우로 보아야 한다.\n",
    "\n",
    "$$ y = w_0 + w_1 d_1 + w_2 d_2 $$\n",
    "\n",
    "* $x_1 = A$ 이면  $d_1 = 0, d_2 = 0$\n",
    "* $x_1 = B$ 이면  $d_1 = 1, d_2 = 0$\n",
    "* $x_1 = C$ 이면  $d_1 = 0, d_2 = 1$\n",
    "\n",
    "더미 변수의 값을 대입하면\n",
    "\n",
    "* $x_1 = A$ 이면 $ y = w_0 = w_{A} $\n",
    "* $x_1 = B$ 이면 $ y = w_0 + w_1 = w_{B} $\n",
    "* $x_1 = C$ 이면 $ y = w_0 + w_2 = w_{C} $\n",
    "\n",
    "StatsModels에서는 카테고리 변수와 상수항이 동시에 존재하면 자동으로 이렇게 지정한다.\n",
    "\n",
    "### 더미 변수의 예 2\n",
    "\n",
    "이번에는 카테고리 변수 $x_1$과 실수 변수 $x_2$를 동시에 가지는 모형을 생각하자. \n",
    "이 모형은 더미 변수를 사용하여 다음과 같이 표현할 수 있다.\n",
    "\n",
    "$$ y = w_1 d_1 + w_2 d_2 + w_3 d_3 + w_4 x_2 $$\n",
    "\n",
    "* $x_1 = A$, 즉, $d_1 = 1, d_2 = 0, d_3 = 0$ 이면 $ y = w_1 + w_4 x_2 $\n",
    "* $x_1 = B$, 즉, $d_1 = 0, d_2 = 1, d_3 = 0$ 이면 $ y = w_2 + w_4 x_2 $\n",
    "* $x_1 = C$, 즉, $d_1 = 0, d_2 = 0, d_3 = 1$ 이면 $ y = w_3 + w_4 x_2 $\n",
    "\n",
    "따라서 $x_2$에 의한 영향은 모두 공통이고 $x_1$에 의한 영향만 다른 세 개의 모형을 동시에 회귀분석하는 것과 같다.\n",
    "\n",
    "### 더미 변수의 예 3\n",
    "\n",
    "이번에는 $x_2$에 의한 영향이 공통적이지 않는 모형을 만들어 보자. 이를 위해서는 $x_1$과 $x_2$의 곱, 즉 상호작용(interaction) 항이 필요하다.\n",
    "\n",
    "\n",
    "$$ y = w_1 d_1 + w_2 d_2 + w_3 d_3 + w_4 x_2 + w_5 d_1 x_2 + w_6 d_2 x_2 + w_7 d_3 x_2 $$\n",
    "\n",
    "* $x_1 = A$, 즉, $d_1 = 1, d_2 = 0, d_3 = 0$ 이면 $ y = w_1 + (w_4 + w_5)x_2 $\n",
    "* $x_1 = B$, 즉, $d_1 = 0, d_2 = 1, d_3 = 0$ 이면 $ y = w_2 + (w_4 + w_6) x_2 $\n",
    "* $x_1 = C$, 즉, $d_1 = 0, d_2 = 0, d_3 = 1$ 이면 $ y = w_3 + (w_4 + w_7) x_2 $"
   ]
  },
  {
   "cell_type": "markdown",
   "metadata": {},
   "source": [
    "**카테고리값은 원래 변수 하나이지만 실제 회귀분석시에는 여러개의 변수로 증폭이 된다. 갯수는 카테고리의 클래스 수만큼 증폭이 된다.**"
   ]
  },
  {
   "cell_type": "markdown",
   "metadata": {},
   "source": [
    "## 카테고리 데이터 분석의 예\n",
    "\n",
    "다음과 같은 월별 기온 데이터에 대해 회귀분석을 하자. 결과는 각 월에 대한 평균 기온이 된다."
   ]
  },
  {
   "cell_type": "code",
   "execution_count": 51,
   "metadata": {
    "collapsed": true
   },
   "outputs": [],
   "source": [
    "df = sm.datasets.get_rdataset(\"nottem\").data"
   ]
  },
  {
   "cell_type": "code",
   "execution_count": 52,
   "metadata": {},
   "outputs": [
    {
     "data": {
      "text/html": [
       "<div>\n",
       "<style>\n",
       "    .dataframe thead tr:only-child th {\n",
       "        text-align: right;\n",
       "    }\n",
       "\n",
       "    .dataframe thead th {\n",
       "        text-align: left;\n",
       "    }\n",
       "\n",
       "    .dataframe tbody tr th {\n",
       "        vertical-align: top;\n",
       "    }\n",
       "</style>\n",
       "<table border=\"1\" class=\"dataframe\">\n",
       "  <thead>\n",
       "    <tr style=\"text-align: right;\">\n",
       "      <th></th>\n",
       "      <th>time</th>\n",
       "      <th>nottem</th>\n",
       "      <th>month</th>\n",
       "    </tr>\n",
       "  </thead>\n",
       "  <tbody>\n",
       "    <tr>\n",
       "      <th>235</th>\n",
       "      <td>1939.583333</td>\n",
       "      <td>61.8</td>\n",
       "      <td>08</td>\n",
       "    </tr>\n",
       "    <tr>\n",
       "      <th>236</th>\n",
       "      <td>1939.666667</td>\n",
       "      <td>58.2</td>\n",
       "      <td>09</td>\n",
       "    </tr>\n",
       "    <tr>\n",
       "      <th>237</th>\n",
       "      <td>1939.750000</td>\n",
       "      <td>46.7</td>\n",
       "      <td>10</td>\n",
       "    </tr>\n",
       "    <tr>\n",
       "      <th>238</th>\n",
       "      <td>1939.833333</td>\n",
       "      <td>46.6</td>\n",
       "      <td>11</td>\n",
       "    </tr>\n",
       "    <tr>\n",
       "      <th>239</th>\n",
       "      <td>1939.916667</td>\n",
       "      <td>37.8</td>\n",
       "      <td>12</td>\n",
       "    </tr>\n",
       "  </tbody>\n",
       "</table>\n",
       "</div>"
      ],
      "text/plain": [
       "            time  nottem month\n",
       "235  1939.583333    61.8    08\n",
       "236  1939.666667    58.2    09\n",
       "237  1939.750000    46.7    10\n",
       "238  1939.833333    46.6    11\n",
       "239  1939.916667    37.8    12"
      ]
     },
     "execution_count": 52,
     "metadata": {},
     "output_type": "execute_result"
    }
   ],
   "source": [
    "import datetime\n",
    "from calendar import isleap\n",
    "\n",
    "def convert_partial_year(number):\n",
    "    year = int(number)\n",
    "    d = datetime.timedelta(days=(number - year) * (365 + isleap(year)))\n",
    "    day_one = datetime.datetime(year, 1, 1)\n",
    "    date = d + day_one\n",
    "    return date\n",
    "\n",
    "df[\"date0\"] = df[[\"time\"]].applymap(convert_partial_year)\n",
    "df[\"date\"] = pd.DatetimeIndex(df[\"date0\"]).round('60min') + datetime.timedelta(seconds=3600*24) \n",
    "df[\"month\"] = df[\"date\"].dt.strftime(\"%m\").astype('category')\n",
    "del df[\"date0\"], df[\"date\"]\n",
    "df.tail()"
   ]
  },
  {
   "cell_type": "code",
   "execution_count": 56,
   "metadata": {},
   "outputs": [
    {
     "data": {
      "image/png": "[encoded data removed]",
      "text/plain": [
       "<matplotlib.figure.Figure at 0x7fe2606586a0>"
      ]
     },
     "metadata": {},
     "output_type": "display_data"
    }
   ],
   "source": [
    "df.boxplot(\"nottem\", \"month\")\n",
    "plt.show()"
   ]
  },
  {
   "cell_type": "code",
   "execution_count": 57,
   "metadata": {},
   "outputs": [
    {
     "data": {
      "image/png": "[encoded data removed]",
      "text/plain": [
       "<matplotlib.figure.Figure at 0x7fe25f9c1208>"
      ]
     },
     "metadata": {},
     "output_type": "display_data"
    }
   ],
   "source": [
    "sns.stripplot(x=\"month\", y=\"nottem\", data=df, jitter=True, alpha=.3)\n",
    "sns.pointplot(x=\"month\", y=\"nottem\", data=df, dodge=True, color='r')\n",
    "plt.show()"
   ]
  },
  {
   "cell_type": "code",
   "execution_count": 65,
   "metadata": {
    "scrolled": false
   },
   "outputs": [
    {
     "name": "stdout",
     "output_type": "stream",
     "text": [
      "                            OLS Regression Results                            \n",
      "==============================================================================\n",
      "Dep. Variable:                 nottem   R-squared:                       0.930\n",
      "Model:                            OLS   Adj. R-squared:                  0.927\n",
      "Method:                 Least Squares   F-statistic:                     277.3\n",
      "Date:                Tue, 27 Jun 2017   Prob (F-statistic):          2.96e-125\n",
      "Time:                        14:42:45   Log-Likelihood:                -535.82\n",
      "No. Observations:                 240   AIC:                             1096.\n",
      "Df Residuals:                     228   BIC:                             1137.\n",
      "Df Model:                          11                                         \n",
      "Covariance Type:            nonrobust                                         \n",
      "================================================================================\n",
      "                   coef    std err          t      P>|t|      [0.025      0.975]\n",
      "--------------------------------------------------------------------------------\n",
      "C(month)[01]    39.6950      0.518     76.691      0.000      38.675      40.715\n",
      "C(month)[02]    39.1900      0.518     75.716      0.000      38.170      40.210\n",
      "C(month)[03]    42.1950      0.518     81.521      0.000      41.175      43.215\n",
      "C(month)[04]    46.2900      0.518     89.433      0.000      45.270      47.310\n",
      "C(month)[05]    52.5600      0.518    101.547      0.000      51.540      53.580\n",
      "C(month)[06]    58.0400      0.518    112.134      0.000      57.020      59.060\n",
      "C(month)[07]    61.9000      0.518    119.592      0.000      60.880      62.920\n",
      "C(month)[08]    60.5200      0.518    116.926      0.000      59.500      61.540\n",
      "C(month)[09]    56.4800      0.518    109.120      0.000      55.460      57.500\n",
      "C(month)[10]    49.4950      0.518     95.625      0.000      48.475      50.515\n",
      "C(month)[11]    42.5800      0.518     82.265      0.000      41.560      43.600\n",
      "C(month)[12]    39.5300      0.518     76.373      0.000      38.510      40.550\n",
      "==============================================================================\n",
      "Omnibus:                        5.430   Durbin-Watson:                   1.529\n",
      "Prob(Omnibus):                  0.066   Jarque-Bera (JB):                5.299\n",
      "Skew:                          -0.281   Prob(JB):                       0.0707\n",
      "Kurtosis:                       3.463   Cond. No.                         1.00\n",
      "==============================================================================\n",
      "\n",
      "Warnings:\n",
      "[1] Standard Errors assume that the covariance matrix of the errors is correctly specified.\n"
     ]
    }
   ],
   "source": [
    "model = OLS.from_formula(\"nottem ~ C(month) + 0\", df)\n",
    "result = model.fit()\n",
    "print(result.summary())"
   ]
  },
  {
   "cell_type": "markdown",
   "metadata": {},
   "source": [
    "coef결과는 month로 groupby한 후의 평균과 같다."
   ]
  },
  {
   "cell_type": "code",
   "execution_count": 67,
   "metadata": {},
   "outputs": [
    {
     "data": {
      "text/html": [
       "<div>\n",
       "<style>\n",
       "    .dataframe thead tr:only-child th {\n",
       "        text-align: right;\n",
       "    }\n",
       "\n",
       "    .dataframe thead th {\n",
       "        text-align: left;\n",
       "    }\n",
       "\n",
       "    .dataframe tbody tr th {\n",
       "        vertical-align: top;\n",
       "    }\n",
       "</style>\n",
       "<table border=\"1\" class=\"dataframe\">\n",
       "  <thead>\n",
       "    <tr style=\"text-align: right;\">\n",
       "      <th></th>\n",
       "      <th>time</th>\n",
       "      <th>nottem</th>\n",
       "    </tr>\n",
       "    <tr>\n",
       "      <th>month</th>\n",
       "      <th></th>\n",
       "      <th></th>\n",
       "    </tr>\n",
       "  </thead>\n",
       "  <tbody>\n",
       "    <tr>\n",
       "      <th>01</th>\n",
       "      <td>1929.500000</td>\n",
       "      <td>39.695</td>\n",
       "    </tr>\n",
       "    <tr>\n",
       "      <th>02</th>\n",
       "      <td>1929.583333</td>\n",
       "      <td>39.190</td>\n",
       "    </tr>\n",
       "    <tr>\n",
       "      <th>03</th>\n",
       "      <td>1929.666667</td>\n",
       "      <td>42.195</td>\n",
       "    </tr>\n",
       "    <tr>\n",
       "      <th>04</th>\n",
       "      <td>1929.750000</td>\n",
       "      <td>46.290</td>\n",
       "    </tr>\n",
       "    <tr>\n",
       "      <th>05</th>\n",
       "      <td>1929.833333</td>\n",
       "      <td>52.560</td>\n",
       "    </tr>\n",
       "    <tr>\n",
       "      <th>06</th>\n",
       "      <td>1929.916667</td>\n",
       "      <td>58.040</td>\n",
       "    </tr>\n",
       "    <tr>\n",
       "      <th>07</th>\n",
       "      <td>1930.000000</td>\n",
       "      <td>61.900</td>\n",
       "    </tr>\n",
       "    <tr>\n",
       "      <th>08</th>\n",
       "      <td>1930.083333</td>\n",
       "      <td>60.520</td>\n",
       "    </tr>\n",
       "    <tr>\n",
       "      <th>09</th>\n",
       "      <td>1930.166667</td>\n",
       "      <td>56.480</td>\n",
       "    </tr>\n",
       "    <tr>\n",
       "      <th>10</th>\n",
       "      <td>1930.250000</td>\n",
       "      <td>49.495</td>\n",
       "    </tr>\n",
       "    <tr>\n",
       "      <th>11</th>\n",
       "      <td>1930.333333</td>\n",
       "      <td>42.580</td>\n",
       "    </tr>\n",
       "    <tr>\n",
       "      <th>12</th>\n",
       "      <td>1930.416667</td>\n",
       "      <td>39.530</td>\n",
       "    </tr>\n",
       "  </tbody>\n",
       "</table>\n",
       "</div>"
      ],
      "text/plain": [
       "              time  nottem\n",
       "month                     \n",
       "01     1929.500000  39.695\n",
       "02     1929.583333  39.190\n",
       "03     1929.666667  42.195\n",
       "04     1929.750000  46.290\n",
       "05     1929.833333  52.560\n",
       "06     1929.916667  58.040\n",
       "07     1930.000000  61.900\n",
       "08     1930.083333  60.520\n",
       "09     1930.166667  56.480\n",
       "10     1930.250000  49.495\n",
       "11     1930.333333  42.580\n",
       "12     1930.416667  39.530"
      ]
     },
     "execution_count": 67,
     "metadata": {},
     "output_type": "execute_result"
    }
   ],
   "source": [
    "df.groupby(\"month\").mean()"
   ]
  },
  {
   "cell_type": "markdown",
   "metadata": {},
   "source": [
    "# 분산 분석\n",
    "\n",
    "선형회귀분석의 결과가 얼마나 좋은지는 단순히 잔차제곱합(RSS: Residula Sum of Square)으로 평가할 수 없다. 변수의 단위 즉, 스케일이 달라지면 회귀분석과 상관없이 잔차제곱합도 달라지기 때문이다.\n",
    "\n",
    "분산 분석(ANOVA: Analysis of Variance)은 종속변수의 분산과 독립변수의 분산간의 관계를 사용하여 선형회귀분석의 성능을 평가하고자 하는 방법이다. 분산 분석은 서로 다른 두 개의 선형회귀분석의 성능 비교에 응용할 수 있으며 독립변수가 카테고리 변수인 경우 각 카테고리 값에 따른 영향을 정량적으로 분석하는데도 사용된다.\n",
    "\n",
    "## 분산\n",
    "\n",
    "$\\bar{y}$를 종속 변수 $y$의 샘플 평균이라고 하자.\n",
    "\n",
    "$$\\bar{y}=\\frac{1}{N}\\sum_{i=1}^N y_i $$\n",
    "\n",
    "종속 변수의 분산(샘플의 갯수로 나누지 않았으므로 정확하게는 분산이 아니지만 여기에서는 분산이라는 용어를 사용하자)을 나타내는 TSS(total sum of square)라는 값을 정의한다.\n",
    "\n",
    "$$\\text{TSS} = \\sum_i (y_i-\\bar{y})^2 = (y - \\bar{y})^T(y - \\bar{y} )$$\n",
    "\n",
    "**TSS는 종속변수값의 움직임의 범위**를 나타낸다.\n",
    "\n",
    "\n",
    "마찬가지로 회귀 분석에 의해 예측한 종속 변수의 분산을 나타내는 ESS(explained sum of squares),\n",
    "\n",
    "$$\\text{ESS}=\\sum_i (\\hat{y}_i -\\bar{\\hat{y}})^2 = (\\hat{y} - \\bar{\\hat{y}})^T(\\hat{y} - \\bar{\\hat{y}})$$\n",
    "\n",
    "오차의 분산을 나타내는 RSS(residual sum of squares)도 정의할 수 있다.\n",
    "\n",
    "$$\\text{RSS}=\\sum_i (y_i - \\hat{y}_i)^2\\ = e^Te$$\n",
    "\n",
    "위 식에서 $\\bar{\\hat{y}}$는 모형 예측값의 평균이다.\n",
    "\n",
    "또한 **ESS는 모형에서 나온 예측값의 움직임의 범위**, **RSS는 잔차의 움직임의 범위, 즉 오차의 크기**를 뜻한다고 볼 수 있다.\n",
    "\n",
    "만약 회귀모형이 올바르게 정의되었다면 잔차의 평균이 0이 된다. 즉, 종속변수의 평균과 모형 예측값의 평균이 같아진다.\n",
    "\n",
    "$$ \\bar{e} = \\bar{y} - \\bar{\\hat{y}} = 0$$\n",
    "\n",
    "$$ \\bar{y} = \\bar{\\hat{y}} $$\n",
    "\n",
    "그리고 이 분산값들 간에는 다음과 같은 관계가 성립한다. \n",
    "\n",
    "$$\\text{TSS} = \\text{ESS} + \\text{RSS}$$\n",
    "\n",
    "이는 다음과 같이 증명할 수 있다.\n",
    "\n",
    "우선 회귀 분석으로 구한 가중치 벡터를 $\\hat{w}$, 독립 변수(설명 변수) $x$에 의한 종속 변수의 추정값을 $\\hat{y}$, 잔차를 $e$ 라고 하면 다음 식이 성립한다.\n",
    "\n",
    "$$ y = X\\hat{w} + e = \\hat{y} + e $$\n",
    "\n",
    "따라서\n",
    "\n",
    "$$\n",
    "y - \\bar{y} = \\hat{y} - \\bar{y} + e_i = (X- \\bar{X})\\hat{w} + e\n",
    "$$\n",
    "\n",
    "여기에서 $\\bar{X}$는 각 열이 $X$의 해당 열의 평균인 행렬이다.\n",
    "\n",
    "\n",
    "이 식에 나온 $X,\\bar{X}$와 잔차 $e$는 다음과 같은 직교 관계가 성립한다. \n",
    "\n",
    "$$ X^Te = \\bar{X}^Te = 0 $$\n",
    "\n",
    "이 식들을 정리하면 다음과 같다.\n",
    "\n",
    "\n",
    "$$\n",
    "\\begin{eqnarray}\n",
    "\\text{TSS} \n",
    "&=& (y - \\bar{y})^T(y - \\bar{y} ) \\\\\n",
    "&=& (\\hat{y} - \\bar{y} + e)^T(\\hat{y} - \\bar{y} + e) \\\\\n",
    "&=& (\\hat{y} - \\bar{y})^T(\\hat{y} - \\bar{y}) + e^Te + 2(\\hat{y} - \\bar{y})^Te \\\\\n",
    "&=& (\\hat{y} - \\bar{y})^T(\\hat{y} - \\bar{y}) + e^Te + 2\\hat{w}^T(X - \\bar{X})^Te \\\\\n",
    "&=& (\\hat{y} - \\bar{y})^T(\\hat{y} - \\bar{y}) + e^Te \\\\\n",
    "&=& \\text{ESS} + \\text{RSS}\n",
    "\\end{eqnarray}\n",
    "$$\n",
    "\n",
    "\n",
    "위 식이 말하는 바는 다음과 같다.\n",
    "\n",
    "> 모형 예측치의 움직임의 크기(분산)은 종속변수의 움직임의 크기(분산)보다 클 수 없다.\n",
    "\n",
    "> 모형의 성능이 좋을수록 모형 예측치의 움직임의 크기는 종속변수의 움직임의 크기와 비슷해진다.\n",
    "\n",
    "간단한 1차원 데이터와 모형을 사용하여 이 식이 성립하는지 살펴보자."
   ]
  },
  {
   "cell_type": "code",
   "execution_count": 72,
   "metadata": {},
   "outputs": [],
   "source": [
    "from sklearn.datasets import make_regression\n",
    "\n",
    "X0, y, coef = make_regression(n_samples=100, n_features=1, noise=30, coef=True, random_state=0)\n",
    "dfX0 = pd.DataFrame(X0, columns=[\"X\"])\n",
    "dfX = add_constant(dfX0)\n",
    "dfy = pd.DataFrame(y, columns=[\"Y\"])\n",
    "df = pd.concat([dfX, dfy], axis=1)\n",
    "\n",
    "model = OLS.from_formula(\"Y ~ X\", data=df)\n",
    "result = model.fit()"
   ]
  },
  {
   "cell_type": "code",
   "execution_count": 73,
   "metadata": {
    "scrolled": true
   },
   "outputs": [
    {
     "name": "stdout",
     "output_type": "stream",
     "text": [
      "TSS =  291345.757898\n",
      "ESS =  188589.613492\n",
      "RSS =  102754.337551\n",
      "ESS + RSS =  291343.951043\n",
      "R squared =  0.647309178092\n"
     ]
    }
   ],
   "source": [
    "print(\"TSS = \", result.uncentered_tss)\n",
    "print(\"ESS = \", result.mse_model)\n",
    "print(\"RSS = \", result.ssr)\n",
    "print(\"ESS + RSS = \", result.mse_model + result.ssr)\n",
    "print(\"R squared = \", result.rsquared)"
   ]
  },
  {
   "cell_type": "code",
   "execution_count": 80,
   "metadata": {},
   "outputs": [
    {
     "data": {
      "text/plain": [
       "['HC0_se',\n",
       " 'HC1_se',\n",
       " 'HC2_se',\n",
       " 'HC3_se',\n",
       " '_HCCM',\n",
       " '__class__',\n",
       " '__delattr__',\n",
       " '__dict__',\n",
       " '__dir__',\n",
       " '__doc__',\n",
       " '__eq__',\n",
       " '__format__',\n",
       " '__ge__',\n",
       " '__getattribute__',\n",
       " '__gt__',\n",
       " '__hash__',\n",
       " '__init__',\n",
       " '__init_subclass__',\n",
       " '__le__',\n",
       " '__lt__',\n",
       " '__module__',\n",
       " '__ne__',\n",
       " '__new__',\n",
       " '__reduce__',\n",
       " '__reduce_ex__',\n",
       " '__repr__',\n",
       " '__setattr__',\n",
       " '__sizeof__',\n",
       " '__str__',\n",
       " '__subclasshook__',\n",
       " '__weakref__',\n",
       " '_cache',\n",
       " '_data_attr',\n",
       " '_get_robustcov_results',\n",
       " '_is_nested',\n",
       " '_wexog_singular_values',\n",
       " 'aic',\n",
       " 'bic',\n",
       " 'bse',\n",
       " 'centered_tss',\n",
       " 'compare_f_test',\n",
       " 'compare_lm_test',\n",
       " 'compare_lr_test',\n",
       " 'condition_number',\n",
       " 'conf_int',\n",
       " 'conf_int_el',\n",
       " 'cov_HC0',\n",
       " 'cov_HC1',\n",
       " 'cov_HC2',\n",
       " 'cov_HC3',\n",
       " 'cov_kwds',\n",
       " 'cov_params',\n",
       " 'cov_type',\n",
       " 'df_model',\n",
       " 'df_resid',\n",
       " 'diagn',\n",
       " 'eigenvals',\n",
       " 'el_test',\n",
       " 'ess',\n",
       " 'f_pvalue',\n",
       " 'f_test',\n",
       " 'fittedvalues',\n",
       " 'fvalue',\n",
       " 'get_influence',\n",
       " 'get_prediction',\n",
       " 'get_robustcov_results',\n",
       " 'initialize',\n",
       " 'k_constant',\n",
       " 'llf',\n",
       " 'load',\n",
       " 'model',\n",
       " 'mse_model',\n",
       " 'mse_resid',\n",
       " 'mse_total',\n",
       " 'nobs',\n",
       " 'normalized_cov_params',\n",
       " 'outlier_test',\n",
       " 'params',\n",
       " 'predict',\n",
       " 'pvalues',\n",
       " 'remove_data',\n",
       " 'resid',\n",
       " 'resid_pearson',\n",
       " 'rsquared',\n",
       " 'rsquared_adj',\n",
       " 'save',\n",
       " 'scale',\n",
       " 'ssr',\n",
       " 'summary',\n",
       " 'summary2',\n",
       " 't_test',\n",
       " 'tvalues',\n",
       " 'uncentered_tss',\n",
       " 'use_t',\n",
       " 'wald_test',\n",
       " 'wald_test_terms',\n",
       " 'wresid']"
      ]
     },
     "execution_count": 80,
     "metadata": {},
     "output_type": "execute_result"
    }
   ],
   "source": [
    "dir(result)"
   ]
  },
  {
   "cell_type": "code",
   "execution_count": 75,
   "metadata": {},
   "outputs": [
    {
     "data": {
      "image/png": "[encoded data removed]",
      "text/plain": [
       "<matplotlib.figure.Figure at 0x7fe25fdcebe0>"
      ]
     },
     "metadata": {},
     "output_type": "display_data"
    }
   ],
   "source": [
    "import scipy as sp\n",
    "sns.distplot(y, \n",
    "             kde=False, fit=sp.stats.norm, hist_kws={\"color\": \"r\", \"alpha\": 0.2}, fit_kws={\"color\": \"r\"}, \n",
    "             label=\"TSS\")\n",
    "sns.distplot(result.fittedvalues, \n",
    "             kde=False, hist_kws={\"color\": \"g\", \"alpha\": 0.2}, fit=sp.stats.norm, fit_kws={\"color\": \"g\"}, \n",
    "             label=\"ESS\")\n",
    "sns.distplot(result.resid, \n",
    "             kde=False, hist_kws={\"color\": \"b\", \"alpha\": 0.2}, fit=sp.stats.norm, fit_kws={\"color\": \"b\"}, \n",
    "             label=\"RSS\")\n",
    "plt.legend()\n",
    "plt.show()"
   ]
  },
  {
   "cell_type": "markdown",
   "metadata": {},
   "source": [
    "## 결정계수(Coefficient of Determination)\n",
    "\n",
    "위의 분산 관계식에서 모형의 성능을 나타내는 결정계수(Coefficient of Determination) $R^2$를 정의할 수 있다.\n",
    "\n",
    "$$R^2 \\equiv 1 - \\dfrac{\\text{RSS}}{\\text{TSS}}\\ = \\dfrac{\\text{ESS}}{\\text{TSS}}\\ $$\n",
    "\n",
    "분산 관계식과 모든 분산값이 0보다 크다는 점을 이용하면 $R^2$의 값은 다음과 같은 조건을 만족함을 알 수 있다.\n",
    "\n",
    "$$0 \\leq R^2  \\leq 1$$\n",
    "\n",
    "여기에서 $R^2$가 0이라는 것은 오차의 분산 RSS가 최대이고 회귀분석 예측값의 분산 ESS가 0인 경우이므로 회귀분석 결과가 아무런 의미가 없다는 뜻이다.\n",
    "반대로 $R^2$가 1이라는 것은 오차의 분산 RSS가 0이고 회귀분석 예측의 분산 ESS가 TSS와 같은 경우이므로 회귀분석 결과가 완벽하다는 뜻이다.\n",
    "따라서 결정계수값은 회귀분석의 성능을 나타내는 수치라고 할 수 있다."
   ]
  },
  {
   "cell_type": "markdown",
   "metadata": {},
   "source": [
    "## 분산 분석표\n",
    "\n",
    "분산 분석의 결과는 보통 다음과 같은 분산 분석표를 사용하여 표시한다. 아래의 표에서 $N$은 데이터의 갯수, $K$는 모수의 갯수를 뜻한다.\n",
    "\n",
    "\n",
    "| source | degree of freedom | sum of square | mean square  | F test-statstics | p-value |\n",
    "|-|-|-|-|-|-|\n",
    "| Regression| $$K-1$$ | $$\\text{ESS}$$ | $$s_{\\hat{y}}^2 = \\dfrac{\\text{ESS}}{K-1}$$   | $$F=\\dfrac{s_{\\hat{y}}^2}{s_e^2} $$ | p-value |\n",
    "| Residual | $$N-K$$  | $$\\text{RSS}$$  | $$s_e^2= \\dfrac{\\text{RSS}}{N-K}$$ | |\n",
    "| Total     | $$N-1$$  | $$\\text{TSS}$$ | $$s_y^2= \\dfrac{\\text{TSS}}{N-1}$$ | |\n",
    "| $R^2$   |    |  $$\\text{ESS} / \\text{TSS}$$ |  | |\n"
   ]
  },
  {
   "cell_type": "markdown",
   "metadata": {},
   "source": [
    "## 회귀 분석 F-검정과 분산 분석의 관계\n",
    "\n",
    "이러한 모양의 표를 사용하는 이유는 분산 분석의 결과를 이용하여 회귀 분석 F-검정에 필요한 검정통계량을 구할 수 있기 때문이다. \n",
    "\n",
    "회귀 분석 F-검정의 원래 귀무 가설은 모든 계수 $w_i$가 $0$ 이라는 것이지만 이 때는 모형이 아무런 의미가 없으므로 결정계수 값도 0이 된다 \n",
    "\n",
    "$$ H_0: R^2 = 0 $$\n",
    "\n",
    "이 때 다음 수식의 결과는 F 분포를 따른다. 따라서 이 값을 회귀 분석 F-검정의 검정통계량으로 사용할 수 있다.\n",
    "\n",
    "$$ \\dfrac{\\text{ESS}}{K-1} \\div  \\dfrac{\\text{RSS}}{N-K} = \\dfrac{R^2/(K-1)}{(1-R^2)/(N-K)} \\sim F(K-1, N-K) $$\n",
    "\n",
    "statsmodels 에서는 다음과 같이 `anova_lm` 명령을 사용하여 분산 분석표를 출력할 수 있다. 다만 이 명령을 사용하기 위해서는 모형을 `from_formula` 메서드로 생성하여야 한다.\n",
    "\n",
    "`anova_lm` 명령으로 구한 F 검정통계량과 유의확률은 모형 `summary` 명령으로 구한 `F-statistic` 및 `Prob (F-statistic)`과 일치한다."
   ]
  },
  {
   "cell_type": "code",
   "execution_count": 78,
   "metadata": {},
   "outputs": [
    {
     "name": "stderr",
     "output_type": "stream",
     "text": [
      "/home/jihoon_kim/anaconda3/lib/python3.6/site-packages/scipy/stats/_distn_infrastructure.py:879: RuntimeWarning: invalid value encountered in greater\n",
      "  return (self.a < x) & (x < self.b)\n",
      "/home/jihoon_kim/anaconda3/lib/python3.6/site-packages/scipy/stats/_distn_infrastructure.py:879: RuntimeWarning: invalid value encountered in less\n",
      "  return (self.a < x) & (x < self.b)\n",
      "/home/jihoon_kim/anaconda3/lib/python3.6/site-packages/scipy/stats/_distn_infrastructure.py:1818: RuntimeWarning: invalid value encountered in less_equal\n",
      "  cond2 = cond0 & (x <= self.a)\n"
     ]
    },
    {
     "data": {
      "text/html": [
       "<div>\n",
       "<style>\n",
       "    .dataframe thead tr:only-child th {\n",
       "        text-align: right;\n",
       "    }\n",
       "\n",
       "    .dataframe thead th {\n",
       "        text-align: left;\n",
       "    }\n",
       "\n",
       "    .dataframe tbody tr th {\n",
       "        vertical-align: top;\n",
       "    }\n",
       "</style>\n",
       "<table border=\"1\" class=\"dataframe\">\n",
       "  <thead>\n",
       "    <tr style=\"text-align: right;\">\n",
       "      <th></th>\n",
       "      <th>df</th>\n",
       "      <th>sum_sq</th>\n",
       "      <th>mean_sq</th>\n",
       "      <th>F</th>\n",
       "      <th>PR(&gt;F)</th>\n",
       "    </tr>\n",
       "  </thead>\n",
       "  <tbody>\n",
       "    <tr>\n",
       "      <th>X</th>\n",
       "      <td>1.0</td>\n",
       "      <td>188589.613492</td>\n",
       "      <td>188589.613492</td>\n",
       "      <td>179.863766</td>\n",
       "      <td>6.601482e-24</td>\n",
       "    </tr>\n",
       "    <tr>\n",
       "      <th>Residual</th>\n",
       "      <td>98.0</td>\n",
       "      <td>102754.337551</td>\n",
       "      <td>1048.513648</td>\n",
       "      <td>NaN</td>\n",
       "      <td>NaN</td>\n",
       "    </tr>\n",
       "  </tbody>\n",
       "</table>\n",
       "</div>"
      ],
      "text/plain": [
       "            df         sum_sq        mean_sq           F        PR(>F)\n",
       "X          1.0  188589.613492  188589.613492  179.863766  6.601482e-24\n",
       "Residual  98.0  102754.337551    1048.513648         NaN           NaN"
      ]
     },
     "execution_count": 78,
     "metadata": {},
     "output_type": "execute_result"
    }
   ],
   "source": [
    "from statsmodels.stats.anova import anova_lm\n",
    "anova_lm(result)"
   ]
  },
  {
   "cell_type": "code",
   "execution_count": 79,
   "metadata": {},
   "outputs": [
    {
     "name": "stdout",
     "output_type": "stream",
     "text": [
      "                            OLS Regression Results                            \n",
      "==============================================================================\n",
      "Dep. Variable:                      Y   R-squared:                       0.647\n",
      "Model:                            OLS   Adj. R-squared:                  0.644\n",
      "Method:                 Least Squares   F-statistic:                     179.9\n",
      "Date:                Tue, 27 Jun 2017   Prob (F-statistic):           6.60e-24\n",
      "Time:                        15:38:10   Log-Likelihood:                -488.64\n",
      "No. Observations:                 100   AIC:                             981.3\n",
      "Df Residuals:                      98   BIC:                             986.5\n",
      "Df Model:                           1                                         \n",
      "Covariance Type:            nonrobust                                         \n",
      "==============================================================================\n",
      "                 coef    std err          t      P>|t|      [0.025      0.975]\n",
      "------------------------------------------------------------------------------\n",
      "Intercept     -2.4425      3.244     -0.753      0.453      -8.880       3.995\n",
      "X             43.0873      3.213     13.411      0.000      36.712      49.463\n",
      "==============================================================================\n",
      "Omnibus:                        3.523   Durbin-Watson:                   1.984\n",
      "Prob(Omnibus):                  0.172   Jarque-Bera (JB):                2.059\n",
      "Skew:                          -0.073   Prob(JB):                        0.357\n",
      "Kurtosis:                       2.312   Cond. No.                         1.06\n",
      "==============================================================================\n",
      "\n",
      "Warnings:\n",
      "[1] Standard Errors assume that the covariance matrix of the errors is correctly specified.\n"
     ]
    }
   ],
   "source": [
    "print(result.summary())"
   ]
  },
  {
   "cell_type": "markdown",
   "metadata": {},
   "source": [
    "## 상수항이 없는 모형의 경우\n",
    "\n",
    "모형에서 상수항을 지정하지 않은 경우에는 결정계수의 정의에 사용되는 TSS의 정의가 다음과 같이 달라진다.\n",
    "\n",
    "$$\\text{TSS} = \\sum_i y_i^2 = y^Ty $$\n",
    "\n",
    "즉, 실제 샘플평균과 상관없이 $\\bar{y} = $이라는 가정하에 TSS를 계산한다. 이렇게 정의하지 않으면 TSS = RSS + ESS 관계식이 성립하지 않아서 결정계수의 값이 1보다 커지게 된다.\n",
    "\n",
    "따라서 모형의 결정계수를 비교할 때 **상수항이 없는 모형과 상수항이 있는 모형은 직접 비교하면 안된다.**"
   ]
  },
  {
   "cell_type": "code",
   "execution_count": 82,
   "metadata": {},
   "outputs": [],
   "source": [
    "X0, y, coef = make_regression(n_samples=100, n_features=1, noise=30, bias=100, coef=True, random_state=0)\n",
    "dfX = pd.DataFrame(X0, columns=[\"X\"])\n",
    "dfy = pd.DataFrame(y, columns=[\"Y\"])\n",
    "df = pd.concat([dfX, dfy], axis=1)\n",
    "\n",
    "model2 = OLS.from_formula(\"Y ~ X + 0\", data=df)\n",
    "result2 = model2.fit()"
   ]
  },
  {
   "cell_type": "code",
   "execution_count": 97,
   "metadata": {},
   "outputs": [
    {
     "data": {
      "text/plain": [
       "0.18768724705943896"
      ]
     },
     "execution_count": 97,
     "metadata": {},
     "output_type": "execute_result"
    }
   ],
   "source": [
    "result2.rsquared"
   ]
  },
  {
   "cell_type": "markdown",
   "metadata": {},
   "source": [
    "상수항이 있는 경우와 없는 경우는 직접 비교가 불가능하다."
   ]
  },
  {
   "cell_type": "markdown",
   "metadata": {},
   "source": [
    "## F 검정을 이용한 모형 비교\n",
    "\n",
    "F 검정을 이용하면 다음과 같이 포함관계(nesting)에 있는 두 모형의 성능을 비교할 수 있다. \n",
    "\n",
    "* Full Model: $$ y = w_0 + w_1 x_1 + w_2 x_2 + w_3 x_3 $$\n",
    "* Reduced Model: $$ y = w_0 + w_1 x_1 $$\n",
    "\n",
    "\n",
    "이 두 모형에 대해 F 검정을 실시하는 것은 다음과 같은 귀무 가설을 검정하는 것과 같다.\n",
    "\n",
    "$$ H_0: w_2 = w_3 = 0 $$"
   ]
  },
  {
   "cell_type": "code",
   "execution_count": 85,
   "metadata": {},
   "outputs": [],
   "source": [
    "from sklearn.datasets import load_boston\n",
    "\n",
    "boston = load_boston()\n",
    "dfX0_boston = pd.DataFrame(boston.data, columns=boston.feature_names)\n",
    "dfy_boston = pd.DataFrame(boston.target, columns=[\"MEDV\"])\n",
    "dfX_boston = add_constant(dfX0_boston)\n",
    "df_bosto                                                                                                                        n = pd.concat([dfX_boston, dfy_boston], axis=1)"
   ]
  },
  {
   "cell_type": "code",
   "execution_count": 87,
   "metadata": {},
   "outputs": [
    {
     "name": "stderr",
     "output_type": "stream",
     "text": [
      "/home/jihoon_kim/anaconda3/lib/python3.6/site-packages/scipy/stats/_distn_infrastructure.py:879: RuntimeWarning: invalid value encountered in greater\n",
      "  return (self.a < x) & (x < self.b)\n",
      "/home/jihoon_kim/anaconda3/lib/python3.6/site-packages/scipy/stats/_distn_infrastructure.py:879: RuntimeWarning: invalid value encountered in less\n",
      "  return (self.a < x) & (x < self.b)\n",
      "/home/jihoon_kim/anaconda3/lib/python3.6/site-packages/scipy/stats/_distn_infrastructure.py:1818: RuntimeWarning: invalid value encountered in less_equal\n",
      "  cond2 = cond0 & (x <= self.a)\n"
     ]
    },
    {
     "data": {
      "text/html": [
       "<div>\n",
       "<style>\n",
       "    .dataframe thead tr:only-child th {\n",
       "        text-align: right;\n",
       "    }\n",
       "\n",
       "    .dataframe thead th {\n",
       "        text-align: left;\n",
       "    }\n",
       "\n",
       "    .dataframe tbody tr th {\n",
       "        vertical-align: top;\n",
       "    }\n",
       "</style>\n",
       "<table border=\"1\" class=\"dataframe\">\n",
       "  <thead>\n",
       "    <tr style=\"text-align: right;\">\n",
       "      <th></th>\n",
       "      <th>df_resid</th>\n",
       "      <th>ssr</th>\n",
       "      <th>df_diff</th>\n",
       "      <th>ss_diff</th>\n",
       "      <th>F</th>\n",
       "      <th>Pr(&gt;F)</th>\n",
       "    </tr>\n",
       "  </thead>\n",
       "  <tbody>\n",
       "    <tr>\n",
       "      <th>0</th>\n",
       "      <td>494.0</td>\n",
       "      <td>11082.941389</td>\n",
       "      <td>0.0</td>\n",
       "      <td>NaN</td>\n",
       "      <td>NaN</td>\n",
       "      <td>NaN</td>\n",
       "    </tr>\n",
       "    <tr>\n",
       "      <th>1</th>\n",
       "      <td>492.0</td>\n",
       "      <td>11080.276284</td>\n",
       "      <td>2.0</td>\n",
       "      <td>2.665105</td>\n",
       "      <td>0.05917</td>\n",
       "      <td>0.942554</td>\n",
       "    </tr>\n",
       "  </tbody>\n",
       "</table>\n",
       "</div>"
      ],
      "text/plain": [
       "   df_resid           ssr  df_diff   ss_diff        F    Pr(>F)\n",
       "0     494.0  11082.941389      0.0       NaN      NaN       NaN\n",
       "1     492.0  11080.276284      2.0  2.665105  0.05917  0.942554"
      ]
     },
     "execution_count": 87,
     "metadata": {},
     "output_type": "execute_result"
    }
   ],
   "source": [
    "model_full = OLS.from_formula(\"MEDV ~ CRIM + ZN + INDUS + NOX + RM + AGE + DIS + RAD + TAX + PTRATIO + B + LSTAT + CHAS\", data=df_boston)\n",
    "model_reduced = OLS.from_formula(\"MEDV ~ CRIM + ZN + NOX + RM + DIS + RAD + TAX + PTRATIO + B + LSTAT + CHAS\", data=df_boston)\n",
    "\n",
    "anova_lm(model_reduced.fit(), model_full.fit())"
   ]
  },
  {
   "cell_type": "markdown",
   "metadata": {},
   "source": [
    "## F 검정을 사용한 변수 중요도 비교\n",
    "\n",
    "F 검정은 각 독립변수의 중요도를 비교하기 위해 사용할 수 있다. \n",
    "방법은 전체 모형과 각 변수 하나만을 뺀 모형들의 성능을 비교하는 것이다. 이는 간접적으로 각 독립 변수의 영향력을 측정하는 것과 같다.\n",
    "\n",
    "`anova_lm` 명령에서는 `typ=2`로 지정하여 각 모형에서의 F 검정을 계산할 수 있다."
   ]
  },
  {
   "cell_type": "code",
   "execution_count": 88,
   "metadata": {},
   "outputs": [
    {
     "name": "stderr",
     "output_type": "stream",
     "text": [
      "/home/jihoon_kim/anaconda3/lib/python3.6/site-packages/scipy/stats/_distn_infrastructure.py:879: RuntimeWarning: invalid value encountered in greater\n",
      "  return (self.a < x) & (x < self.b)\n",
      "/home/jihoon_kim/anaconda3/lib/python3.6/site-packages/scipy/stats/_distn_infrastructure.py:879: RuntimeWarning: invalid value encountered in less\n",
      "  return (self.a < x) & (x < self.b)\n",
      "/home/jihoon_kim/anaconda3/lib/python3.6/site-packages/scipy/stats/_distn_infrastructure.py:1818: RuntimeWarning: invalid value encountered in less_equal\n",
      "  cond2 = cond0 & (x <= self.a)\n"
     ]
    },
    {
     "data": {
      "text/html": [
       "<div>\n",
       "<style>\n",
       "    .dataframe thead tr:only-child th {\n",
       "        text-align: right;\n",
       "    }\n",
       "\n",
       "    .dataframe thead th {\n",
       "        text-align: left;\n",
       "    }\n",
       "\n",
       "    .dataframe tbody tr th {\n",
       "        vertical-align: top;\n",
       "    }\n",
       "</style>\n",
       "<table border=\"1\" class=\"dataframe\">\n",
       "  <thead>\n",
       "    <tr style=\"text-align: right;\">\n",
       "      <th></th>\n",
       "      <th>df_resid</th>\n",
       "      <th>ssr</th>\n",
       "      <th>df_diff</th>\n",
       "      <th>ss_diff</th>\n",
       "      <th>F</th>\n",
       "      <th>Pr(&gt;F)</th>\n",
       "    </tr>\n",
       "  </thead>\n",
       "  <tbody>\n",
       "    <tr>\n",
       "      <th>0</th>\n",
       "      <td>493.0</td>\n",
       "      <td>11322.004277</td>\n",
       "      <td>0.0</td>\n",
       "      <td>NaN</td>\n",
       "      <td>NaN</td>\n",
       "      <td>NaN</td>\n",
       "    </tr>\n",
       "    <tr>\n",
       "      <th>1</th>\n",
       "      <td>492.0</td>\n",
       "      <td>11080.276284</td>\n",
       "      <td>1.0</td>\n",
       "      <td>241.727993</td>\n",
       "      <td>10.733502</td>\n",
       "      <td>0.001126</td>\n",
       "    </tr>\n",
       "  </tbody>\n",
       "</table>\n",
       "</div>"
      ],
      "text/plain": [
       "   df_resid           ssr  df_diff     ss_diff          F    Pr(>F)\n",
       "0     493.0  11322.004277      0.0         NaN        NaN       NaN\n",
       "1     492.0  11080.276284      1.0  241.727993  10.733502  0.001126"
      ]
     },
     "execution_count": 88,
     "metadata": {},
     "output_type": "execute_result"
    }
   ],
   "source": [
    "model_full = OLS.from_formula(\"MEDV ~ CRIM + ZN + INDUS + NOX + RM + AGE + DIS + RAD + TAX + PTRATIO + B + LSTAT + CHAS\", data=df_boston)\n",
    "model_reduced = OLS.from_formula(\"MEDV ~ ZN + INDUS + NOX + RM + AGE + DIS + RAD + TAX + PTRATIO + B + LSTAT + CHAS\", data=df_boston)\n",
    "\n",
    "anova_lm(model_reduced.fit(), model_full.fit())"
   ]
  },
  {
   "cell_type": "code",
   "execution_count": 90,
   "metadata": {},
   "outputs": [
    {
     "data": {
      "text/html": [
       "<div>\n",
       "<style>\n",
       "    .dataframe thead tr:only-child th {\n",
       "        text-align: right;\n",
       "    }\n",
       "\n",
       "    .dataframe thead th {\n",
       "        text-align: left;\n",
       "    }\n",
       "\n",
       "    .dataframe tbody tr th {\n",
       "        vertical-align: top;\n",
       "    }\n",
       "</style>\n",
       "<table border=\"1\" class=\"dataframe\">\n",
       "  <thead>\n",
       "    <tr style=\"text-align: right;\">\n",
       "      <th></th>\n",
       "      <th>sum_sq</th>\n",
       "      <th>df</th>\n",
       "      <th>F</th>\n",
       "      <th>PR(&gt;F)</th>\n",
       "    </tr>\n",
       "  </thead>\n",
       "  <tbody>\n",
       "    <tr>\n",
       "      <th>CRIM</th>\n",
       "      <td>241.727993</td>\n",
       "      <td>1.0</td>\n",
       "      <td>10.733502</td>\n",
       "      <td>1.126402e-03</td>\n",
       "    </tr>\n",
       "    <tr>\n",
       "      <th>ZN</th>\n",
       "      <td>257.226157</td>\n",
       "      <td>1.0</td>\n",
       "      <td>11.421671</td>\n",
       "      <td>7.836070e-04</td>\n",
       "    </tr>\n",
       "    <tr>\n",
       "      <th>INDUS</th>\n",
       "      <td>2.591314</td>\n",
       "      <td>1.0</td>\n",
       "      <td>0.115063</td>\n",
       "      <td>7.345971e-01</td>\n",
       "    </tr>\n",
       "    <tr>\n",
       "      <th>NOX</th>\n",
       "      <td>488.605951</td>\n",
       "      <td>1.0</td>\n",
       "      <td>21.695680</td>\n",
       "      <td>4.117296e-06</td>\n",
       "    </tr>\n",
       "    <tr>\n",
       "      <th>RM</th>\n",
       "      <td>1865.902935</td>\n",
       "      <td>1.0</td>\n",
       "      <td>82.852108</td>\n",
       "      <td>2.207486e-18</td>\n",
       "    </tr>\n",
       "    <tr>\n",
       "      <th>AGE</th>\n",
       "      <td>0.072792</td>\n",
       "      <td>1.0</td>\n",
       "      <td>0.003232</td>\n",
       "      <td>9.546859e-01</td>\n",
       "    </tr>\n",
       "    <tr>\n",
       "      <th>DIS</th>\n",
       "      <td>1232.544417</td>\n",
       "      <td>1.0</td>\n",
       "      <td>54.728947</td>\n",
       "      <td>6.017651e-13</td>\n",
       "    </tr>\n",
       "    <tr>\n",
       "      <th>RAD</th>\n",
       "      <td>478.172457</td>\n",
       "      <td>1.0</td>\n",
       "      <td>21.232399</td>\n",
       "      <td>5.189664e-06</td>\n",
       "    </tr>\n",
       "    <tr>\n",
       "      <th>TAX</th>\n",
       "      <td>242.053549</td>\n",
       "      <td>1.0</td>\n",
       "      <td>10.747958</td>\n",
       "      <td>1.117826e-03</td>\n",
       "    </tr>\n",
       "    <tr>\n",
       "      <th>PTRATIO</th>\n",
       "      <td>1195.939414</td>\n",
       "      <td>1.0</td>\n",
       "      <td>53.103567</td>\n",
       "      <td>1.268218e-12</td>\n",
       "    </tr>\n",
       "    <tr>\n",
       "      <th>B</th>\n",
       "      <td>275.903216</td>\n",
       "      <td>1.0</td>\n",
       "      <td>12.250993</td>\n",
       "      <td>5.072875e-04</td>\n",
       "    </tr>\n",
       "    <tr>\n",
       "      <th>LSTAT</th>\n",
       "      <td>2420.118669</td>\n",
       "      <td>1.0</td>\n",
       "      <td>107.461074</td>\n",
       "      <td>6.595808e-23</td>\n",
       "    </tr>\n",
       "    <tr>\n",
       "      <th>CHAS</th>\n",
       "      <td>219.279126</td>\n",
       "      <td>1.0</td>\n",
       "      <td>9.736700</td>\n",
       "      <td>1.912339e-03</td>\n",
       "    </tr>\n",
       "    <tr>\n",
       "      <th>Residual</th>\n",
       "      <td>11080.276284</td>\n",
       "      <td>492.0</td>\n",
       "      <td>NaN</td>\n",
       "      <td>NaN</td>\n",
       "    </tr>\n",
       "  </tbody>\n",
       "</table>\n",
       "</div>"
      ],
      "text/plain": [
       "                sum_sq     df           F        PR(>F)\n",
       "CRIM        241.727993    1.0   10.733502  1.126402e-03\n",
       "ZN          257.226157    1.0   11.421671  7.836070e-04\n",
       "INDUS         2.591314    1.0    0.115063  7.345971e-01\n",
       "NOX         488.605951    1.0   21.695680  4.117296e-06\n",
       "RM         1865.902935    1.0   82.852108  2.207486e-18\n",
       "AGE           0.072792    1.0    0.003232  9.546859e-01\n",
       "DIS        1232.544417    1.0   54.728947  6.017651e-13\n",
       "RAD         478.172457    1.0   21.232399  5.189664e-06\n",
       "TAX         242.053549    1.0   10.747958  1.117826e-03\n",
       "PTRATIO    1195.939414    1.0   53.103567  1.268218e-12\n",
       "B           275.903216    1.0   12.250993  5.072875e-04\n",
       "LSTAT      2420.118669    1.0  107.461074  6.595808e-23\n",
       "CHAS        219.279126    1.0    9.736700  1.912339e-03\n",
       "Residual  11080.276284  492.0         NaN           NaN"
      ]
     },
     "execution_count": 90,
     "metadata": {},
     "output_type": "execute_result"
    }
   ],
   "source": [
    "model_boston = OLS.from_formula(\"MEDV ~ CRIM + ZN + INDUS + NOX + RM + AGE + DIS + RAD + TAX + PTRATIO + B + LSTAT + CHAS\", data=df_boston)\n",
    "result_boston = model_boston.fit()\n",
    "anova_lm(result_boston, typ=2)"
   ]
  },
  {
   "cell_type": "markdown",
   "metadata": {},
   "source": [
    "이 값은 단일 계수 t 검정의 유의확률과 동일하다. 그 이유는 다음과 같은 t 분포와 F 분포의 동치 성질 때문이다.\n",
    "\n",
    "$$ t_n^2 = F_{(1, n)} $$"
   ]
  },
  {
   "cell_type": "markdown",
   "metadata": {},
   "source": [
    "## CCPR 플롯\n",
    "\n",
    "CCPR 플롯은 회귀 모형에서 특정한 하나의 변수의 영향을 살펴보기 위한 것이다.\n",
    "\n",
    "다음과 같은 회귀 모형이 있다고 가정하자.\n",
    "\n",
    "$$ y = \\hat{y} + e = w_1 x_1 +  w_2 x_2 +  \\cdots + w_i x_i +  \\cdots +  w_K x_K + e $$\n",
    "\n",
    "CCPR 플롯은 이 성분 중에서 \n",
    "\n",
    "$$ w_i x_i + e $$\n",
    "와\n",
    "$$ y $$\n",
    "\n",
    "를 스캐터 플롯으로 그린 것이다."
   ]
  },
  {
   "cell_type": "code",
   "execution_count": 95,
   "metadata": {
    "scrolled": true
   },
   "outputs": [
    {
     "data": {
      "image/png": "[encoded data removed]",
      "text/plain": [
       "<matplotlib.figure.Figure at 0x7fe260647cc0>"
      ]
     },
     "metadata": {},
     "output_type": "display_data"
    }
   ],
   "source": [
    "from statsmodels.graphics.regressionplots import plot_ccpr, plot_ccpr_grid\n",
    "plot_ccpr(result_boston, \"CRIM\")\n",
    "plt.show()"
   ]
  },
  {
   "cell_type": "code",
   "execution_count": 99,
   "metadata": {},
   "outputs": [
    {
     "data": {
      "image/png": "[encoded data removed]",
      "text/plain": [
       "<matplotlib.figure.Figure at 0x7fe25c399898>"
      ]
     },
     "metadata": {},
     "output_type": "display_data"
    }
   ],
   "source": [
    "plot_ccpr(result_boston, \"ZN\")\n",
    "plt.show()"
   ]
  },
  {
   "cell_type": "code",
   "execution_count": 96,
   "metadata": {},
   "outputs": [
    {
     "data": {
      "image/png": "[encoded data removed]",
      "text/plain": [
       "<matplotlib.figure.Figure at 0x7fe25fa8ea20>"
      ]
     },
     "metadata": {},
     "output_type": "display_data"
    }
   ],
   "source": [
    "fig = plt.figure(figsize=(8, 15))\n",
    "plot_ccpr_grid(result_boston, fig=fig)\n",
    "fig.suptitle(\"\")\n",
    "plt.show()"
   ]
  },
  {
   "cell_type": "code",
   "execution_count": 236,
   "metadata": {
    "scrolled": false
   },
   "outputs": [
    {
     "name": "stdout",
     "output_type": "stream",
     "text": [
      "                            OLS Regression Results                            \n",
      "==============================================================================\n",
      "Dep. Variable:                 target   R-squared:                       0.518\n",
      "Model:                            OLS   Adj. R-squared:                  0.507\n",
      "Method:                 Least Squares   F-statistic:                     46.27\n",
      "Date:                Tue, 27 Jun 2017   Prob (F-statistic):           3.83e-62\n",
      "Time:                        17:40:26   Log-Likelihood:                -2386.0\n",
      "No. Observations:                 442   AIC:                             4794.\n",
      "Df Residuals:                     431   BIC:                             4839.\n",
      "Df Model:                          10                                         \n",
      "Covariance Type:            nonrobust                                         \n",
      "=================================================================================================\n",
      "                                    coef    std err          t      P>|t|      [0.025      0.975]\n",
      "-------------------------------------------------------------------------------------------------\n",
      "Intercept                       162.8394      3.756     43.359      0.000     155.458     170.221\n",
      "C(X1)[T.0.050680118739818703]   -22.8600      5.836     -3.917      0.000     -34.330     -11.390\n",
      "X0                              -10.0122     59.749     -0.168      0.867    -127.448     107.424\n",
      "X2                              519.8398     66.534      7.813      0.000     389.069     650.610\n",
      "X3                              324.3904     65.422      4.958      0.000     195.805     452.976\n",
      "X4                             -792.1842    416.684     -1.901      0.058   -1611.169      26.801\n",
      "X5                              476.7458    339.035      1.406      0.160    -189.621    1143.113\n",
      "X6                              101.0446    212.533      0.475      0.635    -316.685     518.774\n",
      "X7                              177.0642    161.476      1.097      0.273    -140.313     494.442\n",
      "X8                              751.2793    171.902      4.370      0.000     413.409    1089.150\n",
      "X9                               67.6254     65.984      1.025      0.306     -62.065     197.316\n",
      "==============================================================================\n",
      "Omnibus:                        1.506   Durbin-Watson:                   2.029\n",
      "Prob(Omnibus):                  0.471   Jarque-Bera (JB):                1.404\n",
      "Skew:                           0.017   Prob(JB):                        0.496\n",
      "Kurtosis:                       2.726   Cond. No.                         256.\n",
      "==============================================================================\n",
      "\n",
      "Warnings:\n",
      "[1] Standard Errors assume that the covariance matrix of the errors is correctly specified.\n"
     ]
    }
   ],
   "source": [
    "from sklearn.datasets import load_diabetes\n",
    "diabetes = load_diabetes()\n",
    "columns=[\"X%i\" % i for i in range(X.shape[1])]\n",
    "X = pd.DataFrame(diabetes['data'], columns=columns)\n",
    "target = pd.DataFrame(diabetes['target'], columns=['target'])\n",
    "\n",
    "dfX = add_constant(X)\n",
    "dfy = target\n",
    "df_diabetes = pd.concat([dfX, dfy], axis=1)\n",
    "columns.remove('X1')\n",
    "columns.append('C(X1)')\n",
    "x_form = \"+\".join(columns)\n",
    "model = OLS.from_formula(\"target ~ \" + x_form, df_diabetes)\n",
    "result = model.fit()\n",
    "print(result.summary())"
   ]
  },
  {
   "cell_type": "markdown",
   "metadata": {},
   "source": [
    "## 분산 분석을 이용한 카테고리 값의 영향 분석\n",
    "\n",
    "앞에서 보았듯이 카테고리 변수는 클래스 갯수과 같은 갯수의 더미 변수로 변환된다. 따라서 더미 변수에 대해 분산 분석을 하면 각 클래스가 가지는 영향력을 계산하는 것과 같다. \n",
    "\n",
    "이 경우에는 분산 분석에 사용되는 각 분산의 의미가 다음과 같다. 다음은 $K$개의 복수의 카테고리 값을 가지는 경우이다.\n",
    "\n",
    "* ESS: 각 그룹 평균의 분산 (Between-Group Variance) \n",
    "  $$ BSS = \\sum_{k=1}^K (\\bar{x} - \\bar{x}_k)^2 $$\n",
    "\n",
    "* RSS: 각 그룹 내의 오차의 분산의 합 (Within-Group Variance)\n",
    "  $$ WSS = \\sum_{k=1}^K \\sum_{i} (x_{i} - \\bar{x}_k)^2 $$\n",
    "\n",
    "* TSS : 전체 오차의 분산\n",
    "  $$ TSS = \\sum_{i} (x_{i} - \\bar{x})^2 $$\n",
    "\n",
    "| source | degree of freedom | sum of square | mean square  | F test-statstics | p-value |\n",
    "|-|-|-|-|-|-|\n",
    "| Between  | $$K-1$$ | $$\\text{BSS}$$ | $$s_{\\hat{y}}^2 = \\dfrac{\\text{ESS}}{K-1}$$   | $$F=\\dfrac{s_{\\hat{y}}^2}{s_e^2} $$ | p-value |\n",
    "| Within   | $$N-K$$  | $$\\text{WSS}$$  | $$s_e^2= \\dfrac{\\text{RSS}}{N-K}$$ | |\n",
    "| Total     | $$N-1$$  | $$\\text{TSS}$$ | $$s_y^2= \\dfrac{\\text{TSS}}{N-1}$$ | |\n",
    "| $R^2$   |    |  $$\\text{BSS} / \\text{TSS}$$ |  | |\n",
    "\n",
    "이 때 F-검정의 귀무가설은 모든 더미 변수에 대한 계수가 0인 경우, 즉 클래스 구별에 따른 그룹간 분산 변화가 없는 경우이다.\n",
    "즉 $\\text{BSS}=0$이고 $\\text{WSS}=\\text{TSS}$ 이다."
   ]
  },
  {
   "cell_type": "markdown",
   "metadata": {},
   "source": [
    "보스턴 집값 자료에서 변수 `CHAS`의 영향을 분산 분석으로 알아보면 다음과 같다."
   ]
  },
  {
   "cell_type": "code",
   "execution_count": 232,
   "metadata": {},
   "outputs": [
    {
     "data": {
      "image/png": "[encoded data removed]",
      "text/plain": [
       "<matplotlib.figure.Figure at 0x7fe25c2ac9b0>"
      ]
     },
     "metadata": {},
     "output_type": "display_data"
    }
   ],
   "source": [
    "df_boston.boxplot(\"MEDV\", \"CHAS\")\n",
    "plt.show()"
   ]
  },
  {
   "cell_type": "code",
   "execution_count": 233,
   "metadata": {},
   "outputs": [
    {
     "data": {
      "image/png": "[encoded data removed]",
      "text/plain": [
       "<matplotlib.figure.Figure at 0x7fe25c103710>"
      ]
     },
     "metadata": {},
     "output_type": "display_data"
    }
   ],
   "source": [
    "sns.stripplot(x=\"CHAS\", y=\"MEDV\", data=df_boston, jitter=True, alpha=.3)\n",
    "sns.pointplot(x=\"CHAS\", y=\"MEDV\", data=df_boston, dodge=True, color='r')\n",
    "plt.show()"
   ]
  },
  {
   "cell_type": "code",
   "execution_count": 234,
   "metadata": {},
   "outputs": [
    {
     "name": "stderr",
     "output_type": "stream",
     "text": [
      "/home/jihoon_kim/anaconda3/lib/python3.6/site-packages/scipy/stats/_distn_infrastructure.py:879: RuntimeWarning: invalid value encountered in greater\n",
      "  return (self.a < x) & (x < self.b)\n",
      "/home/jihoon_kim/anaconda3/lib/python3.6/site-packages/scipy/stats/_distn_infrastructure.py:879: RuntimeWarning: invalid value encountered in less\n",
      "  return (self.a < x) & (x < self.b)\n",
      "/home/jihoon_kim/anaconda3/lib/python3.6/site-packages/scipy/stats/_distn_infrastructure.py:1818: RuntimeWarning: invalid value encountered in less_equal\n",
      "  cond2 = cond0 & (x <= self.a)\n"
     ]
    },
    {
     "data": {
      "text/html": [
       "<div>\n",
       "<style>\n",
       "    .dataframe thead tr:only-child th {\n",
       "        text-align: right;\n",
       "    }\n",
       "\n",
       "    .dataframe thead th {\n",
       "        text-align: left;\n",
       "    }\n",
       "\n",
       "    .dataframe tbody tr th {\n",
       "        vertical-align: top;\n",
       "    }\n",
       "</style>\n",
       "<table border=\"1\" class=\"dataframe\">\n",
       "  <thead>\n",
       "    <tr style=\"text-align: right;\">\n",
       "      <th></th>\n",
       "      <th>df</th>\n",
       "      <th>sum_sq</th>\n",
       "      <th>mean_sq</th>\n",
       "      <th>F</th>\n",
       "      <th>PR(&gt;F)</th>\n",
       "    </tr>\n",
       "  </thead>\n",
       "  <tbody>\n",
       "    <tr>\n",
       "      <th>C(CHAS)</th>\n",
       "      <td>1.0</td>\n",
       "      <td>1312.079271</td>\n",
       "      <td>1312.079271</td>\n",
       "      <td>15.971512</td>\n",
       "      <td>0.000074</td>\n",
       "    </tr>\n",
       "    <tr>\n",
       "      <th>Residual</th>\n",
       "      <td>504.0</td>\n",
       "      <td>41404.216144</td>\n",
       "      <td>82.151223</td>\n",
       "      <td>NaN</td>\n",
       "      <td>NaN</td>\n",
       "    </tr>\n",
       "  </tbody>\n",
       "</table>\n",
       "</div>"
      ],
      "text/plain": [
       "             df        sum_sq      mean_sq          F    PR(>F)\n",
       "C(CHAS)     1.0   1312.079271  1312.079271  15.971512  0.000074\n",
       "Residual  504.0  41404.216144    82.151223        NaN       NaN"
      ]
     },
     "execution_count": 234,
     "metadata": {},
     "output_type": "execute_result"
    }
   ],
   "source": [
    "model_chas = OLS.from_formula(\"MEDV ~ C(CHAS)\", data=df_boston)\n",
    "anova_lm(model_chas.fit())"
   ]
  },
  {
   "cell_type": "markdown",
   "metadata": {},
   "source": [
    "**찰스강이라는 feature가 영향이없는데 어쩌다가 영향이 있는 것처럼 나왔을 확률: 0.000074**"
   ]
  },
  {
   "cell_type": "markdown",
   "metadata": {},
   "source": [
    "# 선형 회귀 모형 비교\n",
    "\n",
    "두 개의 서로 다른 선형 회귀 모형의 성능을 비교할 때는 보통 다음과 같은 선택 기준을 사용한다.\n",
    "\n",
    "* 조정 결정 계수 (Adjusted determination coefficient)\n",
    "* AIC (Akaike Information Criterion)\n",
    "* BIC (Bayesian Information Criterion) \n",
    "\n",
    "## 조정 결정 계수\n",
    "\n",
    "선형 회귀 모형에서 독립 변수가 추가되면 결정 계수의 값은 항상 증가한다. 이는 다음과 같이 확인할 수 있다.\n",
    "\n",
    "종속 변수 $y$를 회귀 분석하기 위한 기존의 독립 변수가 $X$이고 여기에 추가적인 독립 변수 $z$가 더해졌을 때, 다음과 같은 관계가 성립한다.\n",
    "\n",
    "$$\n",
    "R^2_{Xz} = R^2_{X} + (1-R^2_{X})r^{\\ast 2}_{yz}\n",
    "$$\n",
    "\n",
    "여기에서 \n",
    "* $R^2_{X}$: 기존의 독립 변수 $X$를 사용한 경우의 결정 계수\n",
    "* $R^2_{Xz}$: 기존의 독립 변수 $X$와 추가적인 독립 변수 $z$를 모두 사용한 경우의 결정 계수\n",
    "* $r^{\\ast 2}_{yz}$: 추가적인 독립 변수 $z$와 종속 변수 $y$간의 상관 관계 계수\n",
    "\n",
    "\n",
    "이고 이 항목들은 모두 양수이므로 \n",
    "\n",
    "$$\n",
    "R^2_{Xz} \\geq R^2_{X}\n",
    "$$\n",
    "\n",
    "이러한 독립 변수 추가 효과를 상쇄시키기 위한 다양한 기준들이 제시되었다. 그 중 하나가 다음과 같이 독립 변수의 갯수 $K$에 따라 결정 계수의 값을 조정하는 조정 결정 계수이다\n",
    "\n",
    "$$\n",
    "R_{adj}^2 = 1 - \\frac{n-1}{n-K}(1-R^2) = \\dfrac{(n-1)R^2 +1-K}{n-K}\n",
    "$$\n",
    "\n",
    "**집어넣는만큼 좋아지게 되어있다. 유의성에 의한 향상과 헷갈릴 수 있으므로 많이 집어넣는다면 페널티를 준다고 보면 된다. 이 페널티를 주는 방식이 r스퀘어, AIC, BIC이다. $r^2$는 클수록 좋으며 loglikelihood는 클수록, aic, bic,는 작을수록 좋다. 데이터자체가 다르다면 loglikelihood는 사용할 수 없다.**\n",
    "\n",
    "## 정보량 규준\n",
    "\n",
    "조정 결정 계수와 함께 많이 쓰이는 모형 비교 기준은 최대 우도에 독립 변수의 갯수에 대한 손실(penalty)분을 반영하는 방법이다. \n",
    "이를 정보량 규준(information criterion)이라고 하며 손실 가중치의 계산 법에 따라 AIC (Akaike Information Criterion)와 BIC (Bayesian Information Criterion) 두 가지를 사용한다.\n",
    "\n",
    "$$\n",
    "\\text{AIC} = -2\\log L + 2K\n",
    "$$\n",
    "\n",
    "$$\n",
    "\\text{BIC} = -2\\log L + K\\log n\n",
    "$$"
   ]
  }
 ],
 "metadata": {
  "kernelspec": {
   "display_name": "Python 3",
   "language": "python",
   "name": "python3"
  },
  "language_info": {
   "codemirror_mode": {
    "name": "ipython",
    "version": 3
   },
   "file_extension": ".py",
   "mimetype": "text/x-python",
   "name": "python",
   "nbconvert_exporter": "python",
   "pygments_lexer": "ipython3",
   "version": "3.6.1"
  }
 },
 "nbformat": 4,
 "nbformat_minor": 2
}
