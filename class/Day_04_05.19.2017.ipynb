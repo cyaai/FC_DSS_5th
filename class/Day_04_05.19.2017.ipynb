{
 "cells": [
  {
   "cell_type": "markdown",
   "metadata": {},
   "source": [
    "# Day 04"
   ]
  },
  {
   "cell_type": "markdown",
   "metadata": {},
   "source": [
    "+ SSH\n",
    "    * putty\n",
    "+ Security\n",
    "    * PKI\n",
    "    * Public  Key & Private Key Encryption\n",
    "    * Hash Function\n",
    "        * checksum\n",
    "    * Certificate\n",
    "+ Docker - SSH\n",
    "+ AWS\n",
    "    * Account\n",
    "    * EC2\n",
    "+ Git"
   ]
  },
  {
   "cell_type": "markdown",
   "metadata": {},
   "source": [
    "## SSH (Secure Shell)\n",
    "\n",
    "기존 Terminal의 경우 암호화를 하지 않은 채 통신하였으나 SSH를 통해 암호화 통신이 구현되었다. Host는 Public Key와 Private Key를 가지고 있으며 Public Key를 발급하게 된다. 이 public key를 middle man이 획득한다 하더라도 어떻게 열어야 할 지를 모르므로 보안을 유지할 수 있다."
   ]
  },
  {
   "cell_type": "markdown",
   "metadata": {},
   "source": [
    "## PKI (Public Key Infrastructure)\n",
    "SSH통신방식에서의 문제는 public key의 제공자가 '진짜' host인지 알 수 없다는 것이다. 따라서 이를 보완하기 위해 certificate을 만들며 이 certificate에는 signature가 포함되어있다. 이 인증서를 통해 실제 host인지를 신뢰할 수 있게 된다. 이러한 certificate의 발급주체를 CA(Certificate Agency)라 하고 이들 또한 public key를 사용한다."
   ]
  },
  {
   "cell_type": "markdown",
   "metadata": {},
   "source": [
    "## Hash Function\n",
    "함수로서 data를 특정 key(fixed size)에 연결시킨다. 주민등록번호도 Hash function이라 볼 수 있는데 출생연월, 성별, 출생지등의 정보들로 구성되어있고 마지막 한 자리는 checksum으로서 앞의 숫자들을 Hash Function과 Checksum을 비교해 확인할 수 있다.\n",
    "\n",
    "*암호화는 encrpt, decrpyt가 가능하다. 다만 Hash는 원래의 문서형태를 복원해 낼 수는 없다. 즉 Hash에서는 진위여부 확인은 가능하나 원래 문서를 복구할 수는 없다.(다른 문서임에도 같은 Hash값을 가질 수는 있으나 확률적으로 희박하다)*"
   ]
  },
  {
   "cell_type": "code",
   "execution_count": 1,
   "metadata": {
    "collapsed": true
   },
   "outputs": [],
   "source": [
    "import hashlib"
   ]
  },
  {
   "cell_type": "code",
   "execution_count": 10,
   "metadata": {},
   "outputs": [
    {
     "ename": "TypeError",
     "evalue": "Unicode-objects must be encoded before hashing",
     "output_type": "error",
     "traceback": [
      "\u001b[0;31m---------------------------------------------------------------------------\u001b[0m",
      "\u001b[0;31mTypeError\u001b[0m                                 Traceback (most recent call last)",
      "\u001b[0;32m<ipython-input-10-4f99061b0147>\u001b[0m in \u001b[0;36m<module>\u001b[0;34m()\u001b[0m\n\u001b[0;32m----> 1\u001b[0;31m \u001b[0mmd5\u001b[0m\u001b[1;33m=\u001b[0m\u001b[0mhashlib\u001b[0m\u001b[1;33m.\u001b[0m\u001b[0mmd5\u001b[0m\u001b[1;33m(\u001b[0m\u001b[1;34m'string'\u001b[0m\u001b[1;33m)\u001b[0m\u001b[1;33m\u001b[0m\u001b[0m\n\u001b[0m",
      "\u001b[0;31mTypeError\u001b[0m: Unicode-objects must be encoded before hashing"
     ]
    }
   ],
   "source": [
    "md5=hashlib.md5('string')"
   ]
  },
  {
   "cell_type": "code",
   "execution_count": null,
   "metadata": {
    "collapsed": true
   },
   "outputs": [],
   "source": []
  },
  {
   "cell_type": "code",
   "execution_count": null,
   "metadata": {
    "collapsed": true
   },
   "outputs": [],
   "source": []
  }
 ],
 "metadata": {
  "kernelspec": {
   "display_name": "Python 3",
   "language": "python",
   "name": "python3"
  },
  "language_info": {
   "codemirror_mode": {
    "name": "ipython",
    "version": 3
   },
   "file_extension": ".py",
   "mimetype": "text/x-python",
   "name": "python",
   "nbconvert_exporter": "python",
   "pygments_lexer": "ipython3",
   "version": "3.6.0"
  }
 },
 "nbformat": 4,
 "nbformat_minor": 2
}
