{
 "cells": [
  {
   "cell_type": "markdown",
   "metadata": {},
   "source": [
    "# 확률 변수\n",
    "\n",
    "## 확률 변수의 정의\n",
    "\n",
    "확률 변수는 앞서 설명한 것 처럼 표본 공간의 모든 표본에 대해 어떤 실수 값을 붙인 것이다. 확률과 확률 변수의 차이점은 다음과 같다.\n",
    "\n",
    "* 확률은 표본으로 이루어진 집합 즉, 사건에 대해 할당된 숫자이지만 확률 변수는 표본 하나 하나에 대해 할당된 숫자이다.\n",
    "\n",
    "* 확률은 0부터 1사이의 숫자만 할당할 수 있지만 확률 변수는 모든 실수 범위의 숫자를 할당할 수 있다.\n",
    "\n",
    "**확률변수와 확률을 구분, 확률은 사건에대해 확률변수는 표본에 대해**\n",
    "\n",
    "따라서 확률 변수는 표본 공간을 정의역(domain)으로 가지고 실수를 공역(range)으로 가지는 함수라고 할 수 있다. 보통 $X$, $Y$ 등의 대문자 알파벳을 사용하여 확률 변수를 표기한다. 확률 변수에 의해 할당된 실수는 $x$, $y$와 같이 소문자 알파벳으로 표시한다.\n",
    "\n",
    "$$ \\omega \\in \\Omega \\;\\;\\; \\xrightarrow{X} \\;\\;\\; \\text{실수} x \\in \\mathbb{R} $$\n",
    "\n",
    "확률 변수를 사용하면 모든 표본은 하나의 실수 숫자로 변하기 때문에 표본 공간을 실수의 집합 즉 **수직선(number line)**으로 표시할 수 있다. 일반적인 사건(event)은 이 수직선 상의 구간으로 표시된다.\n",
    "\n",
    "예를 들어 $a$보다 같거나 크고 $b$보다 작은 숫자의 집합인 사건 $A$는 다음과 같은 기호로 표시한다.\n",
    "\n",
    "$$ A = \\{ \\omega ; a \\leq X(\\omega) < b \\} = \\{ a \\leq X < b \\} $$\n",
    "\n",
    "## 이산 확률 변수\n",
    "\n",
    "예를 들어 주사위의 확률 문제에서 주사위에서 나올 수 있는 모든 면의 집합인 표본집합 $\\{⚀,⚁,⚂,⚃,⚄,⚅\\}$ 내의 모든 표본에 대해 다음과 같이 숫자를 할당하면 1부터 6까지 값을 가지는 확률변수가 된다. 이렇게 확률 변수값이 연속적(continuous)이지 않고 떨어져(discrete) 있는 경우를 **이산 확률 변수(discrete random variable)**라고 한다.\n",
    "\n",
    "$$X(⚀) = 1$$\n",
    "$$X(⚁) = 2$$\n",
    "$$X(⚂) = 3$$\n",
    "$$X(⚃) = 4$$\n",
    "$$X(⚄) = 5$$\n",
    "$$X(⚅) = 6$$\n",
    "\n",
    "주의 할 점은 이산 확률 변수의 정의는 값의 이산성이지 가능한 경우가 유한하다는 점이 아니라는 점이다. 이산 확률 변수도 연속 확률 변수와 같이 가능한 값 자체는 무한대의 경우의 수가 있을 수 있다. 예를 들어 [기하 분포(geometric distribution)](https://en.wikipedia.org/wiki/Geometric_distribution)는 양의 정수값을 가지는 이산 분포이지만 무한대의 양의 정수도 0이 아닌 확률을 가질 수 있다.\n",
    "\n",
    "확률 변수를 정의한다는 것은 표본(sample)이라는 추상적이고 일반적인 개념대신 숫자라는 명확한 개념을 대신 사용하겠다는 의미이다. 현실적으로도 계산이 가능한 것은 숫자 뿐이므로 데이터 분석을 수행하기 위해서는 결국 표본의 특성(feature)을 숫자로 변환하는 단계가 필요하다.\n",
    "\n",
    "## 연속 확률 변수\n",
    "\n",
    "이번에는 주사위가 아닌 시계 바늘을 예로 들어보자. 시계 바늘이 특정한 위치를 가르키는 현상을 표본(sample)으로 생각하고 12시를 기준으로 해당 위치까지의 각도를 확률 변수로 하면 이 연속 확률 변수의 값은 실수(real number) 집합처럼 연속적이고 무한개의 경우의 수를 가진다. \n",
    "이러한 확률 변수를 **연속 확률 변수 (continuous random variable)**라고 한다.\n",
    "\n",
    "확률의 정의에서 다루었듯이 이 시계바늘 문제에서 시계바늘이 특정한 시각을 가리킬 확률은 0도이다. 따라서 확률을 정의할 때 특정한 각도에 대해 정의한 것이 아니라 구간(inteval)이라는 사건(event)에 대해 확률을 정의하였다.\n",
    "\n",
    "확률 변수를 사용하여 얻을 수 있는 또 다른 장점은 이와 같은 연속 확률 분포의 경우에 사건(event)을 수직선 상의 실수 구간(interval)으로 변환할 수 있다는 것이다. 구간은 시작점과 끝점이라는 두 개의 숫자로 묘사하는 것이 가능하므로 결국 두 개의 실수 숫자 쌍으로 사건을 정의 할 수 있다. \n",
    "\n",
    "예를 들어 $\\{ a \\leq X < b \\}$ 라는 사건은 사실 표본에 할당된 확률 변수의 값이 $a$ 보다 같거나 크고 $b$ 보다 작은 모든 표본들을 모아 놓은 부분집합인 사건을 가리키는 것으로 본다.\n",
    "\n",
    "$$ \\{ a \\leq X < b \\} = \\{ \\omega ; a \\leq X(\\omega) < b \\} $$\n",
    "\n",
    "따라서 확률 자체도 원래의 정의처럼 사건 자체에 대해 정의할 필요 없이 다음과 같이 실수 구간에 대해 정의할 수 있다.\n",
    "\n",
    "$$P(\\{ a \\leq X < b \\}) = P(\\{ \\omega ; a \\leq X(\\omega) < b \\})  $$\n",
    "\n",
    "시계 바늘 확률 문제의 경우를 예로 들면 시계바늘이 가리키는 위치의 각도는 확률 변수가 된다. 또한 확률을 정의하기 위한 사건(event)은 다음과 같이 두 위치 사이의 각(degree)이 된다. 따라서 다음과 같은 사건 및 이에 해당하는 확률을 가질 수 있다.\n",
    "\n",
    "$$ P(\\{  30^{\\circ} \\leq \\theta < 60^{\\circ} \\})  $$\n",
    "$$ P(\\{  10^{\\circ} \\leq \\theta < 20^{\\circ} \\})  $$\n",
    "$$ P(\\{  90^{\\circ} \\leq \\theta < 180^{\\circ} \\})  $$"
   ]
  },
  {
   "cell_type": "markdown",
   "metadata": {},
   "source": [
    "# 누적 분포 함수와 확률 밀도 함수\n",
    "\n",
    "누적 분포 함수(cumulative distribution function)와 확률 밀도 함수(probability density function)는 확률 변수의 분포 즉, 확률 분포를 수학적으로 정의하기 위한 수식이다.\n",
    "\n",
    "## 확률 분포의 묘사\n",
    "\n",
    "확률의 정의에서 확률은 **사건(event)이라는 표본의 집합에 대해 할당된 숫자**라고 하였다. 데이터 분석을 하려면 확률이 구체적으로 어떻게 할당되었는지를 묘사(describe)하거 전달(communicate)해야 할 필요가 있다. **어떤 사건에 어느 정도의 확률이 할당되었는지를 묘사한 것을 확률 분포(distribution)**라고 한다.\n",
    "\n",
    "확률 분포를 묘사하기 위해서는 모든 사건(event)들을 하나 하나 제시하고 거기에 할당된 숫자를 보여야 하기 때문에 확률 분포의 묘사는 결코 쉽지 않은 작업이다. 그러나 확률 변수를 이용하면 이러한 묘사 작업이 좀 더 쉬워진다. 왜냐하면 사건(event)이 구간(interval)이 되고 이 구산을 지정하는데는 시작점과 끝점이라는 두 개의 숫자만 있으면 되기 때문이다.\n",
    "\n",
    "그러나 사건(event) 즉, 구간(interval) 하나를 정의하기 위해 숫자가 하나가 아닌 두 개가 필요하다는 점은 아무래도 불편하다. 숫자 하나만으로 사건 즉, 구간을 정의할 수 있는 방법은 없을까? 이를 해결하기 위한 아이디어 중 하나는 구간의 시작을 나타내는 숫자를 모두 같은 숫자인 음수 무한대($-\\infty$)로 통일하는 것이다. 여러가지 구간들 중에서 시작점이 음수 무한대인 구간만 사용하는 것이라고 볼 수 있다. \n",
    "\n",
    "$$\\{ -\\infty \\leq X < -1 \\} $$\n",
    "$$\\{ -\\infty \\leq X < 0 \\} $$\n",
    "$$\\{ -\\infty \\leq X < 1 \\} $$\n",
    "$$\\{ -\\infty \\leq X < 2 \\} $$\n",
    "$$ \\vdots $$\n",
    "$$ \\{ -\\infty \\leq X < x \\} $$\n",
    "$$ \\vdots $$\n",
    "\n",
    "물론 이러한 구간들은 확률의 정의를 구성하는 전체 사건 중 일부에 지나지 않는다. 그러나 확률 공간의 정의를 이용하면 이러한 구간들로부터 시작점이 음수 무한대가 아닌 다른 구간들을 생성할 수 있다. 또한 새로 생성된 구간들에 대한 확률값도 확률의 정의에 따라 계산할 수 있다.\n",
    "\n",
    "## 누적 확률 분포\n",
    "\n",
    "위와 같은 방법으로 서술된 확률 분포를 **누적 분포 함수 (cumulative distribution function)** 또는 누적 확률 분포라고 하고 약자로  **cdf**라고 쓴다. 일반적으로 cdf는 대문자를 사용하여 $F(x)$와 같은 기호로 표시하며 이 때 독립 변수 $x$는 범위의 끝을 뜻한다. 범위의 시작은 음의 무한대(negative infinity, $-\\infty$)이다.\n",
    "\n",
    "확률 변수 $X$에 대한 누적 확률 분포 $F(x)$의 수학적 정의는 다음과 같다.\n",
    "\n",
    "$$ F(x) = P(\\{X < x\\}) = P(X < x)$$\n",
    "\n",
    "몇가지 누적 확률 분포 표시의 예를 들면 다음과 같다.\n",
    "\n",
    "\n",
    "\n",
    "$$ \\vdots $$\n",
    "* $F(-1)$ : 확률 변수가 $-\\infty$이상 -1 미만인 구간 내에 존재할 확률 즉, $P( \\{ -\\infty \\leq X < -1 \\})$\n",
    "* $F(0)$ : 확률 변수가 $-\\infty$이상 0 미만인 구간 내에 존재할 확률 즉, $P( \\{ -\\infty \\leq X < 0 \\})$\n",
    "* $F(1)$ : 확률 변수가 $-\\infty$이상 1 미만인 구간 내에 존재할 확률 즉, $P( \\{ -\\infty \\leq X < 1 \\})$\n",
    "$$ \\vdots $$\n",
    "* $F(10)$ : 확률 변수가 $-\\infty$이상 10 미만인 구간 내에 존재할 확률 즉, $P( \\{ -\\infty \\leq X < 10 \\})$\n",
    "$$ \\vdots $$\n",
    "\n",
    "시계 바늘 확률 문제의 경우를 예로 들어보자. 이 경우에는 각도가 0도부터 360까지이지만 음의 무한대를 시작점으로 해도 상관없다.\n",
    "\n",
    "$$ F(0) = P(\\{ -\\infty {}^{\\circ} \\leq \\theta < 0 {}^{\\circ} \\}) = 0 $$\n",
    "$$ F(10) = P(\\{ -\\infty {}^{\\circ} \\leq \\theta < 10 {}^{\\circ} \\}) = \\dfrac{1}{36} $$\n",
    "$$ F(20) = P(\\{ -\\infty {}^{\\circ} \\leq \\theta < 20 {}^{\\circ} \\}) = \\dfrac{2}{36} $$\n",
    "$$ \\vdots $$\n",
    "$$ F(350) = P(\\{ -\\infty {}^{\\circ} \\leq \\theta < 350 {}^{\\circ} \\}) = \\dfrac{35}{36} $$\n",
    "$$ F(360) = P(\\{ -\\infty {}^{\\circ} \\leq \\theta < 360 {}^{\\circ} \\}) = 1 $$\n",
    "$$ F(370) = P(\\{ -\\infty {}^{\\circ} \\leq \\theta < 370 {}^{\\circ} \\}) = 1 $$\n",
    "$$ F(380) = P(\\{ -\\infty {}^{\\circ} \\leq \\theta < 380 {}^{\\circ} \\}) = 1 $$\n",
    "$$ \\vdots $$\n",
    "\n",
    "이를 NumPy와 matplotlib를 사용하여 그래프로 그래면 다음과 같다."
   ]
  },
  {
   "cell_type": "code",
   "execution_count": 3,
   "metadata": {
    "collapsed": true
   },
   "outputs": [],
   "source": [
    "import numpy as np\n",
    "import matplotlib.pyplot as plt\n",
    "%matplotlib inline"
   ]
  },
  {
   "cell_type": "code",
   "execution_count": 4,
   "metadata": {},
   "outputs": [
    {
     "data": {
      "image/png": "[encoded data removed]",
      "text/plain": [
       "<matplotlib.figure.Figure at 0x274fae46eb8>"
      ]
     },
     "metadata": {},
     "output_type": "display_data"
    }
   ],
   "source": [
    "t = np.linspace(-100, 500, 100)\n",
    "F = t / 360\n",
    "F[t < 0] = 0\n",
    "F[t > 360] = 1\n",
    "plt.plot(t, F)\n",
    "plt.ylim(-0.1, 1.1)\n",
    "plt.xticks([0, 180, 360]);\n",
    "plt.title(\"Cumulative Distribution Function\");\n",
    "plt.xlabel(\"$x$ (deg.)\");\n",
    "plt.ylabel(\"$F(x)$\");"
   ]
  },
  {
   "cell_type": "markdown",
   "metadata": {},
   "source": [
    "누적 밀도 함수 즉 cdf는 다음과 같은 특징을 가진다.\n",
    "\n",
    "\n",
    "* $F(-\\infty) = 0$\n",
    "* $F(+\\infty) = 1$\n",
    "* $F(x) \\geq F(y) \\;\\; \\text{ if } \\;\\; x > y $\n",
    "\n",
    "## 확률 밀도 함수\n",
    "\n",
    "누적 분포 함수는 확률 분포를 함수라는 편리한 상태로 바꾸어 주었다. 누적 분포 함수는 확률이 어느 사건(event)에 어느 정도 분포되어 있는지 수학적으로 명확하게 표현해 준다. \n",
    "\n",
    "그러나 누적 분포 함수가 표현하는 사건이 음수 무한대를 시작점으로 하고 변수 $x$를 끝점으로 하는 구간이다보니 분포의 형상을 직관적으로 이해하기는 힘든 단점이 있다. 다시 말해서 어떤 확률 변수 값이 더 자주 나오는지에 대한 정보를 알기 힘들다는 점이다.\n",
    "\n",
    "이를 알기 위해서는 확률 변수가 나올 수 있는 전체 구간 ($-\\infty$ ~ $\\infty$)을 아주 작은 폭을 가지는 구간들로 나눈 다음 각 구간의 확률을 살펴보는 것이 편리하다. 다만 이렇게 되면 구간의 폭(width)을 어느 정도로 정의해야 하는지에 대한 추가적인 약속이 필요하기 때문에 실효성이 떨어진다.\n",
    "\n",
    "이러한 단점을 보완하기 위해 생각한 것이 절대적인 확률이 아닌 상대적인 확률 분포 형태만을 보기 위한 확률 밀도 함수(probability density function)이다. \n",
    "\n",
    "누적 확률 분포 그래프의 x축의 오른쪽으로 이동하면서 크기의 변화를 살펴보자.만약 특정한 $x$값 근처의 구간에 확률이 배정되지 않았다면 누적 분포 함수는 그 구간을 지나도 증가하지 않는다. 즉, 기울기가 0이다. 왜냐하면 $x$ 값이 커졌다(x축의 오른쪽으로 이동하였다)는 것은 앞의 구간을 포함하는 더 큰 구간(사건)에 대한 확률을 묘사하고 있는 것인데 추가적으로 포함된 신규 구간에 확률이 없다면 그 신규 구간을 포함한 구간이나 포함하지 않은 구간이나 배정된 확률이 같기 때문이다.\n",
    "\n",
    "누적 분포 함수의 기울기가 0이 아닌 경우는 추가적으로 포함된 구간에 0이 아닌 확률이 할당되어 있는 경우이다. 만약 더 많은 확률이 할당되었다면 누적 분포 함수는 그 구간을 지나면서 더 빠른 속도로 증가할 것이다. 다시 말해서 함수의 기울기가 커진다. 이러한 방식으로 누적 분포의 기울기의 크기를 보면 각 위치에 배정된 확률의 상대적 크기를 알 수 있다.\n",
    "\n",
    "\n",
    "기울기를 구하는 수학적 연산이 미분(differentiation)이므로 확률 밀도 함수는 누적 분포 함수의 미분으로 정의한다.\n",
    "\n",
    "$$ \\dfrac{dF(x)}{dx} = f(x) $$\n",
    "\n",
    "이를 적분으로 나타내면 다음과 같다.\n",
    "\n",
    "$$ F(x) = \\int_{-\\infty}^{x} f(u) du $$\n",
    "\n",
    "확률 밀도 함수는 특정 확률 변수 구간의 확률이 다른 구간에 비해 **상대적으로** 얼마나 높은가를 나타내는 것이며 그 **값 자체가 확률은 아니다**라는 점을 명심해야 한다.\n",
    "\n",
    "확률 밀도 함수는 다음과 같은 특징을 가진다.\n",
    "\n",
    "* $-\\infty$ 부터 $\\infty$ 까지 적분하면 그 값은 1이 된다.\n",
    "\n",
    "$$ \\int_{-\\infty}^{\\infty} f(u)du = 1$$\n",
    "\n",
    "* 확률 밀도 함수는 0보다 같거나 크다.\n",
    "\n",
    "$$ f(x) \\geq 0 $$\n",
    "\n",
    "\n",
    "앞서 보인 시계 바늘 문제에서 확률 밀도함수를 구하면 다음과 같다."
   ]
  },
  {
   "cell_type": "code",
   "execution_count": 5,
   "metadata": {},
   "outputs": [
    {
     "data": {
      "image/png": "[encoded data removed]",
      "text/plain": [
       "<matplotlib.figure.Figure at 0x274fb0d6908>"
      ]
     },
     "metadata": {},
     "output_type": "display_data"
    }
   ],
   "source": [
    "t = np.linspace(-100, 500, 1000)\n",
    "F = t / 360\n",
    "F[t < 0] = 0\n",
    "F[t > 360] = 1\n",
    "f = np.gradient(F, 600/1000)  # 수치미분\n",
    "plt.plot(t, f)\n",
    "plt.ylim(-0.0001, f.max()*1.1)\n",
    "plt.xticks([0, 180, 360]);\n",
    "plt.title(\"Probability Density Function\");\n",
    "plt.xlabel(\"$x$ (deg.)\");\n",
    "plt.ylabel(\"$f(x)$\");"
   ]
  },
  {
   "cell_type": "markdown",
   "metadata": {},
   "source": [
    "## 확률 질량 함수\n",
    "\n",
    "이산 확률 분포는 확률 밀도 함수를 정의할 수 없는 대신 확률 질량 함수가 존재한다. **확률 질량 함수(probability mass funtion)는 이산 확률 변수의 가능한 값 하나 하나에 대해 확률을 정의한 함수**이다. 예를 들어 6면체인 주사위를 던져서 나올 수 있는 값은 1부터 6까지의 이산적인 값을 가지는데 이러한 이산 확률 변수는 예를 들어 다음과 같은 확률 질량 함수를 가질 수 있다. 이 경우에는 공정하지 않은(unfair) 주사위의 확률 분포를 보이고 있다."
   ]
  },
  {
   "cell_type": "code",
   "execution_count": 7,
   "metadata": {},
   "outputs": [
    {
     "data": {
      "image/png": "[encoded data removed]",
      "text/plain": [
       "<matplotlib.figure.Figure at 0x274fb1f1518>"
      ]
     },
     "metadata": {},
     "output_type": "display_data"
    }
   ],
   "source": [
    "x = np.arange(1,7)\n",
    "y = np.array([0.0, 0.1, 0.1, 0.2, 0.2, 0.4])\n",
    "plt.stem(x, y);\n",
    "plt.xlim(0, 7);\n",
    "plt.ylim(-0.01, 0.5);"
   ]
  },
  {
   "cell_type": "markdown",
   "metadata": {},
   "source": [
    "위의 확률 질량 함수는 주사위 눈금 1이 나오지 않고 6이 비정상적으로 많이 나오게 만든 비정상적인 주사위(unfair dice)를 묘사한다.\n",
    "\n",
    "이 확률 변수에 대해 각 값을 누적하여 더하면 이산 확률 변수의 **누적 분포 함수(cumulative distribution function)**를 구할 수 있다."
   ]
  },
  {
   "cell_type": "code",
   "execution_count": 8,
   "metadata": {},
   "outputs": [
    {
     "data": {
      "image/png": "[encoded data removed]",
      "text/plain": [
       "<matplotlib.figure.Figure at 0x274fb2417b8>"
      ]
     },
     "metadata": {},
     "output_type": "display_data"
    }
   ],
   "source": [
    "x = np.arange(1,7)\n",
    "y = np.array([0.0, 0.1, 0.1, 0.2, 0.2, 0.4])\n",
    "z = np.cumsum(y)\n",
    "plt.step(x, z, where=\"post\");\n",
    "plt.xlim(0, 7);\n",
    "plt.ylim(-0.01, 1.1)\n",
    "plt.show()"
   ]
  },
  {
   "cell_type": "markdown",
   "metadata": {},
   "source": [
    "# SciPy를 이용한 확률 분포 분석\n",
    "\n",
    "SciPy는 각종 수치 해석 기능을 제공하는 파이썬 패키지다. SciPy는 여러개의 서브 패키지로 구성되어 있는데 그 중 scipy.stats 서브패키지는 여러가지 확률 분포 분석을 위한 기능을 제공한다. \n",
    "\n",
    "## 확률 분포 객체\n",
    "\n",
    "SciPy에서 확률 분포 기능을 사용하려면 우선 해당 확률 분포에 대한 확률 분포 객체라는 것을 생성한 후에 이 객체의 메서드를 호출한다.\n",
    "\n",
    " 확률 분포 객체를 생성하는 명령에는 다음과 같은 것들이 있다. \n",
    " \n",
    "| 종류 | 이름 | 확률 분포 |\n",
    "|-|-|-|\n",
    "| 이산 | `bernoulli` | 베르누이 분포 |\n",
    "| 이산 | `binom` |  이항 분포 |\n",
    "| 연속 | `uniform` | 균일 분포 |\n",
    "| 연속 | `norm` | 가우시안 정규 분포 |\n",
    "| 연속 | `beta` | 베타 분포 |\n",
    "| 연속 | `gamma` | 감마 분포 |\n",
    "| 연속 | `t` | 스튜던트 t 분포 |\n",
    "| 연속 | `chi2` | 카이 제곱 분포 |\n",
    "| 연속 | `f` | F 분포 |\n",
    "| 연속 | `dirichlet` | 디리클리 분포 |\n",
    "| 연속 | `multivariate_normal` | 다변수 가우시안 정규 분포 |\n",
    "\n",
    "\n",
    "이 명령들은 모두 scipy.stats 서브패키지에 포함되어 있으므로 명령 앞에 서브패키지 이름과 마침표를 붙여야 한다. 예를 들어 가우시안 정규 분포 객체는 다음과 같이 생성한다."
   ]
  },
  {
   "cell_type": "code",
   "execution_count": 10,
   "metadata": {},
   "outputs": [
    {
     "data": {
      "text/plain": [
       "scipy.stats._distn_infrastructure.rv_frozen"
      ]
     },
     "execution_count": 10,
     "metadata": {},
     "output_type": "execute_result"
    }
   ],
   "source": [
    "from scipy.stats import norm\n",
    "rv = norm()\n",
    "type(rv)"
   ]
  },
  {
   "cell_type": "markdown",
   "metadata": {},
   "source": [
    "### 모수 지정\n",
    "\n",
    "확률 분포 객체를 생성할 때는 분포의 모수(parameter)를 인수로 지정해 주어야 한다. 각 확률 분포마다 지정해 주어야 할 모수가 다르므로 자세한 설명은 문서를 참조하여야 하지만 대부분 다음과 같은 모수들을 공통적으로 가진다.\n",
    "\n",
    "| 모수 또는 인수 | 의미 |\n",
    "|-|-|\n",
    "| `loc` | 일반적으로 분포의 기댓값 |\n",
    "| `scale` |  일반적으로 분포의 표준편차 | \n",
    "| `size` | 샘플 생성시 생성될 샘플의 크기 | \n",
    "| `random_state` |  샘플 생성시 사용되는 시드(seed)값 |\n",
    "\n",
    "\n",
    "\n",
    "예를 들어 기댓값이 1이고 표준 편차가 2인 정규 분포 객체는 다음과 같이 생성한다."
   ]
  },
  {
   "cell_type": "code",
   "execution_count": 11,
   "metadata": {
    "collapsed": true
   },
   "outputs": [],
   "source": [
    "rv = sp.stats.norm(loc=1, scale=2)"
   ]
  },
  {
   "cell_type": "markdown",
   "metadata": {},
   "source": [
    "## 확률 분포 메서드\n",
    "\n",
    "확률 분포 객체가 가지는 메서드는 다음과 같다.\n",
    "\n",
    "\n",
    "| 메서드 | 기능 |\n",
    "|-|-|\n",
    "| `pdf` | 확률 밀도 함수  (probability density function) |\n",
    "| `pmf` | 확률 질량 함수  (probability mass function) |\n",
    "| `cdf` | 누적 분포 함수 (cumulative distribution function)  |\n",
    "| `rvs` | 랜덤 샘플 생성 (random variable sampling)    |\n",
    "| `stats` | 기술 통계 함수 (descriptive statistics)   |\n",
    "| `fit` | 모수 추정 (parameter estimation)    |\n",
    "\n",
    "\n",
    "메서드 사용법은 다음과 같다.\n",
    "\n",
    "### 확률 밀도 함수"
   ]
  },
  {
   "cell_type": "code",
   "execution_count": 12,
   "metadata": {},
   "outputs": [
    {
     "data": {
      "image/png": "[encoded data removed]",
      "text/plain": [
       "<matplotlib.figure.Figure at 0x274fb241978>"
      ]
     },
     "metadata": {},
     "output_type": "display_data"
    }
   ],
   "source": [
    "xx = np.linspace(-8, 8, 100)\n",
    "pdf = rv.pdf(xx)\n",
    "plt.plot(xx, pdf)\n",
    "plt.show()"
   ]
  },
  {
   "cell_type": "markdown",
   "metadata": {},
   "source": [
    "### 누적 분포 함수"
   ]
  },
  {
   "cell_type": "code",
   "execution_count": 13,
   "metadata": {},
   "outputs": [
    {
     "data": {
      "image/png": "[encoded data removed]",
      "text/plain": [
       "<matplotlib.figure.Figure at 0x274fb1d80f0>"
      ]
     },
     "metadata": {},
     "output_type": "display_data"
    }
   ],
   "source": [
    "xx = np.linspace(-8,8,100)\n",
    "cdf = rv.cdf(xx)\n",
    "plt.plot(xx, cdf)\n",
    "plt.show()"
   ]
  },
  {
   "cell_type": "markdown",
   "metadata": {},
   "source": [
    "### 랜덤샘플생성"
   ]
  },
  {
   "cell_type": "code",
   "execution_count": 14,
   "metadata": {},
   "outputs": [
    {
     "data": {
      "text/plain": [
       "array([[ 4.52810469,  1.80031442,  2.95747597,  5.4817864 ,  4.73511598],\n",
       "       [-0.95455576,  2.90017684,  0.69728558,  0.7935623 ,  1.821197  ],\n",
       "       [ 1.28808714,  3.90854701,  2.52207545,  1.24335003,  1.88772647]])"
      ]
     },
     "execution_count": 14,
     "metadata": {},
     "output_type": "execute_result"
    }
   ],
   "source": [
    "rv.rvs(size=(3,5), random_state=0)"
   ]
  },
  {
   "cell_type": "code",
   "execution_count": 17,
   "metadata": {},
   "outputs": [
    {
     "data": {
      "image/png": "[encoded data removed]",
      "text/plain": [
       "<matplotlib.figure.Figure at 0x274fb1882b0>"
      ]
     },
     "metadata": {},
     "output_type": "display_data"
    }
   ],
   "source": [
    "import seaborn as sns\n",
    "sns.distplot(rv.rvs(size=10000))\n",
    "plt.xlim(-8,8)\n",
    "plt.show()"
   ]
  },
  {
   "cell_type": "markdown",
   "metadata": {},
   "source": [
    "# 분포의 대표값\n",
    "\n",
    "분포(distribution)은 집합 전체의 특성을 나타내는 것이므로 히스토그램 등의 시각화 또는 분포 함수 등의 수식을 사용하는 것이 일반적이다. 하지만 전체적인 특성을 나타낼 수 있는 몇 개의 대표값을 구할 수 있다면 분포의 특성을 빠르게 파악한다거나 두 개의 분포를 서로 비교하는데 도움이 될 수 있다. \n",
    "\n",
    "가장 먼저 생각할 수 있는 것은 분포를 하나의 숫자로 대표할 수 있는 수치, 즉 대푯값이다. \n",
    "\n",
    "대푯값으로 널리 쓰이는 것들은 다음과 같은 것을 있다.\n",
    "\n",
    "* 평균\n",
    "* 기댓값\n",
    "* 중간값\n",
    "\n",
    "# 샘플 평균\n",
    "\n",
    "우리가 보통 평균(mean, average)라고 할 때 의미하는 것은 **샘플 평균(sample mean, sample average)**을 말한다.\n",
    "\n",
    "샘플(sample)은 정확히는 이미 가지고 있는 자료 값의 집합이 어떤 확률 모형 또는 모집합으로 부터 생성된 것이라는 가정하에 부르는 용어이지만 유한한 갯수의 자료 값의 집합으로 부터 다음과 같은 식을 사용하여 계산한 값을 샘플 평균이라고 한다.\n",
    "\n",
    "$$ m = \\dfrac{1}{N}\\sum_{i=1}^{N} x_i $$\n",
    "\n",
    "이 식에서 $N$는 자료의 갯수, $i = 1, \\cdots, N$는 자료의 순서 혹은 인덱스(index)를 뜻하고, $x_i$는 $i$번째 자료의 값을 뜻한다. \n",
    "\n",
    "이번에는 자료가 어떤 확률 분포를 따르는 확률 변수 $X$의 샘플이라고 가정하자. 이러한 경우에는 확률 변수 위에 bar를 추가하여 $\\bar{X}$와 같이 샘플 평균을 나타내기도 한다. $X_i$는 $i$번째로 실현된 샘플을 의미한다.\n",
    "\n",
    "$$ \\bar{X} = \\dfrac{1}{N}\\sum_{i=1}^{N} X_i $$\n",
    "\n",
    "\n",
    "샘플링을 한 번 해서 나온 자료 값의 집합에서 구한 샘플 평균 $\\bar{X}$이 있을 때, 샘플링을 다시 해서 또 다른 자료 값의 집합을 구하면 이 자료는 먼저 자료와 다르기 때문에 여기에서 구한 샘플 평균은 앞서 구한 샘플 평균과 갑이 달라진다. \n",
    "\n",
    "이렇게 샘플링 할 때마다 샘플 평균이 예측할 수 없는 값이 나오기 때문에 **샘플 평균 $\\bar{X}$도 하나의 확률 변수**라고 할 수 있다. 물론 이 확률 변수는 원래의 확률 변수와는 다른 분포를 가진다.\n",
    "\n",
    "## 확률 분포의 기댓값\n",
    "\n",
    "만일 확률 변수가 따르고 있는 확률 모형, 정확히는 확률 밀도 함수를 알고 있을 경우에는 다음과 같은 수식을 사용하여 이론적인 평균을 구할 수 있다. 이러한 이론적 평균을 확률 변수의 **기댓값(expectation)**이라고 한다. 확률 모형이 존재한다는 것이 문맥상으로 확실한 경우에는 단순히 평균(mean)이라고 말하기도 한다.\n",
    "\n",
    "확률 변수의 기대값을 구하는 연산자(operator)는 영어 Expection의 첫글자를 사용하여 $\\operatorname{E}[\\cdot]$로 표기한다. 기대값은 그리스 문자 $\\mu$로 표기한다.\n",
    "\n",
    "$$ \\mu = \\operatorname{E}[X] = \\int_{-\\infty}^{\\infty} x f(x) dx $$\n",
    "\n",
    "이산 확률 변수의 경우에는 다음과 같이 확률 질량 함수 $P(x)$를 사용하여 기댓값을 구한다.\n",
    "\n",
    "$$ \\mu = \\operatorname{E}[X] = \\sum xP(x) $$\n",
    "\n",
    "## 기댓값의 성질\n",
    "\n",
    "기댓값은 확률 모형이라는 수식을 사용한 것이므로 다음과 같은 성질을 가진다는 것을 수학적으로 증명할 수 있다.\n",
    "복잡한 수식을 가지는 확률 모형의 경우에는 이러한 성질을 이용하면 기댓값을 계산하는데 도움이 된다.\n",
    "\n",
    "\n",
    "* 랜덤 변수가 아닌 고정된 값 $c$에 대해 \n",
    "$$ \\operatorname{E}[c] = c$$\n",
    "\n",
    "* 선형성\n",
    "$$\n",
    "\\begin{align}\n",
    "  \\operatorname{E}[cX]    &= c \\operatorname{E}[X] \\\\\n",
    "  \\operatorname{E}[X + Y] &=   \\operatorname{E}[X] + \\operatorname{E}[Y] \n",
    "\\end{align}\n",
    "$$\n",
    "\n",
    "\n",
    "\n",
    "## 기댓값과 샘플 평균의 관계\n",
    "\n",
    "앞서 샘플 평균도 하나의 확률 변수라고 했다. 따라서 샘플 평균에도 기댓값이 존재한다. 또한 샘플 평균의 기댓값은 원래의 확률 변수의 기댓값과 일치함을 수학적으로 증명할 수 있다.\n",
    "\n",
    "$$ \\operatorname{E}[ \\bar{X} ] = \\operatorname{E}[X] $$\n",
    "\n",
    "(증명)\n",
    "\n",
    "$$ \n",
    "\\begin{eqnarray}\n",
    "\\operatorname{E}[\\bar{X}] \n",
    "&=& \\operatorname{E}\\left[\\dfrac{1}{N}\\sum_{1}^{N}X_i \\right]  \\\\\n",
    "&=& \\dfrac{1}{N}\\sum_{1}^{N}\\operatorname{E}[X_i]  \\\\\n",
    "&=& \\dfrac{1}{N}\\sum_{1}^{N}\\operatorname{E}[X]  \\\\\n",
    "&=& \\dfrac{1}{N} N \\operatorname{E}[X] \\\\ \n",
    "&=& \\operatorname{E}[X]  \\\\\n",
    "\\end{eqnarray}\n",
    "$$\n",
    "\n",
    "## 중앙값\n",
    "\n",
    "**중앙값(median)**은 전체 자료를 크기별로 정렬하였을 때 가장 중앙에 위치하게 되는 값을 말한다. 중앙값에도 샘플 중앙값과 확률 분포로부터 계산한 이론적 중앙값이 존재한다.\n",
    "\n",
    "샘플 중앙값은 몇 개의 정의가 존재하지만 많이 쓰이는 정의는 다음과 같다.\n",
    "\n",
    "전체 샘플의 갯수가 $N$인 경우,\n",
    "\n",
    "* $N$이 홀수이면: 중간값은 $(n + 1)/2$번째 샘플의 값\n",
    "* $N$이 짝수이면: 중간값은 $n/2$번째 샘플의 값과 $n/2 + 1$번째 샘플의 값의 평균\n",
    "\n",
    "확률 분포로부터 이론적 중앙값은 그 값보다 큰 값이 나올 확률과 작은 값이 나올 확률이 동일하게 0.5이여야 하므로 다음과 같이 누적 확률 분포 $F(x)$에서 계산할 수 있다.\n",
    "\n",
    "$$ \\text{median} = F^{-1}(0.5) $$\n",
    "\n",
    "$$ 0.5 = F(\\text{median}) $$\n",
    "\n",
    "\n",
    "## 최빈값\n",
    "\n",
    "최빈값(mode)은 직역하자면 가장 빈번하게 나올 수 있는 값을 말한다. 하지만 연속 확률 분포인 경우에는 어느 값에 대해서나 특정한 값이 나올 확률은 0(zero)이므로 다음과 같이 확률 밀도 함수의 값이 가장 큰 확률 변수의 값으로 정의한다. 즉, 확률 밀도 함수의 최댓값의 위치이다.\n",
    "\n",
    "$$ \\text{mode} = \\arg \\max_x f(x) $$\n",
    "\n",
    "이산 샘플 자료에 대해서는 최빈값을 구할 수 있으나 연속 샘플 자료는 최빈값이 존재하지 않거나 의미가 없기 때문에 히스토그램과 같이 구간을 분할하여 각 구간의 대표값으로 카테고리화하여 최빈값을 구해야 한다.\n",
    "\n",
    "## 기댓값, 중앙값, 최빈값의 비교\n",
    "\n",
    "확률 분포 즉, 확률 밀도 함수가 대칭인 경우에는 기댓값, 중앙값, 최빈값이 모두 같다. 그러나 분포가 어느 한쪽으로 찌그러진(skewed) 경우에는 다음 그림과 같이 달라질 수 있다.\n",
    "\n",
    "계산량으로 비교하면 기댓값이 가장 계산하기 쉽고 중앙값은 계산량이 기댓값보다 증가하며 최빈값은 최적화 과정을 통해서만 구할 수 있으므로 계산량이 가장 많으며 오차가 크다.\n",
    "\n",
    "그러나 기댓값은 이상값(outliner)이나 한쪽으로 찌그러진 상태에 큰 영향을 받지만 중앙값이나 최빈값은 이에 대한 영향이 적다는 장점이 있다.\n",
    "\n",
    "<img src=\"https://datascienceschool.net/upfiles/dd06ed356a03475cbe9cc14909be96d1.jpeg\" style=\"width: 100%;\">\n",
    "\n",
    "## Python을 사용한 계산\n",
    "\n",
    "Python에서는 다음과 같은 numpy 함수를 사용하여 계산할 수 있다.\n",
    "\n",
    "* [`mean()`](http://docs.scipy.org/doc/numpy/reference/generated/numpy.mean.html)\n",
    "* [`nanmean()`](http://docs.scipy.org/doc/numpy/reference/generated/numpy.nanmean.html)\n",
    "* [`median()`](http://docs.scipy.org/doc/numpy/reference/generated/numpy.median.html)\n",
    "* [`argmax()`](http://docs.scipy.org/doc/numpy/reference/generated/numpy.argmax.html)\n",
    "* [`histogram()`](http://docs.scipy.org/doc/numpy/reference/generated/numpy.histogram.html)"
   ]
  },
  {
   "cell_type": "code",
   "execution_count": 18,
   "metadata": {
    "collapsed": true
   },
   "outputs": [],
   "source": [
    "np.random.seed(0)\n",
    "x = np.random.normal(size=1000)"
   ]
  },
  {
   "cell_type": "code",
   "execution_count": 19,
   "metadata": {},
   "outputs": [
    {
     "data": {
      "text/plain": [
       "(-0.045256707490195384, -0.058028034799627745)"
      ]
     },
     "execution_count": 19,
     "metadata": {},
     "output_type": "execute_result"
    }
   ],
   "source": [
    "np.mean(x), np.median(x)"
   ]
  },
  {
   "cell_type": "code",
   "execution_count": 20,
   "metadata": {
    "collapsed": true
   },
   "outputs": [],
   "source": [
    "ns, bins = np.histogram(x, bins=np.linspace(-10,10,20))"
   ]
  },
  {
   "cell_type": "code",
   "execution_count": 21,
   "metadata": {},
   "outputs": [
    {
     "data": {
      "text/plain": [
       "(-0.52631578947368496, 0.52631578947368318)"
      ]
     },
     "execution_count": 21,
     "metadata": {},
     "output_type": "execute_result"
    }
   ],
   "source": [
    "M = np.argmax(ns)\n",
    "bins[M], bins[M+1]"
   ]
  },
  {
   "cell_type": "markdown",
   "metadata": {},
   "source": [
    "# 분산과 표준편차\n",
    "\n",
    "샘플 자료의 분포나 확률 분포를 묘사하는 가장 대표적인 값은 평균 혹은 기댓값이다. 이에 대한 자세한 내용은 다음 노트북을 참조한다.\n",
    "\n",
    "[[school_notebook:dd6a7633d69f401bb00409b9ae8806e8]]\n",
    "\n",
    "이와 함께 많이 쓰이는 대표값은 분산(variance) 또는 표준편차(standard deviation)이다. 평균이나 기댓값이 분포의 모양에서 위치를 대표하는 것이라면 분산은 분포의 폭(width)을 대표하는 값이다. 표준 편차는 분산에 대한 양의 제곱근(square root)값이다.\n",
    "\n",
    "$$ \\text{표준 편차} = \\sqrt{\\text{분산}} $$\n",
    "\n",
    "분산도 평균과 마찬가지로 자료 값 집합에 대한 샘플 분산과 확률 분포에 대한 분산을 정의할 수 있다.\n",
    "\n",
    "## 샘플 분산\n",
    "\n",
    "샘플 분산은 주어진 자료 값의 집합에서 다음과 같은 식으로 구한다. 식에서 $x_i$는 $N$개의 자료 중 $i$번재의 자료를 나타내고 $m$은 샘플 평균이다.\n",
    "\n",
    "$$ s^2 = \\dfrac{1}{N}\\sum_{i=1}^{N} (x_i-m)^2 $$"
   ]
  },
  {
   "cell_type": "markdown",
   "metadata": {},
   "source": [
    "위의 그림에서 볼 수 있듯이 이 식은 자료값과 평균 사이의 거리를 의미한다. 다만 자료값이 평균보다 작을 때는 음수가 나오므로 제곱을 하여 모두 양수로 만들어 준 것이다. \n",
    "\n",
    "위 식에서 구한 샘플 분산은 정확하게 말하면 편향 오차를 가진 편향 샘플 분산(biased sample variance)이다. 이와 대조되는 비편향 샘플 분산은 다음과 같이 구한다.\n",
    "\n",
    "$$ s^2_{\\text{unbiased}} = \\dfrac{1}{N-1}\\sum_{i=1}^{N} (x_i-m)^2 $$\n",
    "\n",
    "샘플 분산의 편향 오차에 대해서는 확률 분포의 분산과 같이 이후에 다룬다.\n",
    "\n",
    "## 확률 분포의 분산\n",
    "\n",
    "확률 분포는 확률 밀도 함수 $f(x)$로 분포 전체의 모양을 정확하게 정의할 수 있으므로 다음과 같이 이론적인 분산을 구할 수 있다.\n",
    "\n",
    "분산을 구하는 연산자는 영어 Variance를 따서 $\\text{Var}[\\cdot]$로 표기하고 분산은 $\\sigma^2$으로 표기한다.\n",
    "\n",
    "$$ \\sigma^2 = \\text{Var}[X] = \\text{E}[(X - \\mu)^2] = \\int_{-\\infty}^{\\infty} (x - \\mu)^2 f(x)dx$$\n",
    "\n",
    "이산 확률 변수의 경우에는 다음과 같이 확률 질량 함수 $P(x)$를 사용하여 분산을 구한다.\n",
    "\n",
    "$$ \\sigma^2 = \\sum (x - \\mu)^2 P(x)$$\n",
    "\n",
    "## 분산의 성질\n",
    "\n",
    "분산은 다음과 같은 성질을 만족한다.\n",
    "\n",
    "\n",
    "* 0 또는 양수\n",
    "$$ \\text{Var}[X] \\geq 0 $$\n",
    "\n",
    "* 랜덤 변수가 아닌 고정된 값 $c$에 대해 \n",
    "$$ \\text{Var}[c] = 0 $$\n",
    "$$ \\text{Var}[cX] = c^2 \\text{Var}[X] $$\n",
    "\n",
    "\n",
    "또한 기댓값의 성질을 이용하여 다음 성질을 증명할 수 있다.\n",
    "\n",
    "$$ \\text{Var}[X] = \\text{E}[X^2] - (\\text{E}[X])^2  = \\text{E}[X^2] - \\mu^2$$\n",
    "\n",
    "(증명)\n",
    "\n",
    "$$ \n",
    "\\begin{eqnarray}\n",
    "\\text{Var}[X] \n",
    "&=& \\text{E}[(X - \\mu)^2] \\\\\n",
    "&=& \\text{E}[X^2 - 2\\mu X + \\mu^2] \\\\\n",
    "&=& \\text{E}[X^2] - 2\\mu\\text{E}[X] + \\mu^2 \\\\\n",
    "&=& \\text{E}[X^2] - 2\\mu^2 + \\mu^2 \\\\\n",
    "&=& \\text{E}[X^2] - \\mu^2\\\\\n",
    "\\end{eqnarray}\n",
    "$$\n",
    "\n",
    "## 샘플 평균의 분산\n",
    "\n",
    "확률 변수 $X$의 샘플 평균 $\\bar{X}$도 일종의 확률 변수이고 그 기댓값 $\\text{E}[\\bar{X}]$은 원래 확률 변수 $X$의 기댓값 $\\text{E}[{X}]$과 일치한다는 것을 아래의 노트북에서 증명한 적이 있다.\n",
    "\n",
    "$$ \\text{E}[\\bar{X}] = \\text{E}[{X}]$$\n",
    "\n",
    "[[school_notebook:dd6a7633d69f401bb00409b9ae8806e8]]\n",
    "\n",
    "그럼 샘플 평균$\\bar{X}$의 분산 $\\text{Var}[\\bar{X}]$은 원래 확률 변수 $X$의 분산 $\\text{Var}[{X}]$과 어떤 관계가 있을까?\n",
    "\n",
    "우선 개별 샘플에 대한 확률 변수 $X_i$가 서로 독립이라고 가정하자\n",
    "\n",
    "$$ \\text{E}\\left[ (X_i-\\mu)(X_j-\\mu) \\right] = 0 \\;\\; \\text{ if i $\\neq$ j} $$\n",
    "\n",
    "또한 개별 샘플에 대한 확률 변수 $X_i$의 기댓값과 분산은 원래 확률 변수 $X$와 같다.\n",
    "\n",
    "두 분산 사이에는 다음과 같은 관계가 있음을 증명할 수 있다.\n",
    "\n",
    "\n",
    "$$ \n",
    "\\begin{eqnarray}\n",
    "\\text{Var}[\\bar{X}] \n",
    "&=& \\text{Var} \\left[ \\dfrac{1}{N} \\sum_{i=1}^N X_i \\right] \\\\\n",
    "&=& \\text{E} \\left[ \\left( \\dfrac{1}{N} \\sum_{i=1}^N X_i - \\mu \\right)^2 \\right] \\\\\n",
    "&=& \\text{E} \\left[ \\left( \\dfrac{1}{N} \\sum_{i=1}^N (X_i - \\mu) \\right)^2 \\right] \\\\\n",
    "&=& \\text{E} \\left[ \\dfrac{1}{N^2} \\sum_{i=1}^N \\sum_{j=1}^N (X_i - \\mu) (X_j - \\mu)  \\right] \\\\\n",
    "&=& \\text{E} \\left[ \\dfrac{1}{N^2} \\sum_{i=1}^N (X_i - \\mu)^2 \\right] \\\\\n",
    "&=& \\text{E} \\left[ \\dfrac{1}{N} (X - \\mu)^2 \\right] \\\\\n",
    "&=& \\dfrac{1}{N} \\text{Var}[X] = \\dfrac{\\sigma^2}{N}\n",
    "\\end{eqnarray}\n",
    "$$ \n",
    "\n",
    "확률 변수의 독립에 관한 내용은 다음 노트북을 참조한다.\n",
    "\n",
    "[[school_notebook:e08074f293144eeca9cc7251b5d5666c]]\n",
    "\n",
    "샘플 분산 $s^2$의 기대값을 구하면 다음과 같이 이론적인 분산  $\\sigma^2$의 $\\dfrac{N - 1}{N}$ 배임을 알 수 있다.\n",
    "\n",
    "$$ \n",
    "\\begin{eqnarray}\n",
    "\\text{E}[s^2] \n",
    "&=& \\text{E} \\left[ \\dfrac{1}{N}\\sum_{i=1}^N (X_i - \\bar{X})^2 \\right] \n",
    "= \\text{E} \\left[ \\dfrac{1}{N}\\sum_{i=1}^N \\left\\{ (X_i -\\mu) - (\\bar{X} - \\mu) \\right \\}^2  \\right] \\\\\n",
    "&=& \\text{E} \\left[ \\dfrac{1}{N}\\sum_{i=1}^N \\left\\{ (X_i -\\mu)^2 - 2 (X_i -\\mu)(\\bar{X} - \\mu) +  (\\bar{X} - \\mu)^2 \\right \\}  \\right] \\\\\n",
    "&=&  \\text{E} \\left[ \\dfrac{1}{N} \\sum_{i=1}^N (X_i -\\mu)^2 \\right] \n",
    "  - 2 \\text{E} \\left[ { \\dfrac{1}{N} \\sum_{i=1}^N (X_i -\\mu)(\\bar{X} - \\mu) } \\right] \n",
    "  +  \\text{E} \\left[ { \\dfrac{1}{N} \\sum_{i=1}^N (\\bar{X} - \\mu)^2 } \\right] \n",
    "\\end{eqnarray} \n",
    "$$\n",
    "\n",
    "이 때\n",
    "$$ \\text{E} \\left[ \\dfrac{1}{N} \\sum_{i=1}^N (X_i -\\mu)^2 \\right] = \\text{Var}[X] = \\sigma^2 $$ \n",
    "\n",
    "$$\n",
    "\\begin{eqnarray}\n",
    "\\text{E} \\left[ { \\dfrac{1}{N} \\sum_{i=1}^N (X_i -\\mu)(\\bar{X} - \\mu) } \\right] \n",
    "&=& \\text{E} \\left[ { \\dfrac{1}{N} \\sum_{i=1}^N (X_i -\\mu) \\left( \\dfrac{1}{N} \\sum_{j=1}^N X_j - \\mu \\right) } \\right]  \\\\\n",
    "&=& \\text{E} \\left[ { \\dfrac{1}{N} \\sum_{i=1}^N (X_i -\\mu) \\left( \\dfrac{1}{N} \\sum_{j=1}^N ( X_j - \\mu ) \\right) } \\right]  \\\\\n",
    "&=& \\text{E} \\left[ { \\dfrac{1}{N^2} \\sum_{i=1}^N \\sum_{j=1}^N (X_i -\\mu)  ( X_j - \\mu )} \\right]  \\\\\n",
    "&=& \\dfrac{1}{N} \\text{Var}[X] = \\dfrac{\\sigma^2}{N}\n",
    "\\end{eqnarray} \n",
    "$$\n",
    "\n",
    "$$\n",
    "\\text{E} \\left[ { \\dfrac{1}{N} \\sum_{i=1}^N (\\bar{X} - \\mu)^2 } \\right] = \\dfrac{1}{N} \\text{Var}[X] = \\dfrac{\\sigma^2}{N}\n",
    "$$\n",
    "\n",
    "따라서\n",
    "\n",
    "$$\n",
    "\\text{E}[s^2] = \\sigma^2 - \\dfrac{2\\sigma^2}{N} + \\dfrac{\\sigma^2}{N} = \\dfrac{N-1}{N}\\sigma^2 \n",
    "$$\n",
    "\n",
    "따라서 샘플 분산의 기대값이 정확하게 $\\sigma^2$이 되려면 분모가 $N$이 아니라 $N-1$이 되어야 한다.\n",
    "\n",
    "$$\n",
    "\\sigma^2 \n",
    "= \\dfrac{N}{N-1} \\text{E}[s^2] \n",
    "= \\dfrac{N}{N-1} \\text{E} \\left[ \\dfrac{1}{N} \\sum (X_i-\\bar{X})^2 \\right] \n",
    "= \\text{E} \\left[ \\dfrac{1}{N-1} \\sum (X_i-\\bar{X})^2 \\right] \n",
    "= \\text{E} \\left[ s^2_{\\text{unbiased}} \\right] \n",
    "$$\n",
    "\n",
    "## Python을 사용한 계산\n",
    "\n",
    "Python에서 샘플 분산과 샘플 표준 편차는 numpy의 다음 함수들을 사용한다.\n",
    "\n",
    "* [`var()`](https://docs.scipy.org/doc/numpy/reference/generated/numpy.var.html)\n",
    "* [`std()`](https://docs.scipy.org/doc/numpy/reference/generated/numpy.std.html)\n",
    "* [`nanvar()`](https://docs.scipy.org/doc/numpy/reference/generated/numpy.nanvar.html)\n",
    "* [`nanstd()`](https://docs.scipy.org/doc/numpy/reference/generated/numpy.nanstd.html)"
   ]
  },
  {
   "cell_type": "code",
   "execution_count": 22,
   "metadata": {
    "collapsed": true
   },
   "outputs": [],
   "source": [
    "sp.random.seed(0)\n",
    "x = sp.stats.norm(0, 2).rvs(1000)  # mean=0, standard deviation=2"
   ]
  },
  {
   "cell_type": "code",
   "execution_count": 23,
   "metadata": {},
   "outputs": [
    {
     "data": {
      "text/plain": [
       "3.8969378252486169"
      ]
     },
     "execution_count": 23,
     "metadata": {},
     "output_type": "execute_result"
    }
   ],
   "source": [
    "np.var(x)"
   ]
  },
  {
   "cell_type": "code",
   "execution_count": 24,
   "metadata": {},
   "outputs": [
    {
     "data": {
      "text/plain": [
       "3.9008386639125292"
      ]
     },
     "execution_count": 24,
     "metadata": {},
     "output_type": "execute_result"
    }
   ],
   "source": [
    "np.var(x, ddof=1)  # unbiased variance"
   ]
  },
  {
   "cell_type": "markdown",
   "metadata": {},
   "source": [
    "# 베르누이 확률 분포\n",
    "\n",
    "## 베르누이 시도\n",
    "\n",
    "결과가 성공(Success) 혹은 실패(Fail) 두 가지 중 하나로만 나오는 것을 **베르누이 시도**(Bernoulli trial)라고 한다. 예를 들어 동전을 한 번 던져 앞면(H:Head)이 나오거나 뒷면(T:Tail)이 나오게 하는 것은 베르누이 시도의 일종이다.\n",
    "\n",
    "베르누이 시도의 결과를 확률 변수(random variable) $X$ 로 나타낼 때는 일반적으로 성공을 정수 1 ($X=1$), 실패를 정수 0 ($X=0$)으로 정한다. 때로는  실패를 0 이 아닌 -1($X=-1$)로 정하는 경우도 있다.\n",
    "\n",
    "## 베르누이 분포\n",
    "\n",
    "베르누이 확률 변수는 0, 1 두 가지 값 중 하나만 가질 수 있으므로 이산 확률 변수(discrete random variable)이다. 따라서 확률 질량 함수(pmf: probability mass function)로 정의할 수 있다. \n",
    "\n",
    "베르누이 확률 분포의 확률 질량 함수는 다음과 같다.\n",
    "\n",
    "$$\n",
    "\\text{Bern}(x;\\theta) = \n",
    "\\begin{cases} \n",
    "\\theta   & \\text{if }x=1, \\\\\n",
    "1-\\theta & \\text{if }x=0\n",
    "\\end{cases}\n",
    "$$\n",
    "\n",
    "베르누이 확률 변수는 **1이 나올 확률**을 의미하는 $\\theta$라는 하나의 모수를 가진다. 변수와 모수는 세미콜론(;, semi-colone)기호로 분리하였다. 0이 나올 확률은 $1 - \\theta$이다.\n",
    "\n",
    "위 식을 하나의 수식으로 표현하면 다음과 같이 쓸 수도 있다.\n",
    "\n",
    "$$\n",
    "\\text{Bern}(x;\\theta) = \\theta^x(1-\\theta)^{(1-x)}\n",
    "$$\n",
    "\n",
    "#### 연습 문제 1\n",
    "\n",
    "위 식에서 $x=1$과 $x=0$을 각각 대입하여 원래의 확률 질량 함수 식이 나오는 것을 확인한다.\n",
    "\n",
    "만약 베르누이 확률 변수가 1과 -1이라는 값을 가진다면 다음과 같은 수식으로 써야 한다.\n",
    "\n",
    "$$ \\text{Bern}(x; \\theta) = \\theta^{(1+x)/2} (1-\\theta)^{(1-x)/2} $$\n",
    "\n",
    "만약 어떤 확률 변수 $X$가 베르누이 분포에 의해 발생된다면 **\"확률 변수 $X$가 베르누이 분포를 따른다\"**라고 말하고 다음과 같이 수식으로 쓴다.\n",
    "\n",
    "$$ X \\sim \\text{Bern}(x;\\theta) $$"
   ]
  },
  {
   "cell_type": "markdown",
   "metadata": {},
   "source": [
    "## SciPy를 사용한 베르누이 분포의 시뮬레이션\n",
    "\n",
    "Scipy의 stats 서브 패키지에 있는 `bernoulli` 클래스가 베르누이 확률 분포를 위한 클래스다. `p` 인수로 분포의 모수 $\\theta$을 설정한다. \n",
    "\n",
    "다음 예에서는 p = 0.6 으로 설정하였다.\n",
    "\n",
    "theta = 0.6\n",
    "rv = sp.stats.bernoulli(theta)\n",
    "\n",
    "`pmf` 메서드를 사용하면 확률 질량 함수(pmf: probability mass function)를 계산할 수 있다."
   ]
  },
  {
   "cell_type": "code",
   "execution_count": 27,
   "metadata": {
    "collapsed": true
   },
   "outputs": [],
   "source": [
    "from scipy.stats import bernoulli"
   ]
  },
  {
   "cell_type": "code",
   "execution_count": 28,
   "metadata": {
    "collapsed": true
   },
   "outputs": [],
   "source": [
    "theta = 0.6\n",
    "rv = sp.stats.bernoulli(theta)"
   ]
  },
  {
   "cell_type": "code",
   "execution_count": 29,
   "metadata": {},
   "outputs": [
    {
     "data": {
      "image/png": "[encoded data removed]",
      "text/plain": [
       "<matplotlib.figure.Figure at 0x274fdd1f6a0>"
      ]
     },
     "metadata": {},
     "output_type": "display_data"
    }
   ],
   "source": [
    "xx = [0, 1]\n",
    "plt.bar(xx, rv.pmf(xx), align=\"center\")\n",
    "plt.xlim(-1, 2)\n",
    "plt.ylim(0, 1)\n",
    "plt.xticks([0, 1], [\"X=0\", \"X=1\"])\n",
    "plt.ylabel(\"P(x)\")\n",
    "plt.title(\"pmf of Bernoulli distribution\")\n",
    "plt.show()"
   ]
  }
 ],
 "metadata": {
  "kernelspec": {
   "display_name": "Python 3",
   "language": "python",
   "name": "python3"
  },
  "language_info": {
   "codemirror_mode": {
    "name": "ipython",
    "version": 3
   },
   "file_extension": ".py",
   "mimetype": "text/x-python",
   "name": "python",
   "nbconvert_exporter": "python",
   "pygments_lexer": "ipython3",
   "version": "3.6.1"
  }
 },
 "nbformat": 4,
 "nbformat_minor": 2
}
